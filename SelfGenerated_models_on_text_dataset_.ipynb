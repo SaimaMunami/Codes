{
  "cells": [
    {
      "cell_type": "markdown",
      "metadata": {
        "id": "vls6MQj6HN7g"
      },
      "source": [
        "## Mount the drive to this notebook"
      ]
    },
    {
      "cell_type": "code",
      "execution_count": null,
      "metadata": {
        "colab": {
          "base_uri": "https://localhost:8080/"
        },
        "id": "o3vvirKvi4Nb",
        "outputId": "6eb5cf5d-393c-45f1-a7c2-eef936b3782a"
      },
      "outputs": [
        {
          "name": "stdout",
          "output_type": "stream",
          "text": [
            "Mounted at /content/drive\n"
          ]
        }
      ],
      "source": [
        "from google.colab import drive\n",
        "drive.mount('/content/drive')"
      ]
    },
    {
      "cell_type": "markdown",
      "metadata": {
        "id": "HihCiiHjJDgk"
      },
      "source": [
        "## Important libraries"
      ]
    },
    {
      "cell_type": "code",
      "execution_count": null,
      "metadata": {
        "colab": {
          "base_uri": "https://localhost:8080/"
        },
        "id": "5cBgHLsgjAoO",
        "outputId": "4ce7bd2a-e6ef-4503-d112-0d3d020ba1ac"
      },
      "outputs": [
        {
          "name": "stderr",
          "output_type": "stream",
          "text": [
            "[nltk_data] Downloading package wordnet to /root/nltk_data...\n",
            "[nltk_data] Downloading package omw-1.4 to /root/nltk_data...\n"
          ]
        }
      ],
      "source": [
        "import numpy as np # linear algebr\n",
        "import pandas as pd # data processing, CSV file I/O (e.g. pd.read_csv)\n",
        "# use for model saving\n",
        "import pickle\n",
        "\n",
        "#ignore the warnings\n",
        "import warnings\n",
        "warnings.filterwarnings(\"ignore\")\n",
        "\n",
        "# preprocessing on tweets\n",
        "import nltk\n",
        "nltk.download('wordnet')\n",
        "nltk.download('omw-1.4')\n",
        "import string\n",
        "# For Extracting only the alphabetic data\n",
        "import re\n",
        "\n",
        "from nltk.tokenize import RegexpTokenizer\n",
        "# from wordcloud import WordCloud\n",
        "\n",
        "# For the plotting of the metrics\n",
        "import matplotlib.pyplot as plt\n",
        "import seaborn as sns\n",
        "\n",
        "# For the Machine Learning Model Implementation\n",
        "from sklearn.linear_model import LogisticRegression\n",
        "from sklearn import tree\n",
        "from sklearn.naive_bayes import GaussianNB\n",
        "from sklearn.ensemble import RandomForestClassifier\n",
        "from sklearn.neighbors import KNeighborsClassifier\n",
        "from sklearn.linear_model import SGDClassifier\n",
        "from sklearn.ensemble import AdaBoostClassifier\n",
        "from sklearn.naive_bayes import MultinomialNB\n",
        "\n",
        "from sklearn.semi_supervised import SelfTrainingClassifier # for Semi-Supervised learning\n",
        "from sklearn.preprocessing import LabelEncoder\n",
        "\n",
        "#split the data into training and testing\n",
        "from sklearn.model_selection import train_test_split\n",
        "\n",
        "# Vectorizing the Data into  numeric format\n",
        "from sklearn.feature_extraction.text import TfidfVectorizer\n",
        "# For the model Evaluations\n",
        "from sklearn.metrics import classification_report, confusion_matrix,accuracy_score, precision_score, f1_score, recall_score\n",
        "\n",
        "from tabulate import tabulate  # dataframe to table\n",
        "import sklearn.metrics as metrics\n",
        "from sklearn.metrics import roc_curve, auc\n",
        "from sklearn.model_selection import GridSearchCV"
      ]
    },
    {
      "cell_type": "markdown",
      "metadata": {
        "id": "9sCD_1lyJO9i"
      },
      "source": [
        "## Reading the dataset"
      ]
    },
    {
      "cell_type": "code",
      "execution_count": null,
      "metadata": {
        "colab": {
          "base_uri": "https://localhost:8080/",
          "height": 460
        },
        "id": "JVe5VGCDjBPn",
        "outputId": "7f49e549-8ecc-4410-d447-7d9ca2fb9883"
      },
      "outputs": [
        {
          "name": "stdout",
          "output_type": "stream",
          "text": [
            "....Training data....\n",
            "\n"
          ]
        },
        {
          "data": {
            "text/html": [
              "\n",
              "  <div id=\"df-ef5316af-8b4a-4e3c-b609-8edc84bebee7\">\n",
              "    <div class=\"colab-df-container\">\n",
              "      <div>\n",
              "<style scoped>\n",
              "    .dataframe tbody tr th:only-of-type {\n",
              "        vertical-align: middle;\n",
              "    }\n",
              "\n",
              "    .dataframe tbody tr th {\n",
              "        vertical-align: top;\n",
              "    }\n",
              "\n",
              "    .dataframe thead th {\n",
              "        text-align: right;\n",
              "    }\n",
              "</style>\n",
              "<table border=\"1\" class=\"dataframe\">\n",
              "  <thead>\n",
              "    <tr style=\"text-align: right;\">\n",
              "      <th></th>\n",
              "      <th>text</th>\n",
              "      <th>label</th>\n",
              "    </tr>\n",
              "  </thead>\n",
              "  <tbody>\n",
              "    <tr>\n",
              "      <th>0</th>\n",
              "      <td>Ex Wife Threatening SuicideRecently I left my ...</td>\n",
              "      <td>suicide</td>\n",
              "    </tr>\n",
              "    <tr>\n",
              "      <th>1</th>\n",
              "      <td>Am I weird I don't get affected by compliments...</td>\n",
              "      <td>non-suicide</td>\n",
              "    </tr>\n",
              "    <tr>\n",
              "      <th>2</th>\n",
              "      <td>Finally 2020 is almost over... So I can never ...</td>\n",
              "      <td>non-suicide</td>\n",
              "    </tr>\n",
              "    <tr>\n",
              "      <th>3</th>\n",
              "      <td>i need helpjust help me im crying so hard</td>\n",
              "      <td>suicide</td>\n",
              "    </tr>\n",
              "    <tr>\n",
              "      <th>4</th>\n",
              "      <td>I’m so lostHello, my name is Adam (16) and I’v...</td>\n",
              "      <td>suicide</td>\n",
              "    </tr>\n",
              "    <tr>\n",
              "      <th>...</th>\n",
              "      <td>...</td>\n",
              "      <td>...</td>\n",
              "    </tr>\n",
              "    <tr>\n",
              "      <th>232069</th>\n",
              "      <td>If you don't like rock then your not going to ...</td>\n",
              "      <td>non-suicide</td>\n",
              "    </tr>\n",
              "    <tr>\n",
              "      <th>232070</th>\n",
              "      <td>You how you can tell i have so many friends an...</td>\n",
              "      <td>non-suicide</td>\n",
              "    </tr>\n",
              "    <tr>\n",
              "      <th>232071</th>\n",
              "      <td>pee probably tastes like salty tea😏💦‼️ can som...</td>\n",
              "      <td>non-suicide</td>\n",
              "    </tr>\n",
              "    <tr>\n",
              "      <th>232072</th>\n",
              "      <td>The usual stuff you find hereI'm not posting t...</td>\n",
              "      <td>suicide</td>\n",
              "    </tr>\n",
              "    <tr>\n",
              "      <th>232073</th>\n",
              "      <td>I still haven't beaten the first boss in Hollo...</td>\n",
              "      <td>non-suicide</td>\n",
              "    </tr>\n",
              "  </tbody>\n",
              "</table>\n",
              "<p>232074 rows × 2 columns</p>\n",
              "</div>\n",
              "      <button class=\"colab-df-convert\" onclick=\"convertToInteractive('df-ef5316af-8b4a-4e3c-b609-8edc84bebee7')\"\n",
              "              title=\"Convert this dataframe to an interactive table.\"\n",
              "              style=\"display:none;\">\n",
              "        \n",
              "  <svg xmlns=\"http://www.w3.org/2000/svg\" height=\"24px\"viewBox=\"0 0 24 24\"\n",
              "       width=\"24px\">\n",
              "    <path d=\"M0 0h24v24H0V0z\" fill=\"none\"/>\n",
              "    <path d=\"M18.56 5.44l.94 2.06.94-2.06 2.06-.94-2.06-.94-.94-2.06-.94 2.06-2.06.94zm-11 1L8.5 8.5l.94-2.06 2.06-.94-2.06-.94L8.5 2.5l-.94 2.06-2.06.94zm10 10l.94 2.06.94-2.06 2.06-.94-2.06-.94-.94-2.06-.94 2.06-2.06.94z\"/><path d=\"M17.41 7.96l-1.37-1.37c-.4-.4-.92-.59-1.43-.59-.52 0-1.04.2-1.43.59L10.3 9.45l-7.72 7.72c-.78.78-.78 2.05 0 2.83L4 21.41c.39.39.9.59 1.41.59.51 0 1.02-.2 1.41-.59l7.78-7.78 2.81-2.81c.8-.78.8-2.07 0-2.86zM5.41 20L4 18.59l7.72-7.72 1.47 1.35L5.41 20z\"/>\n",
              "  </svg>\n",
              "      </button>\n",
              "      \n",
              "  <style>\n",
              "    .colab-df-container {\n",
              "      display:flex;\n",
              "      flex-wrap:wrap;\n",
              "      gap: 12px;\n",
              "    }\n",
              "\n",
              "    .colab-df-convert {\n",
              "      background-color: #E8F0FE;\n",
              "      border: none;\n",
              "      border-radius: 50%;\n",
              "      cursor: pointer;\n",
              "      display: none;\n",
              "      fill: #1967D2;\n",
              "      height: 32px;\n",
              "      padding: 0 0 0 0;\n",
              "      width: 32px;\n",
              "    }\n",
              "\n",
              "    .colab-df-convert:hover {\n",
              "      background-color: #E2EBFA;\n",
              "      box-shadow: 0px 1px 2px rgba(60, 64, 67, 0.3), 0px 1px 3px 1px rgba(60, 64, 67, 0.15);\n",
              "      fill: #174EA6;\n",
              "    }\n",
              "\n",
              "    [theme=dark] .colab-df-convert {\n",
              "      background-color: #3B4455;\n",
              "      fill: #D2E3FC;\n",
              "    }\n",
              "\n",
              "    [theme=dark] .colab-df-convert:hover {\n",
              "      background-color: #434B5C;\n",
              "      box-shadow: 0px 1px 3px 1px rgba(0, 0, 0, 0.15);\n",
              "      filter: drop-shadow(0px 1px 2px rgba(0, 0, 0, 0.3));\n",
              "      fill: #FFFFFF;\n",
              "    }\n",
              "  </style>\n",
              "\n",
              "      <script>\n",
              "        const buttonEl =\n",
              "          document.querySelector('#df-ef5316af-8b4a-4e3c-b609-8edc84bebee7 button.colab-df-convert');\n",
              "        buttonEl.style.display =\n",
              "          google.colab.kernel.accessAllowed ? 'block' : 'none';\n",
              "\n",
              "        async function convertToInteractive(key) {\n",
              "          const element = document.querySelector('#df-ef5316af-8b4a-4e3c-b609-8edc84bebee7');\n",
              "          const dataTable =\n",
              "            await google.colab.kernel.invokeFunction('convertToInteractive',\n",
              "                                                     [key], {});\n",
              "          if (!dataTable) return;\n",
              "\n",
              "          const docLinkHtml = 'Like what you see? Visit the ' +\n",
              "            '<a target=\"_blank\" href=https://colab.research.google.com/notebooks/data_table.ipynb>data table notebook</a>'\n",
              "            + ' to learn more about interactive tables.';\n",
              "          element.innerHTML = '';\n",
              "          dataTable['output_type'] = 'display_data';\n",
              "          await google.colab.output.renderOutput(dataTable, element);\n",
              "          const docLink = document.createElement('div');\n",
              "          docLink.innerHTML = docLinkHtml;\n",
              "          element.appendChild(docLink);\n",
              "        }\n",
              "      </script>\n",
              "    </div>\n",
              "  </div>\n",
              "  "
            ],
            "text/plain": [
              "                                                     text        label\n",
              "0       Ex Wife Threatening SuicideRecently I left my ...      suicide\n",
              "1       Am I weird I don't get affected by compliments...  non-suicide\n",
              "2       Finally 2020 is almost over... So I can never ...  non-suicide\n",
              "3               i need helpjust help me im crying so hard      suicide\n",
              "4       I’m so lostHello, my name is Adam (16) and I’v...      suicide\n",
              "...                                                   ...          ...\n",
              "232069  If you don't like rock then your not going to ...  non-suicide\n",
              "232070  You how you can tell i have so many friends an...  non-suicide\n",
              "232071  pee probably tastes like salty tea😏💦‼️ can som...  non-suicide\n",
              "232072  The usual stuff you find hereI'm not posting t...      suicide\n",
              "232073  I still haven't beaten the first boss in Hollo...  non-suicide\n",
              "\n",
              "[232074 rows x 2 columns]"
            ]
          },
          "metadata": {},
          "output_type": "display_data"
        }
      ],
      "source": [
        "df_train = pd.read_csv(\"/content/drive/MyDrive/thesis code/Suicide_Detection.csv\")\n",
        "df_train.columns = ['id',\"text\",\"label\"]\n",
        "df_train=df_train[[\"text\",\"label\"]]\n",
        "# Show the first 5 rows of the dataframe.\n",
        "print('....Training data....\\n')\n",
        "display(df_train)"
      ]
    },
    {
      "cell_type": "markdown",
      "metadata": {
        "id": "ZwFB3qjSJUvx"
      },
      "source": [
        "## Convert the labels from string to integer"
      ]
    },
    {
      "cell_type": "code",
      "execution_count": null,
      "metadata": {
        "colab": {
          "base_uri": "https://localhost:8080/",
          "height": 423
        },
        "id": "P_yQRFllmlYd",
        "outputId": "135ba6f4-c818-45ee-d371-042d0d678bff"
      },
      "outputs": [
        {
          "data": {
            "text/html": [
              "\n",
              "  <div id=\"df-7016650d-cc8e-40ed-bf7b-4770bb4d5c60\">\n",
              "    <div class=\"colab-df-container\">\n",
              "      <div>\n",
              "<style scoped>\n",
              "    .dataframe tbody tr th:only-of-type {\n",
              "        vertical-align: middle;\n",
              "    }\n",
              "\n",
              "    .dataframe tbody tr th {\n",
              "        vertical-align: top;\n",
              "    }\n",
              "\n",
              "    .dataframe thead th {\n",
              "        text-align: right;\n",
              "    }\n",
              "</style>\n",
              "<table border=\"1\" class=\"dataframe\">\n",
              "  <thead>\n",
              "    <tr style=\"text-align: right;\">\n",
              "      <th></th>\n",
              "      <th>text</th>\n",
              "      <th>label</th>\n",
              "    </tr>\n",
              "  </thead>\n",
              "  <tbody>\n",
              "    <tr>\n",
              "      <th>0</th>\n",
              "      <td>Ex Wife Threatening SuicideRecently I left my ...</td>\n",
              "      <td>1</td>\n",
              "    </tr>\n",
              "    <tr>\n",
              "      <th>1</th>\n",
              "      <td>Am I weird I don't get affected by compliments...</td>\n",
              "      <td>0</td>\n",
              "    </tr>\n",
              "    <tr>\n",
              "      <th>2</th>\n",
              "      <td>Finally 2020 is almost over... So I can never ...</td>\n",
              "      <td>0</td>\n",
              "    </tr>\n",
              "    <tr>\n",
              "      <th>3</th>\n",
              "      <td>i need helpjust help me im crying so hard</td>\n",
              "      <td>1</td>\n",
              "    </tr>\n",
              "    <tr>\n",
              "      <th>4</th>\n",
              "      <td>I’m so lostHello, my name is Adam (16) and I’v...</td>\n",
              "      <td>1</td>\n",
              "    </tr>\n",
              "    <tr>\n",
              "      <th>...</th>\n",
              "      <td>...</td>\n",
              "      <td>...</td>\n",
              "    </tr>\n",
              "    <tr>\n",
              "      <th>232069</th>\n",
              "      <td>If you don't like rock then your not going to ...</td>\n",
              "      <td>0</td>\n",
              "    </tr>\n",
              "    <tr>\n",
              "      <th>232070</th>\n",
              "      <td>You how you can tell i have so many friends an...</td>\n",
              "      <td>0</td>\n",
              "    </tr>\n",
              "    <tr>\n",
              "      <th>232071</th>\n",
              "      <td>pee probably tastes like salty tea😏💦‼️ can som...</td>\n",
              "      <td>0</td>\n",
              "    </tr>\n",
              "    <tr>\n",
              "      <th>232072</th>\n",
              "      <td>The usual stuff you find hereI'm not posting t...</td>\n",
              "      <td>1</td>\n",
              "    </tr>\n",
              "    <tr>\n",
              "      <th>232073</th>\n",
              "      <td>I still haven't beaten the first boss in Hollo...</td>\n",
              "      <td>0</td>\n",
              "    </tr>\n",
              "  </tbody>\n",
              "</table>\n",
              "<p>232074 rows × 2 columns</p>\n",
              "</div>\n",
              "      <button class=\"colab-df-convert\" onclick=\"convertToInteractive('df-7016650d-cc8e-40ed-bf7b-4770bb4d5c60')\"\n",
              "              title=\"Convert this dataframe to an interactive table.\"\n",
              "              style=\"display:none;\">\n",
              "        \n",
              "  <svg xmlns=\"http://www.w3.org/2000/svg\" height=\"24px\"viewBox=\"0 0 24 24\"\n",
              "       width=\"24px\">\n",
              "    <path d=\"M0 0h24v24H0V0z\" fill=\"none\"/>\n",
              "    <path d=\"M18.56 5.44l.94 2.06.94-2.06 2.06-.94-2.06-.94-.94-2.06-.94 2.06-2.06.94zm-11 1L8.5 8.5l.94-2.06 2.06-.94-2.06-.94L8.5 2.5l-.94 2.06-2.06.94zm10 10l.94 2.06.94-2.06 2.06-.94-2.06-.94-.94-2.06-.94 2.06-2.06.94z\"/><path d=\"M17.41 7.96l-1.37-1.37c-.4-.4-.92-.59-1.43-.59-.52 0-1.04.2-1.43.59L10.3 9.45l-7.72 7.72c-.78.78-.78 2.05 0 2.83L4 21.41c.39.39.9.59 1.41.59.51 0 1.02-.2 1.41-.59l7.78-7.78 2.81-2.81c.8-.78.8-2.07 0-2.86zM5.41 20L4 18.59l7.72-7.72 1.47 1.35L5.41 20z\"/>\n",
              "  </svg>\n",
              "      </button>\n",
              "      \n",
              "  <style>\n",
              "    .colab-df-container {\n",
              "      display:flex;\n",
              "      flex-wrap:wrap;\n",
              "      gap: 12px;\n",
              "    }\n",
              "\n",
              "    .colab-df-convert {\n",
              "      background-color: #E8F0FE;\n",
              "      border: none;\n",
              "      border-radius: 50%;\n",
              "      cursor: pointer;\n",
              "      display: none;\n",
              "      fill: #1967D2;\n",
              "      height: 32px;\n",
              "      padding: 0 0 0 0;\n",
              "      width: 32px;\n",
              "    }\n",
              "\n",
              "    .colab-df-convert:hover {\n",
              "      background-color: #E2EBFA;\n",
              "      box-shadow: 0px 1px 2px rgba(60, 64, 67, 0.3), 0px 1px 3px 1px rgba(60, 64, 67, 0.15);\n",
              "      fill: #174EA6;\n",
              "    }\n",
              "\n",
              "    [theme=dark] .colab-df-convert {\n",
              "      background-color: #3B4455;\n",
              "      fill: #D2E3FC;\n",
              "    }\n",
              "\n",
              "    [theme=dark] .colab-df-convert:hover {\n",
              "      background-color: #434B5C;\n",
              "      box-shadow: 0px 1px 3px 1px rgba(0, 0, 0, 0.15);\n",
              "      filter: drop-shadow(0px 1px 2px rgba(0, 0, 0, 0.3));\n",
              "      fill: #FFFFFF;\n",
              "    }\n",
              "  </style>\n",
              "\n",
              "      <script>\n",
              "        const buttonEl =\n",
              "          document.querySelector('#df-7016650d-cc8e-40ed-bf7b-4770bb4d5c60 button.colab-df-convert');\n",
              "        buttonEl.style.display =\n",
              "          google.colab.kernel.accessAllowed ? 'block' : 'none';\n",
              "\n",
              "        async function convertToInteractive(key) {\n",
              "          const element = document.querySelector('#df-7016650d-cc8e-40ed-bf7b-4770bb4d5c60');\n",
              "          const dataTable =\n",
              "            await google.colab.kernel.invokeFunction('convertToInteractive',\n",
              "                                                     [key], {});\n",
              "          if (!dataTable) return;\n",
              "\n",
              "          const docLinkHtml = 'Like what you see? Visit the ' +\n",
              "            '<a target=\"_blank\" href=https://colab.research.google.com/notebooks/data_table.ipynb>data table notebook</a>'\n",
              "            + ' to learn more about interactive tables.';\n",
              "          element.innerHTML = '';\n",
              "          dataTable['output_type'] = 'display_data';\n",
              "          await google.colab.output.renderOutput(dataTable, element);\n",
              "          const docLink = document.createElement('div');\n",
              "          docLink.innerHTML = docLinkHtml;\n",
              "          element.appendChild(docLink);\n",
              "        }\n",
              "      </script>\n",
              "    </div>\n",
              "  </div>\n",
              "  "
            ],
            "text/plain": [
              "                                                     text  label\n",
              "0       Ex Wife Threatening SuicideRecently I left my ...      1\n",
              "1       Am I weird I don't get affected by compliments...      0\n",
              "2       Finally 2020 is almost over... So I can never ...      0\n",
              "3               i need helpjust help me im crying so hard      1\n",
              "4       I’m so lostHello, my name is Adam (16) and I’v...      1\n",
              "...                                                   ...    ...\n",
              "232069  If you don't like rock then your not going to ...      0\n",
              "232070  You how you can tell i have so many friends an...      0\n",
              "232071  pee probably tastes like salty tea😏💦‼️ can som...      0\n",
              "232072  The usual stuff you find hereI'm not posting t...      1\n",
              "232073  I still haven't beaten the first boss in Hollo...      0\n",
              "\n",
              "[232074 rows x 2 columns]"
            ]
          },
          "execution_count": 4,
          "metadata": {},
          "output_type": "execute_result"
        }
      ],
      "source": [
        "le = LabelEncoder()\n",
        "labels=le.fit_transform(df_train.label)\n",
        "df_train.label=labels\n",
        "df_train"
      ]
    },
    {
      "cell_type": "markdown",
      "metadata": {
        "id": "ldBgNH0hJc1K"
      },
      "source": [
        "## Information about data"
      ]
    },
    {
      "cell_type": "code",
      "execution_count": null,
      "metadata": {
        "colab": {
          "base_uri": "https://localhost:8080/"
        },
        "id": "Q6WjqJIywjA2",
        "outputId": "8c6bbb01-3f6d-492e-f696-e99d22b90473"
      },
      "outputs": [
        {
          "name": "stdout",
          "output_type": "stream",
          "text": [
            "\n",
            "...........information of training data............\n",
            "\n",
            "<class 'pandas.core.frame.DataFrame'>\n",
            "RangeIndex: 232074 entries, 0 to 232073\n",
            "Data columns (total 2 columns):\n",
            " #   Column  Non-Null Count   Dtype \n",
            "---  ------  --------------   ----- \n",
            " 0   text    232074 non-null  object\n",
            " 1   label   232074 non-null  int64 \n",
            "dtypes: int64(1), object(1)\n",
            "memory usage: 3.5+ MB\n",
            "None\n"
          ]
        }
      ],
      "source": [
        "# information about the data set like columns , null values , datatype ,range index, memory\n",
        "print('\\n...........information of training data............\\n')\n",
        "print(df_train.info())"
      ]
    },
    {
      "cell_type": "markdown",
      "metadata": {
        "id": "ei62lDceJgsJ"
      },
      "source": [
        "## Checking for null in dataset"
      ]
    },
    {
      "cell_type": "code",
      "execution_count": null,
      "metadata": {
        "colab": {
          "base_uri": "https://localhost:8080/"
        },
        "id": "y_VWad1pwmeI",
        "outputId": "ed284765-9eb6-49a1-aaf4-1130288e4155"
      },
      "outputs": [
        {
          "name": "stdout",
          "output_type": "stream",
          "text": [
            "\n",
            "...Training.....\n",
            "\n",
            "text     0\n",
            "label    0\n",
            "dtype: int64\n"
          ]
        }
      ],
      "source": [
        "print(\"\\n...Training.....\\n\")\n",
        "print(df_train.isna().sum())"
      ]
    },
    {
      "cell_type": "markdown",
      "metadata": {
        "id": "DFa2bpznJm1k"
      },
      "source": [
        "## plot the class **distribution**"
      ]
    },
    {
      "cell_type": "code",
      "execution_count": null,
      "metadata": {
        "colab": {
          "base_uri": "https://localhost:8080/",
          "height": 409
        },
        "id": "mOsZOPtgwmbJ",
        "outputId": "72f98be9-43dc-41c2-ef2b-cb959d4ea76e"
      },
      "outputs": [
        {
          "name": "stdout",
          "output_type": "stream",
          "text": [
            "\n",
            "...Training.....\n",
            "\n",
            "1    116037\n",
            "0    116037\n",
            "Name: label, dtype: int64\n"
          ]
        },
        {
          "data": {
            "text/plain": [
              "<matplotlib.axes._subplots.AxesSubplot at 0x7f44d5104eb0>"
            ]
          },
          "execution_count": 7,
          "metadata": {},
          "output_type": "execute_result"
        },
        {
          "data": {
            "image/png": "[encoded data removed]",
            "text/plain": [
              "<Figure size 432x288 with 1 Axes>"
            ]
          },
          "metadata": {},
          "output_type": "display_data"
        }
      ],
      "source": [
        "# show the number of labels in dataset per class in visualize in bar graph\n",
        "print(\"\\n...Training.....\\n\")\n",
        "print(df_train['label'].value_counts())\n",
        "\n",
        "sns.countplot(data=df_train,x='label')\n"
      ]
    },
    {
      "cell_type": "markdown",
      "metadata": {
        "id": "79Hzd2i-Jvii"
      },
      "source": [
        "## **Preprocessing**"
      ]
    },
    {
      "cell_type": "code",
      "execution_count": null,
      "metadata": {
        "colab": {
          "base_uri": "https://localhost:8080/",
          "height": 423
        },
        "id": "6vHEMZIbJ1e0",
        "outputId": "1b3695a4-e162-4a64-d018-7003eaf08767"
      },
      "outputs": [
        {
          "data": {
            "text/html": [
              "\n",
              "  <div id=\"df-47cf21e9-6ede-4273-bab7-536e5d0c38b3\">\n",
              "    <div class=\"colab-df-container\">\n",
              "      <div>\n",
              "<style scoped>\n",
              "    .dataframe tbody tr th:only-of-type {\n",
              "        vertical-align: middle;\n",
              "    }\n",
              "\n",
              "    .dataframe tbody tr th {\n",
              "        vertical-align: top;\n",
              "    }\n",
              "\n",
              "    .dataframe thead th {\n",
              "        text-align: right;\n",
              "    }\n",
              "</style>\n",
              "<table border=\"1\" class=\"dataframe\">\n",
              "  <thead>\n",
              "    <tr style=\"text-align: right;\">\n",
              "      <th></th>\n",
              "      <th>text</th>\n",
              "      <th>label</th>\n",
              "    </tr>\n",
              "  </thead>\n",
              "  <tbody>\n",
              "    <tr>\n",
              "      <th>0</th>\n",
              "      <td>Ex Wife Threatening SuicideRecently I left my ...</td>\n",
              "      <td>1</td>\n",
              "    </tr>\n",
              "    <tr>\n",
              "      <th>1</th>\n",
              "      <td>Am I weird I don't get affected by compliments...</td>\n",
              "      <td>0</td>\n",
              "    </tr>\n",
              "    <tr>\n",
              "      <th>2</th>\n",
              "      <td>Finally 2020 is almost over... So I can never ...</td>\n",
              "      <td>0</td>\n",
              "    </tr>\n",
              "    <tr>\n",
              "      <th>3</th>\n",
              "      <td>i need helpjust help me im crying so hard</td>\n",
              "      <td>1</td>\n",
              "    </tr>\n",
              "    <tr>\n",
              "      <th>4</th>\n",
              "      <td>I’m so lostHello, my name is Adam (16) and I’v...</td>\n",
              "      <td>1</td>\n",
              "    </tr>\n",
              "    <tr>\n",
              "      <th>...</th>\n",
              "      <td>...</td>\n",
              "      <td>...</td>\n",
              "    </tr>\n",
              "    <tr>\n",
              "      <th>232069</th>\n",
              "      <td>If you don't like rock then your not going to ...</td>\n",
              "      <td>0</td>\n",
              "    </tr>\n",
              "    <tr>\n",
              "      <th>232070</th>\n",
              "      <td>You how you can tell i have so many friends an...</td>\n",
              "      <td>0</td>\n",
              "    </tr>\n",
              "    <tr>\n",
              "      <th>232071</th>\n",
              "      <td>pee probably tastes like salty tea😏💦‼️ can som...</td>\n",
              "      <td>0</td>\n",
              "    </tr>\n",
              "    <tr>\n",
              "      <th>232072</th>\n",
              "      <td>The usual stuff you find hereI'm not posting t...</td>\n",
              "      <td>1</td>\n",
              "    </tr>\n",
              "    <tr>\n",
              "      <th>232073</th>\n",
              "      <td>I still haven't beaten the first boss in Hollo...</td>\n",
              "      <td>0</td>\n",
              "    </tr>\n",
              "  </tbody>\n",
              "</table>\n",
              "<p>232074 rows × 2 columns</p>\n",
              "</div>\n",
              "      <button class=\"colab-df-convert\" onclick=\"convertToInteractive('df-47cf21e9-6ede-4273-bab7-536e5d0c38b3')\"\n",
              "              title=\"Convert this dataframe to an interactive table.\"\n",
              "              style=\"display:none;\">\n",
              "        \n",
              "  <svg xmlns=\"http://www.w3.org/2000/svg\" height=\"24px\"viewBox=\"0 0 24 24\"\n",
              "       width=\"24px\">\n",
              "    <path d=\"M0 0h24v24H0V0z\" fill=\"none\"/>\n",
              "    <path d=\"M18.56 5.44l.94 2.06.94-2.06 2.06-.94-2.06-.94-.94-2.06-.94 2.06-2.06.94zm-11 1L8.5 8.5l.94-2.06 2.06-.94-2.06-.94L8.5 2.5l-.94 2.06-2.06.94zm10 10l.94 2.06.94-2.06 2.06-.94-2.06-.94-.94-2.06-.94 2.06-2.06.94z\"/><path d=\"M17.41 7.96l-1.37-1.37c-.4-.4-.92-.59-1.43-.59-.52 0-1.04.2-1.43.59L10.3 9.45l-7.72 7.72c-.78.78-.78 2.05 0 2.83L4 21.41c.39.39.9.59 1.41.59.51 0 1.02-.2 1.41-.59l7.78-7.78 2.81-2.81c.8-.78.8-2.07 0-2.86zM5.41 20L4 18.59l7.72-7.72 1.47 1.35L5.41 20z\"/>\n",
              "  </svg>\n",
              "      </button>\n",
              "      \n",
              "  <style>\n",
              "    .colab-df-container {\n",
              "      display:flex;\n",
              "      flex-wrap:wrap;\n",
              "      gap: 12px;\n",
              "    }\n",
              "\n",
              "    .colab-df-convert {\n",
              "      background-color: #E8F0FE;\n",
              "      border: none;\n",
              "      border-radius: 50%;\n",
              "      cursor: pointer;\n",
              "      display: none;\n",
              "      fill: #1967D2;\n",
              "      height: 32px;\n",
              "      padding: 0 0 0 0;\n",
              "      width: 32px;\n",
              "    }\n",
              "\n",
              "    .colab-df-convert:hover {\n",
              "      background-color: #E2EBFA;\n",
              "      box-shadow: 0px 1px 2px rgba(60, 64, 67, 0.3), 0px 1px 3px 1px rgba(60, 64, 67, 0.15);\n",
              "      fill: #174EA6;\n",
              "    }\n",
              "\n",
              "    [theme=dark] .colab-df-convert {\n",
              "      background-color: #3B4455;\n",
              "      fill: #D2E3FC;\n",
              "    }\n",
              "\n",
              "    [theme=dark] .colab-df-convert:hover {\n",
              "      background-color: #434B5C;\n",
              "      box-shadow: 0px 1px 3px 1px rgba(0, 0, 0, 0.15);\n",
              "      filter: drop-shadow(0px 1px 2px rgba(0, 0, 0, 0.3));\n",
              "      fill: #FFFFFF;\n",
              "    }\n",
              "  </style>\n",
              "\n",
              "      <script>\n",
              "        const buttonEl =\n",
              "          document.querySelector('#df-47cf21e9-6ede-4273-bab7-536e5d0c38b3 button.colab-df-convert');\n",
              "        buttonEl.style.display =\n",
              "          google.colab.kernel.accessAllowed ? 'block' : 'none';\n",
              "\n",
              "        async function convertToInteractive(key) {\n",
              "          const element = document.querySelector('#df-47cf21e9-6ede-4273-bab7-536e5d0c38b3');\n",
              "          const dataTable =\n",
              "            await google.colab.kernel.invokeFunction('convertToInteractive',\n",
              "                                                     [key], {});\n",
              "          if (!dataTable) return;\n",
              "\n",
              "          const docLinkHtml = 'Like what you see? Visit the ' +\n",
              "            '<a target=\"_blank\" href=https://colab.research.google.com/notebooks/data_table.ipynb>data table notebook</a>'\n",
              "            + ' to learn more about interactive tables.';\n",
              "          element.innerHTML = '';\n",
              "          dataTable['output_type'] = 'display_data';\n",
              "          await google.colab.output.renderOutput(dataTable, element);\n",
              "          const docLink = document.createElement('div');\n",
              "          docLink.innerHTML = docLinkHtml;\n",
              "          element.appendChild(docLink);\n",
              "        }\n",
              "      </script>\n",
              "    </div>\n",
              "  </div>\n",
              "  "
            ],
            "text/plain": [
              "                                                     text  label\n",
              "0       Ex Wife Threatening SuicideRecently I left my ...      1\n",
              "1       Am I weird I don't get affected by compliments...      0\n",
              "2       Finally 2020 is almost over... So I can never ...      0\n",
              "3               i need helpjust help me im crying so hard      1\n",
              "4       I’m so lostHello, my name is Adam (16) and I’v...      1\n",
              "...                                                   ...    ...\n",
              "232069  If you don't like rock then your not going to ...      0\n",
              "232070  You how you can tell i have so many friends an...      0\n",
              "232071  pee probably tastes like salty tea😏💦‼️ can som...      0\n",
              "232072  The usual stuff you find hereI'm not posting t...      1\n",
              "232073  I still haven't beaten the first boss in Hollo...      0\n",
              "\n",
              "[232074 rows x 2 columns]"
            ]
          },
          "execution_count": 8,
          "metadata": {},
          "output_type": "execute_result"
        }
      ],
      "source": [
        "dataset=df_train\n",
        "dataset"
      ]
    },
    {
      "cell_type": "markdown",
      "metadata": {
        "id": "yIq7G-lCKGX0"
      },
      "source": [
        "## Convert  the text in to small letter"
      ]
    },
    {
      "cell_type": "code",
      "execution_count": null,
      "metadata": {
        "colab": {
          "base_uri": "https://localhost:8080/",
          "height": 363
        },
        "id": "5u5UsuWWwmQH",
        "outputId": "c7136202-bdb4-47a4-c1fb-d133acba511f"
      },
      "outputs": [
        {
          "data": {
            "text/html": [
              "\n",
              "  <div id=\"df-c36a184f-6ae5-4b56-a098-5f26a9c80504\">\n",
              "    <div class=\"colab-df-container\">\n",
              "      <div>\n",
              "<style scoped>\n",
              "    .dataframe tbody tr th:only-of-type {\n",
              "        vertical-align: middle;\n",
              "    }\n",
              "\n",
              "    .dataframe tbody tr th {\n",
              "        vertical-align: top;\n",
              "    }\n",
              "\n",
              "    .dataframe thead th {\n",
              "        text-align: right;\n",
              "    }\n",
              "</style>\n",
              "<table border=\"1\" class=\"dataframe\">\n",
              "  <thead>\n",
              "    <tr style=\"text-align: right;\">\n",
              "      <th></th>\n",
              "      <th>text</th>\n",
              "      <th>label</th>\n",
              "    </tr>\n",
              "  </thead>\n",
              "  <tbody>\n",
              "    <tr>\n",
              "      <th>0</th>\n",
              "      <td>ex wife threatening suiciderecently i left my ...</td>\n",
              "      <td>1</td>\n",
              "    </tr>\n",
              "    <tr>\n",
              "      <th>1</th>\n",
              "      <td>am i weird i don't get affected by compliments...</td>\n",
              "      <td>0</td>\n",
              "    </tr>\n",
              "    <tr>\n",
              "      <th>2</th>\n",
              "      <td>finally 2020 is almost over... so i can never ...</td>\n",
              "      <td>0</td>\n",
              "    </tr>\n",
              "    <tr>\n",
              "      <th>3</th>\n",
              "      <td>i need helpjust help me im crying so hard</td>\n",
              "      <td>1</td>\n",
              "    </tr>\n",
              "    <tr>\n",
              "      <th>4</th>\n",
              "      <td>i’m so losthello, my name is adam (16) and i’v...</td>\n",
              "      <td>1</td>\n",
              "    </tr>\n",
              "    <tr>\n",
              "      <th>5</th>\n",
              "      <td>honetly idki dont know what im even doing here...</td>\n",
              "      <td>1</td>\n",
              "    </tr>\n",
              "    <tr>\n",
              "      <th>6</th>\n",
              "      <td>[trigger warning] excuse for self inflicted bu...</td>\n",
              "      <td>1</td>\n",
              "    </tr>\n",
              "    <tr>\n",
              "      <th>7</th>\n",
              "      <td>it ends tonight.i can’t do it anymore. \\ni quit.</td>\n",
              "      <td>1</td>\n",
              "    </tr>\n",
              "    <tr>\n",
              "      <th>8</th>\n",
              "      <td>everyone wants to be \"edgy\" and it's making me...</td>\n",
              "      <td>0</td>\n",
              "    </tr>\n",
              "    <tr>\n",
              "      <th>9</th>\n",
              "      <td>my life is over at 20 years oldhello all. i am...</td>\n",
              "      <td>1</td>\n",
              "    </tr>\n",
              "  </tbody>\n",
              "</table>\n",
              "</div>\n",
              "      <button class=\"colab-df-convert\" onclick=\"convertToInteractive('df-c36a184f-6ae5-4b56-a098-5f26a9c80504')\"\n",
              "              title=\"Convert this dataframe to an interactive table.\"\n",
              "              style=\"display:none;\">\n",
              "        \n",
              "  <svg xmlns=\"http://www.w3.org/2000/svg\" height=\"24px\"viewBox=\"0 0 24 24\"\n",
              "       width=\"24px\">\n",
              "    <path d=\"M0 0h24v24H0V0z\" fill=\"none\"/>\n",
              "    <path d=\"M18.56 5.44l.94 2.06.94-2.06 2.06-.94-2.06-.94-.94-2.06-.94 2.06-2.06.94zm-11 1L8.5 8.5l.94-2.06 2.06-.94-2.06-.94L8.5 2.5l-.94 2.06-2.06.94zm10 10l.94 2.06.94-2.06 2.06-.94-2.06-.94-.94-2.06-.94 2.06-2.06.94z\"/><path d=\"M17.41 7.96l-1.37-1.37c-.4-.4-.92-.59-1.43-.59-.52 0-1.04.2-1.43.59L10.3 9.45l-7.72 7.72c-.78.78-.78 2.05 0 2.83L4 21.41c.39.39.9.59 1.41.59.51 0 1.02-.2 1.41-.59l7.78-7.78 2.81-2.81c.8-.78.8-2.07 0-2.86zM5.41 20L4 18.59l7.72-7.72 1.47 1.35L5.41 20z\"/>\n",
              "  </svg>\n",
              "      </button>\n",
              "      \n",
              "  <style>\n",
              "    .colab-df-container {\n",
              "      display:flex;\n",
              "      flex-wrap:wrap;\n",
              "      gap: 12px;\n",
              "    }\n",
              "\n",
              "    .colab-df-convert {\n",
              "      background-color: #E8F0FE;\n",
              "      border: none;\n",
              "      border-radius: 50%;\n",
              "      cursor: pointer;\n",
              "      display: none;\n",
              "      fill: #1967D2;\n",
              "      height: 32px;\n",
              "      padding: 0 0 0 0;\n",
              "      width: 32px;\n",
              "    }\n",
              "\n",
              "    .colab-df-convert:hover {\n",
              "      background-color: #E2EBFA;\n",
              "      box-shadow: 0px 1px 2px rgba(60, 64, 67, 0.3), 0px 1px 3px 1px rgba(60, 64, 67, 0.15);\n",
              "      fill: #174EA6;\n",
              "    }\n",
              "\n",
              "    [theme=dark] .colab-df-convert {\n",
              "      background-color: #3B4455;\n",
              "      fill: #D2E3FC;\n",
              "    }\n",
              "\n",
              "    [theme=dark] .colab-df-convert:hover {\n",
              "      background-color: #434B5C;\n",
              "      box-shadow: 0px 1px 3px 1px rgba(0, 0, 0, 0.15);\n",
              "      filter: drop-shadow(0px 1px 2px rgba(0, 0, 0, 0.3));\n",
              "      fill: #FFFFFF;\n",
              "    }\n",
              "  </style>\n",
              "\n",
              "      <script>\n",
              "        const buttonEl =\n",
              "          document.querySelector('#df-c36a184f-6ae5-4b56-a098-5f26a9c80504 button.colab-df-convert');\n",
              "        buttonEl.style.display =\n",
              "          google.colab.kernel.accessAllowed ? 'block' : 'none';\n",
              "\n",
              "        async function convertToInteractive(key) {\n",
              "          const element = document.querySelector('#df-c36a184f-6ae5-4b56-a098-5f26a9c80504');\n",
              "          const dataTable =\n",
              "            await google.colab.kernel.invokeFunction('convertToInteractive',\n",
              "                                                     [key], {});\n",
              "          if (!dataTable) return;\n",
              "\n",
              "          const docLinkHtml = 'Like what you see? Visit the ' +\n",
              "            '<a target=\"_blank\" href=https://colab.research.google.com/notebooks/data_table.ipynb>data table notebook</a>'\n",
              "            + ' to learn more about interactive tables.';\n",
              "          element.innerHTML = '';\n",
              "          dataTable['output_type'] = 'display_data';\n",
              "          await google.colab.output.renderOutput(dataTable, element);\n",
              "          const docLink = document.createElement('div');\n",
              "          docLink.innerHTML = docLinkHtml;\n",
              "          element.appendChild(docLink);\n",
              "        }\n",
              "      </script>\n",
              "    </div>\n",
              "  </div>\n",
              "  "
            ],
            "text/plain": [
              "                                                text  label\n",
              "0  ex wife threatening suiciderecently i left my ...      1\n",
              "1  am i weird i don't get affected by compliments...      0\n",
              "2  finally 2020 is almost over... so i can never ...      0\n",
              "3          i need helpjust help me im crying so hard      1\n",
              "4  i’m so losthello, my name is adam (16) and i’v...      1\n",
              "5  honetly idki dont know what im even doing here...      1\n",
              "6  [trigger warning] excuse for self inflicted bu...      1\n",
              "7   it ends tonight.i can’t do it anymore. \\ni quit.      1\n",
              "8  everyone wants to be \"edgy\" and it's making me...      0\n",
              "9  my life is over at 20 years oldhello all. i am...      1"
            ]
          },
          "execution_count": 9,
          "metadata": {},
          "output_type": "execute_result"
        }
      ],
      "source": [
        "# checkeing the each tweet in dataset if there is any capital word in tweet this piece of will replace it with the small letter\n",
        "dataset['text']=dataset['text'].str.lower()\n",
        "dataset.head(10)"
      ]
    },
    {
      "cell_type": "markdown",
      "metadata": {
        "id": "dEdojg-FKPwN"
      },
      "source": [
        "## Remove stopwords"
      ]
    },
    {
      "cell_type": "code",
      "execution_count": null,
      "metadata": {
        "colab": {
          "base_uri": "https://localhost:8080/"
        },
        "id": "CaZt0335wuRm",
        "outputId": "bdcef059-564a-406f-fca2-17a9ea02dfed"
      },
      "outputs": [
        {
          "data": {
            "text/plain": [
              "0    ex wife threatening suiciderecently left wife ...\n",
              "1    weird don't get affected compliments it's comi...\n",
              "2    finally 2020 almost over... never hear \"2020 b...\n",
              "3                    need helpjust help im crying hard\n",
              "4    i’m losthello, name adam (16) i’ve struggling ...\n",
              "5    honetly idki dont know im even here. feel like...\n",
              "6    [trigger warning] excuse self inflicted burns*...\n",
              "7                  ends tonight.i can’t anymore. quit.\n",
              "8    everyone wants \"edgy\" it's making self conscio...\n",
              "9    life over 20 years oldhello all. 20 year old b...\n",
              "Name: text, dtype: object"
            ]
          },
          "execution_count": 10,
          "metadata": {},
          "output_type": "execute_result"
        }
      ],
      "source": [
        "# this piece of code remove every stop words in the tweets in dataset. the stop words are given in the stopword list below\n",
        "# we create a function that spilit the each in to  words and check the stopword init if find then remove this.\n",
        "stopwordlist = ['a', 'about', 'above', 'after', 'again', 'ain', 'all', 'am', 'an',\n",
        "             'and','any','are', 'as', 'at', 'be', 'because', 'been', 'before',\n",
        "             'being', 'below', 'between','both', 'by', 'can', 'd', 'did', 'do',\n",
        "             'does', 'doing', 'down', 'during', 'each','few', 'for', 'from',\n",
        "             'further', 'had', 'has', 'have', 'having', 'he', 'her', 'here',\n",
        "             'hers', 'herself', 'him', 'himself', 'his', 'how', 'i', 'if', 'in',\n",
        "             'into','is', 'it', 'its', 'itself', 'just', 'll', 'm', 'ma',\n",
        "             'me', 'more', 'most','my', 'myself', 'now', 'o', 'of', 'on', 'once',\n",
        "             'only', 'or', 'other', 'our', 'ours','ourselves', 'out', 'own', 're','s', 'same', 'she', \"shes\", 'should', \"shouldve\",'so', 'some', 'such',\n",
        "             't', 'than', 'that', \"thatll\", 'the', 'their', 'theirs', 'them',\n",
        "             'themselves', 'then', 'there', 'these', 'they', 'this', 'those',\n",
        "             'through', 'to', 'too','under', 'until', 'up', 've', 'very', 'was',\n",
        "             'we', 'were', 'what', 'when', 'where','which','while', 'who', 'whom',\n",
        "             'why', 'will', 'with', 'won', 'y', 'you', \"youd\",\"youll\", \"youre\",\n",
        "             \"youve\", 'your', 'yours', 'yourself', 'yourselves']\n",
        "STOPWORDS = set(stopwordlist)\n",
        "def cleaning_stopwords(text):\n",
        "    return \" \".join([word for word in str(text).split() if word not in STOPWORDS])\n",
        "dataset['text'] = dataset['text'].apply(lambda text: cleaning_stopwords(text))\n",
        "dataset['text'].head(10)"
      ]
    },
    {
      "cell_type": "markdown",
      "metadata": {
        "id": "MtGXjit0KUlq"
      },
      "source": [
        "## Remove punctuations"
      ]
    },
    {
      "cell_type": "code",
      "execution_count": null,
      "metadata": {
        "colab": {
          "base_uri": "https://localhost:8080/"
        },
        "id": "yoYbOPg8wuOa",
        "outputId": "aa0d1ef6-9535-485d-fcb6-589c123c3ed4"
      },
      "outputs": [
        {
          "data": {
            "text/plain": [
              "0    ex wife threatening suiciderecently left wife ...\n",
              "1    weird dont get affected compliments its coming...\n",
              "2    finally 2020 almost over never hear 2020 bad y...\n",
              "3                    need helpjust help im crying hard\n",
              "4    i’m losthello name adam 16 i’ve struggling yea...\n",
              "5    honetly idki dont know im even here feel like ...\n",
              "6    trigger warning excuse self inflicted burnsi k...\n",
              "7                     ends tonighti can’t anymore quit\n",
              "8    everyone wants edgy its making self conscious ...\n",
              "9    life over 20 years oldhello all 20 year old ba...\n",
              "Name: text, dtype: object"
            ]
          },
          "execution_count": 11,
          "metadata": {},
          "output_type": "execute_result"
        }
      ],
      "source": [
        "# this piece of code check the each tweets in dataset and remove every punctuation in the whole dataset\n",
        "english_punctuations = string.punctuation\n",
        "punctuations_list = english_punctuations\n",
        "def cleaning_punctuations(text):\n",
        "    translator = str.maketrans('', '', punctuations_list)\n",
        "    return text.translate(translator)\n",
        "dataset['text']= dataset['text'].apply(lambda x: cleaning_punctuations(x))\n",
        "dataset['text'].head(10)"
      ]
    },
    {
      "cell_type": "markdown",
      "metadata": {
        "id": "PbaXWyhlKakl"
      },
      "source": [
        "## Remove repeating character"
      ]
    },
    {
      "cell_type": "code",
      "execution_count": null,
      "metadata": {
        "colab": {
          "base_uri": "https://localhost:8080/"
        },
        "id": "HxZUsOTlwuLG",
        "outputId": "5d9b2f6e-d99f-4fee-d803-29fa813f09d3"
      },
      "outputs": [
        {
          "data": {
            "text/plain": [
              "0    ex wife threatening suiciderecently left wife ...\n",
              "1    weird dont get affected compliments its coming...\n",
              "2    finally 2020 almost over never hear 2020 bad y...\n",
              "3                    need helpjust help im crying hard\n",
              "4    i’m losthello name adam16 i’ve struggling year...\n",
              "5    honetly idki dont know im even here feel like ...\n",
              "6    trigger warning excuse self inflicted burnsi k...\n",
              "7                     ends tonighti can’t anymore quit\n",
              "8    everyone wants edgy its making self conscious ...\n",
              "9    life over 20 years oldhello all 20 year old ba...\n",
              "Name: text, dtype: object"
            ]
          },
          "execution_count": 12,
          "metadata": {},
          "output_type": "execute_result"
        }
      ],
      "source": [
        "# this piece of code remove the repeating characters in dataset\n",
        "def cleaning_repeating_char(text):\n",
        "    return re.sub(r'(.)1+', r'1', text)\n",
        "dataset['text'] = dataset['text'].apply(lambda x: cleaning_repeating_char(x))\n",
        "dataset['text'].head(10)"
      ]
    },
    {
      "cell_type": "markdown",
      "metadata": {
        "id": "2dOvpwqUKl3c"
      },
      "source": [
        "## Removing URLs"
      ]
    },
    {
      "cell_type": "code",
      "execution_count": null,
      "metadata": {
        "colab": {
          "base_uri": "https://localhost:8080/"
        },
        "id": "BJ8s95oXwuHo",
        "outputId": "bef1c21a-7ebd-4ef1-8378-417af28dbf46"
      },
      "outputs": [
        {
          "data": {
            "text/plain": [
              "0    ex wife threatening suiciderecently left wife ...\n",
              "1    weird dont get affected compliments its coming...\n",
              "2    finally 2020 almost over never hear 2020 bad y...\n",
              "3                    need helpjust help im crying hard\n",
              "4    i’m losthello name adam16 i’ve struggling year...\n",
              "5    honetly idki dont know im even here feel like ...\n",
              "6    trigger warning excuse self inflicted burnsi k...\n",
              "7                     ends tonighti can’t anymore quit\n",
              "8    everyone wants edgy its making self conscious ...\n",
              "9    life over 20 years oldhello all 20 year old ba...\n",
              "Name: text, dtype: object"
            ]
          },
          "execution_count": 13,
          "metadata": {},
          "output_type": "execute_result"
        }
      ],
      "source": [
        "# this piece of code remove the urls from dataset,itterate each tweet if there is any urls remove the url\n",
        "def cleaning_URLs(data):\n",
        "    return re.sub('((www.[^s]+)|(https?://[^s]+))',' ',data)\n",
        "dataset['text'] = dataset['text'].apply(lambda x: cleaning_URLs(x))\n",
        "dataset['text'].head(10)"
      ]
    },
    {
      "cell_type": "markdown",
      "metadata": {
        "id": "fPgAxwPiKpqV"
      },
      "source": [
        "## Remove numbers from text"
      ]
    },
    {
      "cell_type": "code",
      "execution_count": null,
      "metadata": {
        "colab": {
          "base_uri": "https://localhost:8080/"
        },
        "id": "PTcVvQXPw_MC",
        "outputId": "f698fa2b-c07d-4176-c36d-0d8faf7a0496"
      },
      "outputs": [
        {
          "data": {
            "text/plain": [
              "0    ex wife threatening suiciderecently left wife ...\n",
              "1    weird dont get affected compliments its coming...\n",
              "2    finally  almost over never hear  bad year ever...\n",
              "3                    need helpjust help im crying hard\n",
              "4    i’m losthello name adam i’ve struggling years ...\n",
              "5    honetly idki dont know im even here feel like ...\n",
              "6    trigger warning excuse self inflicted burnsi k...\n",
              "7                     ends tonighti can’t anymore quit\n",
              "8    everyone wants edgy its making self conscious ...\n",
              "9    life over  years oldhello all  year old baldin...\n",
              "Name: text, dtype: object"
            ]
          },
          "execution_count": 14,
          "metadata": {},
          "output_type": "execute_result"
        }
      ],
      "source": [
        "# this piece of code remove the numaric number from dataset,itterate each tweet if there is any numaric number remove the numaric number\n",
        "def cleaning_numbers(data):\n",
        "    return re.sub('[0-9]+', '', data)\n",
        "dataset['text'] = dataset['text'].apply(lambda x: cleaning_numbers(x))\n",
        "dataset['text'].head(10)"
      ]
    },
    {
      "cell_type": "markdown",
      "metadata": {
        "id": "KEpc33WlKwrd"
      },
      "source": [
        "## Tokenization of text"
      ]
    },
    {
      "cell_type": "code",
      "execution_count": null,
      "metadata": {
        "colab": {
          "base_uri": "https://localhost:8080/",
          "height": 363
        },
        "id": "kFmJDrdvw_Io",
        "outputId": "81f72957-c1a4-4c18-e536-8b3dbaeb377a"
      },
      "outputs": [
        {
          "data": {
            "text/html": [
              "\n",
              "  <div id=\"df-a57ebd47-e6e9-4dfc-9c07-bc2d6004404d\">\n",
              "    <div class=\"colab-df-container\">\n",
              "      <div>\n",
              "<style scoped>\n",
              "    .dataframe tbody tr th:only-of-type {\n",
              "        vertical-align: middle;\n",
              "    }\n",
              "\n",
              "    .dataframe tbody tr th {\n",
              "        vertical-align: top;\n",
              "    }\n",
              "\n",
              "    .dataframe thead th {\n",
              "        text-align: right;\n",
              "    }\n",
              "</style>\n",
              "<table border=\"1\" class=\"dataframe\">\n",
              "  <thead>\n",
              "    <tr style=\"text-align: right;\">\n",
              "      <th></th>\n",
              "      <th>text</th>\n",
              "      <th>label</th>\n",
              "    </tr>\n",
              "  </thead>\n",
              "  <tbody>\n",
              "    <tr>\n",
              "      <th>0</th>\n",
              "      <td>[ex, wife, threatening, suiciderecently, left,...</td>\n",
              "      <td>1</td>\n",
              "    </tr>\n",
              "    <tr>\n",
              "      <th>1</th>\n",
              "      <td>[weird, dont, get, affected, compliments, its,...</td>\n",
              "      <td>0</td>\n",
              "    </tr>\n",
              "    <tr>\n",
              "      <th>2</th>\n",
              "      <td>[finally, almost, over, never, hear, bad, year...</td>\n",
              "      <td>0</td>\n",
              "    </tr>\n",
              "    <tr>\n",
              "      <th>3</th>\n",
              "      <td>[need, helpjust, help, im, crying, hard]</td>\n",
              "      <td>1</td>\n",
              "    </tr>\n",
              "    <tr>\n",
              "      <th>4</th>\n",
              "      <td>[i’m, losthello, name, adam, i’ve, struggling,...</td>\n",
              "      <td>1</td>\n",
              "    </tr>\n",
              "    <tr>\n",
              "      <th>5</th>\n",
              "      <td>[honetly, idki, dont, know, im, even, here, fe...</td>\n",
              "      <td>1</td>\n",
              "    </tr>\n",
              "    <tr>\n",
              "      <th>6</th>\n",
              "      <td>[trigger, warning, excuse, self, inflicted, bu...</td>\n",
              "      <td>1</td>\n",
              "    </tr>\n",
              "    <tr>\n",
              "      <th>7</th>\n",
              "      <td>[ends, tonighti, can’t, anymore, quit]</td>\n",
              "      <td>1</td>\n",
              "    </tr>\n",
              "    <tr>\n",
              "      <th>8</th>\n",
              "      <td>[everyone, wants, edgy, its, making, self, con...</td>\n",
              "      <td>0</td>\n",
              "    </tr>\n",
              "    <tr>\n",
              "      <th>9</th>\n",
              "      <td>[life, over, years, oldhello, all, year, old, ...</td>\n",
              "      <td>1</td>\n",
              "    </tr>\n",
              "  </tbody>\n",
              "</table>\n",
              "</div>\n",
              "      <button class=\"colab-df-convert\" onclick=\"convertToInteractive('df-a57ebd47-e6e9-4dfc-9c07-bc2d6004404d')\"\n",
              "              title=\"Convert this dataframe to an interactive table.\"\n",
              "              style=\"display:none;\">\n",
              "        \n",
              "  <svg xmlns=\"http://www.w3.org/2000/svg\" height=\"24px\"viewBox=\"0 0 24 24\"\n",
              "       width=\"24px\">\n",
              "    <path d=\"M0 0h24v24H0V0z\" fill=\"none\"/>\n",
              "    <path d=\"M18.56 5.44l.94 2.06.94-2.06 2.06-.94-2.06-.94-.94-2.06-.94 2.06-2.06.94zm-11 1L8.5 8.5l.94-2.06 2.06-.94-2.06-.94L8.5 2.5l-.94 2.06-2.06.94zm10 10l.94 2.06.94-2.06 2.06-.94-2.06-.94-.94-2.06-.94 2.06-2.06.94z\"/><path d=\"M17.41 7.96l-1.37-1.37c-.4-.4-.92-.59-1.43-.59-.52 0-1.04.2-1.43.59L10.3 9.45l-7.72 7.72c-.78.78-.78 2.05 0 2.83L4 21.41c.39.39.9.59 1.41.59.51 0 1.02-.2 1.41-.59l7.78-7.78 2.81-2.81c.8-.78.8-2.07 0-2.86zM5.41 20L4 18.59l7.72-7.72 1.47 1.35L5.41 20z\"/>\n",
              "  </svg>\n",
              "      </button>\n",
              "      \n",
              "  <style>\n",
              "    .colab-df-container {\n",
              "      display:flex;\n",
              "      flex-wrap:wrap;\n",
              "      gap: 12px;\n",
              "    }\n",
              "\n",
              "    .colab-df-convert {\n",
              "      background-color: #E8F0FE;\n",
              "      border: none;\n",
              "      border-radius: 50%;\n",
              "      cursor: pointer;\n",
              "      display: none;\n",
              "      fill: #1967D2;\n",
              "      height: 32px;\n",
              "      padding: 0 0 0 0;\n",
              "      width: 32px;\n",
              "    }\n",
              "\n",
              "    .colab-df-convert:hover {\n",
              "      background-color: #E2EBFA;\n",
              "      box-shadow: 0px 1px 2px rgba(60, 64, 67, 0.3), 0px 1px 3px 1px rgba(60, 64, 67, 0.15);\n",
              "      fill: #174EA6;\n",
              "    }\n",
              "\n",
              "    [theme=dark] .colab-df-convert {\n",
              "      background-color: #3B4455;\n",
              "      fill: #D2E3FC;\n",
              "    }\n",
              "\n",
              "    [theme=dark] .colab-df-convert:hover {\n",
              "      background-color: #434B5C;\n",
              "      box-shadow: 0px 1px 3px 1px rgba(0, 0, 0, 0.15);\n",
              "      filter: drop-shadow(0px 1px 2px rgba(0, 0, 0, 0.3));\n",
              "      fill: #FFFFFF;\n",
              "    }\n",
              "  </style>\n",
              "\n",
              "      <script>\n",
              "        const buttonEl =\n",
              "          document.querySelector('#df-a57ebd47-e6e9-4dfc-9c07-bc2d6004404d button.colab-df-convert');\n",
              "        buttonEl.style.display =\n",
              "          google.colab.kernel.accessAllowed ? 'block' : 'none';\n",
              "\n",
              "        async function convertToInteractive(key) {\n",
              "          const element = document.querySelector('#df-a57ebd47-e6e9-4dfc-9c07-bc2d6004404d');\n",
              "          const dataTable =\n",
              "            await google.colab.kernel.invokeFunction('convertToInteractive',\n",
              "                                                     [key], {});\n",
              "          if (!dataTable) return;\n",
              "\n",
              "          const docLinkHtml = 'Like what you see? Visit the ' +\n",
              "            '<a target=\"_blank\" href=https://colab.research.google.com/notebooks/data_table.ipynb>data table notebook</a>'\n",
              "            + ' to learn more about interactive tables.';\n",
              "          element.innerHTML = '';\n",
              "          dataTable['output_type'] = 'display_data';\n",
              "          await google.colab.output.renderOutput(dataTable, element);\n",
              "          const docLink = document.createElement('div');\n",
              "          docLink.innerHTML = docLinkHtml;\n",
              "          element.appendChild(docLink);\n",
              "        }\n",
              "      </script>\n",
              "    </div>\n",
              "  </div>\n",
              "  "
            ],
            "text/plain": [
              "                                                text  label\n",
              "0  [ex, wife, threatening, suiciderecently, left,...      1\n",
              "1  [weird, dont, get, affected, compliments, its,...      0\n",
              "2  [finally, almost, over, never, hear, bad, year...      0\n",
              "3           [need, helpjust, help, im, crying, hard]      1\n",
              "4  [i’m, losthello, name, adam, i’ve, struggling,...      1\n",
              "5  [honetly, idki, dont, know, im, even, here, fe...      1\n",
              "6  [trigger, warning, excuse, self, inflicted, bu...      1\n",
              "7             [ends, tonighti, can’t, anymore, quit]      1\n",
              "8  [everyone, wants, edgy, its, making, self, con...      0\n",
              "9  [life, over, years, oldhello, all, year, old, ...      1"
            ]
          },
          "execution_count": 15,
          "metadata": {},
          "output_type": "execute_result"
        }
      ],
      "source": [
        "# in this piece of code we create the tokens of each tweet in genral token means a word in tweet\n",
        "tokenizer = RegexpTokenizer('\\s+', gaps = True)\n",
        "dataset['text'] = dataset['text'].apply(str)\n",
        "dataset['text'] = dataset['text'].apply(tokenizer.tokenize)\n",
        "dataset.head(10)"
      ]
    },
    {
      "cell_type": "markdown",
      "metadata": {
        "id": "CNHAaEpZK4kw"
      },
      "source": [
        "# Apply stemming"
      ]
    },
    {
      "cell_type": "code",
      "execution_count": null,
      "metadata": {
        "colab": {
          "base_uri": "https://localhost:8080/",
          "height": 363
        },
        "id": "k63Sxjl1w_Fs",
        "outputId": "1c6d1005-fcfb-46a0-a80d-015fc2565bc7"
      },
      "outputs": [
        {
          "data": {
            "text/html": [
              "\n",
              "  <div id=\"df-355b799d-2aa2-4787-b956-faa889180351\">\n",
              "    <div class=\"colab-df-container\">\n",
              "      <div>\n",
              "<style scoped>\n",
              "    .dataframe tbody tr th:only-of-type {\n",
              "        vertical-align: middle;\n",
              "    }\n",
              "\n",
              "    .dataframe tbody tr th {\n",
              "        vertical-align: top;\n",
              "    }\n",
              "\n",
              "    .dataframe thead th {\n",
              "        text-align: right;\n",
              "    }\n",
              "</style>\n",
              "<table border=\"1\" class=\"dataframe\">\n",
              "  <thead>\n",
              "    <tr style=\"text-align: right;\">\n",
              "      <th></th>\n",
              "      <th>text</th>\n",
              "      <th>label</th>\n",
              "    </tr>\n",
              "  </thead>\n",
              "  <tbody>\n",
              "    <tr>\n",
              "      <th>0</th>\n",
              "      <td>[ex, wife, threatening, suiciderecently, left,...</td>\n",
              "      <td>1</td>\n",
              "    </tr>\n",
              "    <tr>\n",
              "      <th>1</th>\n",
              "      <td>[weird, dont, get, affected, compliments, its,...</td>\n",
              "      <td>0</td>\n",
              "    </tr>\n",
              "    <tr>\n",
              "      <th>2</th>\n",
              "      <td>[finally, almost, over, never, hear, bad, year...</td>\n",
              "      <td>0</td>\n",
              "    </tr>\n",
              "    <tr>\n",
              "      <th>3</th>\n",
              "      <td>[need, helpjust, help, im, crying, hard]</td>\n",
              "      <td>1</td>\n",
              "    </tr>\n",
              "    <tr>\n",
              "      <th>4</th>\n",
              "      <td>[i’m, losthello, name, adam, i’ve, struggling,...</td>\n",
              "      <td>1</td>\n",
              "    </tr>\n",
              "    <tr>\n",
              "      <th>5</th>\n",
              "      <td>[honetly, idki, dont, know, im, even, here, fe...</td>\n",
              "      <td>1</td>\n",
              "    </tr>\n",
              "    <tr>\n",
              "      <th>6</th>\n",
              "      <td>[trigger, warning, excuse, self, inflicted, bu...</td>\n",
              "      <td>1</td>\n",
              "    </tr>\n",
              "    <tr>\n",
              "      <th>7</th>\n",
              "      <td>[ends, tonighti, can’t, anymore, quit]</td>\n",
              "      <td>1</td>\n",
              "    </tr>\n",
              "    <tr>\n",
              "      <th>8</th>\n",
              "      <td>[everyone, wants, edgy, its, making, self, con...</td>\n",
              "      <td>0</td>\n",
              "    </tr>\n",
              "    <tr>\n",
              "      <th>9</th>\n",
              "      <td>[life, over, years, oldhello, all, year, old, ...</td>\n",
              "      <td>1</td>\n",
              "    </tr>\n",
              "  </tbody>\n",
              "</table>\n",
              "</div>\n",
              "      <button class=\"colab-df-convert\" onclick=\"convertToInteractive('df-355b799d-2aa2-4787-b956-faa889180351')\"\n",
              "              title=\"Convert this dataframe to an interactive table.\"\n",
              "              style=\"display:none;\">\n",
              "        \n",
              "  <svg xmlns=\"http://www.w3.org/2000/svg\" height=\"24px\"viewBox=\"0 0 24 24\"\n",
              "       width=\"24px\">\n",
              "    <path d=\"M0 0h24v24H0V0z\" fill=\"none\"/>\n",
              "    <path d=\"M18.56 5.44l.94 2.06.94-2.06 2.06-.94-2.06-.94-.94-2.06-.94 2.06-2.06.94zm-11 1L8.5 8.5l.94-2.06 2.06-.94-2.06-.94L8.5 2.5l-.94 2.06-2.06.94zm10 10l.94 2.06.94-2.06 2.06-.94-2.06-.94-.94-2.06-.94 2.06-2.06.94z\"/><path d=\"M17.41 7.96l-1.37-1.37c-.4-.4-.92-.59-1.43-.59-.52 0-1.04.2-1.43.59L10.3 9.45l-7.72 7.72c-.78.78-.78 2.05 0 2.83L4 21.41c.39.39.9.59 1.41.59.51 0 1.02-.2 1.41-.59l7.78-7.78 2.81-2.81c.8-.78.8-2.07 0-2.86zM5.41 20L4 18.59l7.72-7.72 1.47 1.35L5.41 20z\"/>\n",
              "  </svg>\n",
              "      </button>\n",
              "      \n",
              "  <style>\n",
              "    .colab-df-container {\n",
              "      display:flex;\n",
              "      flex-wrap:wrap;\n",
              "      gap: 12px;\n",
              "    }\n",
              "\n",
              "    .colab-df-convert {\n",
              "      background-color: #E8F0FE;\n",
              "      border: none;\n",
              "      border-radius: 50%;\n",
              "      cursor: pointer;\n",
              "      display: none;\n",
              "      fill: #1967D2;\n",
              "      height: 32px;\n",
              "      padding: 0 0 0 0;\n",
              "      width: 32px;\n",
              "    }\n",
              "\n",
              "    .colab-df-convert:hover {\n",
              "      background-color: #E2EBFA;\n",
              "      box-shadow: 0px 1px 2px rgba(60, 64, 67, 0.3), 0px 1px 3px 1px rgba(60, 64, 67, 0.15);\n",
              "      fill: #174EA6;\n",
              "    }\n",
              "\n",
              "    [theme=dark] .colab-df-convert {\n",
              "      background-color: #3B4455;\n",
              "      fill: #D2E3FC;\n",
              "    }\n",
              "\n",
              "    [theme=dark] .colab-df-convert:hover {\n",
              "      background-color: #434B5C;\n",
              "      box-shadow: 0px 1px 3px 1px rgba(0, 0, 0, 0.15);\n",
              "      filter: drop-shadow(0px 1px 2px rgba(0, 0, 0, 0.3));\n",
              "      fill: #FFFFFF;\n",
              "    }\n",
              "  </style>\n",
              "\n",
              "      <script>\n",
              "        const buttonEl =\n",
              "          document.querySelector('#df-355b799d-2aa2-4787-b956-faa889180351 button.colab-df-convert');\n",
              "        buttonEl.style.display =\n",
              "          google.colab.kernel.accessAllowed ? 'block' : 'none';\n",
              "\n",
              "        async function convertToInteractive(key) {\n",
              "          const element = document.querySelector('#df-355b799d-2aa2-4787-b956-faa889180351');\n",
              "          const dataTable =\n",
              "            await google.colab.kernel.invokeFunction('convertToInteractive',\n",
              "                                                     [key], {});\n",
              "          if (!dataTable) return;\n",
              "\n",
              "          const docLinkHtml = 'Like what you see? Visit the ' +\n",
              "            '<a target=\"_blank\" href=https://colab.research.google.com/notebooks/data_table.ipynb>data table notebook</a>'\n",
              "            + ' to learn more about interactive tables.';\n",
              "          element.innerHTML = '';\n",
              "          dataTable['output_type'] = 'display_data';\n",
              "          await google.colab.output.renderOutput(dataTable, element);\n",
              "          const docLink = document.createElement('div');\n",
              "          docLink.innerHTML = docLinkHtml;\n",
              "          element.appendChild(docLink);\n",
              "        }\n",
              "      </script>\n",
              "    </div>\n",
              "  </div>\n",
              "  "
            ],
            "text/plain": [
              "                                                text  label\n",
              "0  [ex, wife, threatening, suiciderecently, left,...      1\n",
              "1  [weird, dont, get, affected, compliments, its,...      0\n",
              "2  [finally, almost, over, never, hear, bad, year...      0\n",
              "3           [need, helpjust, help, im, crying, hard]      1\n",
              "4  [i’m, losthello, name, adam, i’ve, struggling,...      1\n",
              "5  [honetly, idki, dont, know, im, even, here, fe...      1\n",
              "6  [trigger, warning, excuse, self, inflicted, bu...      1\n",
              "7             [ends, tonighti, can’t, anymore, quit]      1\n",
              "8  [everyone, wants, edgy, its, making, self, con...      0\n",
              "9  [life, over, years, oldhello, all, year, old, ...      1"
            ]
          },
          "execution_count": 16,
          "metadata": {},
          "output_type": "execute_result"
        }
      ],
      "source": [
        "\"\"\"stemming is process to get the root word  called ad  token in above cell like if word is studies its will convert it in to study,\n",
        "without repect to grammar\"\"\"\n",
        "st = nltk.PorterStemmer()\n",
        "def stemming_on_text(data):\n",
        "    text = [st.stem(word) for word in data]\n",
        "    return data\n",
        "dataset['text']= dataset['text'].apply(lambda x: stemming_on_text(x))\n",
        "dataset.head(10)"
      ]
    },
    {
      "cell_type": "markdown",
      "metadata": {
        "id": "PMoW9USpK-y_"
      },
      "source": [
        "## Apply lemmatization"
      ]
    },
    {
      "cell_type": "code",
      "execution_count": null,
      "metadata": {
        "colab": {
          "base_uri": "https://localhost:8080/",
          "height": 363
        },
        "id": "czVSLwqjw_Cs",
        "outputId": "c966f2b5-fc9a-4776-8ec6-700d83ec525e"
      },
      "outputs": [
        {
          "data": {
            "text/html": [
              "\n",
              "  <div id=\"df-5735db78-d41b-41e9-bfef-a23a58eb2b33\">\n",
              "    <div class=\"colab-df-container\">\n",
              "      <div>\n",
              "<style scoped>\n",
              "    .dataframe tbody tr th:only-of-type {\n",
              "        vertical-align: middle;\n",
              "    }\n",
              "\n",
              "    .dataframe tbody tr th {\n",
              "        vertical-align: top;\n",
              "    }\n",
              "\n",
              "    .dataframe thead th {\n",
              "        text-align: right;\n",
              "    }\n",
              "</style>\n",
              "<table border=\"1\" class=\"dataframe\">\n",
              "  <thead>\n",
              "    <tr style=\"text-align: right;\">\n",
              "      <th></th>\n",
              "      <th>text</th>\n",
              "      <th>label</th>\n",
              "    </tr>\n",
              "  </thead>\n",
              "  <tbody>\n",
              "    <tr>\n",
              "      <th>0</th>\n",
              "      <td>[ex, wife, threatening, suiciderecently, left,...</td>\n",
              "      <td>1</td>\n",
              "    </tr>\n",
              "    <tr>\n",
              "      <th>1</th>\n",
              "      <td>[weird, dont, get, affected, compliments, its,...</td>\n",
              "      <td>0</td>\n",
              "    </tr>\n",
              "    <tr>\n",
              "      <th>2</th>\n",
              "      <td>[finally, almost, over, never, hear, bad, year...</td>\n",
              "      <td>0</td>\n",
              "    </tr>\n",
              "    <tr>\n",
              "      <th>3</th>\n",
              "      <td>[need, helpjust, help, im, crying, hard]</td>\n",
              "      <td>1</td>\n",
              "    </tr>\n",
              "    <tr>\n",
              "      <th>4</th>\n",
              "      <td>[i’m, losthello, name, adam, i’ve, struggling,...</td>\n",
              "      <td>1</td>\n",
              "    </tr>\n",
              "    <tr>\n",
              "      <th>5</th>\n",
              "      <td>[honetly, idki, dont, know, im, even, here, fe...</td>\n",
              "      <td>1</td>\n",
              "    </tr>\n",
              "    <tr>\n",
              "      <th>6</th>\n",
              "      <td>[trigger, warning, excuse, self, inflicted, bu...</td>\n",
              "      <td>1</td>\n",
              "    </tr>\n",
              "    <tr>\n",
              "      <th>7</th>\n",
              "      <td>[ends, tonighti, can’t, anymore, quit]</td>\n",
              "      <td>1</td>\n",
              "    </tr>\n",
              "    <tr>\n",
              "      <th>8</th>\n",
              "      <td>[everyone, wants, edgy, its, making, self, con...</td>\n",
              "      <td>0</td>\n",
              "    </tr>\n",
              "    <tr>\n",
              "      <th>9</th>\n",
              "      <td>[life, over, years, oldhello, all, year, old, ...</td>\n",
              "      <td>1</td>\n",
              "    </tr>\n",
              "  </tbody>\n",
              "</table>\n",
              "</div>\n",
              "      <button class=\"colab-df-convert\" onclick=\"convertToInteractive('df-5735db78-d41b-41e9-bfef-a23a58eb2b33')\"\n",
              "              title=\"Convert this dataframe to an interactive table.\"\n",
              "              style=\"display:none;\">\n",
              "        \n",
              "  <svg xmlns=\"http://www.w3.org/2000/svg\" height=\"24px\"viewBox=\"0 0 24 24\"\n",
              "       width=\"24px\">\n",
              "    <path d=\"M0 0h24v24H0V0z\" fill=\"none\"/>\n",
              "    <path d=\"M18.56 5.44l.94 2.06.94-2.06 2.06-.94-2.06-.94-.94-2.06-.94 2.06-2.06.94zm-11 1L8.5 8.5l.94-2.06 2.06-.94-2.06-.94L8.5 2.5l-.94 2.06-2.06.94zm10 10l.94 2.06.94-2.06 2.06-.94-2.06-.94-.94-2.06-.94 2.06-2.06.94z\"/><path d=\"M17.41 7.96l-1.37-1.37c-.4-.4-.92-.59-1.43-.59-.52 0-1.04.2-1.43.59L10.3 9.45l-7.72 7.72c-.78.78-.78 2.05 0 2.83L4 21.41c.39.39.9.59 1.41.59.51 0 1.02-.2 1.41-.59l7.78-7.78 2.81-2.81c.8-.78.8-2.07 0-2.86zM5.41 20L4 18.59l7.72-7.72 1.47 1.35L5.41 20z\"/>\n",
              "  </svg>\n",
              "      </button>\n",
              "      \n",
              "  <style>\n",
              "    .colab-df-container {\n",
              "      display:flex;\n",
              "      flex-wrap:wrap;\n",
              "      gap: 12px;\n",
              "    }\n",
              "\n",
              "    .colab-df-convert {\n",
              "      background-color: #E8F0FE;\n",
              "      border: none;\n",
              "      border-radius: 50%;\n",
              "      cursor: pointer;\n",
              "      display: none;\n",
              "      fill: #1967D2;\n",
              "      height: 32px;\n",
              "      padding: 0 0 0 0;\n",
              "      width: 32px;\n",
              "    }\n",
              "\n",
              "    .colab-df-convert:hover {\n",
              "      background-color: #E2EBFA;\n",
              "      box-shadow: 0px 1px 2px rgba(60, 64, 67, 0.3), 0px 1px 3px 1px rgba(60, 64, 67, 0.15);\n",
              "      fill: #174EA6;\n",
              "    }\n",
              "\n",
              "    [theme=dark] .colab-df-convert {\n",
              "      background-color: #3B4455;\n",
              "      fill: #D2E3FC;\n",
              "    }\n",
              "\n",
              "    [theme=dark] .colab-df-convert:hover {\n",
              "      background-color: #434B5C;\n",
              "      box-shadow: 0px 1px 3px 1px rgba(0, 0, 0, 0.15);\n",
              "      filter: drop-shadow(0px 1px 2px rgba(0, 0, 0, 0.3));\n",
              "      fill: #FFFFFF;\n",
              "    }\n",
              "  </style>\n",
              "\n",
              "      <script>\n",
              "        const buttonEl =\n",
              "          document.querySelector('#df-5735db78-d41b-41e9-bfef-a23a58eb2b33 button.colab-df-convert');\n",
              "        buttonEl.style.display =\n",
              "          google.colab.kernel.accessAllowed ? 'block' : 'none';\n",
              "\n",
              "        async function convertToInteractive(key) {\n",
              "          const element = document.querySelector('#df-5735db78-d41b-41e9-bfef-a23a58eb2b33');\n",
              "          const dataTable =\n",
              "            await google.colab.kernel.invokeFunction('convertToInteractive',\n",
              "                                                     [key], {});\n",
              "          if (!dataTable) return;\n",
              "\n",
              "          const docLinkHtml = 'Like what you see? Visit the ' +\n",
              "            '<a target=\"_blank\" href=https://colab.research.google.com/notebooks/data_table.ipynb>data table notebook</a>'\n",
              "            + ' to learn more about interactive tables.';\n",
              "          element.innerHTML = '';\n",
              "          dataTable['output_type'] = 'display_data';\n",
              "          await google.colab.output.renderOutput(dataTable, element);\n",
              "          const docLink = document.createElement('div');\n",
              "          docLink.innerHTML = docLinkHtml;\n",
              "          element.appendChild(docLink);\n",
              "        }\n",
              "      </script>\n",
              "    </div>\n",
              "  </div>\n",
              "  "
            ],
            "text/plain": [
              "                                                text  label\n",
              "0  [ex, wife, threatening, suiciderecently, left,...      1\n",
              "1  [weird, dont, get, affected, compliments, its,...      0\n",
              "2  [finally, almost, over, never, hear, bad, year...      0\n",
              "3           [need, helpjust, help, im, crying, hard]      1\n",
              "4  [i’m, losthello, name, adam, i’ve, struggling,...      1\n",
              "5  [honetly, idki, dont, know, im, even, here, fe...      1\n",
              "6  [trigger, warning, excuse, self, inflicted, bu...      1\n",
              "7             [ends, tonighti, can’t, anymore, quit]      1\n",
              "8  [everyone, wants, edgy, its, making, self, con...      0\n",
              "9  [life, over, years, oldhello, all, year, old, ...      1"
            ]
          },
          "execution_count": 17,
          "metadata": {},
          "output_type": "execute_result"
        }
      ],
      "source": [
        "\"\"\"lemmatizing is process to get the root word  called ad  token in above cell like if word is studies its will convert it in to study,\n",
        "with repect to grammar\"\"\"\n",
        "lm = nltk.WordNetLemmatizer()\n",
        "def lemmatizer_on_text(data):\n",
        "    text = [lm.lemmatize(word) for word in data]\n",
        "    return data\n",
        "dataset['text'] = dataset['text'].apply(lambda x: lemmatizer_on_text(x))\n",
        "dataset.head(10)"
      ]
    },
    {
      "cell_type": "markdown",
      "metadata": {
        "id": "tpPVXFgXLFIS"
      },
      "source": [
        "## Join all tokens in to a string"
      ]
    },
    {
      "cell_type": "code",
      "execution_count": null,
      "metadata": {
        "colab": {
          "base_uri": "https://localhost:8080/",
          "height": 423
        },
        "id": "QgLD8qN8xKl6",
        "outputId": "f29a3ad1-efda-4462-f94c-0bcb7c788415"
      },
      "outputs": [
        {
          "data": {
            "text/html": [
              "\n",
              "  <div id=\"df-4732dee8-2308-4020-a56c-24de2147475f\">\n",
              "    <div class=\"colab-df-container\">\n",
              "      <div>\n",
              "<style scoped>\n",
              "    .dataframe tbody tr th:only-of-type {\n",
              "        vertical-align: middle;\n",
              "    }\n",
              "\n",
              "    .dataframe tbody tr th {\n",
              "        vertical-align: top;\n",
              "    }\n",
              "\n",
              "    .dataframe thead th {\n",
              "        text-align: right;\n",
              "    }\n",
              "</style>\n",
              "<table border=\"1\" class=\"dataframe\">\n",
              "  <thead>\n",
              "    <tr style=\"text-align: right;\">\n",
              "      <th></th>\n",
              "      <th>text</th>\n",
              "      <th>label</th>\n",
              "    </tr>\n",
              "  </thead>\n",
              "  <tbody>\n",
              "    <tr>\n",
              "      <th>0</th>\n",
              "      <td>ex wife threatening suiciderecently left wife ...</td>\n",
              "      <td>1</td>\n",
              "    </tr>\n",
              "    <tr>\n",
              "      <th>1</th>\n",
              "      <td>weird dont get affected compliments its coming...</td>\n",
              "      <td>0</td>\n",
              "    </tr>\n",
              "    <tr>\n",
              "      <th>2</th>\n",
              "      <td>finally almost over never hear bad year ever a...</td>\n",
              "      <td>0</td>\n",
              "    </tr>\n",
              "    <tr>\n",
              "      <th>3</th>\n",
              "      <td>need helpjust help im crying hard</td>\n",
              "      <td>1</td>\n",
              "    </tr>\n",
              "    <tr>\n",
              "      <th>4</th>\n",
              "      <td>i’m losthello name adam i’ve struggling years ...</td>\n",
              "      <td>1</td>\n",
              "    </tr>\n",
              "    <tr>\n",
              "      <th>...</th>\n",
              "      <td>...</td>\n",
              "      <td>...</td>\n",
              "    </tr>\n",
              "    <tr>\n",
              "      <th>232069</th>\n",
              "      <td>dont like rock not going get anything but go h...</td>\n",
              "      <td>0</td>\n",
              "    </tr>\n",
              "    <tr>\n",
              "      <th>232070</th>\n",
              "      <td>tell many friends not lonely everything depriv...</td>\n",
              "      <td>0</td>\n",
              "    </tr>\n",
              "    <tr>\n",
              "      <th>232071</th>\n",
              "      <td>pee probably tastes like salty tea😏💦‼️ someone...</td>\n",
              "      <td>0</td>\n",
              "    </tr>\n",
              "    <tr>\n",
              "      <th>232072</th>\n",
              "      <td>usual stuff find hereim not posting sympathy p...</td>\n",
              "      <td>1</td>\n",
              "    </tr>\n",
              "    <tr>\n",
              "      <th>232073</th>\n",
              "      <td>still havent beaten first boss hollow knight i...</td>\n",
              "      <td>0</td>\n",
              "    </tr>\n",
              "  </tbody>\n",
              "</table>\n",
              "<p>232074 rows × 2 columns</p>\n",
              "</div>\n",
              "      <button class=\"colab-df-convert\" onclick=\"convertToInteractive('df-4732dee8-2308-4020-a56c-24de2147475f')\"\n",
              "              title=\"Convert this dataframe to an interactive table.\"\n",
              "              style=\"display:none;\">\n",
              "        \n",
              "  <svg xmlns=\"http://www.w3.org/2000/svg\" height=\"24px\"viewBox=\"0 0 24 24\"\n",
              "       width=\"24px\">\n",
              "    <path d=\"M0 0h24v24H0V0z\" fill=\"none\"/>\n",
              "    <path d=\"M18.56 5.44l.94 2.06.94-2.06 2.06-.94-2.06-.94-.94-2.06-.94 2.06-2.06.94zm-11 1L8.5 8.5l.94-2.06 2.06-.94-2.06-.94L8.5 2.5l-.94 2.06-2.06.94zm10 10l.94 2.06.94-2.06 2.06-.94-2.06-.94-.94-2.06-.94 2.06-2.06.94z\"/><path d=\"M17.41 7.96l-1.37-1.37c-.4-.4-.92-.59-1.43-.59-.52 0-1.04.2-1.43.59L10.3 9.45l-7.72 7.72c-.78.78-.78 2.05 0 2.83L4 21.41c.39.39.9.59 1.41.59.51 0 1.02-.2 1.41-.59l7.78-7.78 2.81-2.81c.8-.78.8-2.07 0-2.86zM5.41 20L4 18.59l7.72-7.72 1.47 1.35L5.41 20z\"/>\n",
              "  </svg>\n",
              "      </button>\n",
              "      \n",
              "  <style>\n",
              "    .colab-df-container {\n",
              "      display:flex;\n",
              "      flex-wrap:wrap;\n",
              "      gap: 12px;\n",
              "    }\n",
              "\n",
              "    .colab-df-convert {\n",
              "      background-color: #E8F0FE;\n",
              "      border: none;\n",
              "      border-radius: 50%;\n",
              "      cursor: pointer;\n",
              "      display: none;\n",
              "      fill: #1967D2;\n",
              "      height: 32px;\n",
              "      padding: 0 0 0 0;\n",
              "      width: 32px;\n",
              "    }\n",
              "\n",
              "    .colab-df-convert:hover {\n",
              "      background-color: #E2EBFA;\n",
              "      box-shadow: 0px 1px 2px rgba(60, 64, 67, 0.3), 0px 1px 3px 1px rgba(60, 64, 67, 0.15);\n",
              "      fill: #174EA6;\n",
              "    }\n",
              "\n",
              "    [theme=dark] .colab-df-convert {\n",
              "      background-color: #3B4455;\n",
              "      fill: #D2E3FC;\n",
              "    }\n",
              "\n",
              "    [theme=dark] .colab-df-convert:hover {\n",
              "      background-color: #434B5C;\n",
              "      box-shadow: 0px 1px 3px 1px rgba(0, 0, 0, 0.15);\n",
              "      filter: drop-shadow(0px 1px 2px rgba(0, 0, 0, 0.3));\n",
              "      fill: #FFFFFF;\n",
              "    }\n",
              "  </style>\n",
              "\n",
              "      <script>\n",
              "        const buttonEl =\n",
              "          document.querySelector('#df-4732dee8-2308-4020-a56c-24de2147475f button.colab-df-convert');\n",
              "        buttonEl.style.display =\n",
              "          google.colab.kernel.accessAllowed ? 'block' : 'none';\n",
              "\n",
              "        async function convertToInteractive(key) {\n",
              "          const element = document.querySelector('#df-4732dee8-2308-4020-a56c-24de2147475f');\n",
              "          const dataTable =\n",
              "            await google.colab.kernel.invokeFunction('convertToInteractive',\n",
              "                                                     [key], {});\n",
              "          if (!dataTable) return;\n",
              "\n",
              "          const docLinkHtml = 'Like what you see? Visit the ' +\n",
              "            '<a target=\"_blank\" href=https://colab.research.google.com/notebooks/data_table.ipynb>data table notebook</a>'\n",
              "            + ' to learn more about interactive tables.';\n",
              "          element.innerHTML = '';\n",
              "          dataTable['output_type'] = 'display_data';\n",
              "          await google.colab.output.renderOutput(dataTable, element);\n",
              "          const docLink = document.createElement('div');\n",
              "          docLink.innerHTML = docLinkHtml;\n",
              "          element.appendChild(docLink);\n",
              "        }\n",
              "      </script>\n",
              "    </div>\n",
              "  </div>\n",
              "  "
            ],
            "text/plain": [
              "                                                     text  label\n",
              "0       ex wife threatening suiciderecently left wife ...      1\n",
              "1       weird dont get affected compliments its coming...      0\n",
              "2       finally almost over never hear bad year ever a...      0\n",
              "3                       need helpjust help im crying hard      1\n",
              "4       i’m losthello name adam i’ve struggling years ...      1\n",
              "...                                                   ...    ...\n",
              "232069  dont like rock not going get anything but go h...      0\n",
              "232070  tell many friends not lonely everything depriv...      0\n",
              "232071  pee probably tastes like salty tea😏💦‼️ someone...      0\n",
              "232072  usual stuff find hereim not posting sympathy p...      1\n",
              "232073  still havent beaten first boss hollow knight i...      0\n",
              "\n",
              "[232074 rows x 2 columns]"
            ]
          },
          "execution_count": 18,
          "metadata": {},
          "output_type": "execute_result"
        }
      ],
      "source": [
        "new_data=dataset\n",
        "new_data['text'] = dataset['text'].apply(lambda x: ' '.join(x) )\n",
        "new_data"
      ]
    },
    {
      "cell_type": "markdown",
      "metadata": {
        "id": "cb7Pfs-HLPMm"
      },
      "source": [
        "## spilt the data into training and testing dataframes"
      ]
    },
    {
      "cell_type": "code",
      "execution_count": null,
      "metadata": {
        "colab": {
          "base_uri": "https://localhost:8080/"
        },
        "id": "8XcghCjXjbn_",
        "outputId": "d7ce78b4-43aa-4006-a5c2-fc100ebc52d4"
      },
      "outputs": [
        {
          "name": "stdout",
          "output_type": "stream",
          "text": [
            "Size of train dataframe:  208866\n",
            "Size of test dataframe:  23208\n"
          ]
        }
      ],
      "source": [
        "df_train, df_test = train_test_split(new_data, test_size=0.10, random_state=0)\n",
        "print('Size of train dataframe: ', df_train.shape[0])\n",
        "print('Size of test dataframe: ', df_test.shape[0])"
      ]
    },
    {
      "cell_type": "markdown",
      "metadata": {
        "id": "eISu5djPLh8Q"
      },
      "source": [
        "## Remove the labels of 70 percent of training data"
      ]
    },
    {
      "cell_type": "code",
      "execution_count": null,
      "metadata": {
        "colab": {
          "base_uri": "https://localhost:8080/",
          "height": 390
        },
        "id": "ElYqjtm_jeOC",
        "outputId": "b789f2e7-e358-481f-a1b2-97de00b6c889"
      },
      "outputs": [
        {
          "name": "stdout",
          "output_type": "stream",
          "text": [
            "Target Value Distribution:\n",
            "-1    146206\n",
            " 1     31441\n",
            " 0     31219\n",
            "Name: label, dtype: int64\n"
          ]
        },
        {
          "data": {
            "text/plain": [
              "<matplotlib.axes._subplots.AxesSubplot at 0x7f44d509b250>"
            ]
          },
          "execution_count": 20,
          "metadata": {},
          "output_type": "execute_result"
        },
        {
          "data": {
            "image/png": "[encoded data removed]",
            "text/plain": [
              "<Figure size 432x288 with 1 Axes>"
            ]
          },
          "metadata": {},
          "output_type": "display_data"
        }
      ],
      "source": [
        "# Create a flag for label masking\n",
        "df_train['Random_Mask'] = True\n",
        "df_train.loc[df_train.sample(frac=0.30, random_state=0).index, 'Random_Mask'] = False\n",
        "\n",
        "# Create a new target colum with labels. The 1's and 0's are original labels and -1 represents unlabeled (masked) data\n",
        "df_train['label']=df_train.apply(lambda x: x['label'] if x['Random_Mask']==False else -1, axis=1)\n",
        "\n",
        "# Show target value distribution\n",
        "print('Target Value Distribution:')\n",
        "print(df_train['label'].value_counts())\n",
        "\n",
        "sns.countplot(data=df_train,x='label')"
      ]
    },
    {
      "cell_type": "markdown",
      "metadata": {
        "id": "qcIB2WcHL2Vg"
      },
      "source": [
        "## Genrate TFid verctors of text with 10000 features"
      ]
    },
    {
      "cell_type": "code",
      "execution_count": null,
      "metadata": {
        "colab": {
          "base_uri": "https://localhost:8080/"
        },
        "id": "ld5ZpyztoSmb",
        "outputId": "dc9f885e-4a1e-4466-fb85-899f20b1ef5c"
      },
      "outputs": [
        {
          "name": "stdout",
          "output_type": "stream",
          "text": [
            "No. of feature_words:  5000\n",
            "(208866, 5000)\n",
            "(23208, 5000)\n"
          ]
        }
      ],
      "source": [
        "X_train=df_train['text']\n",
        "y_train=df_train['label'].values\n",
        "\n",
        "# Put test data into an array\n",
        "X_test=df_test['text']\n",
        "y_test=df_test['label'].values\n",
        "\n",
        "\n",
        "# now get the features of all your training and test vocabulary we get the 10000 features from each vocabulary\n",
        "vectoriser = TfidfVectorizer(ngram_range=(1,2), max_features=5000)\n",
        "vectoriser.fit(X_train)\n",
        "print('No. of feature_words: ', len(vectoriser.get_feature_names_out()))\n",
        "\n",
        "X_train = vectoriser.transform(X_train)\n",
        "X_test  = vectoriser.transform(X_test)\n",
        "print(X_train.shape)\n",
        "print(X_test.shape)"
      ]
    },
    {
      "cell_type": "code",
      "execution_count": null,
      "metadata": {
        "id": "HoC9ljidGoTs"
      },
      "outputs": [],
      "source": [
        "from sklearn import metrics\n",
        "from sklearn.metrics import (confusion_matrix, precision_recall_curve, auc, roc_curve, recall_score,\n",
        "                             classification_report, f1_score, average_precision_score, precision_recall_fscore_support)\n",
        "from sklearn import svm"
      ]
    },
    {
      "cell_type": "code",
      "execution_count": null,
      "metadata": {
        "colab": {
          "background_save": true,
          "base_uri": "https://localhost:8080/"
        },
        "id": "Ufyq4uR94AtC",
        "outputId": "83b92209-0676-4e77-f65b-f9e4cd0e2bd2"
      },
      "outputs": [
        {
          "name": "stdout",
          "output_type": "stream",
          "text": [
            "End of iteration 1, added 131523 new labels.\n",
            "End of iteration 2, added 5036 new labels.\n",
            "End of iteration 3, added 688 new labels.\n",
            "End of iteration 4, added 183 new labels.\n",
            "End of iteration 5, added 65 new labels.\n",
            "End of iteration 6, added 27 new labels.\n",
            "End of iteration 7, added 11 new labels.\n",
            "End of iteration 8, added 8 new labels.\n",
            "End of iteration 9, added 5 new labels.\n",
            "End of iteration 10, added 3 new labels.\n",
            "End of iteration 11, added 3 new labels.\n",
            "End of iteration 1, added 125980 new labels.\n",
            "End of iteration 2, added 4083 new labels.\n",
            "End of iteration 3, added 976 new labels.\n",
            "End of iteration 4, added 295 new labels.\n",
            "End of iteration 5, added 99 new labels.\n",
            "End of iteration 6, added 79 new labels.\n",
            "End of iteration 7, added 53 new labels.\n",
            "End of iteration 8, added 43 new labels.\n",
            "End of iteration 9, added 39 new labels.\n",
            "End of iteration 10, added 50 new labels.\n",
            "End of iteration 11, added 82 new labels.\n",
            "End of iteration 12, added 19 new labels.\n",
            "End of iteration 13, added 16 new labels.\n",
            "End of iteration 14, added 50 new labels.\n",
            "End of iteration 15, added 55 new labels.\n",
            "End of iteration 16, added 14 new labels.\n",
            "End of iteration 17, added 47 new labels.\n",
            "End of iteration 18, added 9 new labels.\n",
            "End of iteration 19, added 20 new labels.\n",
            "End of iteration 20, added 4 new labels.\n",
            "End of iteration 21, added 6 new labels.\n",
            "End of iteration 22, added 26 new labels.\n",
            "End of iteration 23, added 1 new labels.\n",
            "End of iteration 24, added 31 new labels.\n",
            "End of iteration 25, added 14 new labels.\n",
            "End of iteration 26, added 16 new labels.\n",
            "End of iteration 27, added 12 new labels.\n",
            "End of iteration 28, added 2 new labels.\n",
            "End of iteration 1, added 117635 new labels.\n",
            "End of iteration 2, added 26513 new labels.\n",
            "End of iteration 3, added 796 new labels.\n",
            "End of iteration 4, added 104 new labels.\n",
            "End of iteration 5, added 26 new labels.\n",
            "End of iteration 6, added 10 new labels.\n",
            "End of iteration 7, added 16 new labels.\n",
            "End of iteration 8, added 6 new labels.\n",
            "End of iteration 9, added 13 new labels.\n",
            "End of iteration 10, added 7 new labels.\n",
            "End of iteration 11, added 9 new labels.\n",
            "End of iteration 12, added 5 new labels.\n",
            "End of iteration 13, added 5 new labels.\n",
            "End of iteration 14, added 10 new labels.\n",
            "End of iteration 15, added 6 new labels.\n",
            "End of iteration 16, added 4 new labels.\n",
            "End of iteration 17, added 2 new labels.\n",
            "End of iteration 18, added 10 new labels.\n",
            "End of iteration 19, added 3 new labels.\n",
            "End of iteration 20, added 4 new labels.\n",
            "End of iteration 21, added 7 new labels.\n",
            "End of iteration 22, added 2 new labels.\n",
            "End of iteration 23, added 6 new labels.\n",
            "End of iteration 24, added 3 new labels.\n",
            "End of iteration 25, added 5 new labels.\n",
            "End of iteration 26, added 2 new labels.\n",
            "End of iteration 27, added 4 new labels.\n",
            "End of iteration 28, added 3 new labels.\n",
            "End of iteration 29, added 1 new labels.\n",
            "End of iteration 30, added 2 new labels.\n",
            "End of iteration 31, added 1 new labels.\n",
            "End of iteration 1, added 118682 new labels.\n",
            "End of iteration 2, added 6537 new labels.\n",
            "End of iteration 3, added 1081 new labels.\n",
            "End of iteration 4, added 173 new labels.\n",
            "End of iteration 5, added 37 new labels.\n",
            "End of iteration 6, added 6 new labels.\n",
            "End of iteration 7, added 1 new labels.\n",
            "End of iteration 1, added 146137 new labels.\n",
            "End of iteration 2, added 4 new labels.\n",
            "End of iteration 1, added 116067 new labels.\n",
            "End of iteration 2, added 10305 new labels.\n",
            "End of iteration 3, added 3163 new labels.\n",
            "End of iteration 4, added 1616 new labels.\n"
          ]
        }
      ],
      "source": [
        "clf_ST = LogisticRegression(max_iter= 100, penalty= 'l2', solver= 'sag')\n",
        "# Specify Self-Training model parameters\n",
        "self_training_model = SelfTrainingClassifier(base_estimator= clf_ST, # An estimator object implementing fit and predict_proba.\n",
        "                                             threshold=0.7, # default=0.75, The decision threshold for use with criterion='threshold'. Should be in [0, 1).\n",
        "                                             criterion='threshold', # {‘threshold’, ‘k_best’}, default=’threshold’, The selection criterion used to select which labels to add to the training set. If 'threshold', pseudo-labels with prediction probabilities above threshold are added to the dataset. If 'k_best', the k_best pseudo-labels with highest prediction probabilities are added to the dataset.\n",
        "                                             #k_best=50, # default=10, The amount of samples to add in each iteration. Only used when criterion='k_best'.\n",
        "                                             max_iter=100, # default=10, Maximum number of iterations allowed. Should be greater than or equal to 0. If it is None, the classifier will continue to predict labels until no new pseudo-labels are added, or all unlabeled samples have been labeled.\n",
        "                                             verbose=True # default=False, Verbosity prints some information after each iteration\n",
        "                                            )\n",
        "\n",
        "# Fit the model\n",
        "modelLR = self_training_model.fit(X_train, y_train)\n",
        "y_pred_prob_lr = modelLR.predict_proba(X_test)[:,1]\n",
        "fpr_lr, tpr_lr, thresholds_lr = roc_curve(y_test, y_pred_prob_lr)\n",
        "roc_auc_lr = auc(fpr_lr, tpr_lr)\n",
        "precision_lr, recall_lr, th_lr = precision_recall_curve(y_test, y_pred_prob_lr)\n",
        "\n",
        "\n",
        "clf_SGD=SGDClassifier(loss=\"modified_huber\"\n",
        "                     )\n",
        "# Specify Self-Training model parameters\n",
        "self_training_model = SelfTrainingClassifier(base_estimator=clf_SGD, # An estimator object implementing fit and predict_proba.\n",
        "                                             threshold=0.7, # default=0.75, The decision threshold for use with criterion='threshold'. Should be in [0, 1).\n",
        "                                             criterion='threshold', # {‘threshold’, ‘k_best’}, default=’threshold’, The selection criterion used to select which labels to add to the training set. If 'threshold', pseudo-labels with prediction probabilities above threshold are added to the dataset. If 'k_best', the k_best pseudo-labels with highest prediction probabilities are added to the dataset.\n",
        "                                             #k_best=50, # default=10, The amount of samples to add in each iteration. Only used when criterion='k_best'.\n",
        "                                             max_iter=None, # default=10, Maximum number of iterations allowed. Should be greater than or equal to 0. If it is None, the classifier will continue to predict labels until no new pseudo-labels are added, or all unlabeled samples have been labeled.\n",
        "                                             verbose=True # default=False, Verbosity prints some information after each iteration\n",
        "                                            )\n",
        "\n",
        "# Fit the model\n",
        "modelsg = self_training_model.fit(X_train, y_train)\n",
        "y_pred_prob_sgd = modelsg.predict_proba(X_test)[:,1]\n",
        "fpr_sgd, tpr_sgd, thresholds_sgd = roc_curve(y_test, y_pred_prob_sgd)\n",
        "roc_auc_sgd = auc(fpr_sgd, tpr_sgd)\n",
        "precision_sgd, recall_sgd, th_sgd = precision_recall_curve(y_test, y_pred_prob_sgd)\n",
        "\n",
        "\n",
        "clf_KNN=KNeighborsClassifier(n_neighbors=5)\n",
        "# Specify Self-Training model parameters\n",
        "self_training_model = SelfTrainingClassifier(base_estimator=clf_KNN, # An estimator object implementing fit and predict_proba.\n",
        "                                             threshold=0.7, # default=0.75, The decision threshold for use with criterion='threshold'. Should be in [0, 1).\n",
        "                                             criterion='threshold', # {‘threshold’, ‘k_best’}, default=’threshold’, The selection criterion used to select which labels to add to the training set. If 'threshold', pseudo-labels with prediction probabilities above threshold are added to the dataset. If 'k_best', the k_best pseudo-labels with highest prediction probabilities are added to the dataset.\n",
        "                                             #k_best=50, # default=10, The amount of samples to add in each iteration. Only used when criterion='k_best'.\n",
        "                                             max_iter=100, # default=10, Maximum number of iterations allowed. Should be greater than or equal to 0. If it is None, the classifier will continue to predict labels until no new pseudo-labels are added, or all unlabeled samples have been labeled.\n",
        "                                             verbose=True # default=False, Verbosity prints some information after each iteration\n",
        "                                            )\n",
        "\n",
        "# Fit the model\n",
        "modelKNN = self_training_model.fit(X_train, y_train)\n",
        "y_pred_prob_KNN = modelKNN.predict_proba(X_test)[:,1]\n",
        "fpr_KNN, tpr_KNN, thresholds_KNN = roc_curve(y_test, y_pred_prob_KNN)\n",
        "roc_auc_KNN = auc(fpr_KNN, tpr_KNN)\n",
        "precision_KNN, recall_KNN, th_KNN = precision_recall_curve(y_test, y_pred_prob_KNN)\n",
        "\n",
        "clf_NAV=MultinomialNB()\n",
        "# Specify Self-Training model parameters\n",
        "self_training_model = SelfTrainingClassifier(base_estimator=clf_NAV, # An estimator object implementing fit and predict_proba.\n",
        "                                             threshold=0.7, # default=0.75, The decision threshold for use with criterion='threshold'. Should be in [0, 1).\n",
        "                                             criterion='threshold', # {‘threshold’, ‘k_best’}, default=’threshold’, The selection criterion used to select which labels to add to the training set. If 'threshold', pseudo-labels with prediction probabilities above threshold are added to the dataset. If 'k_best', the k_best pseudo-labels with highest prediction probabilities are added to the dataset.\n",
        "                                             #k_best=50, # default=10, The amount of samples to add in each iteration. Only used when criterion='k_best'.\n",
        "                                             max_iter=10, # default=10, Maximum number of iterations allowed. Should be greater than or equal to 0. If it is None, the classifier will continue to predict labels until no new pseudo-labels are added, or all unlabeled samples have been labeled.\n",
        "                                             verbose=True # default=False, Verbosity prints some information after each iteration\n",
        "                                            )\n",
        "\n",
        "# Fit the model\n",
        "modelNB = self_training_model.fit(X_train, y_train)\n",
        "y_pred_prob_nb = modelNB.predict_proba(X_test)[:,1]\n",
        "fpr_nb, tpr_nb, thresholds_nb = roc_curve(y_test, y_pred_prob_nb)\n",
        "roc_auc_nb = auc(fpr_nb, tpr_nb)\n",
        "precision_nb, recall_nb, th_nb = precision_recall_curve(y_test, y_pred_prob_nb)\n",
        "\n",
        "# Decision Tree\n",
        "\n",
        "clf_DT=tree.DecisionTreeClassifier()\n",
        "# Specify Self-Training model parameters\n",
        "self_training_model = SelfTrainingClassifier(base_estimator=clf_DT, # An estimator object implementing fit and predict_proba.\n",
        "                                             threshold=0.7, # default=0.75, The decision threshold for use with criterion='threshold'. Should be in [0, 1).\n",
        "                                             criterion='threshold', # {‘threshold’, ‘k_best’}, default=’threshold’, The selection criterion used to select which labels to add to the training set. If 'threshold', pseudo-labels with prediction probabilities above threshold are added to the dataset. If 'k_best', the k_best pseudo-labels with highest prediction probabilities are added to the dataset.\n",
        "                                             #k_best=50, # default=10, The amount of samples to add in each iteration. Only used when criterion='k_best'.\n",
        "                                             max_iter=100, # default=10, Maximum number of iterations allowed. Should be greater than or equal to 0. If it is None, the classifier will continue to predict labels until no new pseudo-labels are added, or all unlabeled samples have been labeled.\n",
        "                                             verbose=True # default=False, Verbosity prints some information after each iteration\n",
        "                                            )\n",
        "\n",
        "# Fit the model\n",
        "modelTree = self_training_model.fit(X_train, y_train)\n",
        "y_pred_prob_Tree = modelTree.predict_proba(X_test)[:,1]\n",
        "fpr_Tree, tpr_Tree, thresholds_Tree = roc_curve(y_test, y_pred_prob_Tree)\n",
        "roc_auc_Tree = auc(fpr_Tree, tpr_Tree)\n",
        "precision_Tree, recall_Tree, th_Tree = precision_recall_curve(y_test, y_pred_prob_Tree)\n",
        "\n",
        "\n",
        "clf_Rand=RandomForestClassifier()\n",
        "# Specify Self-Training model parameters\n",
        "self_training_model = SelfTrainingClassifier(base_estimator=clf_Rand, # An estimator object implementing fit and predict_proba.\n",
        "                                             threshold=0.7, # default=0.75, The decision threshold for use with criterion='threshold'. Should be in [0, 1).\n",
        "                                             criterion='threshold', # {‘threshold’, ‘k_best’}, default=’threshold’, The selection criterion used to select which labels to add to the training set. If 'threshold', pseudo-labels with prediction probabilities above threshold are added to the dataset. If 'k_best', the k_best pseudo-labels with highest prediction probabilities are added to the dataset.\n",
        "                                             #k_best=50, # default=10, The amount of samples to add in each iteration. Only used when criterion='k_best'.\n",
        "                                             max_iter=10, # default=10, Maximum number of iterations allowed. Should be greater than or equal to 0. If it is None, the classifier will continue to predict labels until no new pseudo-labels are added, or all unlabeled samples have been labeled.\n",
        "                                             verbose=True # default=False, Verbosity prints some information after each iteration\n",
        "                                            )\n",
        "\n",
        "# Fit the model\n",
        "modelRF = self_training_model.fit(X_train, y_train)\n",
        "y_pred_prob_rf = modelRF.predict_proba(X_test)[:,1]\n",
        "fpr_rf, tpr_rf, thresholds_rf = roc_curve(y_test, y_pred_prob_rf)\n",
        "roc_auc_rf = auc(fpr_rf, tpr_rf)\n",
        "precision_rf, recall_rf, th_rf = precision_recall_curve(y_test, y_pred_prob_rf)\n",
        "\n",
        "\n",
        "\n",
        "clf_SGD=SGDClassifier(loss=\"modified_huber\"\n",
        "                     )\n",
        "# Specify Self-Training model parameters\n",
        "self_training_model = SelfTrainingClassifier(base_estimator=clf_SGD, # An estimator object implementing fit and predict_proba.\n",
        "                                             threshold=0.7, # default=0.75, The decision threshold for use with criterion='threshold'. Should be in [0, 1).\n",
        "                                             criterion='threshold', # {‘threshold’, ‘k_best’}, default=’threshold’, The selection criterion used to select which labels to add to the training set. If 'threshold', pseudo-labels with prediction probabilities above threshold are added to the dataset. If 'k_best', the k_best pseudo-labels with highest prediction probabilities are added to the dataset.\n",
        "                                             #k_best=50, # default=10, The amount of samples to add in each iteration. Only used when criterion='k_best'.\n",
        "                                             max_iter=None, # default=10, Maximum number of iterations allowed. Should be greater than or equal to 0. If it is None, the classifier will continue to predict labels until no new pseudo-labels are added, or all unlabeled samples have been labeled.\n",
        "                                             verbose=True # default=False, Verbosity prints some information after each iteration\n",
        "                                            )\n",
        "\n",
        "# Fit the model\n",
        "modelsgd = self_training_model.fit(X_train, y_train)\n",
        "y_pred_prob_sgd = modelsgd.predict_proba(X_test)[:,1]\n",
        "fpr_sgd, tpr_sgd, thresholds_sgd = roc_curve(y_test, y_pred_prob_sgd)\n",
        "roc_auc_sgd = auc(fpr_sgd, tpr_sgd)\n",
        "precision_sgd, recall_sgd, th_sgd = precision_recall_curve(y_test, y_pred_prob_sgd)\n",
        "clf_Ada=AdaBoostClassifier()\n",
        "# Specify Self-Training model parameters\n",
        "self_training_model = SelfTrainingClassifier(base_estimator=clf_Ada, # An estimator object implementing fit and predict_proba.\n",
        "                                             threshold=0.7, # default=0.75, The decision threshold for use with criterion='threshold'. Should be in [0, 1).\n",
        "                                             criterion='threshold', # {‘threshold’, ‘k_best’}, default=’threshold’, The selection criterion used to select which labels to add to the training set. If 'threshold', pseudo-labels with prediction probabilities above threshold are added to the dataset. If 'k_best', the k_best pseudo-labels with highest prediction probabilities are added to the dataset.\n",
        "                                             #k_best=50, # default=10, The amount of samples to add in each iteration. Only used when criterion='k_best'.\n",
        "                                             max_iter=None, # default=10, Maximum number of iterations allowed. Should be greater than or equal to 0. If it is None, the classifier will continue to predict labels until no new pseudo-labels are added, or all unlabeled samples have been labeled.\n",
        "                                             verbose=True # default=False, Verbosity prints some information after each iteration\n",
        "                                            )\n",
        "\n",
        "# Fit the model\n",
        "modelada = self_training_model.fit(X_train, y_train)\n",
        "y_pred_prob_ada = modelada.predict_proba(X_test)[:,1]\n",
        "fpr_ada, tpr_ada, thresholds_ada = roc_curve(y_test, y_pred_prob_ada)\n",
        "roc_auc_ada = auc(fpr_ada, tpr_ada)\n",
        "precision_ada, recall_ada, th_ada = precision_recall_curve(y_test, y_pred_prob_ada)\n",
        "\n"
      ]
    },
    {
      "cell_type": "code",
      "execution_count": null,
      "metadata": {
        "id": "HUqTK62orOY6"
      },
      "outputs": [],
      "source": [
        "# Plot ROC curve\n",
        "fig = plt.figure(figsize=(8,6))\n",
        "\n",
        "plt.plot([0, 1], [0, 1], 'k--')\n",
        "plt.plot(fpr_lr, tpr_lr, label='Logistic Regression ' % roc_auc_lr)\n",
        "\n",
        "plt.plot(fpr_sgd, tpr_sgd, label='SVM (Linear) ' % roc_auc_sgd)\n",
        "plt.plot(fpr_KNN, tpr_KNN, color='pink',label='KNN ' % roc_auc_KNN)\n",
        "plt.plot(fpr_nb, tpr_nb, label='Naive Bayes ' % roc_auc_nb)\n",
        "plt.plot(fpr_Tree, tpr_Tree, label='Decision Tree ' % roc_auc_Tree)\n",
        "plt.plot(fpr_rf, tpr_rf, label='Random Forest ' % roc_auc_rf)\n",
        "plt.plot(fpr_sgd, tpr_sgd, label='SGD Classifier ' % roc_auc_sgd)\n",
        "plt.plot(fpr_ada, tpr_ada, label='ADABoost Classifier ' % roc_auc_ada)\n",
        "\n",
        "plt.xlabel('False Positive Rate')\n",
        "plt.ylabel('True Positive Rate')\n",
        "#plt.title('ROC curves from the investigated models')\n",
        "plt.legend(loc='best')\n",
        "plt.show()"
      ]
    },
    {
      "cell_type": "code",
      "execution_count": null,
      "metadata": {
        "id": "ifw9cePuRQpI"
      },
      "outputs": [],
      "source": [
        "collect_results_of_all_model= {\n",
        "    'Metrics':['accuracy','precision','recall','f1-score']\n",
        "}#dic form store results of all models\n",
        "\n"
      ]
    },
    {
      "cell_type": "code",
      "execution_count": null,
      "metadata": {
        "id": "IvPrP6ZSEEwT"
      },
      "outputs": [],
      "source": [
        "# function for evaluation metrics precision, recall, f1 etc\n",
        "def Evaluation(predic, test_labels):\n",
        "    print(\"\\n\")#new line\n",
        "    print (\"Accuracy_test_set: \",accuracy_score(test_labels, predic))#accuracyof model\n",
        "    print(\"\\n\")#new line\n",
        "    print (\"Classification_report_of_model : \"+\"\\n\", classification_report(test_labels, predic))#xlassificaion report\n",
        "    print(\"\\n\")#new line\n",
        "    print (\"Confusion_Matrix_of model : \"+\"\\n\", confusion_matrix(test_labels, predic))#confusion metrix\n",
        "    sns.heatmap(confusion_matrix(test_labels, predic),annot=True,cmap='Blues')#heatmap_confusion metrix\n",
        "    auc_roc=metrics.roc_auc_score(test_labels, predic)\n",
        "    print(auc_roc)\n",
        "    false_positive_rate, true_positive_rate, thresholds = roc_curve(test_labels, predic)\n",
        "    roc_auc = auc(false_positive_rate, true_positive_rate)\n",
        "    print(roc_auc)\n",
        "    import matplotlib.pyplot as plt\n",
        "    #plt.style.use('seaborn')\n",
        "    plt.figure(figsize=(5,5))\n",
        "    plt.title('Receiver Operating Characteristic')\n",
        "    plt.plot(false_positive_rate,true_positive_rate,color='blue',label = 'AUC = %0.2f' % roc_auc)\n",
        "    plt.legend(loc = 'lower right')\n",
        "    plt.plot([0, 1], [0, 1],linestyle='--', color='orange')\n",
        "    plt.axis('tight')\n",
        "    plt.ylabel('True Positive Rate')\n",
        "    plt.xlabel('False Positive Rate')\n",
        "\n",
        "    results = [accuracy_score(test_labels, predic), precision_score(test_labels, predic),\n",
        "              recall_score(test_labels, predic),f1_score(test_labels, predic)]#store results of model\n",
        "    plt.tight_layout()\n",
        "    plt.show()\n",
        "    return results"
      ]
    },
    {
      "cell_type": "code",
      "execution_count": null,
      "metadata": {
        "id": "k3Zp0Am9j6A8"
      },
      "outputs": [],
      "source": []
    },
    {
      "cell_type": "markdown",
      "metadata": {
        "id": "AYEHjvhEMN-r"
      },
      "source": [
        "# Semi supervised Self Training Classifier with DecisionTreeClassifier"
      ]
    },
    {
      "cell_type": "code",
      "execution_count": null,
      "metadata": {
        "id": "I93B_q1yj7q1"
      },
      "outputs": [],
      "source": [
        "from sklearn.model_selection import GridSearchCV"
      ]
    },
    {
      "cell_type": "code",
      "execution_count": null,
      "metadata": {
        "id": "A1PQQcuRPpN8"
      },
      "outputs": [],
      "source": [
        "clf_DT=tree.DecisionTreeClassifier(\n",
        " max_features='sqrt',\n",
        " min_weight_fraction_leaf=0.0)\n",
        " #max_leaf_nodes= '10'"
      ]
    },
    {
      "cell_type": "code",
      "execution_count": null,
      "metadata": {
        "id": "tPpTyqJK35G2"
      },
      "outputs": [],
      "source": [
        "param_grid = {#'max_features': ['sqrt','none'],\n",
        "              #'ccp_alpha': [0.1, .01, .001],\n",
        "              #'max_depth' : [5, 6, 7, 8, 9],\n",
        "              'criterion' :['gini']\n",
        "             }"
      ]
    },
    {
      "cell_type": "code",
      "execution_count": null,
      "metadata": {
        "colab": {
          "base_uri": "https://localhost:8080/"
        },
        "id": "il8-fUL34Bgx",
        "outputId": "6a58b198-1dd6-4d46-a916-714798cf2285"
      },
      "outputs": [
        {
          "data": {
            "text/plain": [
              "GridSearchCV(cv=10, estimator=DecisionTreeClassifier(max_features='sqrt'),\n",
              "             param_grid={'criterion': ['gini']}, scoring='accuracy')"
            ]
          },
          "execution_count": 48,
          "metadata": {},
          "output_type": "execute_result"
        }
      ],
      "source": [
        "clf_grid = GridSearchCV(clf_DT, param_grid, cv=10, scoring='accuracy')\n",
        "# Performing training\n",
        "clf_grid.fit(X_train,y_train)"
      ]
    },
    {
      "cell_type": "code",
      "execution_count": null,
      "metadata": {
        "colab": {
          "base_uri": "https://localhost:8080/"
        },
        "id": "baBRvFxH-1G5",
        "outputId": "f8cabafa-bf93-410c-d634-3310d48bac01"
      },
      "outputs": [
        {
          "name": "stdout",
          "output_type": "stream",
          "text": [
            "tuned hpyerparameters :(best parameters)  {'criterion': 'gini'}\n",
            "accuracy : 0.5785479774454353\n"
          ]
        }
      ],
      "source": [
        "print(\"tuned hpyerparameters :(best parameters) \",clf_grid.best_params_)\n",
        "print(\"accuracy :\",clf_grid.best_score_)"
      ]
    },
    {
      "cell_type": "code",
      "execution_count": null,
      "metadata": {
        "colab": {
          "base_uri": "https://localhost:8080/"
        },
        "id": "JUJh6GEYkU-E",
        "outputId": "477ba588-f9e6-4041-8237-9e41d1be4a58"
      },
      "outputs": [
        {
          "name": "stdout",
          "output_type": "stream",
          "text": [
            "End of iteration 1, added 145944 new labels.\n",
            "End of iteration 2, added 215 new labels.\n",
            "End of iteration 3, added 3 new labels.\n",
            "End of iteration 4, added 2 new labels.\n"
          ]
        }
      ],
      "source": [
        "#clf_DT=tree.DecisionTreeClassifier()\n",
        "# Specify Self-Training model parameters\n",
        "self_training_model = SelfTrainingClassifier(base_estimator=clf_grid, # An estimator object implementing fit and predict_proba.\n",
        "                                             threshold=0.7, # default=0.75, The decision threshold for use with criterion='threshold'. Should be in [0, 1).\n",
        "                                             criterion='threshold', # {‘threshold’, ‘k_best’}, default=’threshold’, The selection criterion used to select which labels to add to the training set. If 'threshold', pseudo-labels with prediction probabilities above threshold are added to the dataset. If 'k_best', the k_best pseudo-labels with highest prediction probabilities are added to the dataset.\n",
        "                                             #k_best=50, # default=10, The amount of samples to add in each iteration. Only used when criterion='k_best'.\n",
        "                                             max_iter=100, # default=10, Maximum number of iterations allowed. Should be greater than or equal to 0. If it is None, the classifier will continue to predict labels until no new pseudo-labels are added, or all unlabeled samples have been labeled.\n",
        "                                             verbose=True # default=False, Verbosity prints some information after each iteration\n",
        "                                            )\n",
        "\n",
        "# Fit the model\n",
        "clf_ST = self_training_model.fit(X_train, y_train)\n",
        "\n",
        "\n"
      ]
    },
    {
      "cell_type": "code",
      "execution_count": null,
      "metadata": {
        "id": "kTEZieFWQCtz"
      },
      "outputs": [],
      "source": [
        "print(\"tuned hpyerparameters :(best parameters) \",clf_ST.best_params_)\n",
        "print(\"accuracy :\",clf_ST.best_score_)"
      ]
    },
    {
      "cell_type": "code",
      "execution_count": null,
      "metadata": {
        "colab": {
          "base_uri": "https://localhost:8080/",
          "height": 1000
        },
        "id": "yvGV0eBQcmLM",
        "outputId": "018b5371-fd75-447e-cca1-2a9d75df7854"
      },
      "outputs": [
        {
          "name": "stdout",
          "output_type": "stream",
          "text": [
            "---------- Semi Supervised Model - Summary ----------\n",
            "Base Estimator:  GridSearchCV(cv=10, estimator=DecisionTreeClassifier(max_features='sqrt'),\n",
            "             param_grid={'criterion': ['gini']}, scoring='accuracy')\n",
            "Classes:  [0 1]\n",
            "Transduction Labels:  [0 0 1 ... 1 1 0]\n",
            "Iteration When Sample Was Labeled:  [0 1 1 ... 1 1 1]\n",
            "Number of Features:  10000\n",
            "Number of Iterations:  5\n",
            "Termination Condition:  no_change\n",
            "\n",
            "---------- Semi Supervised Model - Evaluation on Test Data ----------\n",
            "Accuracy Score:  0.7800758359186487\n",
            "\n",
            "\n",
            "Accuracy_test_set:  0.7800758359186487\n",
            "\n",
            "\n",
            "Classification_report_of_model : \n",
            "               precision    recall  f1-score   support\n",
            "\n",
            "           0       0.78      0.78      0.78     11611\n",
            "           1       0.78      0.78      0.78     11597\n",
            "\n",
            "    accuracy                           0.78     23208\n",
            "   macro avg       0.78      0.78      0.78     23208\n",
            "weighted avg       0.78      0.78      0.78     23208\n",
            "\n",
            "\n",
            "\n",
            "Confusion_Matrix_of model : \n",
            " [[9046 2565]\n",
            " [2539 9058]]\n",
            "0.7800764317008058\n",
            "0.7800764317008058\n"
          ]
        },
        {
          "data": {
            "image/png": "[encoded data removed]",
            "text/plain": [
              "<Figure size 432x288 with 2 Axes>"
            ]
          },
          "metadata": {},
          "output_type": "display_data"
        },
        {
          "data": {
            "image/png": "[encoded data removed]",
            "text/plain": [
              "<Figure size 360x360 with 1 Axes>"
            ]
          },
          "metadata": {},
          "output_type": "display_data"
        }
      ],
      "source": [
        "print('---------- Semi Supervised Model - Summary ----------')\n",
        "print('Base Estimator: ', clf_ST.base_estimator_)\n",
        "print('Classes: ', clf_ST.classes_)\n",
        "print('Transduction Labels: ', clf_ST.transduction_)\n",
        "print('Iteration When Sample Was Labeled: ', clf_ST.labeled_iter_)\n",
        "print('Number of Features: ', clf_ST.n_features_in_)\n",
        "# print('Feature Names: ', clf_ST.feature_names_in_)\n",
        "\n",
        "print('Number of Iterations: ', clf_ST.n_iter_)\n",
        "print('Termination Condition: ', clf_ST.termination_condition_)\n",
        "print('')\n",
        "\n",
        "print('---------- Semi Supervised Model - Evaluation on Test Data ----------')\n",
        "accuracy_score_ST = clf_ST.score(X_test, y_test)\n",
        "print('Accuracy Score: ', accuracy_score_ST)\n",
        "Evl_DT=Evaluation(y_test, clf_ST.predict(X_test))\n",
        "collect_results_of_all_model[\"CART_ALGO\"] = Evl_DT#get results of CART algo"
      ]
    },
    {
      "cell_type": "code",
      "execution_count": null,
      "metadata": {
        "colab": {
          "base_uri": "https://localhost:8080/"
        },
        "id": "HQOcKqjDPeMd",
        "outputId": "c8de45f4-ab91-449b-fdcc-44d934396e2f"
      },
      "outputs": [
        {
          "data": {
            "text/plain": [
              "{'Metrics': ['accuracy', 'precision', 'recall', 'f1-score'],\n",
              " 'CART_ALGO': [0.7800758359186487,\n",
              "  0.7793168717198657,\n",
              "  0.7810640682935241,\n",
              "  0.7801894918173988]}"
            ]
          },
          "execution_count": 52,
          "metadata": {},
          "output_type": "execute_result"
        }
      ],
      "source": [
        "collect_results_of_all_model"
      ]
    },
    {
      "cell_type": "markdown",
      "metadata": {
        "id": "18cc0l5fMkzd"
      },
      "source": [
        "# Summary of Semi supervised Self Training Classifier with DecisionTreeClassifier and model accuracy"
      ]
    },
    {
      "cell_type": "code",
      "execution_count": null,
      "metadata": {
        "colab": {
          "base_uri": "https://localhost:8080/",
          "height": 1000
        },
        "id": "CeBwqZjColm2",
        "outputId": "70ea8188-34eb-496a-bdc3-1c57894a2415"
      },
      "outputs": [
        {
          "name": "stdout",
          "output_type": "stream",
          "text": [
            "---------- Self Training Model - Summary ----------\n",
            "Base Estimator:  GridSearchCV(cv=10, estimator=DecisionTreeClassifier(),\n",
            "             param_grid={'criterion': ['gini', 'entropy'],\n",
            "                         'max_features': ['auto', 'sqrt', 'none']},\n",
            "             verbose=True)\n",
            "Classes:  [0 1]\n",
            "Transduction Labels:  [0 0 1 ... 0 1 0]\n",
            "Iteration When Sample Was Labeled:  [0 1 1 ... 1 1 1]\n",
            "Number of Features:  10000\n",
            "Number of Iterations:  4\n",
            "Termination Condition:  no_change\n",
            "\n",
            "---------- Self Training Model - Evaluation on Test Data ----------\n",
            "Accuracy Score:  0.795501551189245\n",
            "\n",
            "\n",
            "Accuracy_test_set:  0.795501551189245\n",
            "\n",
            "\n",
            "Classification_report_of_model : \n",
            "               precision    recall  f1-score   support\n",
            "\n",
            "           0       0.80      0.79      0.80     11785\n",
            "           1       0.79      0.80      0.79     11423\n",
            "\n",
            "    accuracy                           0.80     23208\n",
            "   macro avg       0.80      0.80      0.80     23208\n",
            "weighted avg       0.80      0.80      0.80     23208\n",
            "\n",
            "\n",
            "\n",
            "Confusion_Matrix_of model : \n",
            " [[9312 2473]\n",
            " [2273 9150]]\n",
            "0.79558623713235\n",
            "0.79558623713235\n"
          ]
        },
        {
          "data": {
            "image/png": "[encoded data removed]",
            "text/plain": [
              "<Figure size 432x288 with 2 Axes>"
            ]
          },
          "metadata": {},
          "output_type": "display_data"
        },
        {
          "data": {
            "image/png": "[encoded data removed]",
            "text/plain": [
              "<Figure size 360x360 with 1 Axes>"
            ]
          },
          "metadata": {},
          "output_type": "display_data"
        }
      ],
      "source": [
        "print('---------- Self Training Model - Summary ----------')\n",
        "print('Base Estimator: ', clf_ST.base_estimator_)\n",
        "print('Classes: ', clf_ST.classes_)\n",
        "print('Transduction Labels: ', clf_ST.transduction_)\n",
        "print('Iteration When Sample Was Labeled: ', clf_ST.labeled_iter_)\n",
        "print('Number of Features: ', clf_ST.n_features_in_)\n",
        "# print('Feature Names: ', clf_ST.feature_names_in_)\n",
        "\n",
        "print('Number of Iterations: ', clf_ST.n_iter_)\n",
        "print('Termination Condition: ', clf_ST.termination_condition_)\n",
        "print('')\n",
        "\n",
        "print('---------- Self Training Model - Evaluation on Test Data ----------')\n",
        "accuracy_score_ST = clf_ST.score(X_test, y_test)\n",
        "print('Accuracy Score: ', accuracy_score_ST)\n",
        "Evl_DT=Evaluation(y_test, clf_ST.predict(X_test))\n",
        "collect_results_of_all_model[\"CART_ALGO\"] = Evl_DT#get results of CART algo"
      ]
    },
    {
      "cell_type": "code",
      "execution_count": null,
      "metadata": {
        "colab": {
          "base_uri": "https://localhost:8080/"
        },
        "id": "PQ3q6wKwW-vi",
        "outputId": "759f8612-509d-4eba-b052-ac68744ecee1"
      },
      "outputs": [
        {
          "data": {
            "text/plain": [
              "{'Metrics': ['accuracy', 'precision', 'recall', 'f1-score'],\n",
              " 'CART_ALGO': [0.7863236814891417,\n",
              "  0.7767357825002151,\n",
              "  0.7924859550561798,\n",
              "  0.7845318270693028]}"
            ]
          },
          "execution_count": 31,
          "metadata": {},
          "output_type": "execute_result"
        }
      ],
      "source": [
        "collect_results_of_all_model"
      ]
    },
    {
      "cell_type": "code",
      "execution_count": null,
      "metadata": {
        "id": "LliB88lJ5JcQ"
      },
      "outputs": [],
      "source": [
        "clf_DT=tree.DecisionTreeClassifier(max_depth=' None',\n",
        " max_features='None',\n",
        " max_leaf_nodes= '10')\n",
        "#without grid\n"
      ]
    },
    {
      "cell_type": "code",
      "execution_count": null,
      "metadata": {
        "colab": {
          "base_uri": "https://localhost:8080/"
        },
        "id": "KAil6jXRI6D_",
        "outputId": "9dd697f6-510d-4e0c-f87e-151ebe1d37bd"
      },
      "outputs": [
        {
          "data": {
            "text/plain": [
              "{'ccp_alpha': 0.0,\n",
              " 'class_weight': None,\n",
              " 'criterion': 'gini',\n",
              " 'max_depth': None,\n",
              " 'max_features': None,\n",
              " 'max_leaf_nodes': None,\n",
              " 'min_impurity_decrease': 0.0,\n",
              " 'min_samples_leaf': 1,\n",
              " 'min_samples_split': 2,\n",
              " 'min_weight_fraction_leaf': 0.0,\n",
              " 'random_state': None,\n",
              " 'splitter': 'best'}"
            ]
          },
          "execution_count": 26,
          "metadata": {},
          "output_type": "execute_result"
        }
      ],
      "source": [
        "clf_DT.get_params()"
      ]
    },
    {
      "cell_type": "code",
      "execution_count": null,
      "metadata": {
        "colab": {
          "base_uri": "https://localhost:8080/"
        },
        "id": "kcAwVuCX5RAK",
        "outputId": "0ddbf158-fc7f-49d0-8f8e-1b06fa528c4c"
      },
      "outputs": [
        {
          "name": "stdout",
          "output_type": "stream",
          "text": [
            "End of iteration 1, added 146156 new labels.\n",
            "End of iteration 2, added 2 new labels.\n",
            "End of iteration 3, added 2 new labels.\n",
            "End of iteration 4, added 2 new labels.\n",
            "End of iteration 5, added 2 new labels.\n"
          ]
        }
      ],
      "source": [
        "clf_DT=tree.DecisionTreeClassifier()\n",
        "# Specify Self-Training model parameters\n",
        "self_training_model = SelfTrainingClassifier(base_estimator=clf_DT, # An estimator object implementing fit and predict_proba.\n",
        "                                             threshold=0.7, # default=0.75, The decision threshold for use with criterion='threshold'. Should be in [0, 1).\n",
        "                                             criterion='threshold', # {‘threshold’, ‘k_best’}, default=’threshold’, The selection criterion used to select which labels to add to the training set. If 'threshold', pseudo-labels with prediction probabilities above threshold are added to the dataset. If 'k_best', the k_best pseudo-labels with highest prediction probabilities are added to the dataset.\n",
        "                                             #k_best=50, # default=10, The amount of samples to add in each iteration. Only used when criterion='k_best'.\n",
        "                                             max_iter=100, # default=10, Maximum number of iterations allowed. Should be greater than or equal to 0. If it is None, the classifier will continue to predict labels until no new pseudo-labels are added, or all unlabeled samples have been labeled.\n",
        "                                             verbose=True # default=False, Verbosity prints some information after each iteration\n",
        "                                            )\n",
        "\n",
        "# Fit the model\n",
        "clf_ST = self_training_model.fit(X_train, y_train)\n",
        "\n",
        "\n"
      ]
    },
    {
      "cell_type": "code",
      "execution_count": null,
      "metadata": {
        "colab": {
          "base_uri": "https://localhost:8080/"
        },
        "id": "o4UO7xjMiREE",
        "outputId": "08a63de0-72bb-4ccf-aaef-8521d7465ac0"
      },
      "outputs": [
        {
          "data": {
            "text/plain": [
              "{'base_estimator__ccp_alpha': 0.0,\n",
              " 'base_estimator__class_weight': None,\n",
              " 'base_estimator__criterion': 'gini',\n",
              " 'base_estimator__max_depth': None,\n",
              " 'base_estimator__max_features': None,\n",
              " 'base_estimator__max_leaf_nodes': None,\n",
              " 'base_estimator__min_impurity_decrease': 0.0,\n",
              " 'base_estimator__min_samples_leaf': 1,\n",
              " 'base_estimator__min_samples_split': 2,\n",
              " 'base_estimator__min_weight_fraction_leaf': 0.0,\n",
              " 'base_estimator__random_state': None,\n",
              " 'base_estimator__splitter': 'best',\n",
              " 'base_estimator': DecisionTreeClassifier(),\n",
              " 'criterion': 'threshold',\n",
              " 'k_best': 10,\n",
              " 'max_iter': 100,\n",
              " 'threshold': 0.7,\n",
              " 'verbose': True}"
            ]
          },
          "execution_count": 25,
          "metadata": {},
          "output_type": "execute_result"
        }
      ],
      "source": [
        "clf_ST.get_params()"
      ]
    },
    {
      "cell_type": "code",
      "execution_count": null,
      "metadata": {
        "colab": {
          "base_uri": "https://localhost:8080/",
          "height": 1000
        },
        "id": "fvbqgeHq5bNh",
        "outputId": "4ebcca42-434a-4aa0-8a23-ec3205d0a810"
      },
      "outputs": [
        {
          "name": "stdout",
          "output_type": "stream",
          "text": [
            "---------- Self Training Model - Summary ----------\n",
            "Base Estimator:  DecisionTreeClassifier()\n",
            "Classes:  [0 1]\n",
            "Transduction Labels:  [0 0 1 ... 1 1 0]\n",
            "Iteration When Sample Was Labeled:  [0 1 1 ... 1 1 1]\n",
            "Number of Features:  10000\n",
            "Number of Iterations:  6\n",
            "Termination Condition:  no_change\n",
            "\n",
            "---------- Self Training Model - Evaluation on Test Data ----------\n",
            "Accuracy Score:  0.8442347466390899\n",
            "\n",
            "\n",
            "Accuracy_test_set:  0.8442347466390899\n",
            "\n",
            "\n",
            "Classification_report_of_model : \n",
            "               precision    recall  f1-score   support\n",
            "\n",
            "           0       0.85      0.84      0.84     11620\n",
            "           1       0.84      0.85      0.84     11588\n",
            "\n",
            "    accuracy                           0.84     23208\n",
            "   macro avg       0.84      0.84      0.84     23208\n",
            "weighted avg       0.84      0.84      0.84     23208\n",
            "\n",
            "\n",
            "\n",
            "Confusion_Matrix_of model : \n",
            " [[9795 1825]\n",
            " [1790 9798]]\n",
            "0.84423652992561\n",
            "0.84423652992561\n"
          ]
        },
        {
          "data": {
            "image/png": "[encoded data removed]",
            "text/plain": [
              "<Figure size 432x288 with 2 Axes>"
            ]
          },
          "metadata": {},
          "output_type": "display_data"
        },
        {
          "data": {
            "image/png": "[encoded data removed]",
            "text/plain": [
              "<Figure size 360x360 with 1 Axes>"
            ]
          },
          "metadata": {},
          "output_type": "display_data"
        }
      ],
      "source": [
        "print('---------- Self Training Model - Summary ----------')\n",
        "print('Base Estimator: ', clf_ST.base_estimator_)\n",
        "print('Classes: ', clf_ST.classes_)\n",
        "print('Transduction Labels: ', clf_ST.transduction_)\n",
        "print('Iteration When Sample Was Labeled: ', clf_ST.labeled_iter_)\n",
        "print('Number of Features: ', clf_ST.n_features_in_)\n",
        "# print('Feature Names: ', clf_ST.feature_names_in_)\n",
        "\n",
        "print('Number of Iterations: ', clf_ST.n_iter_)\n",
        "print('Termination Condition: ', clf_ST.termination_condition_)\n",
        "print('')\n",
        "\n",
        "print('---------- Self Training Model - Evaluation on Test Data ----------')\n",
        "accuracy_score_ST = clf_ST.score(X_test, y_test)\n",
        "print('Accuracy Score: ', accuracy_score_ST)\n",
        "Evl_DT=Evaluation(y_test, clf_ST.predict(X_test))\n",
        "collect_results_of_all_model[\"CART_ALGO\"] = Evl_DT#get results of CART algo"
      ]
    },
    {
      "cell_type": "code",
      "execution_count": null,
      "metadata": {
        "colab": {
          "base_uri": "https://localhost:8080/"
        },
        "id": "N-YNFJ8ii2V8",
        "outputId": "c6b52ec6-9c0a-46d3-93cd-31e41d12fd7b"
      },
      "outputs": [
        {
          "data": {
            "text/plain": [
              "{'Metrics': ['accuracy', 'precision', 'recall', 'f1-score'],\n",
              " 'CART_ALGO': [0.8545760082730093,\n",
              "  0.8518454787920502,\n",
              "  0.8569326640124633,\n",
              "  0.8543814988997713]}"
            ]
          },
          "execution_count": 29,
          "metadata": {},
          "output_type": "execute_result"
        }
      ],
      "source": [
        "collect_results_of_all_model"
      ]
    },
    {
      "cell_type": "markdown",
      "metadata": {
        "id": "nxBPrU2wMyTB"
      },
      "source": [
        "# Semi supervised Self Training Classifier with LogisticRegression"
      ]
    },
    {
      "cell_type": "code",
      "execution_count": null,
      "metadata": {
        "id": "ApajKXgYEUax"
      },
      "outputs": [],
      "source": [
        "clf_LR=LogisticRegression()"
      ]
    },
    {
      "cell_type": "code",
      "execution_count": null,
      "metadata": {
        "id": "x4gGdXRM7nia"
      },
      "outputs": [],
      "source": [
        "param_grid = [\n",
        "    {'penalty' : ['l2'],\n",
        "    'solver' : ['lbfgs','sag'],\n",
        "    'max_iter' : [100, 500]\n",
        "    }\n",
        "]\n",
        "\n",
        "# Creating GridSearchCV model:\n",
        "clf_grid = GridSearchCV(clf_LR, param_grid, cv=10, scoring='accuracy')"
      ]
    },
    {
      "cell_type": "code",
      "execution_count": null,
      "metadata": {
        "colab": {
          "base_uri": "https://localhost:8080/"
        },
        "id": "Y56eFg7a8DRb",
        "outputId": "60586a9b-968b-4f5d-b8c9-359899003ec8"
      },
      "outputs": [
        {
          "name": "stdout",
          "output_type": "stream",
          "text": [
            "tuned hpyerparameters :(best parameters)  {'max_iter': 500, 'penalty': 'l2', 'solver': 'lbfgs'}\n",
            "accuracy : 0.686569377862918\n"
          ]
        }
      ],
      "source": [
        "clf_grid.fit(X_train, y_train)\n",
        "print(\"tuned hpyerparameters :(best parameters) \",clf_grid.best_params_)\n",
        "print(\"accuracy :\",clf_grid.best_score_)"
      ]
    },
    {
      "cell_type": "code",
      "execution_count": null,
      "metadata": {
        "colab": {
          "background_save": true,
          "base_uri": "https://localhost:8080/"
        },
        "id": "jLeWxNwxIbPB",
        "outputId": "e5f312be-f114-4bed-871a-ab41eea530e6"
      },
      "outputs": [
        {
          "name": "stdout",
          "output_type": "stream",
          "text": [
            "End of iteration 1, added 131435 new labels.\n",
            "End of iteration 2, added 5105 new labels.\n",
            "End of iteration 3, added 750 new labels.\n",
            "End of iteration 4, added 167 new labels.\n",
            "End of iteration 5, added 56 new labels.\n",
            "End of iteration 6, added 16 new labels.\n",
            "End of iteration 7, added 8 new labels.\n"
          ]
        }
      ],
      "source": [
        "#clf_LR=LogisticRegression()\n",
        "# Specify Self-Training model parameters\n",
        "self_training_model = SelfTrainingClassifier(base_estimator=clf_grid, # An estimator object implementing fit and predict_proba.\n",
        "                                             threshold=0.7, # default=0.75, The decision threshold for use with criterion='threshold'. Should be in [0, 1).\n",
        "                                             criterion='threshold', # {‘threshold’, ‘k_best’}, default=’threshold’, The selection criterion used to select which labels to add to the training set. If 'threshold', pseudo-labels with prediction probabilities above threshold are added to the dataset. If 'k_best', the k_best pseudo-labels with highest prediction probabilities are added to the dataset.\n",
        "                                             #k_best=50, # default=10, The amount of samples to add in each iteration. Only used when criterion='k_best'.\n",
        "                                             max_iter=100, # default=10, Maximum number of iterations allowed. Should be greater than or equal to 0. If it is None, the classifier will continue to predict labels until no new pseudo-labels are added, or all unlabeled samples have been labeled.\n",
        "                                             verbose=True # default=False, Verbosity prints some information after each iteration\n",
        "                                            )\n",
        "\n",
        "# Fit the model\n",
        "clf_ST = self_training_model.fit(X_train, y_train)\n"
      ]
    },
    {
      "cell_type": "code",
      "execution_count": null,
      "metadata": {
        "colab": {
          "base_uri": "https://localhost:8080/",
          "height": 639
        },
        "id": "IUfxUoo9JAFp",
        "outputId": "dca2013e-9774-4a19-be8c-503dd6c6394c"
      },
      "outputs": [
        {
          "name": "stdout",
          "output_type": "stream",
          "text": [
            "---------- Self Training Model - Summary ----------\n",
            "Base Estimator:  GridSearchCV(cv=10, estimator=LogisticRegression(),\n",
            "             param_grid=[{'max_iter': [100, 500], 'penalty': ['l2'],\n",
            "                          'solver': ['lbfgs', 'sag']}],\n",
            "             scoring='accuracy')\n",
            "Classes:  [0 1]\n",
            "Transduction Labels:  [0 0 1 ... 0 1 0]\n",
            "Iteration When Sample Was Labeled:  [0 1 1 ... 2 2 1]\n",
            "Number of Features:  1000\n",
            "Number of Iterations:  13\n",
            "Termination Condition:  no_change\n",
            "\n",
            "---------- Self Training Model - Evaluation on Test Data ----------\n"
          ]
        },
        {
          "ename": "ValueError",
          "evalue": "ignored",
          "output_type": "error",
          "traceback": [
            "\u001b[0;31m---------------------------------------------------------------------------\u001b[0m",
            "\u001b[0;31mValueError\u001b[0m                                Traceback (most recent call last)",
            "\u001b[0;32m<ipython-input-37-050b4e5db6f3>\u001b[0m in \u001b[0;36m<module>\u001b[0;34m\u001b[0m\n\u001b[1;32m     12\u001b[0m \u001b[0;34m\u001b[0m\u001b[0m\n\u001b[1;32m     13\u001b[0m \u001b[0mprint\u001b[0m\u001b[0;34m(\u001b[0m\u001b[0;34m'---------- Self Training Model - Evaluation on Test Data ----------'\u001b[0m\u001b[0;34m)\u001b[0m\u001b[0;34m\u001b[0m\u001b[0;34m\u001b[0m\u001b[0m\n\u001b[0;32m---> 14\u001b[0;31m \u001b[0maccuracy_score_ST\u001b[0m \u001b[0;34m=\u001b[0m \u001b[0mclf_ST\u001b[0m\u001b[0;34m.\u001b[0m\u001b[0mscore\u001b[0m\u001b[0;34m(\u001b[0m\u001b[0mX_test\u001b[0m\u001b[0;34m,\u001b[0m \u001b[0my_test\u001b[0m\u001b[0;34m)\u001b[0m\u001b[0;34m\u001b[0m\u001b[0;34m\u001b[0m\u001b[0m\n\u001b[0m\u001b[1;32m     15\u001b[0m \u001b[0mprint\u001b[0m\u001b[0;34m(\u001b[0m\u001b[0;34m'Accuracy Score: '\u001b[0m\u001b[0;34m,\u001b[0m \u001b[0maccuracy_score_ST\u001b[0m\u001b[0;34m)\u001b[0m\u001b[0;34m\u001b[0m\u001b[0;34m\u001b[0m\u001b[0m\n\u001b[1;32m     16\u001b[0m \u001b[0mEvl_LR\u001b[0m\u001b[0;34m=\u001b[0m\u001b[0mEvaluation\u001b[0m\u001b[0;34m(\u001b[0m\u001b[0my_test\u001b[0m\u001b[0;34m,\u001b[0m \u001b[0mclf_ST\u001b[0m\u001b[0;34m.\u001b[0m\u001b[0mpredict\u001b[0m\u001b[0;34m(\u001b[0m\u001b[0mX_test\u001b[0m\u001b[0;34m)\u001b[0m\u001b[0;34m)\u001b[0m\u001b[0;34m\u001b[0m\u001b[0;34m\u001b[0m\u001b[0m\n",
            "\u001b[0;32m/usr/local/lib/python3.8/dist-packages/sklearn/utils/metaestimators.py\u001b[0m in \u001b[0;36m<lambda>\u001b[0;34m(*args, **kwargs)\u001b[0m\n\u001b[1;32m    111\u001b[0m \u001b[0;34m\u001b[0m\u001b[0m\n\u001b[1;32m    112\u001b[0m             \u001b[0;31m# lambda, but not partial, allows help() to work with update_wrapper\u001b[0m\u001b[0;34m\u001b[0m\u001b[0;34m\u001b[0m\u001b[0;34m\u001b[0m\u001b[0m\n\u001b[0;32m--> 113\u001b[0;31m             \u001b[0mout\u001b[0m \u001b[0;34m=\u001b[0m \u001b[0;32mlambda\u001b[0m \u001b[0;34m*\u001b[0m\u001b[0margs\u001b[0m\u001b[0;34m,\u001b[0m \u001b[0;34m**\u001b[0m\u001b[0mkwargs\u001b[0m\u001b[0;34m:\u001b[0m \u001b[0mself\u001b[0m\u001b[0;34m.\u001b[0m\u001b[0mfn\u001b[0m\u001b[0;34m(\u001b[0m\u001b[0mobj\u001b[0m\u001b[0;34m,\u001b[0m \u001b[0;34m*\u001b[0m\u001b[0margs\u001b[0m\u001b[0;34m,\u001b[0m \u001b[0;34m**\u001b[0m\u001b[0mkwargs\u001b[0m\u001b[0;34m)\u001b[0m  \u001b[0;31m# noqa\u001b[0m\u001b[0;34m\u001b[0m\u001b[0;34m\u001b[0m\u001b[0m\n\u001b[0m\u001b[1;32m    114\u001b[0m         \u001b[0;32melse\u001b[0m\u001b[0;34m:\u001b[0m\u001b[0;34m\u001b[0m\u001b[0;34m\u001b[0m\u001b[0m\n\u001b[1;32m    115\u001b[0m \u001b[0;34m\u001b[0m\u001b[0m\n",
            "\u001b[0;32m/usr/local/lib/python3.8/dist-packages/sklearn/semi_supervised/_self_training.py\u001b[0m in \u001b[0;36mscore\u001b[0;34m(self, X, y)\u001b[0m\n\u001b[1;32m    394\u001b[0m         \"\"\"\n\u001b[1;32m    395\u001b[0m         \u001b[0mcheck_is_fitted\u001b[0m\u001b[0;34m(\u001b[0m\u001b[0mself\u001b[0m\u001b[0;34m)\u001b[0m\u001b[0;34m\u001b[0m\u001b[0;34m\u001b[0m\u001b[0m\n\u001b[0;32m--> 396\u001b[0;31m         X = self._validate_data(\n\u001b[0m\u001b[1;32m    397\u001b[0m             \u001b[0mX\u001b[0m\u001b[0;34m,\u001b[0m\u001b[0;34m\u001b[0m\u001b[0;34m\u001b[0m\u001b[0m\n\u001b[1;32m    398\u001b[0m             \u001b[0maccept_sparse\u001b[0m\u001b[0;34m=\u001b[0m\u001b[0;32mTrue\u001b[0m\u001b[0;34m,\u001b[0m\u001b[0;34m\u001b[0m\u001b[0;34m\u001b[0m\u001b[0m\n",
            "\u001b[0;32m/usr/local/lib/python3.8/dist-packages/sklearn/base.py\u001b[0m in \u001b[0;36m_validate_data\u001b[0;34m(self, X, y, reset, validate_separately, **check_params)\u001b[0m\n\u001b[1;32m    583\u001b[0m \u001b[0;34m\u001b[0m\u001b[0m\n\u001b[1;32m    584\u001b[0m         \u001b[0;32mif\u001b[0m \u001b[0;32mnot\u001b[0m \u001b[0mno_val_X\u001b[0m \u001b[0;32mand\u001b[0m \u001b[0mcheck_params\u001b[0m\u001b[0;34m.\u001b[0m\u001b[0mget\u001b[0m\u001b[0;34m(\u001b[0m\u001b[0;34m\"ensure_2d\"\u001b[0m\u001b[0;34m,\u001b[0m \u001b[0;32mTrue\u001b[0m\u001b[0;34m)\u001b[0m\u001b[0;34m:\u001b[0m\u001b[0;34m\u001b[0m\u001b[0;34m\u001b[0m\u001b[0m\n\u001b[0;32m--> 585\u001b[0;31m             \u001b[0mself\u001b[0m\u001b[0;34m.\u001b[0m\u001b[0m_check_n_features\u001b[0m\u001b[0;34m(\u001b[0m\u001b[0mX\u001b[0m\u001b[0;34m,\u001b[0m \u001b[0mreset\u001b[0m\u001b[0;34m=\u001b[0m\u001b[0mreset\u001b[0m\u001b[0;34m)\u001b[0m\u001b[0;34m\u001b[0m\u001b[0;34m\u001b[0m\u001b[0m\n\u001b[0m\u001b[1;32m    586\u001b[0m \u001b[0;34m\u001b[0m\u001b[0m\n\u001b[1;32m    587\u001b[0m         \u001b[0;32mreturn\u001b[0m \u001b[0mout\u001b[0m\u001b[0;34m\u001b[0m\u001b[0;34m\u001b[0m\u001b[0m\n",
            "\u001b[0;32m/usr/local/lib/python3.8/dist-packages/sklearn/base.py\u001b[0m in \u001b[0;36m_check_n_features\u001b[0;34m(self, X, reset)\u001b[0m\n\u001b[1;32m    398\u001b[0m \u001b[0;34m\u001b[0m\u001b[0m\n\u001b[1;32m    399\u001b[0m         \u001b[0;32mif\u001b[0m \u001b[0mn_features\u001b[0m \u001b[0;34m!=\u001b[0m \u001b[0mself\u001b[0m\u001b[0;34m.\u001b[0m\u001b[0mn_features_in_\u001b[0m\u001b[0;34m:\u001b[0m\u001b[0;34m\u001b[0m\u001b[0;34m\u001b[0m\u001b[0m\n\u001b[0;32m--> 400\u001b[0;31m             raise ValueError(\n\u001b[0m\u001b[1;32m    401\u001b[0m                 \u001b[0;34mf\"X has {n_features} features, but {self.__class__.__name__} \"\u001b[0m\u001b[0;34m\u001b[0m\u001b[0;34m\u001b[0m\u001b[0m\n\u001b[1;32m    402\u001b[0m                 \u001b[0;34mf\"is expecting {self.n_features_in_} features as input.\"\u001b[0m\u001b[0;34m\u001b[0m\u001b[0;34m\u001b[0m\u001b[0m\n",
            "\u001b[0;31mValueError\u001b[0m: X has 10000 features, but SelfTrainingClassifier is expecting 1000 features as input."
          ]
        }
      ],
      "source": [
        "print('---------- Self Training Model - Summary ----------')\n",
        "print('Base Estimator: ', clf_ST.base_estimator_)\n",
        "print('Classes: ', clf_ST.classes_)\n",
        "print('Transduction Labels: ', clf_ST.transduction_)\n",
        "print('Iteration When Sample Was Labeled: ', clf_ST.labeled_iter_)\n",
        "print('Number of Features: ', clf_ST.n_features_in_)\n",
        "# print('Feature Names: ', clf_ST.feature_names_in_)\n",
        "\n",
        "print('Number of Iterations: ', clf_ST.n_iter_)\n",
        "print('Termination Condition: ', clf_ST.termination_condition_)\n",
        "print('')\n",
        "\n",
        "print('---------- Self Training Model - Evaluation on Test Data ----------')\n",
        "accuracy_score_ST = clf_ST.score(X_test, y_test)\n",
        "print('Accuracy Score: ', accuracy_score_ST)\n",
        "Evl_LR=Evaluation(y_test, clf_ST.predict(X_test))\n",
        "collect_results_of_all_model[\"LR_ALGO\"] = Evl_LR#get results of CART\n"
      ]
    },
    {
      "cell_type": "code",
      "execution_count": null,
      "metadata": {
        "colab": {
          "base_uri": "https://localhost:8080/"
        },
        "id": "qMLjBbblhula",
        "outputId": "c8811d73-bee0-49e2-c194-12c9e9c0c6bc"
      },
      "outputs": [
        {
          "data": {
            "text/plain": [
              "{'Metrics': ['accuracy', 'precision', 'recall', 'f1-score'],\n",
              " 'NAV_ALGO': [0.8815494657014823,\n",
              "  0.9597350081734491,\n",
              "  0.8302322119678476,\n",
              "  0.8902988946087234]}"
            ]
          },
          "execution_count": 28,
          "metadata": {},
          "output_type": "execute_result"
        }
      ],
      "source": [
        "collect_results_of_all_model"
      ]
    },
    {
      "cell_type": "code",
      "execution_count": null,
      "metadata": {
        "id": "jzHlxQ3cLkcd"
      },
      "outputs": [],
      "source": [
        "clf_LR = LogisticRegression(max_iter= 100, penalty= 'l2', solver= 'sag')\n",
        "# Specify Self-Training model parameters\n",
        "self_training_model = SelfTrainingClassifier(base_estimator=clf_LR, # An estimator object implementing fit and predict_proba.\n",
        "                                             threshold=0.7, # default=0.75, The decision threshold for use with criterion='threshold'. Should be in [0, 1).\n",
        "                                             criterion='threshold', # {‘threshold’, ‘k_best’}, default=’threshold’, The selection criterion used to select which labels to add to the training set. If 'threshold', pseudo-labels with prediction probabilities above threshold are added to the dataset. If 'k_best', the k_best pseudo-labels with highest prediction probabilities are added to the dataset.\n",
        "                                             #k_best=50, # default=10, The amount of samples to add in each iteration. Only used when criterion='k_best'.\n",
        "                                             max_iter=100, # default=10, Maximum number of iterations allowed. Should be greater than or equal to 0. If it is None, the classifier will continue to predict labels until no new pseudo-labels are added, or all unlabeled samples have been labeled.\n",
        "                                             verbose=True # default=False, Verbosity prints some information after each iteration\n",
        "                                            )\n",
        "\n",
        "# Fit the model\n",
        "clf_ST = self_training_model.fit(X_train, y_train)\n"
      ]
    },
    {
      "cell_type": "code",
      "execution_count": null,
      "metadata": {
        "colab": {
          "base_uri": "https://localhost:8080/",
          "height": 1000
        },
        "id": "8mMw9M2TL-FL",
        "outputId": "9fe641f5-e4c3-4670-9c8b-2831926049d4"
      },
      "outputs": [
        {
          "name": "stdout",
          "output_type": "stream",
          "text": [
            "---------- Self Training Model - Summary ----------\n",
            "Base Estimator:  LogisticRegression()\n",
            "Classes:  [0 1]\n",
            "Transduction Labels:  [0 0 1 ... 0 1 0]\n",
            "Iteration When Sample Was Labeled:  [0 1 1 ... 2 1 1]\n",
            "Number of Features:  10000\n",
            "Number of Iterations:  12\n",
            "Termination Condition:  no_change\n",
            "\n",
            "---------- Self Training Model - Evaluation on Test Data ----------\n",
            "Accuracy Score:  0.92842985177525\n",
            "\n",
            "\n",
            "Accuracy_test_set:  0.92842985177525\n",
            "\n",
            "\n",
            "Classification_report_of_model : \n",
            "               precision    recall  f1-score   support\n",
            "\n",
            "           0       0.94      0.92      0.93     11928\n",
            "           1       0.91      0.94      0.93     11280\n",
            "\n",
            "    accuracy                           0.93     23208\n",
            "   macro avg       0.93      0.93      0.93     23208\n",
            "weighted avg       0.93      0.93      0.93     23208\n",
            "\n",
            "\n",
            "\n",
            "Confusion_Matrix_of model : \n",
            " [[10926  1002]\n",
            " [  659 10621]]\n",
            "0.9287869950197639\n",
            "0.9287869950197639\n"
          ]
        },
        {
          "data": {
            "image/png": "[encoded data removed]",
            "text/plain": [
              "<Figure size 432x288 with 2 Axes>"
            ]
          },
          "metadata": {},
          "output_type": "display_data"
        },
        {
          "data": {
            "image/png": "[encoded data removed]",
            "text/plain": [
              "<Figure size 360x360 with 1 Axes>"
            ]
          },
          "metadata": {},
          "output_type": "display_data"
        }
      ],
      "source": [
        "print('---------- Self Training Model - Summary ----------')\n",
        "print('Base Estimator: ', clf_ST.base_estimator_)\n",
        "print('Classes: ', clf_ST.classes_)\n",
        "print('Transduction Labels: ', clf_ST.transduction_)\n",
        "print('Iteration When Sample Was Labeled: ', clf_ST.labeled_iter_)\n",
        "print('Number of Features: ', clf_ST.n_features_in_)\n",
        "# print('Feature Names: ', clf_ST.feature_names_in_)\n",
        "\n",
        "print('Number of Iterations: ', clf_ST.n_iter_)\n",
        "print('Termination Condition: ', clf_ST.termination_condition_)\n",
        "print('')\n",
        "\n",
        "print('---------- Self Training Model - Evaluation on Test Data ----------')\n",
        "accuracy_score_ST = clf_ST.score(X_test, y_test)\n",
        "print('Accuracy Score: ', accuracy_score_ST)\n",
        "Evl_LR=Evaluation(y_test, clf_ST.predict(X_test))\n",
        "collect_results_of_all_model[\"LR_ALGO\"] = Evl_LR#get results of CART algo"
      ]
    },
    {
      "cell_type": "code",
      "execution_count": null,
      "metadata": {
        "colab": {
          "base_uri": "https://localhost:8080/"
        },
        "id": "4axPRpRU23cq",
        "outputId": "721c7a5b-e731-48b2-a12a-a5387348c729"
      },
      "outputs": [
        {
          "name": "stdout",
          "output_type": "stream",
          "text": [
            "End of iteration 1, added 131436 new labels.\n",
            "End of iteration 2, added 5103 new labels.\n",
            "End of iteration 3, added 752 new labels.\n",
            "End of iteration 4, added 172 new labels.\n",
            "End of iteration 5, added 48 new labels.\n",
            "End of iteration 6, added 14 new labels.\n",
            "End of iteration 7, added 13 new labels.\n",
            "End of iteration 8, added 5 new labels.\n",
            "End of iteration 9, added 1 new labels.\n",
            "End of iteration 10, added 1 new labels.\n",
            "End of iteration 11, added 2 new labels.\n"
          ]
        }
      ],
      "source": [
        "clf_LR=LogisticRegression()\n",
        "# Specify Self-Training model parameters\n",
        "self_training_model = SelfTrainingClassifier(base_estimator=clf_LR, # An estimator object implementing fit and predict_proba.\n",
        "                                             threshold=0.7, # default=0.75, The decision threshold for use with criterion='threshold'. Should be in [0, 1).\n",
        "                                             criterion='threshold', # {‘threshold’, ‘k_best’}, default=’threshold’, The selection criterion used to select which labels to add to the training set. If 'threshold', pseudo-labels with prediction probabilities above threshold are added to the dataset. If 'k_best', the k_best pseudo-labels with highest prediction probabilities are added to the dataset.\n",
        "                                             #k_best=50, # default=10, The amount of samples to add in each iteration. Only used when criterion='k_best'.\n",
        "                                             max_iter=100, # default=10, Maximum number of iterations allowed. Should be greater than or equal to 0. If it is None, the classifier will continue to predict labels until no new pseudo-labels are added, or all unlabeled samples have been labeled.\n",
        "                                             verbose=True # default=False, Verbosity prints some information after each iteration\n",
        "                                            )\n",
        "\n",
        "# Fit the model\n",
        "clf_ST = self_training_model.fit(X_train, y_train)\n"
      ]
    },
    {
      "cell_type": "markdown",
      "metadata": {
        "id": "RFPOWZmeM3nB"
      },
      "source": [
        "## summary of Semi supervised Self Training Classifier with LogisticRegression and model accuracy"
      ]
    },
    {
      "cell_type": "code",
      "execution_count": null,
      "metadata": {
        "colab": {
          "base_uri": "https://localhost:8080/",
          "height": 1000
        },
        "id": "Ja0H4s5q333z",
        "outputId": "9fe641f5-e4c3-4670-9c8b-2831926049d4"
      },
      "outputs": [
        {
          "name": "stdout",
          "output_type": "stream",
          "text": [
            "---------- Self Training Model - Summary ----------\n",
            "Base Estimator:  LogisticRegression()\n",
            "Classes:  [0 1]\n",
            "Transduction Labels:  [0 0 1 ... 0 1 0]\n",
            "Iteration When Sample Was Labeled:  [0 1 1 ... 2 1 1]\n",
            "Number of Features:  10000\n",
            "Number of Iterations:  12\n",
            "Termination Condition:  no_change\n",
            "\n",
            "---------- Self Training Model - Evaluation on Test Data ----------\n",
            "Accuracy Score:  0.92842985177525\n",
            "\n",
            "\n",
            "Accuracy_test_set:  0.92842985177525\n",
            "\n",
            "\n",
            "Classification_report_of_model : \n",
            "               precision    recall  f1-score   support\n",
            "\n",
            "           0       0.94      0.92      0.93     11928\n",
            "           1       0.91      0.94      0.93     11280\n",
            "\n",
            "    accuracy                           0.93     23208\n",
            "   macro avg       0.93      0.93      0.93     23208\n",
            "weighted avg       0.93      0.93      0.93     23208\n",
            "\n",
            "\n",
            "\n",
            "Confusion_Matrix_of model : \n",
            " [[10926  1002]\n",
            " [  659 10621]]\n",
            "0.9287869950197639\n",
            "0.9287869950197639\n"
          ]
        },
        {
          "data": {
            "image/png": "[encoded data removed]",
            "text/plain": [
              "<Figure size 432x288 with 2 Axes>"
            ]
          },
          "metadata": {},
          "output_type": "display_data"
        },
        {
          "data": {
            "image/png": "[encoded data removed]",
            "text/plain": [
              "<Figure size 360x360 with 1 Axes>"
            ]
          },
          "metadata": {},
          "output_type": "display_data"
        }
      ],
      "source": [
        "print('---------- Self Training Model - Summary ----------')\n",
        "print('Base Estimator: ', clf_ST.base_estimator_)\n",
        "print('Classes: ', clf_ST.classes_)\n",
        "print('Transduction Labels: ', clf_ST.transduction_)\n",
        "print('Iteration When Sample Was Labeled: ', clf_ST.labeled_iter_)\n",
        "print('Number of Features: ', clf_ST.n_features_in_)\n",
        "# print('Feature Names: ', clf_ST.feature_names_in_)\n",
        "\n",
        "print('Number of Iterations: ', clf_ST.n_iter_)\n",
        "print('Termination Condition: ', clf_ST.termination_condition_)\n",
        "print('')\n",
        "\n",
        "print('---------- Self Training Model - Evaluation on Test Data ----------')\n",
        "accuracy_score_ST = clf_ST.score(X_test, y_test)\n",
        "print('Accuracy Score: ', accuracy_score_ST)\n",
        "Evl_LR=Evaluation(y_test, clf_ST.predict(X_test))\n",
        "collect_results_of_all_model[\"LR_ALGO\"] = Evl_LR#get results of CART algo"
      ]
    },
    {
      "cell_type": "markdown",
      "metadata": {
        "id": "OpYNIThMS1PB"
      },
      "source": [
        "# Semi supervised Self Training Classifier with Naive bayes"
      ]
    },
    {
      "cell_type": "code",
      "execution_count": null,
      "metadata": {
        "colab": {
          "base_uri": "https://localhost:8080/"
        },
        "id": "CwPPppdM37hH",
        "outputId": "2dc70d79-ff19-4fd2-e6cb-c5dcd2031582"
      },
      "outputs": [
        {
          "name": "stdout",
          "output_type": "stream",
          "text": [
            "End of iteration 1, added 118682 new labels.\n",
            "End of iteration 2, added 6537 new labels.\n",
            "End of iteration 3, added 1081 new labels.\n",
            "End of iteration 4, added 173 new labels.\n",
            "End of iteration 5, added 37 new labels.\n",
            "End of iteration 6, added 6 new labels.\n",
            "End of iteration 7, added 1 new labels.\n"
          ]
        }
      ],
      "source": [
        "clf_NAV=MultinomialNB()\n",
        "# Specify Self-Training model parameters\n",
        "self_training_model = SelfTrainingClassifier(base_estimator=clf_NAV, # An estimator object implementing fit and predict_proba.\n",
        "                                             threshold=0.7, # default=0.75, The decision threshold for use with criterion='threshold'. Should be in [0, 1).\n",
        "                                             criterion='threshold', # {‘threshold’, ‘k_best’}, default=’threshold’, The selection criterion used to select which labels to add to the training set. If 'threshold', pseudo-labels with prediction probabilities above threshold are added to the dataset. If 'k_best', the k_best pseudo-labels with highest prediction probabilities are added to the dataset.\n",
        "                                             #k_best=50, # default=10, The amount of samples to add in each iteration. Only used when criterion='k_best'.\n",
        "                                             max_iter=10, # default=10, Maximum number of iterations allowed. Should be greater than or equal to 0. If it is None, the classifier will continue to predict labels until no new pseudo-labels are added, or all unlabeled samples have been labeled.\n",
        "                                             verbose=True # default=False, Verbosity prints some information after each iteration\n",
        "                                            )\n",
        "\n",
        "# Fit the model\n",
        "clf_ST = self_training_model.fit(X_train, y_train)\n"
      ]
    },
    {
      "cell_type": "markdown",
      "metadata": {
        "id": "XzFgd5yUS_0E"
      },
      "source": [
        "# Summary of Semi supervised Self Training Classifier with Naive bayes and model Evaluation"
      ]
    },
    {
      "cell_type": "code",
      "execution_count": null,
      "metadata": {
        "colab": {
          "base_uri": "https://localhost:8080/",
          "height": 1000
        },
        "id": "D05IQgsZNWu7",
        "outputId": "769cc4d8-0ad3-43f4-ae5f-f015f828c023"
      },
      "outputs": [
        {
          "name": "stdout",
          "output_type": "stream",
          "text": [
            "---------- Self Training Model - Summary ----------\n",
            "Base Estimator:  MultinomialNB()\n",
            "Classes:  [0 1]\n",
            "Transduction Labels:  [ 0  0  1 ... -1  1  0]\n",
            "Iteration When Sample Was Labeled:  [ 0  1  1 ... -1  1  1]\n",
            "Number of Features:  5000\n",
            "Number of Iterations:  8\n",
            "Termination Condition:  no_change\n",
            "\n",
            "---------- Self Training Model - Evaluation on Test Data ----------\n",
            "Accuracy Score:  0.8815494657014823\n",
            "\n",
            "\n",
            "Accuracy_test_set:  0.8815494657014823\n",
            "\n",
            "\n",
            "Classification_report_of_model : \n",
            "               precision    recall  f1-score   support\n",
            "\n",
            "           0       0.80      0.95      0.87      9772\n",
            "           1       0.96      0.83      0.89     13436\n",
            "\n",
            "    accuracy                           0.88     23208\n",
            "   macro avg       0.88      0.89      0.88     23208\n",
            "weighted avg       0.89      0.88      0.88     23208\n",
            "\n",
            "\n",
            "\n",
            "Confusion_Matrix_of model : \n",
            " [[ 9304   468]\n",
            " [ 2281 11155]]\n",
            "0.8911701379118812\n",
            "0.8911701379118812\n"
          ]
        },
        {
          "data": {
            "image/png": "[encoded data removed]",
            "text/plain": [
              "<Figure size 432x288 with 2 Axes>"
            ]
          },
          "metadata": {},
          "output_type": "display_data"
        },
        {
          "data": {
            "image/png": "[encoded data removed]",
            "text/plain": [
              "<Figure size 360x360 with 1 Axes>"
            ]
          },
          "metadata": {},
          "output_type": "display_data"
        }
      ],
      "source": [
        "print('---------- Self Training Model - Summary ----------')\n",
        "print('Base Estimator: ', clf_ST.base_estimator_)\n",
        "print('Classes: ', clf_ST.classes_)\n",
        "print('Transduction Labels: ', clf_ST.transduction_)\n",
        "print('Iteration When Sample Was Labeled: ', clf_ST.labeled_iter_)\n",
        "print('Number of Features: ', clf_ST.n_features_in_)\n",
        "# print('Feature Names: ', clf_ST.feature_names_in_)\n",
        "\n",
        "print('Number of Iterations: ', clf_ST.n_iter_)\n",
        "print('Termination Condition: ', clf_ST.termination_condition_)\n",
        "print('')\n",
        "\n",
        "print('---------- Self Training Model - Evaluation on Test Data ----------')\n",
        "accuracy_score_ST = clf_ST.score(X_test.todense(), y_test)\n",
        "print('Accuracy Score: ', accuracy_score_ST)\n",
        "Evl_NAV=Evaluation(y_test, clf_ST.predict(X_test.todense()))\n",
        "collect_results_of_all_model[\"NAV_ALGO\"] = Evl_NAV#get results of CART algo"
      ]
    },
    {
      "cell_type": "code",
      "execution_count": null,
      "metadata": {
        "colab": {
          "base_uri": "https://localhost:8080/"
        },
        "id": "Xtb2CSQHwnJ2",
        "outputId": "c8811d73-bee0-49e2-c194-12c9e9c0c6bc"
      },
      "outputs": [
        {
          "data": {
            "text/plain": [
              "{'Metrics': ['accuracy', 'precision', 'recall', 'f1-score'],\n",
              " 'NAV_ALGO': [0.8815494657014823,\n",
              "  0.9597350081734491,\n",
              "  0.8302322119678476,\n",
              "  0.8902988946087234]}"
            ]
          },
          "execution_count": 28,
          "metadata": {},
          "output_type": "execute_result"
        }
      ],
      "source": [
        "collect_results_of_all_model"
      ]
    },
    {
      "cell_type": "code",
      "execution_count": null,
      "metadata": {
        "id": "Q15lAccRFTVn"
      },
      "outputs": [],
      "source": []
    },
    {
      "cell_type": "code",
      "execution_count": null,
      "metadata": {
        "id": "JDCyFDiCiAzS"
      },
      "outputs": [],
      "source": [
        "clf_NB=MultinomialNB()"
      ]
    },
    {
      "cell_type": "code",
      "execution_count": null,
      "metadata": {
        "id": "RAPlafHciBGf"
      },
      "outputs": [],
      "source": [
        "param_grid = { 'alpha': [1.0],\n",
        "      'class_prior':[ None,'n_classes'],\n",
        "      'fit_prior': [True]\n",
        "      }"
      ]
    },
    {
      "cell_type": "code",
      "execution_count": null,
      "metadata": {
        "id": "x1CitWRtiJA4"
      },
      "outputs": [],
      "source": [
        "clf_grid = GridSearchCV(clf_NB, param_grid, cv= 10,scoring = \"accuracy\")\n",
        "#clf_grid.fit(X_train.toarray(),y_train)"
      ]
    },
    {
      "cell_type": "code",
      "execution_count": null,
      "metadata": {
        "id": "AgFSFstjj6LE"
      },
      "outputs": [],
      "source": [
        "print(\"tuned hpyerparameters :(best parameters) \",clf_grid.best_params_)\n",
        "print(\"accuracy :\",clf_grid.best_score_)\n"
      ]
    },
    {
      "cell_type": "code",
      "execution_count": null,
      "metadata": {
        "colab": {
          "base_uri": "https://localhost:8080/"
        },
        "id": "XDB_n_kzrsQB",
        "outputId": "ecedb444-555f-4afb-8a2c-16d0c8333bfb"
      },
      "outputs": [
        {
          "name": "stdout",
          "output_type": "stream",
          "text": [
            "End of iteration 1, added 122509 new labels.\n",
            "End of iteration 2, added 5819 new labels.\n",
            "End of iteration 3, added 747 new labels.\n",
            "End of iteration 4, added 124 new labels.\n",
            "End of iteration 5, added 24 new labels.\n",
            "End of iteration 6, added 8 new labels.\n",
            "End of iteration 7, added 1 new labels.\n"
          ]
        }
      ],
      "source": [
        "clf_NAV=MultinomialNB()\n",
        "# Specify Self-Training model parameters\n",
        "self_training_model = SelfTrainingClassifier(base_estimator=clf_grid, # An estimator object implementing fit and predict_proba.\n",
        "                                             threshold=0.7, # default=0.75, The decision threshold for use with criterion='threshold'. Should be in [0, 1).\n",
        "                                             criterion='threshold', # {‘threshold’, ‘k_best’}, default=’threshold’, The selection criterion used to select which labels to add to the training set. If 'threshold', pseudo-labels with prediction probabilities above threshold are added to the dataset. If 'k_best', the k_best pseudo-labels with highest prediction probabilities are added to the dataset.\n",
        "                                             #k_best=50, # default=10, The amount of samples to add in each iteration. Only used when criterion='k_best'.\n",
        "                                             max_iter=10, # default=10, Maximum number of iterations allowed. Should be greater than or equal to 0. If it is None, the classifier will continue to predict labels until no new pseudo-labels are added, or all unlabeled samples have been labeled.\n",
        "                                             verbose=True # default=False, Verbosity prints some information after each iteration\n",
        "                                            )\n",
        "\n",
        "# Fit the model\n",
        "clf_ST = self_training_model.fit(X_train, y_train)\n"
      ]
    },
    {
      "cell_type": "code",
      "execution_count": null,
      "metadata": {
        "colab": {
          "base_uri": "https://localhost:8080/",
          "height": 1000
        },
        "id": "xfW9owRir2Le",
        "outputId": "8f5d3d13-ae19-4a0d-97e0-1e0836c77650"
      },
      "outputs": [
        {
          "name": "stdout",
          "output_type": "stream",
          "text": [
            "---------- Self Training Model - Summary ----------\n",
            "Base Estimator:  GridSearchCV(cv=10, estimator=MultinomialNB(),\n",
            "             param_grid={'alpha': [1.0], 'class_prior': [None, 'n_classes'],\n",
            "                         'fit_prior': [True]},\n",
            "             scoring='accuracy')\n",
            "Classes:  [0 1]\n",
            "Transduction Labels:  [0 0 1 ... 1 1 0]\n",
            "Iteration When Sample Was Labeled:  [0 1 1 ... 2 1 1]\n",
            "Number of Features:  10000\n",
            "Number of Iterations:  8\n",
            "Termination Condition:  no_change\n",
            "\n",
            "---------- Self Training Model - Evaluation on Test Data ----------\n",
            "Accuracy Score:  0.8939158910720442\n",
            "\n",
            "\n",
            "Accuracy_test_set:  0.8939158910720442\n",
            "\n",
            "\n",
            "Classification_report_of_model : \n",
            "               precision    recall  f1-score   support\n",
            "\n",
            "           0       0.83      0.95      0.89     10101\n",
            "           1       0.96      0.85      0.90     13107\n",
            "\n",
            "    accuracy                           0.89     23208\n",
            "   macro avg       0.89      0.90      0.89     23208\n",
            "weighted avg       0.90      0.89      0.89     23208\n",
            "\n",
            "\n",
            "\n",
            "Confusion_Matrix_of model : \n",
            " [[ 9612   489]\n",
            " [ 1973 11134]]\n",
            "0.9005293502890207\n",
            "0.9005293502890207\n"
          ]
        },
        {
          "data": {
            "image/png": "[encoded data removed]",
            "text/plain": [
              "<Figure size 432x288 with 2 Axes>"
            ]
          },
          "metadata": {},
          "output_type": "display_data"
        },
        {
          "data": {
            "image/png": "[encoded data removed]",
            "text/plain": [
              "<Figure size 360x360 with 1 Axes>"
            ]
          },
          "metadata": {},
          "output_type": "display_data"
        }
      ],
      "source": [
        "print('---------- Self Training Model - Summary ----------')\n",
        "print('Base Estimator: ', clf_ST.base_estimator_)\n",
        "print('Classes: ', clf_ST.classes_)\n",
        "print('Transduction Labels: ', clf_ST.transduction_)\n",
        "print('Iteration When Sample Was Labeled: ', clf_ST.labeled_iter_)\n",
        "print('Number of Features: ', clf_ST.n_features_in_)\n",
        "# print('Feature Names: ', clf_ST.feature_names_in_)\n",
        "\n",
        "print('Number of Iterations: ', clf_ST.n_iter_)\n",
        "print('Termination Condition: ', clf_ST.termination_condition_)\n",
        "print('')\n",
        "\n",
        "print('---------- Self Training Model - Evaluation on Test Data ----------')\n",
        "accuracy_score_ST = clf_ST.score(X_test.todense(), y_test)\n",
        "print('Accuracy Score: ', accuracy_score_ST)\n",
        "Evl_NAV=Evaluation(y_test, clf_ST.predict(X_test.todense()))\n",
        "collect_results_of_all_model[\"NAV_ALGO\"] = Evl_NAV#get results of CART algo"
      ]
    },
    {
      "cell_type": "code",
      "execution_count": null,
      "metadata": {
        "colab": {
          "base_uri": "https://localhost:8080/"
        },
        "id": "Hb0E4FR9r-ef",
        "outputId": "eb6ab07b-0ba0-4cdb-d857-77e206cf24ad"
      },
      "outputs": [
        {
          "data": {
            "text/plain": [
              "{'Metrics': ['accuracy', 'precision', 'recall', 'f1-score'],\n",
              " 'NAV_ALGO': [0.8939158910720442,\n",
              "  0.9579282457196937,\n",
              "  0.8494697489890898,\n",
              "  0.9004448038819247]}"
            ]
          },
          "execution_count": 31,
          "metadata": {},
          "output_type": "execute_result"
        }
      ],
      "source": [
        "collect_results_of_all_model"
      ]
    },
    {
      "cell_type": "markdown",
      "metadata": {
        "id": "uJhniHM6TM5A"
      },
      "source": [
        "# Semi supervised Self Training Classifier with RandomForestClassifier"
      ]
    },
    {
      "cell_type": "code",
      "execution_count": null,
      "metadata": {
        "id": "_s5UzZhih1xk"
      },
      "outputs": [],
      "source": [
        "clf_Rand=RandomForestClassifier(random_state=42)"
      ]
    },
    {
      "cell_type": "code",
      "execution_count": null,
      "metadata": {
        "id": "LtisTaoYh1-c"
      },
      "outputs": [],
      "source": [
        "param_grid = {\n",
        "    #'n_estimators': [200, 500],\n",
        "    'max_features': ['auto'],\n",
        "    #'max_depth' : [5,10],\n",
        "    'criterion' :['gini']\n",
        "}\n"
      ]
    },
    {
      "cell_type": "code",
      "execution_count": null,
      "metadata": {
        "id": "Vnczv3Ilh2ON"
      },
      "outputs": [],
      "source": [
        "clf_grid = GridSearchCV(clf_Rand, param_grid, cv= 10)\n",
        "clf_grid.fit(X_train,y_train)"
      ]
    },
    {
      "cell_type": "code",
      "execution_count": null,
      "metadata": {
        "id": "5FyZV45RpFBA"
      },
      "outputs": [],
      "source": [
        "#clf_Rand=RandomForestClassifier(criterion='gini',max_features ='auto')\n",
        "# Specify Self-Training model parameters\n",
        "self_training_model = SelfTrainingClassifier(base_estimator=clf_grid, # An estimator object implementing fit and predict_proba.\n",
        "                                             threshold=0.7, # default=0.75, The decision threshold for use with criterion='threshold'. Should be in [0, 1).\n",
        "                                             criterion='threshold', # {‘threshold’, ‘k_best’}, default=’threshold’, The selection criterion used to select which labels to add to the training set. If 'threshold', pseudo-labels with prediction probabilities above threshold are added to the dataset. If 'k_best', the k_best pseudo-labels with highest prediction probabilities are added to the dataset.\n",
        "                                             #k_best=50, # default=10, The amount of samples to add in each iteration. Only used when criterion='k_best'.\n",
        "                                             max_iter=10, # default=10, Maximum number of iterations allowed. Should be greater than or equal to 0. If it is None, the classifier will continue to predict labels until no new pseudo-labels are added, or all unlabeled samples have been labeled.\n",
        "                                             verbose=True # default=False, Verbosity prints some information after each iteration\n",
        "                                            )\n",
        "\n",
        "# Fit the model\n",
        "clf_ST = self_training_model.fit(X_train, y_train)"
      ]
    },
    {
      "cell_type": "code",
      "execution_count": null,
      "metadata": {
        "colab": {
          "base_uri": "https://localhost:8080/",
          "height": 1000
        },
        "id": "_niQsyA5pHxi",
        "outputId": "f8330f55-3038-45c9-a697-1dbda5d4f4dd"
      },
      "outputs": [
        {
          "name": "stdout",
          "output_type": "stream",
          "text": [
            "---------- Self Training Model - Summary ----------\n",
            "Base Estimator:  RandomForestClassifier()\n",
            "Classes:  [0 1]\n",
            "Transduction Labels:  [0 0 1 ... 0 1 0]\n",
            "Iteration When Sample Was Labeled:  [0 0 0 ... 0 0 0]\n",
            "Number of Features:  10000\n",
            "Number of Iterations:  0\n",
            "Termination Condition:  all_labeled\n",
            "\n",
            "---------- Self Training Model - Evaluation on Test Data ----------\n",
            "Accuracy Score:  0.9026628748707343\n",
            "\n",
            "\n",
            "Accuracy_test_set:  0.9026628748707343\n",
            "\n",
            "\n",
            "Classification_report_of_model : \n",
            "               precision    recall  f1-score   support\n",
            "\n",
            "           0       0.89      0.91      0.90     11344\n",
            "           1       0.91      0.89      0.90     11864\n",
            "\n",
            "    accuracy                           0.90     23208\n",
            "   macro avg       0.90      0.90      0.90     23208\n",
            "weighted avg       0.90      0.90      0.90     23208\n",
            "\n",
            "\n",
            "\n",
            "Confusion_Matrix_of model : \n",
            " [[10335  1009]\n",
            " [ 1250 10614]]\n",
            "0.9028467733038374\n",
            "0.9028467733038374\n"
          ]
        },
        {
          "data": {
            "image/png": "[encoded data removed]",
            "text/plain": [
              "<Figure size 432x288 with 2 Axes>"
            ]
          },
          "metadata": {},
          "output_type": "display_data"
        },
        {
          "data": {
            "image/png": "[encoded data removed]",
            "text/plain": [
              "<Figure size 360x360 with 1 Axes>"
            ]
          },
          "metadata": {},
          "output_type": "display_data"
        }
      ],
      "source": [
        "#title Default title text\n",
        "print('---------- Self Training Model - Summary ----------')\n",
        "print('Base Estimator: ', clf_ST.base_estimator_)\n",
        "print('Classes: ', clf_ST.classes_)\n",
        "print('Transduction Labels: ', clf_ST.transduction_)\n",
        "print('Iteration When Sample Was Labeled: ', clf_ST.labeled_iter_)\n",
        "print('Number of Features: ', clf_ST.n_features_in_)\n",
        "# print('Feature Names: ', clf_ST.feature_names_in_)\n",
        "\n",
        "print('Number of Iterations: ', clf_ST.n_iter_)\n",
        "print('Termination Condition: ', clf_ST.termination_condition_)\n",
        "print('')\n",
        "\n",
        "print('---------- Self Training Model - Evaluation on Test Data ----------')\n",
        "accuracy_score_ST = clf_ST.score(X_test, y_test)\n",
        "print('Accuracy Score: ', accuracy_score_ST)\n",
        "Evl_RF=Evaluation(y_test, clf_ST.predict(X_test))\n",
        "collect_results_of_all_model[\"RF_ALGO\"] = Evl_RF#get results of CART algo"
      ]
    },
    {
      "cell_type": "code",
      "execution_count": null,
      "metadata": {
        "colab": {
          "base_uri": "https://localhost:8080/"
        },
        "id": "1_0ToDkmIyI-",
        "outputId": "5622071e-a975-467a-c602-4be686feba2f"
      },
      "outputs": [
        {
          "data": {
            "text/plain": [
              "{'Metrics': ['accuracy', 'precision', 'recall', 'f1-score'],\n",
              " 'RF_ALGO': [0.9026628748707343,\n",
              "  0.9131893659124151,\n",
              "  0.8946392447741065,\n",
              "  0.9038191339890151]}"
            ]
          },
          "execution_count": 27,
          "metadata": {},
          "output_type": "execute_result"
        }
      ],
      "source": [
        "collect_results_of_all_model"
      ]
    },
    {
      "cell_type": "code",
      "execution_count": null,
      "metadata": {
        "id": "oGqSodwKo3eT"
      },
      "outputs": [],
      "source": []
    },
    {
      "cell_type": "code",
      "execution_count": null,
      "metadata": {
        "id": "_rJ0QX2cNfuH"
      },
      "outputs": [],
      "source": [
        "clf_Rand=RandomForestClassifier()\n",
        "# Specify Self-Training model parameters\n",
        "self_training_model = SelfTrainingClassifier(base_estimator=clf_Rand, # An estimator object implementing fit and predict_proba.\n",
        "                                             threshold=0.7, # default=0.75, The decision threshold for use with criterion='threshold'. Should be in [0, 1).\n",
        "                                             criterion='threshold', # {‘threshold’, ‘k_best’}, default=’threshold’, The selection criterion used to select which labels to add to the training set. If 'threshold', pseudo-labels with prediction probabilities above threshold are added to the dataset. If 'k_best', the k_best pseudo-labels with highest prediction probabilities are added to the dataset.\n",
        "                                             #k_best=50, # default=10, The amount of samples to add in each iteration. Only used when criterion='k_best'.\n",
        "                                             max_iter=10, # default=10, Maximum number of iterations allowed. Should be greater than or equal to 0. If it is None, the classifier will continue to predict labels until no new pseudo-labels are added, or all unlabeled samples have been labeled.\n",
        "                                             verbose=True # default=False, Verbosity prints some information after each iteration\n",
        "                                            )\n",
        "\n",
        "# Fit the model\n",
        "clf_ST = self_training_model.fit(X_train, y_train)"
      ]
    },
    {
      "cell_type": "markdown",
      "metadata": {
        "id": "0H49FB5OTTpE"
      },
      "source": [
        "# Summary of Semi supervised Self Training Classifier with RandomForestClassifier and model Evaluation"
      ]
    },
    {
      "cell_type": "code",
      "execution_count": null,
      "metadata": {
        "id": "tQBnw03HNhQe",
        "outputId": "fc461607-7a9a-42c2-ca5d-29c3449fa2d2"
      },
      "outputs": [
        {
          "name": "stdout",
          "output_type": "stream",
          "text": [
            "---------- Self Training Model - Summary ----------\n",
            "Base Estimator:  RandomForestClassifier()\n",
            "Classes:  [0 1]\n",
            "Transduction Labels:  [0 0 1 ... 1 1 0]\n",
            "Iteration When Sample Was Labeled:  [0 0 1 ... 2 0 1]\n",
            "Number of Features:  50\n",
            "Number of Iterations:  10\n",
            "Termination Condition:  max_iter\n",
            "\n",
            "---------- Self Training Model - Evaluation on Test Data ----------\n",
            "Accuracy Score:  0.8203636677007928\n",
            "\n",
            "\n",
            "Accuracy_test_set:  0.8203636677007928\n",
            "\n",
            "\n",
            "Classification_report_of_model : \n",
            "               precision    recall  f1-score   support\n",
            "\n",
            "           0       0.83      0.81      0.82     11826\n",
            "           1       0.81      0.83      0.82     11382\n",
            "\n",
            "    accuracy                           0.82     23208\n",
            "   macro avg       0.82      0.82      0.82     23208\n",
            "weighted avg       0.82      0.82      0.82     23208\n",
            "\n",
            "\n",
            "\n",
            "Confusion_Matrix_of model : \n",
            " [[9621 2205]\n",
            " [1964 9418]]\n"
          ]
        },
        {
          "data": {
            "image/png": "[encoded data removed]",
            "text/plain": [
              "<Figure size 432x288 with 2 Axes>"
            ]
          },
          "metadata": {},
          "output_type": "display_data"
        }
      ],
      "source": [
        "#@title Default title text\n",
        "print('---------- Self Training Model - Summary ----------')\n",
        "print('Base Estimator: ', clf_ST.base_estimator_)\n",
        "print('Classes: ', clf_ST.classes_)\n",
        "print('Transduction Labels: ', clf_ST.transduction_)\n",
        "print('Iteration When Sample Was Labeled: ', clf_ST.labeled_iter_)\n",
        "print('Number of Features: ', clf_ST.n_features_in_)\n",
        "# print('Feature Names: ', clf_ST.feature_names_in_)\n",
        "\n",
        "print('Number of Iterations: ', clf_ST.n_iter_)\n",
        "print('Termination Condition: ', clf_ST.termination_condition_)\n",
        "print('')\n",
        "\n",
        "print('---------- Self Training Model - Evaluation on Test Data ----------')\n",
        "accuracy_score_ST = clf_ST.score(X_test, y_test)\n",
        "print('Accuracy Score: ', accuracy_score_ST)\n",
        "Evl_RF=Evaluation(y_test, clf_ST.predict(X_test))\n",
        "collect_results_of_all_model[\"RF_ALGO\"] = Evl_RF#get results of CART algo"
      ]
    },
    {
      "cell_type": "code",
      "execution_count": null,
      "metadata": {
        "id": "BPtIeIevJJjj"
      },
      "outputs": [],
      "source": []
    },
    {
      "cell_type": "markdown",
      "metadata": {
        "id": "FGUIgfZ7UB1P"
      },
      "source": [
        "# Semi supervised Self Training Classifier with KNeighborsClassifier"
      ]
    },
    {
      "cell_type": "code",
      "execution_count": null,
      "metadata": {
        "id": "GOQfWu0XvRS7"
      },
      "outputs": [],
      "source": [
        "KNN=KNeighborsClassifier(leaf_size=30,metric= 'minkowski',algorithm='auto')"
      ]
    },
    {
      "cell_type": "code",
      "execution_count": null,
      "metadata": {
        "id": "7mKidlVSJKsc"
      },
      "outputs": [],
      "source": [
        "params = {'n_neighbors':[10]\n",
        "         #'leaf_size':list(range(30,50))\n",
        "         }"
      ]
    },
    {
      "cell_type": "code",
      "execution_count": null,
      "metadata": {
        "colab": {
          "base_uri": "https://localhost:8080/"
        },
        "id": "MSVkPBxZvqZX",
        "outputId": "af7fd36a-fef1-4ce5-9cdb-9908b2c3e89d"
      },
      "outputs": [
        {
          "data": {
            "text/plain": [
              "GridSearchCV(cv=10, estimator=KNeighborsClassifier(),\n",
              "             param_grid={'n_neighbors': [10]}, scoring='accuracy')"
            ]
          },
          "execution_count": 26,
          "metadata": {},
          "output_type": "execute_result"
        }
      ],
      "source": [
        "clf_grid = GridSearchCV(KNN, params, cv = 10,scoring = \"accuracy\")\n",
        "clf_grid.fit(X_train, y_train)"
      ]
    },
    {
      "cell_type": "code",
      "execution_count": null,
      "metadata": {
        "colab": {
          "base_uri": "https://localhost:8080/"
        },
        "id": "NTn9rXxGBWuL",
        "outputId": "0b3bdf16-b2a9-4313-99a9-d1fe3f0d0c63"
      },
      "outputs": [
        {
          "name": "stdout",
          "output_type": "stream",
          "text": [
            "tuned hpyerparameters :(best parameters)  {'n_neighbors': 10}\n",
            "accuracy : 0.6848218436592599\n"
          ]
        }
      ],
      "source": [
        "print(\"tuned hpyerparameters :(best parameters) \",clf_grid.best_params_)\n",
        "print(\"accuracy :\",clf_grid.best_score_)"
      ]
    },
    {
      "cell_type": "code",
      "execution_count": null,
      "metadata": {
        "colab": {
          "base_uri": "https://localhost:8080/",
          "height": 283
        },
        "id": "leUi05n-Bbys",
        "outputId": "56c550b4-9c71-444e-99c2-1d0d94df605a"
      },
      "outputs": [
        {
          "ename": "NameError",
          "evalue": "ignored",
          "output_type": "error",
          "traceback": [
            "\u001b[0;31m---------------------------------------------------------------------------\u001b[0m",
            "\u001b[0;31mNameError\u001b[0m                                 Traceback (most recent call last)",
            "\u001b[0;32m<ipython-input-1-49966068d464>\u001b[0m in \u001b[0;36m<module>\u001b[0;34m\u001b[0m\n\u001b[1;32m      1\u001b[0m \u001b[0;31m# Specify Self-Training model parameters\u001b[0m\u001b[0;34m\u001b[0m\u001b[0;34m\u001b[0m\u001b[0;34m\u001b[0m\u001b[0m\n\u001b[0;32m----> 2\u001b[0;31m self_training_model = SelfTrainingClassifier(base_estimator=clf_grid, # An estimator object implementing fit and predict_proba.\n\u001b[0m\u001b[1;32m      3\u001b[0m                                              \u001b[0mthreshold\u001b[0m\u001b[0;34m=\u001b[0m\u001b[0;36m0.7\u001b[0m\u001b[0;34m,\u001b[0m \u001b[0;31m# default=0.75, The decision threshold for use with criterion='threshold'. Should be in [0, 1).\u001b[0m\u001b[0;34m\u001b[0m\u001b[0;34m\u001b[0m\u001b[0m\n\u001b[1;32m      4\u001b[0m                                              \u001b[0mcriterion\u001b[0m\u001b[0;34m=\u001b[0m\u001b[0;34m'threshold'\u001b[0m\u001b[0;34m,\u001b[0m \u001b[0;31m# {‘threshold’, ‘k_best’}, default=’threshold’, The selection criterion used to select which labels to add to the training set. If 'threshold', pseudo-labels with prediction probabilities above threshold are added to the dataset. If 'k_best', the k_best pseudo-labels with highest prediction probabilities are added to the dataset.\u001b[0m\u001b[0;34m\u001b[0m\u001b[0;34m\u001b[0m\u001b[0m\n\u001b[1;32m      5\u001b[0m                                              \u001b[0;31m#k_best=50, # default=10, The amount of samples to add in each iteration. Only used when criterion='k_best'.\u001b[0m\u001b[0;34m\u001b[0m\u001b[0;34m\u001b[0m\u001b[0;34m\u001b[0m\u001b[0m\n",
            "\u001b[0;31mNameError\u001b[0m: name 'SelfTrainingClassifier' is not defined"
          ]
        }
      ],
      "source": [
        "\n",
        "# Specify Self-Training model parameters\n",
        "self_training_model = SelfTrainingClassifier(base_estimator=clf_grid, # An estimator object implementing fit and predict_proba.\n",
        "                                             threshold=0.7, # default=0.75, The decision threshold for use with criterion='threshold'. Should be in [0, 1).\n",
        "                                             criterion='threshold', # {‘threshold’, ‘k_best’}, default=’threshold’, The selection criterion used to select which labels to add to the training set. If 'threshold', pseudo-labels with prediction probabilities above threshold are added to the dataset. If 'k_best', the k_best pseudo-labels with highest prediction probabilities are added to the dataset.\n",
        "                                             #k_best=50, # default=10, The amount of samples to add in each iteration. Only used when criterion='k_best'.\n",
        "                                             max_iter=100, # default=10, Maximum number of iterations allowed. Should be greater than or equal to 0. If it is None, the classifier will continue to predict labels until no new pseudo-labels are added, or all unlabeled samples have been labeled.\n",
        "                                             verbose=True # default=False, Verbosity prints some information after each iteration\n",
        "                                            )\n",
        "\n",
        "# Fit the model\n",
        "clf_ST = self_training_model.fit(X_train, y_train)"
      ]
    },
    {
      "cell_type": "code",
      "execution_count": null,
      "metadata": {
        "id": "MVKgjDlwBeXV"
      },
      "outputs": [],
      "source": [
        "print('---------- Self Training Model - Summary ----------')\n",
        "print('Base Estimator: ', clf_ST.base_estimator_)\n",
        "print('Classes: ', clf_ST.classes_)\n",
        "print('Transduction Labels: ', clf_ST.transduction_)\n",
        "print('Iteration When Sample Was Labeled: ', clf_ST.labeled_iter_)\n",
        "print('Number of Features: ', clf_ST.n_features_in_)\n",
        "# print('Feature Names: ', clf_ST.feature_names_in_)\n",
        "\n",
        "print('Number of Iterations: ', clf_ST.n_iter_)\n",
        "print('Termination Condition: ', clf_ST.termination_condition_)\n",
        "print('')\n",
        "\n",
        "print('---------- Self Training Model - Evaluation on Test Data ----------')\n",
        "accuracy_score_ST = clf_ST.score(X_test, y_test)\n",
        "print('Accuracy Score: ', accuracy_score_ST)\n",
        "Evl_KNN=Evaluation(y_test, clf_ST.predict(X_test))\n",
        "collect_results_of_all_model[\"KNN_ALGO\"] = Evl_KNN#get results of CART algo"
      ]
    },
    {
      "cell_type": "code",
      "execution_count": null,
      "metadata": {
        "id": "fIjoZHKBBhIa"
      },
      "outputs": [],
      "source": [
        "collect_results_of_all_model"
      ]
    },
    {
      "cell_type": "code",
      "execution_count": null,
      "metadata": {
        "id": "YCbqTsTiHLT-"
      },
      "outputs": [],
      "source": [
        "clf_KNN=KNeighborsClassifier()"
      ]
    },
    {
      "cell_type": "code",
      "execution_count": null,
      "metadata": {
        "colab": {
          "base_uri": "https://localhost:8080/"
        },
        "id": "8A5S3OeVJLki",
        "outputId": "e1c73610-5aba-48ea-b57a-18c129586712"
      },
      "outputs": [
        {
          "data": {
            "text/plain": [
              "{'algorithm': 'auto',\n",
              " 'leaf_size': 30,\n",
              " 'metric': 'minkowski',\n",
              " 'metric_params': None,\n",
              " 'n_jobs': None,\n",
              " 'n_neighbors': 5,\n",
              " 'p': 2,\n",
              " 'weights': 'uniform'}"
            ]
          },
          "execution_count": 29,
          "metadata": {},
          "output_type": "execute_result"
        }
      ],
      "source": [
        "clf_KNN.get_params()"
      ]
    },
    {
      "cell_type": "code",
      "execution_count": null,
      "metadata": {
        "colab": {
          "background_save": true,
          "base_uri": "https://localhost:8080/"
        },
        "id": "X8pZ1F2nJXOx",
        "outputId": "22c6ea8d-ffa0-4ba2-aaa5-440c063ada70"
      },
      "outputs": [
        {
          "name": "stdout",
          "output_type": "stream",
          "text": [
            "End of iteration 1, added 125515 new labels.\n",
            "End of iteration 2, added 13685 new labels.\n",
            "End of iteration 3, added 1395 new labels.\n",
            "End of iteration 4, added 468 new labels.\n",
            "End of iteration 5, added 194 new labels.\n",
            "End of iteration 6, added 102 new labels.\n",
            "End of iteration 7, added 72 new labels.\n",
            "End of iteration 8, added 36 new labels.\n",
            "End of iteration 9, added 39 new labels.\n",
            "End of iteration 10, added 33 new labels.\n",
            "End of iteration 11, added 25 new labels.\n",
            "End of iteration 12, added 23 new labels.\n",
            "End of iteration 13, added 43 new labels.\n",
            "End of iteration 14, added 20 new labels.\n",
            "End of iteration 15, added 22 new labels.\n",
            "End of iteration 16, added 22 new labels.\n",
            "End of iteration 17, added 14 new labels.\n",
            "End of iteration 18, added 12 new labels.\n",
            "End of iteration 19, added 10 new labels.\n",
            "End of iteration 20, added 10 new labels.\n",
            "End of iteration 21, added 17 new labels.\n",
            "End of iteration 22, added 9 new labels.\n",
            "End of iteration 23, added 14 new labels.\n",
            "End of iteration 24, added 10 new labels.\n",
            "End of iteration 25, added 14 new labels.\n",
            "End of iteration 26, added 15 new labels.\n",
            "End of iteration 27, added 18 new labels.\n",
            "End of iteration 28, added 12 new labels.\n",
            "End of iteration 29, added 13 new labels.\n",
            "End of iteration 30, added 8 new labels.\n",
            "End of iteration 31, added 4 new labels.\n",
            "End of iteration 32, added 9 new labels.\n",
            "End of iteration 33, added 7 new labels.\n",
            "End of iteration 34, added 5 new labels.\n",
            "End of iteration 35, added 6 new labels.\n",
            "End of iteration 36, added 7 new labels.\n",
            "End of iteration 37, added 6 new labels.\n",
            "End of iteration 38, added 7 new labels.\n",
            "End of iteration 39, added 7 new labels.\n",
            "End of iteration 40, added 7 new labels.\n",
            "End of iteration 41, added 5 new labels.\n",
            "End of iteration 42, added 6 new labels.\n",
            "End of iteration 43, added 3 new labels.\n",
            "End of iteration 44, added 6 new labels.\n",
            "End of iteration 45, added 3 new labels.\n",
            "End of iteration 46, added 7 new labels.\n",
            "End of iteration 47, added 4 new labels.\n",
            "End of iteration 48, added 2 new labels.\n",
            "End of iteration 49, added 1 new labels.\n",
            "End of iteration 50, added 8 new labels.\n",
            "End of iteration 51, added 8 new labels.\n",
            "End of iteration 52, added 6 new labels.\n",
            "End of iteration 53, added 4 new labels.\n",
            "End of iteration 54, added 3 new labels.\n",
            "End of iteration 55, added 2 new labels.\n",
            "End of iteration 56, added 5 new labels.\n",
            "End of iteration 57, added 1 new labels.\n",
            "End of iteration 58, added 4 new labels.\n",
            "End of iteration 59, added 3 new labels.\n",
            "End of iteration 60, added 1 new labels.\n",
            "End of iteration 61, added 4 new labels.\n",
            "End of iteration 62, added 3 new labels.\n",
            "End of iteration 63, added 1 new labels.\n",
            "End of iteration 64, added 3 new labels.\n",
            "End of iteration 65, added 3 new labels.\n",
            "End of iteration 66, added 2 new labels.\n",
            "End of iteration 67, added 1 new labels.\n",
            "End of iteration 68, added 3 new labels.\n",
            "End of iteration 69, added 4 new labels.\n",
            "End of iteration 70, added 3 new labels.\n",
            "End of iteration 71, added 3 new labels.\n",
            "End of iteration 72, added 4 new labels.\n",
            "End of iteration 73, added 1 new labels.\n"
          ]
        }
      ],
      "source": [
        "\n",
        "# Specify Self-Training model parameters\n",
        "self_training_model = SelfTrainingClassifier(base_estimator=clf_KNN, # An estimator object implementing fit and predict_proba.\n",
        "                                             threshold=0.7, # default=0.75, The decision threshold for use with criterion='threshold'. Should be in [0, 1).\n",
        "                                             criterion='threshold', # {‘threshold’, ‘k_best’}, default=’threshold’, The selection criterion used to select which labels to add to the training set. If 'threshold', pseudo-labels with prediction probabilities above threshold are added to the dataset. If 'k_best', the k_best pseudo-labels with highest prediction probabilities are added to the dataset.\n",
        "                                             #k_best=50, # default=10, The amount of samples to add in each iteration. Only used when criterion='k_best'.\n",
        "                                             max_iter=100, # default=10, Maximum number of iterations allowed. Should be greater than or equal to 0. If it is None, the classifier will continue to predict labels until no new pseudo-labels are added, or all unlabeled samples have been labeled.\n",
        "                                             verbose=True # default=False, Verbosity prints some information after each iteration\n",
        "                                            )\n",
        "\n",
        "# Fit the model\n",
        "clf_ST = self_training_model.fit(X_train, y_train)"
      ]
    },
    {
      "cell_type": "code",
      "execution_count": null,
      "metadata": {
        "colab": {
          "base_uri": "https://localhost:8080/",
          "height": 1000
        },
        "id": "rdPf-vnDLhj3",
        "outputId": "963dd5d7-0594-487e-bdc1-0373beccbd99"
      },
      "outputs": [
        {
          "name": "stdout",
          "output_type": "stream",
          "text": [
            "---------- Self Training Model - Summary ----------\n",
            "Base Estimator:  KNeighborsClassifier()\n",
            "Classes:  [0 1]\n",
            "Transduction Labels:  [0 0 0 ... 0 0 0]\n",
            "Iteration When Sample Was Labeled:  [0 1 1 ... 1 1 1]\n",
            "Number of Features:  1000\n",
            "Number of Iterations:  49\n",
            "Termination Condition:  no_change\n",
            "\n",
            "---------- Self Training Model - Evaluation on Test Data ----------\n",
            "Accuracy Score:  0.5427869700103413\n",
            "\n",
            "\n",
            "Accuracy_test_set:  0.5427869700103413\n",
            "\n",
            "\n",
            "Classification_report_of_model : \n",
            "               precision    recall  f1-score   support\n",
            "\n",
            "           0       0.97      0.52      0.68     21574\n",
            "           1       0.11      0.81      0.20      1634\n",
            "\n",
            "    accuracy                           0.54     23208\n",
            "   macro avg       0.54      0.67      0.44     23208\n",
            "weighted avg       0.91      0.54      0.65     23208\n",
            "\n",
            "\n",
            "\n",
            "Confusion_Matrix_of model : \n",
            " [[11274 10300]\n",
            " [  311  1323]]\n",
            "0.6661214953536142\n",
            "0.6661214953536142\n"
          ]
        },
        {
          "data": {
            "image/png": "[encoded data removed]",
            "text/plain": [
              "<Figure size 432x288 with 2 Axes>"
            ]
          },
          "metadata": {},
          "output_type": "display_data"
        },
        {
          "data": {
            "image/png": "[encoded data removed]",
            "text/plain": [
              "<Figure size 360x360 with 1 Axes>"
            ]
          },
          "metadata": {},
          "output_type": "display_data"
        }
      ],
      "source": [
        "print('---------- Self Training Model - Summary ----------')\n",
        "print('Base Estimator: ', clf_ST.base_estimator_)\n",
        "print('Classes: ', clf_ST.classes_)\n",
        "print('Transduction Labels: ', clf_ST.transduction_)\n",
        "print('Iteration When Sample Was Labeled: ', clf_ST.labeled_iter_)\n",
        "print('Number of Features: ', clf_ST.n_features_in_)\n",
        "# print('Feature Names: ', clf_ST.feature_names_in_)\n",
        "\n",
        "print('Number of Iterations: ', clf_ST.n_iter_)\n",
        "print('Termination Condition: ', clf_ST.termination_condition_)\n",
        "print('')\n",
        "\n",
        "print('---------- Self Training Model - Evaluation on Test Data ----------')\n",
        "accuracy_score_ST = clf_ST.score(X_test, y_test)\n",
        "print('Accuracy Score: ', accuracy_score_ST)\n",
        "Evl_KNN=Evaluation(y_test, clf_ST.predict(X_test))\n",
        "collect_results_of_all_model[\"KNN_ALGO\"] = Evl_KNN#get results of CART algo"
      ]
    },
    {
      "cell_type": "code",
      "execution_count": null,
      "metadata": {
        "colab": {
          "base_uri": "https://localhost:8080/"
        },
        "id": "GkRDVDMeNyjD",
        "outputId": "71fe95dd-2f2f-4b5e-be60-146aeee1b1e0"
      },
      "outputs": [
        {
          "data": {
            "text/plain": [
              "{'Metrics': ['accuracy', 'precision', 'recall', 'f1-score'],\n",
              " 'SGD_ALGO': [0.9295932437090658,\n",
              "  0.9139636926783102,\n",
              "  0.9436794883183797,\n",
              "  0.928583916083916],\n",
              " 'ADA_ALGO': [0.8792226818338504,\n",
              "  0.8379075970059365,\n",
              "  0.9137736911240383,\n",
              "  0.8741977469592926],\n",
              " 'KNN_ALGO': [0.5427869700103413,\n",
              "  0.11382603458659554,\n",
              "  0.8096695226438189,\n",
              "  0.19959266802443992]}"
            ]
          },
          "execution_count": 48,
          "metadata": {},
          "output_type": "execute_result"
        }
      ],
      "source": [
        "collect_results_of_all_model"
      ]
    },
    {
      "cell_type": "code",
      "execution_count": null,
      "metadata": {
        "colab": {
          "base_uri": "https://localhost:8080/"
        },
        "id": "mSp6WLcuadl1",
        "outputId": "b9770fa1-1108-461e-93a8-aa4b300a8460"
      },
      "outputs": [
        {
          "name": "stdout",
          "output_type": "stream",
          "text": [
            "End of iteration 1, added 116305 new labels.\n",
            "End of iteration 2, added 29432 new labels.\n",
            "End of iteration 3, added 142 new labels.\n",
            "End of iteration 4, added 40 new labels.\n",
            "End of iteration 5, added 11 new labels.\n",
            "End of iteration 6, added 2 new labels.\n",
            "End of iteration 7, added 1 new labels.\n"
          ]
        }
      ],
      "source": [
        "clf_KNN=KNeighborsClassifier(n_neighbors=5)\n",
        "# Specify Self-Training model parameters\n",
        "self_training_model = SelfTrainingClassifier(base_estimator=clf_KNN, # An estimator object implementing fit and predict_proba.\n",
        "                                             threshold=0.7, # default=0.75, The decision threshold for use with criterion='threshold'. Should be in [0, 1).\n",
        "                                             criterion='threshold', # {‘threshold’, ‘k_best’}, default=’threshold’, The selection criterion used to select which labels to add to the training set. If 'threshold', pseudo-labels with prediction probabilities above threshold are added to the dataset. If 'k_best', the k_best pseudo-labels with highest prediction probabilities are added to the dataset.\n",
        "                                             #k_best=50, # default=10, The amount of samples to add in each iteration. Only used when criterion='k_best'.\n",
        "                                             max_iter=100, # default=10, Maximum number of iterations allowed. Should be greater than or equal to 0. If it is None, the classifier will continue to predict labels until no new pseudo-labels are added, or all unlabeled samples have been labeled.\n",
        "                                             verbose=True # default=False, Verbosity prints some information after each iteration\n",
        "                                            )\n",
        "\n",
        "# Fit the model\n",
        "clf_ST = self_training_model.fit(X_train, y_train)"
      ]
    },
    {
      "cell_type": "code",
      "execution_count": null,
      "metadata": {
        "colab": {
          "base_uri": "https://localhost:8080/",
          "height": 1000
        },
        "id": "4f1K4irQajMw",
        "outputId": "44051059-7aaf-4b8f-a628-d564964a57c7"
      },
      "outputs": [
        {
          "name": "stdout",
          "output_type": "stream",
          "text": [
            "---------- Self Training Model - Summary ----------\n",
            "Base Estimator:  KNeighborsClassifier(n_neighbors=20)\n",
            "Classes:  [0 1]\n",
            "Transduction Labels:  [0 0 0 ... 0 0 0]\n",
            "Iteration When Sample Was Labeled:  [0 1 2 ... 2 2 1]\n",
            "Number of Features:  10000\n",
            "Number of Iterations:  8\n",
            "Termination Condition:  no_change\n",
            "\n",
            "---------- Self Training Model - Evaluation on Test Data ----------\n",
            "Accuracy Score:  0.5006032402619787\n",
            "\n",
            "\n",
            "Accuracy_test_set:  0.5006032402619787\n",
            "\n",
            "\n",
            "Classification_report_of_model : \n",
            "               precision    recall  f1-score   support\n",
            "\n",
            "           0       1.00      0.50      0.67     23155\n",
            "           1       0.00      0.81      0.01        53\n",
            "\n",
            "    accuracy                           0.50     23208\n",
            "   macro avg       0.50      0.66      0.34     23208\n",
            "weighted avg       1.00      0.50      0.66     23208\n",
            "\n",
            "\n",
            "\n",
            "Confusion_Matrix_of model : \n",
            " [[11575 11580]\n",
            " [   10    43]]\n",
            "0.6556063933377607\n",
            "0.6556063933377607\n"
          ]
        },
        {
          "data": {
            "image/png": "[encoded data removed]",
            "text/plain": [
              "<Figure size 432x288 with 2 Axes>"
            ]
          },
          "metadata": {},
          "output_type": "display_data"
        },
        {
          "data": {
            "image/png": "[encoded data removed]",
            "text/plain": [
              "<Figure size 360x360 with 1 Axes>"
            ]
          },
          "metadata": {},
          "output_type": "display_data"
        }
      ],
      "source": [
        "print('---------- Self Training Model - Summary ----------')\n",
        "print('Base Estimator: ', clf_ST.base_estimator_)\n",
        "print('Classes: ', clf_ST.classes_)\n",
        "print('Transduction Labels: ', clf_ST.transduction_)\n",
        "print('Iteration When Sample Was Labeled: ', clf_ST.labeled_iter_)\n",
        "print('Number of Features: ', clf_ST.n_features_in_)\n",
        "# print('Feature Names: ', clf_ST.feature_names_in_)\n",
        "\n",
        "print('Number of Iterations: ', clf_ST.n_iter_)\n",
        "print('Termination Condition: ', clf_ST.termination_condition_)\n",
        "print('')\n",
        "\n",
        "print('---------- Self Training Model - Evaluation on Test Data ----------')\n",
        "accuracy_score_ST = clf_ST.score(X_test, y_test)\n",
        "print('Accuracy Score: ', accuracy_score_ST)\n",
        "Evl_KNN=Evaluation(y_test, clf_ST.predict(X_test))\n",
        "collect_results_of_all_model[\"KNN_ALGO\"] = Evl_KNN#get results of CART algo"
      ]
    },
    {
      "cell_type": "code",
      "execution_count": null,
      "metadata": {
        "id": "se75aZfCgdFg"
      },
      "outputs": [],
      "source": [
        "collect_results_of_all_model"
      ]
    },
    {
      "cell_type": "code",
      "execution_count": null,
      "metadata": {
        "colab": {
          "base_uri": "https://localhost:8080/"
        },
        "id": "B5pbnatcNibY",
        "outputId": "2f28da30-0f5d-4b7b-df92-40045c6ca7f4"
      },
      "outputs": [
        {
          "name": "stdout",
          "output_type": "stream",
          "text": [
            "End of iteration 1, added 126308 new labels.\n",
            "End of iteration 2, added 13446 new labels.\n",
            "End of iteration 3, added 1807 new labels.\n",
            "End of iteration 4, added 253 new labels.\n",
            "End of iteration 5, added 149 new labels.\n",
            "End of iteration 6, added 49 new labels.\n",
            "End of iteration 7, added 26 new labels.\n",
            "End of iteration 8, added 26 new labels.\n",
            "End of iteration 9, added 54 new labels.\n",
            "End of iteration 10, added 67 new labels.\n",
            "End of iteration 11, added 24 new labels.\n",
            "End of iteration 12, added 7 new labels.\n",
            "End of iteration 13, added 6 new labels.\n",
            "End of iteration 14, added 5 new labels.\n",
            "End of iteration 15, added 12 new labels.\n",
            "End of iteration 16, added 3 new labels.\n",
            "End of iteration 17, added 6 new labels.\n",
            "End of iteration 18, added 6 new labels.\n",
            "End of iteration 19, added 1 new labels.\n",
            "End of iteration 20, added 1 new labels.\n",
            "End of iteration 21, added 1 new labels.\n",
            "End of iteration 22, added 6 new labels.\n",
            "End of iteration 23, added 3 new labels.\n",
            "End of iteration 24, added 2 new labels.\n",
            "End of iteration 25, added 4 new labels.\n",
            "End of iteration 26, added 4 new labels.\n",
            "End of iteration 27, added 7 new labels.\n",
            "End of iteration 28, added 3 new labels.\n",
            "End of iteration 29, added 2 new labels.\n",
            "End of iteration 30, added 3 new labels.\n",
            "End of iteration 31, added 2 new labels.\n",
            "End of iteration 32, added 6 new labels.\n",
            "End of iteration 33, added 2 new labels.\n"
          ]
        }
      ],
      "source": [
        "clf_KNN=KNeighborsClassifier(n_neighbors=10,leaf_size=30,metric= 'minkowski',algorithm='auto')\n",
        "# Specify Self-Training model parameters\n",
        "self_training_model = SelfTrainingClassifier(base_estimator=clf_KNN, # An estimator object implementing fit and predict_proba.\n",
        "                                             threshold=0.7, # default=0.75, The decision threshold for use with criterion='threshold'. Should be in [0, 1).\n",
        "                                             criterion='threshold', # {‘threshold’, ‘k_best’}, default=’threshold’, The selection criterion used to select which labels to add to the training set. If 'threshold', pseudo-labels with prediction probabilities above threshold are added to the dataset. If 'k_best', the k_best pseudo-labels with highest prediction probabilities are added to the dataset.\n",
        "                                             #k_best=50, # default=10, The amount of samples to add in each iteration. Only used when criterion='k_best'.\n",
        "                                             max_iter=100, # default=10, Maximum number of iterations allowed. Should be greater than or equal to 0. If it is None, the classifier will continue to predict labels until no new pseudo-labels are added, or all unlabeled samples have been labeled.\n",
        "                                             verbose=True # default=False, Verbosity prints some information after each iteration\n",
        "                                            )\n",
        "\n",
        "# Fit the model\n",
        "clf_ST = self_training_model.fit(X_train, y_train)"
      ]
    },
    {
      "cell_type": "markdown",
      "metadata": {
        "id": "aSu_9dBuTkfE"
      },
      "source": [
        "# Summary of Semi supervised Self Training Classifier with KNeighborsClassifier and model Evaluation"
      ]
    },
    {
      "cell_type": "code",
      "execution_count": null,
      "metadata": {
        "colab": {
          "base_uri": "https://localhost:8080/",
          "height": 1000
        },
        "id": "yCFFaE1eNjla",
        "outputId": "9af206d4-317d-4ce3-b4d0-3b1af8320d92"
      },
      "outputs": [
        {
          "name": "stdout",
          "output_type": "stream",
          "text": [
            "---------- Self Training Model - Summary ----------\n",
            "Base Estimator:  KNeighborsClassifier(n_neighbors=10)\n",
            "Classes:  [0 1]\n",
            "Transduction Labels:  [0 0 0 ... 0 0 0]\n",
            "Iteration When Sample Was Labeled:  [0 1 1 ... 1 1 1]\n",
            "Number of Features:  1000\n",
            "Number of Iterations:  34\n",
            "Termination Condition:  no_change\n",
            "\n",
            "---------- Self Training Model - Evaluation on Test Data ----------\n",
            "Accuracy Score:  0.53205791106515\n",
            "\n",
            "\n",
            "Accuracy_test_set:  0.53205791106515\n",
            "\n",
            "\n",
            "Classification_report_of_model : \n",
            "               precision    recall  f1-score   support\n",
            "\n",
            "           0       0.99      0.52      0.68     22119\n",
            "           1       0.08      0.85      0.15      1089\n",
            "\n",
            "    accuracy                           0.53     23208\n",
            "   macro avg       0.53      0.68      0.41     23208\n",
            "weighted avg       0.94      0.53      0.65     23208\n",
            "\n",
            "\n",
            "\n",
            "Confusion_Matrix_of model : \n",
            " [[11422 10697]\n",
            " [  163   926]]\n",
            "0.6833550104699138\n",
            "0.6833550104699138\n"
          ]
        },
        {
          "data": {
            "image/png": "[encoded data removed]",
            "text/plain": [
              "<Figure size 432x288 with 2 Axes>"
            ]
          },
          "metadata": {},
          "output_type": "display_data"
        },
        {
          "data": {
            "image/png": "[encoded data removed]",
            "text/plain": [
              "<Figure size 360x360 with 1 Axes>"
            ]
          },
          "metadata": {},
          "output_type": "display_data"
        }
      ],
      "source": [
        "print('---------- Self Training Model - Summary ----------')\n",
        "print('Base Estimator: ', clf_ST.base_estimator_)\n",
        "print('Classes: ', clf_ST.classes_)\n",
        "print('Transduction Labels: ', clf_ST.transduction_)\n",
        "print('Iteration When Sample Was Labeled: ', clf_ST.labeled_iter_)\n",
        "print('Number of Features: ', clf_ST.n_features_in_)\n",
        "# print('Feature Names: ', clf_ST.feature_names_in_)\n",
        "\n",
        "print('Number of Iterations: ', clf_ST.n_iter_)\n",
        "print('Termination Condition: ', clf_ST.termination_condition_)\n",
        "print('')\n",
        "\n",
        "print('---------- Self Training Model - Evaluation on Test Data ----------')\n",
        "accuracy_score_ST = clf_ST.score(X_test, y_test)\n",
        "print('Accuracy Score: ', accuracy_score_ST)\n",
        "Evl_KNN=Evaluation(y_test, clf_ST.predict(X_test))\n",
        "collect_results_of_all_model[\"KNN_ALGO\"] = Evl_KNN#get results of CART algo"
      ]
    },
    {
      "cell_type": "code",
      "execution_count": null,
      "metadata": {
        "colab": {
          "base_uri": "https://localhost:8080/"
        },
        "id": "Ns0ezuAnaXLL",
        "outputId": "64ae6a5b-2ee9-4238-9871-0c04cad25c42"
      },
      "outputs": [
        {
          "data": {
            "text/plain": [
              "{'Metrics': ['accuracy', 'precision', 'recall', 'f1-score'],\n",
              " 'KNN_ALGO': [0.53205791106515,\n",
              "  0.0796696205798847,\n",
              "  0.8503213957759412,\n",
              "  0.14568911264946505]}"
            ]
          },
          "execution_count": 26,
          "metadata": {},
          "output_type": "execute_result"
        }
      ],
      "source": [
        "collect_results_of_all_model"
      ]
    },
    {
      "cell_type": "markdown",
      "metadata": {
        "id": "0rKCJ6GjULIx"
      },
      "source": [
        "# Semi supervised Self Training Classifier with SGDClassifier"
      ]
    },
    {
      "cell_type": "code",
      "execution_count": null,
      "metadata": {
        "id": "-lr3pvCuj25Z"
      },
      "outputs": [],
      "source": [
        "#sgd with grid\n",
        "clf_sgd=SGDClassifier()\n",
        "param_grid = [{'alpha': [0.0001, 0.1, 1.0],\n",
        "               'loss': ['modified_huber'],\n",
        "               'penalty': ['l2']}]"
      ]
    },
    {
      "cell_type": "code",
      "execution_count": null,
      "metadata": {
        "id": "yMxgdbMPkhj0"
      },
      "outputs": [],
      "source": [
        "clf_grid = GridSearchCV(clf_sgd, param_grid, cv= 10,\n",
        "                   scoring='accuracy')\n",
        "# Fit the data to the pipeline with gridsearch\n",
        "#clf_grid.fit(X_train, y_train)"
      ]
    },
    {
      "cell_type": "code",
      "execution_count": null,
      "metadata": {
        "colab": {
          "base_uri": "https://localhost:8080/"
        },
        "id": "Y3Ya1KMwk6f5",
        "outputId": "2975b258-42de-4c9d-d28c-0d156d226502"
      },
      "outputs": [
        {
          "name": "stdout",
          "output_type": "stream",
          "text": [
            "tuned hpyerparameters :(best parameters)  {'alpha': 0.1, 'loss': 'modified_huber', 'penalty': 'l2'}\n",
            "accuracy : 0.6999990425124517\n"
          ]
        }
      ],
      "source": [
        "print(\"tuned hpyerparameters :(best parameters) \",clf_grid.best_params_)\n",
        "print(\"accuracy :\",clf_grid.best_score_)"
      ]
    },
    {
      "cell_type": "code",
      "execution_count": null,
      "metadata": {
        "colab": {
          "base_uri": "https://localhost:8080/"
        },
        "id": "I1W_C7LbCDkI",
        "outputId": "69370cf1-986e-41a8-d3b2-687c4ad15115"
      },
      "outputs": [
        {
          "name": "stdout",
          "output_type": "stream",
          "text": [
            "End of iteration 1, added 126092 new labels.\n",
            "End of iteration 2, added 3952 new labels.\n",
            "End of iteration 3, added 819 new labels.\n",
            "End of iteration 4, added 338 new labels.\n",
            "End of iteration 5, added 94 new labels.\n",
            "End of iteration 6, added 57 new labels.\n",
            "End of iteration 7, added 68 new labels.\n",
            "End of iteration 8, added 24 new labels.\n",
            "End of iteration 9, added 88 new labels.\n",
            "End of iteration 10, added 17 new labels.\n",
            "End of iteration 11, added 8 new labels.\n",
            "End of iteration 12, added 11 new labels.\n",
            "End of iteration 13, added 49 new labels.\n",
            "End of iteration 14, added 99 new labels.\n",
            "End of iteration 15, added 21 new labels.\n",
            "End of iteration 16, added 5 new labels.\n",
            "End of iteration 17, added 1 new labels.\n",
            "End of iteration 18, added 15 new labels.\n",
            "End of iteration 19, added 18 new labels.\n",
            "End of iteration 20, added 4 new labels.\n",
            "End of iteration 21, added 5 new labels.\n",
            "End of iteration 22, added 1 new labels.\n",
            "End of iteration 23, added 6 new labels.\n",
            "End of iteration 24, added 1 new labels.\n",
            "End of iteration 25, added 2 new labels.\n",
            "End of iteration 26, added 3 new labels.\n",
            "End of iteration 27, added 7 new labels.\n",
            "End of iteration 28, added 8 new labels.\n",
            "End of iteration 29, added 6 new labels.\n",
            "End of iteration 30, added 1 new labels.\n",
            "End of iteration 31, added 2 new labels.\n",
            "End of iteration 32, added 3 new labels.\n",
            "End of iteration 33, added 2 new labels.\n",
            "End of iteration 34, added 4 new labels.\n",
            "End of iteration 35, added 22 new labels.\n"
          ]
        }
      ],
      "source": [
        "clf_SGD=SGDClassifier(loss=\"modified_huber\"\n",
        "                     )\n",
        "# Specify Self-Training model parameters\n",
        "self_training_model = SelfTrainingClassifier(base_estimator=clf_grid, # An estimator object implementing fit and predict_proba.\n",
        "                                             threshold=0.7, # default=0.75, The decision threshold for use with criterion='threshold'. Should be in [0, 1).\n",
        "                                             criterion='threshold', # {‘threshold’, ‘k_best’}, default=’threshold’, The selection criterion used to select which labels to add to the training set. If 'threshold', pseudo-labels with prediction probabilities above threshold are added to the dataset. If 'k_best', the k_best pseudo-labels with highest prediction probabilities are added to the dataset.\n",
        "                                             #k_best=50, # default=10, The amount of samples to add in each iteration. Only used when criterion='k_best'.\n",
        "                                             max_iter=None, # default=10, Maximum number of iterations allowed. Should be greater than or equal to 0. If it is None, the classifier will continue to predict labels until no new pseudo-labels are added, or all unlabeled samples have been labeled.\n",
        "                                             verbose=True # default=False, Verbosity prints some information after each iteration\n",
        "                                            )\n",
        "\n",
        "# Fit the model\n",
        "clf_ST = self_training_model.fit(X_train, y_train)"
      ]
    },
    {
      "cell_type": "code",
      "execution_count": null,
      "metadata": {
        "colab": {
          "base_uri": "https://localhost:8080/",
          "height": 1000
        },
        "id": "9Rg-QXklCK72",
        "outputId": "873adf41-c5fd-4e5b-fe98-0be156a37bb9"
      },
      "outputs": [
        {
          "name": "stdout",
          "output_type": "stream",
          "text": [
            "---------- Self Training Model - Summary ----------\n",
            "Base Estimator:  GridSearchCV(cv=10, estimator=SGDClassifier(),\n",
            "             param_grid=[{'alpha': [0.0001, 0.1, 1.0],\n",
            "                          'loss': ['modified_huber'], 'penalty': ['l2']}],\n",
            "             scoring='accuracy')\n",
            "Classes:  [0 1]\n",
            "Transduction Labels:  [ 0  0  1 ... -1  1  0]\n",
            "Iteration When Sample Was Labeled:  [ 0  1  1 ... -1  2  1]\n",
            "Number of Features:  10000\n",
            "Number of Iterations:  36\n",
            "Termination Condition:  no_change\n",
            "\n",
            "---------- Self Training Model - Evaluation on Test Data ----------\n",
            "Accuracy Score:  0.9296363322992072\n",
            "\n",
            "\n",
            "Accuracy_test_set:  0.9296363322992072\n",
            "\n",
            "\n",
            "Classification_report_of_model : \n",
            "               precision    recall  f1-score   support\n",
            "\n",
            "           0       0.94      0.92      0.93     11928\n",
            "           1       0.91      0.94      0.93     11280\n",
            "\n",
            "    accuracy                           0.93     23208\n",
            "   macro avg       0.93      0.93      0.93     23208\n",
            "weighted avg       0.93      0.93      0.93     23208\n",
            "\n",
            "\n",
            "\n",
            "Confusion_Matrix_of model : \n",
            " [[10940   988]\n",
            " [  645 10635]]\n",
            "0.9299944168557444\n",
            "0.9299944168557444\n"
          ]
        },
        {
          "data": {
            "image/png": "[encoded data removed]",
            "text/plain": [
              "<Figure size 432x288 with 2 Axes>"
            ]
          },
          "metadata": {},
          "output_type": "display_data"
        },
        {
          "data": {
            "image/png": "[encoded data removed]",
            "text/plain": [
              "<Figure size 360x360 with 1 Axes>"
            ]
          },
          "metadata": {},
          "output_type": "display_data"
        }
      ],
      "source": [
        "print('---------- Self Training Model - Summary ----------')\n",
        "print('Base Estimator: ', clf_ST.base_estimator_)\n",
        "print('Classes: ', clf_ST.classes_)\n",
        "print('Transduction Labels: ', clf_ST.transduction_)\n",
        "print('Iteration When Sample Was Labeled: ', clf_ST.labeled_iter_)\n",
        "print('Number of Features: ', clf_ST.n_features_in_)\n",
        "# print('Feature Names: ', clf_ST.feature_names_in_)\n",
        "\n",
        "print('Number of Iterations: ', clf_ST.n_iter_)\n",
        "print('Termination Condition: ', clf_ST.termination_condition_)\n",
        "print('')\n",
        "\n",
        "print('---------- Self Training Model - Evaluation on Test Data ----------')\n",
        "accuracy_score_ST = clf_ST.score(X_test, y_test)\n",
        "print('Accuracy Score: ', accuracy_score_ST)\n",
        "Evl_SGD=Evaluation(y_test, clf_ST.predict(X_test))\n",
        "collect_results_of_all_model[\"SGD_ALGO\"] = Evl_SGD#get results of CART algo"
      ]
    },
    {
      "cell_type": "code",
      "execution_count": null,
      "metadata": {
        "colab": {
          "base_uri": "https://localhost:8080/"
        },
        "id": "U9iZHGYQCQgq",
        "outputId": "0c3ac2a1-ba67-4219-8f6a-d1a126893e42"
      },
      "outputs": [
        {
          "data": {
            "text/plain": [
              "{'Metrics': ['accuracy', 'precision', 'recall', 'f1-score'],\n",
              " 'SGD_ALGO': [0.9296794208893485,\n",
              "  0.915684418824744,\n",
              "  0.9422753430721558,\n",
              "  0.9287895976961339]}"
            ]
          },
          "execution_count": 33,
          "metadata": {},
          "output_type": "execute_result"
        }
      ],
      "source": [
        "collect_results_of_all_model"
      ]
    },
    {
      "cell_type": "code",
      "execution_count": null,
      "metadata": {
        "colab": {
          "base_uri": "https://localhost:8080/"
        },
        "id": "Sc5d1YqBNslz",
        "outputId": "348ea8a5-a937-40b0-8aa1-732fba410994"
      },
      "outputs": [
        {
          "name": "stdout",
          "output_type": "stream",
          "text": [
            "End of iteration 1, added 125973 new labels.\n",
            "End of iteration 2, added 4038 new labels.\n",
            "End of iteration 3, added 906 new labels.\n",
            "End of iteration 4, added 244 new labels.\n",
            "End of iteration 5, added 171 new labels.\n",
            "End of iteration 6, added 67 new labels.\n",
            "End of iteration 7, added 57 new labels.\n",
            "End of iteration 8, added 30 new labels.\n",
            "End of iteration 9, added 22 new labels.\n",
            "End of iteration 10, added 29 new labels.\n",
            "End of iteration 11, added 13 new labels.\n",
            "End of iteration 12, added 21 new labels.\n",
            "End of iteration 13, added 8 new labels.\n",
            "End of iteration 14, added 9 new labels.\n",
            "End of iteration 15, added 26 new labels.\n",
            "End of iteration 16, added 5 new labels.\n",
            "End of iteration 17, added 37 new labels.\n",
            "End of iteration 18, added 15 new labels.\n",
            "End of iteration 19, added 14 new labels.\n",
            "End of iteration 20, added 2 new labels.\n",
            "End of iteration 21, added 3 new labels.\n",
            "End of iteration 22, added 2 new labels.\n",
            "End of iteration 23, added 1 new labels.\n",
            "End of iteration 24, added 2 new labels.\n",
            "End of iteration 25, added 2 new labels.\n",
            "End of iteration 26, added 23 new labels.\n",
            "End of iteration 27, added 4 new labels.\n",
            "End of iteration 28, added 3 new labels.\n",
            "End of iteration 29, added 2 new labels.\n",
            "End of iteration 30, added 72 new labels.\n",
            "End of iteration 31, added 5 new labels.\n",
            "End of iteration 32, added 2 new labels.\n",
            "End of iteration 33, added 2 new labels.\n"
          ]
        }
      ],
      "source": [
        "clf_SGD=SGDClassifier(loss=\"modified_huber\"\n",
        "                     )\n",
        "# Specify Self-Training model parameters\n",
        "self_training_model = SelfTrainingClassifier(base_estimator=clf_SGD, # An estimator object implementing fit and predict_proba.\n",
        "                                             threshold=0.7, # default=0.75, The decision threshold for use with criterion='threshold'. Should be in [0, 1).\n",
        "                                             criterion='threshold', # {‘threshold’, ‘k_best’}, default=’threshold’, The selection criterion used to select which labels to add to the training set. If 'threshold', pseudo-labels with prediction probabilities above threshold are added to the dataset. If 'k_best', the k_best pseudo-labels with highest prediction probabilities are added to the dataset.\n",
        "                                             #k_best=50, # default=10, The amount of samples to add in each iteration. Only used when criterion='k_best'.\n",
        "                                             max_iter=None, # default=10, Maximum number of iterations allowed. Should be greater than or equal to 0. If it is None, the classifier will continue to predict labels until no new pseudo-labels are added, or all unlabeled samples have been labeled.\n",
        "                                             verbose=True # default=False, Verbosity prints some information after each iteration\n",
        "                                            )\n",
        "\n",
        "# Fit the model\n",
        "clf_ST = self_training_model.fit(X_train, y_train)"
      ]
    },
    {
      "cell_type": "markdown",
      "metadata": {
        "id": "Fkra8WaxTwVa"
      },
      "source": [
        "# Summary of Semi supervised Self Training Classifier with SGDClassifier and model Evaluation"
      ]
    },
    {
      "cell_type": "code",
      "execution_count": null,
      "metadata": {
        "colab": {
          "base_uri": "https://localhost:8080/",
          "height": 1000
        },
        "id": "-Yh0-hlLNtyT",
        "outputId": "96c5c71d-7376-45b5-ec01-1d5f5acad994"
      },
      "outputs": [
        {
          "name": "stdout",
          "output_type": "stream",
          "text": [
            "---------- Self Training Model - Summary ----------\n",
            "Base Estimator:  SGDClassifier(loss='modified_huber')\n",
            "Classes:  [0 1]\n",
            "Transduction Labels:  [0 0 1 ... 0 1 0]\n",
            "Iteration When Sample Was Labeled:  [ 0  1  1 ... 19  2  1]\n",
            "Number of Features:  10000\n",
            "Number of Iterations:  34\n",
            "Termination Condition:  no_change\n",
            "\n",
            "---------- Self Training Model - Evaluation on Test Data ----------\n",
            "Accuracy Score:  0.9295932437090658\n",
            "\n",
            "\n",
            "Accuracy_test_set:  0.9295932437090658\n",
            "\n",
            "\n",
            "Classification_report_of_model : \n",
            "               precision    recall  f1-score   support\n",
            "\n",
            "           0       0.95      0.92      0.93     11951\n",
            "           1       0.91      0.94      0.93     11257\n",
            "\n",
            "    accuracy                           0.93     23208\n",
            "   macro avg       0.93      0.93      0.93     23208\n",
            "weighted avg       0.93      0.93      0.93     23208\n",
            "\n",
            "\n",
            "\n",
            "Confusion_Matrix_of model : \n",
            " [[10951  1000]\n",
            " [  634 10623]]\n",
            "0.930002241021377\n",
            "0.930002241021377\n"
          ]
        },
        {
          "data": {
            "image/png": "[encoded data removed]",
            "text/plain": [
              "<Figure size 432x288 with 2 Axes>"
            ]
          },
          "metadata": {},
          "output_type": "display_data"
        },
        {
          "data": {
            "image/png": "[encoded data removed]",
            "text/plain": [
              "<Figure size 360x360 with 1 Axes>"
            ]
          },
          "metadata": {},
          "output_type": "display_data"
        }
      ],
      "source": [
        "print('---------- Self Training Model - Summary ----------')\n",
        "print('Base Estimator: ', clf_ST.base_estimator_)\n",
        "print('Classes: ', clf_ST.classes_)\n",
        "print('Transduction Labels: ', clf_ST.transduction_)\n",
        "print('Iteration When Sample Was Labeled: ', clf_ST.labeled_iter_)\n",
        "print('Number of Features: ', clf_ST.n_features_in_)\n",
        "# print('Feature Names: ', clf_ST.feature_names_in_)\n",
        "\n",
        "print('Number of Iterations: ', clf_ST.n_iter_)\n",
        "print('Termination Condition: ', clf_ST.termination_condition_)\n",
        "print('')\n",
        "\n",
        "print('---------- Self Training Model - Evaluation on Test Data ----------')\n",
        "accuracy_score_ST = clf_ST.score(X_test, y_test)\n",
        "print('Accuracy Score: ', accuracy_score_ST)\n",
        "Evl_SGD=Evaluation(y_test, clf_ST.predict(X_test))\n",
        "collect_results_of_all_model[\"SGD_ALGO\"] = Evl_SGD#get results of CART algo"
      ]
    },
    {
      "cell_type": "code",
      "execution_count": null,
      "metadata": {
        "colab": {
          "base_uri": "https://localhost:8080/"
        },
        "id": "wuC71yeE81CK",
        "outputId": "4fb1124e-8ae5-4845-ddf5-2a1228f5f5f5"
      },
      "outputs": [
        {
          "data": {
            "text/plain": [
              "{'Metrics': ['accuracy', 'precision', 'recall', 'f1-score'],\n",
              " 'SGD_ALGO': [0.9295932437090658,\n",
              "  0.9139636926783102,\n",
              "  0.9436794883183797,\n",
              "  0.928583916083916]}"
            ]
          },
          "execution_count": 36,
          "metadata": {},
          "output_type": "execute_result"
        }
      ],
      "source": [
        "collect_results_of_all_model"
      ]
    },
    {
      "cell_type": "code",
      "execution_count": null,
      "metadata": {
        "id": "Wp8Jq-Z9Yf4d"
      },
      "outputs": [],
      "source": []
    },
    {
      "cell_type": "markdown",
      "metadata": {
        "id": "0iBArCvkUQgP"
      },
      "source": [
        "# Semi supervised Self Training Classifier with AdaBoostClassifier"
      ]
    },
    {
      "cell_type": "code",
      "execution_count": null,
      "metadata": {
        "id": "A2NX3blLdjtQ"
      },
      "outputs": [],
      "source": [
        "clf_Ada=AdaBoostClassifier()"
      ]
    },
    {
      "cell_type": "code",
      "execution_count": null,
      "metadata": {
        "id": "CTQUH5Gvdm__"
      },
      "outputs": [],
      "source": [
        "param_grid = [{'algorithm': ['SAMME.R'],\n",
        "              'base_estimator':[None],\n",
        "              'learning_rate': [1.0]}\n",
        "              ]"
      ]
    },
    {
      "cell_type": "code",
      "execution_count": null,
      "metadata": {
        "colab": {
          "base_uri": "https://localhost:8080/"
        },
        "id": "baumfDJHd-th",
        "outputId": "bcbc6c45-67b5-4c8b-a96a-48f18471f0a3"
      },
      "outputs": [
        {
          "data": {
            "text/plain": [
              "GridSearchCV(cv=10, estimator=AdaBoostClassifier(),\n",
              "             param_grid=[{'algorithm': ['SAMME.R'], 'base_estimator': [None],\n",
              "                          'learning_rate': [1.0]}],\n",
              "             scoring='accuracy')"
            ]
          },
          "execution_count": 26,
          "metadata": {},
          "output_type": "execute_result"
        }
      ],
      "source": [
        "clf_grid = GridSearchCV(clf_Ada, param_grid, cv= 10,\n",
        "                   scoring='accuracy')\n",
        "# Fit the data to the pipeline with gridsearch\n",
        "clf_grid.fit(X_train, y_train)"
      ]
    },
    {
      "cell_type": "code",
      "execution_count": null,
      "metadata": {
        "colab": {
          "base_uri": "https://localhost:8080/"
        },
        "id": "NRtJx2Nbe-8O",
        "outputId": "ba2880dc-6619-4937-ec70-4b897896e314"
      },
      "outputs": [
        {
          "name": "stdout",
          "output_type": "stream",
          "text": [
            "tuned hpyerparameters :(best parameters)  {'algorithm': 'SAMME.R', 'base_estimator': None, 'learning_rate': 1.0}\n",
            "accuracy : 0.6394099424415884\n"
          ]
        }
      ],
      "source": [
        "print(\"tuned hpyerparameters :(best parameters) \",clf_grid.best_params_)\n",
        "print(\"accuracy :\",clf_grid.best_score_)"
      ]
    },
    {
      "cell_type": "code",
      "execution_count": null,
      "metadata": {
        "id": "KJRpY0S8ePNz"
      },
      "outputs": [],
      "source": [
        "#clf_Ada=AdaBoostClassifier()\n",
        "# Specify Self-Training model parameters\n",
        "self_training_model = SelfTrainingClassifier(base_estimator=clf_grid, # An estimator object implementing fit and predict_proba.\n",
        "                                             threshold=0.7, # default=0.75, The decision threshold for use with criterion='threshold'. Should be in [0, 1).\n",
        "                                             criterion='threshold', # {‘threshold’, ‘k_best’}, default=’threshold’, The selection criterion used to select which labels to add to the training set. If 'threshold', pseudo-labels with prediction probabilities above threshold are added to the dataset. If 'k_best', the k_best pseudo-labels with highest prediction probabilities are added to the dataset.\n",
        "                                             #k_best=50, # default=10, The amount of samples to add in each iteration. Only used when criterion='k_best'.\n",
        "                                             max_iter=None, # default=10, Maximum number of iterations allowed. Should be greater than or equal to 0. If it is None, the classifier will continue to predict labels until no new pseudo-labels are added, or all unlabeled samples have been labeled.\n",
        "                                             verbose=True # default=False, Verbosity prints some information after each iteration\n",
        "                                            )\n",
        "\n",
        "# Fit the model\n",
        "clf_ST = self_training_model.fit(X_train, y_train)"
      ]
    },
    {
      "cell_type": "code",
      "execution_count": null,
      "metadata": {
        "colab": {
          "base_uri": "https://localhost:8080/",
          "height": 1000
        },
        "id": "_QNbyO-keope",
        "outputId": "a278af2a-0935-470f-932c-283cccae6cd7"
      },
      "outputs": [
        {
          "name": "stdout",
          "output_type": "stream",
          "text": [
            "---------- Self Training Model - Summary ----------\n",
            "Base Estimator:  GridSearchCV(cv=10, estimator=AdaBoostClassifier(),\n",
            "             param_grid=[{'algorithm': ['SAMME.R'], 'base_estimator': [None],\n",
            "                          'learning_rate': [1.0]}],\n",
            "             scoring='accuracy')\n",
            "Classes:  [0 1]\n",
            "Transduction Labels:  [ 0 -1 -1 ... -1 -1 -1]\n",
            "Iteration When Sample Was Labeled:  [ 0 -1 -1 ... -1 -1 -1]\n",
            "Number of Features:  10000\n",
            "Number of Iterations:  1\n",
            "Termination Condition:  no_change\n",
            "\n",
            "---------- Self Training Model - Evaluation on Test Data ----------\n",
            "Accuracy Score:  0.8792226818338504\n",
            "\n",
            "\n",
            "Accuracy_test_set:  0.8792226818338504\n",
            "\n",
            "\n",
            "Classification_report_of_model : \n",
            "               precision    recall  f1-score   support\n",
            "\n",
            "           0       0.92      0.85      0.88     12550\n",
            "           1       0.84      0.91      0.87     10658\n",
            "\n",
            "    accuracy                           0.88     23208\n",
            "   macro avg       0.88      0.88      0.88     23208\n",
            "weighted avg       0.88      0.88      0.88     23208\n",
            "\n",
            "\n",
            "\n",
            "Confusion_Matrix_of model : \n",
            " [[10666  1884]\n",
            " [  919  9739]]\n",
            "0.8818270846058439\n",
            "0.8818270846058439\n"
          ]
        },
        {
          "data": {
            "image/png": "[encoded data removed]",
            "text/plain": [
              "<Figure size 432x288 with 2 Axes>"
            ]
          },
          "metadata": {},
          "output_type": "display_data"
        },
        {
          "data": {
            "image/png": "[encoded data removed]",
            "text/plain": [
              "<Figure size 360x360 with 1 Axes>"
            ]
          },
          "metadata": {},
          "output_type": "display_data"
        }
      ],
      "source": [
        "print('---------- Self Training Model - Summary ----------')\n",
        "print('Base Estimator: ', clf_ST.base_estimator_)\n",
        "print('Classes: ', clf_ST.classes_)\n",
        "print('Transduction Labels: ', clf_ST.transduction_)\n",
        "print('Iteration When Sample Was Labeled: ', clf_ST.labeled_iter_)\n",
        "print('Number of Features: ', clf_ST.n_features_in_)\n",
        "# print('Feature Names: ', clf_ST.feature_names_in_)\n",
        "#\n",
        "print('Number of Iterations: ', clf_ST.n_iter_)\n",
        "print('Termination Condition: ', clf_ST.termination_condition_)\n",
        "print('')\n",
        "\n",
        "print('---------- Self Training Model - Evaluation on Test Data ----------')\n",
        "accuracy_score_ST = clf_ST.score(X_test, y_test)\n",
        "print('Accuracy Score: ', accuracy_score_ST)\n",
        "Evl_ADA=Evaluation(y_test, clf_ST.predict(X_test))\n",
        "collect_results_of_all_model[\"ADA_ALGO\"] = Evl_ADA#get results of CART algo"
      ]
    },
    {
      "cell_type": "code",
      "execution_count": null,
      "metadata": {
        "colab": {
          "base_uri": "https://localhost:8080/"
        },
        "id": "eaLnCjoHeuhW",
        "outputId": "b5f7c8ab-33b4-469e-d455-3000e3ee7d77"
      },
      "outputs": [
        {
          "data": {
            "text/plain": [
              "{'Metrics': ['accuracy', 'precision', 'recall', 'f1-score'],\n",
              " 'ADA_ALGO': [0.8792226818338504,\n",
              "  0.8379075970059365,\n",
              "  0.9137736911240383,\n",
              "  0.8741977469592926]}"
            ]
          },
          "execution_count": 30,
          "metadata": {},
          "output_type": "execute_result"
        }
      ],
      "source": [
        "collect_results_of_all_model"
      ]
    },
    {
      "cell_type": "code",
      "execution_count": null,
      "metadata": {
        "id": "wKe7zGh0YgoY"
      },
      "outputs": [],
      "source": [
        "clf_Ada=AdaBoostClassifier()"
      ]
    },
    {
      "cell_type": "code",
      "execution_count": null,
      "metadata": {
        "colab": {
          "base_uri": "https://localhost:8080/"
        },
        "id": "JyGHYU9sZHtH",
        "outputId": "e82b89cd-0759-44e4-9d38-040631946f29"
      },
      "outputs": [
        {
          "data": {
            "text/plain": [
              "{'algorithm': 'SAMME.R',\n",
              " 'base_estimator': None,\n",
              " 'learning_rate': 1.0,\n",
              " 'n_estimators': 50,\n",
              " 'random_state': None}"
            ]
          },
          "execution_count": 26,
          "metadata": {},
          "output_type": "execute_result"
        }
      ],
      "source": [
        "clf_Ada.get_params()"
      ]
    },
    {
      "cell_type": "code",
      "execution_count": null,
      "metadata": {
        "id": "9rDISPO_ZO6E"
      },
      "outputs": [],
      "source": []
    },
    {
      "cell_type": "code",
      "execution_count": null,
      "metadata": {
        "id": "APL4g0QaNu7t"
      },
      "outputs": [],
      "source": [
        "clf_Ada=AdaBoostClassifier()\n",
        "# Specify Self-Training model parameters\n",
        "self_training_model = SelfTrainingClassifier(base_estimator=clf_Ada, # An estimator object implementing fit and predict_proba.\n",
        "                                             threshold=0.7, # default=0.75, The decision threshold for use with criterion='threshold'. Should be in [0, 1).\n",
        "                                             criterion='threshold', # {‘threshold’, ‘k_best’}, default=’threshold’, The selection criterion used to select which labels to add to the training set. If 'threshold', pseudo-labels with prediction probabilities above threshold are added to the dataset. If 'k_best', the k_best pseudo-labels with highest prediction probabilities are added to the dataset.\n",
        "                                             #k_best=50, # default=10, The amount of samples to add in each iteration. Only used when criterion='k_best'.\n",
        "                                             max_iter=None, # default=10, Maximum number of iterations allowed. Should be greater than or equal to 0. If it is None, the classifier will continue to predict labels until no new pseudo-labels are added, or all unlabeled samples have been labeled.\n",
        "                                             verbose=True # default=False, Verbosity prints some information after each iteration\n",
        "                                            )\n",
        "\n",
        "# Fit the model\n",
        "clf_ST = self_training_model.fit(X_train, y_train)"
      ]
    },
    {
      "cell_type": "code",
      "execution_count": null,
      "metadata": {
        "colab": {
          "base_uri": "https://localhost:8080/",
          "height": 1000
        },
        "id": "4IJ-5npTeVdH",
        "outputId": "3e72acae-3805-4e1d-ab1e-a49af836b6b3"
      },
      "outputs": [
        {
          "name": "stdout",
          "output_type": "stream",
          "text": [
            "---------- Self Training Model - Summary ----------\n",
            "Base Estimator:  AdaBoostClassifier()\n",
            "Classes:  [0 1]\n",
            "Transduction Labels:  [ 0 -1 -1 ... -1 -1 -1]\n",
            "Iteration When Sample Was Labeled:  [ 0 -1 -1 ... -1 -1 -1]\n",
            "Number of Features:  10000\n",
            "Number of Iterations:  1\n",
            "Termination Condition:  no_change\n",
            "\n",
            "---------- Self Training Model - Evaluation on Test Data ----------\n",
            "Accuracy Score:  0.8792226818338504\n",
            "\n",
            "\n",
            "Accuracy_test_set:  0.8792226818338504\n",
            "\n",
            "\n",
            "Classification_report_of_model : \n",
            "               precision    recall  f1-score   support\n",
            "\n",
            "           0       0.92      0.85      0.88     12550\n",
            "           1       0.84      0.91      0.87     10658\n",
            "\n",
            "    accuracy                           0.88     23208\n",
            "   macro avg       0.88      0.88      0.88     23208\n",
            "weighted avg       0.88      0.88      0.88     23208\n",
            "\n",
            "\n",
            "\n",
            "Confusion_Matrix_of model : \n",
            " [[10666  1884]\n",
            " [  919  9739]]\n",
            "0.8818270846058439\n",
            "0.8818270846058439\n"
          ]
        },
        {
          "data": {
            "image/png": "[encoded data removed]",
            "text/plain": [
              "<Figure size 432x288 with 2 Axes>"
            ]
          },
          "metadata": {},
          "output_type": "display_data"
        },
        {
          "data": {
            "image/png": "[encoded data removed]",
            "text/plain": [
              "<Figure size 360x360 with 1 Axes>"
            ]
          },
          "metadata": {},
          "output_type": "display_data"
        }
      ],
      "source": [
        "print('---------- Self Training Model - Summary ----------')\n",
        "print('Base Estimator: ', clf_ST.base_estimator_)\n",
        "print('Classes: ', clf_ST.classes_)\n",
        "print('Transduction Labels: ', clf_ST.transduction_)\n",
        "print('Iteration When Sample Was Labeled: ', clf_ST.labeled_iter_)\n",
        "print('Number of Features: ', clf_ST.n_features_in_)\n",
        "# print('Feature Names: ', clf_ST.feature_names_in_)\n",
        "#\n",
        "print('Number of Iterations: ', clf_ST.n_iter_)\n",
        "print('Termination Condition: ', clf_ST.termination_condition_)\n",
        "print('')\n",
        "\n",
        "print('---------- Self Training Model - Evaluation on Test Data ----------')\n",
        "accuracy_score_ST = clf_ST.score(X_test, y_test)\n",
        "print('Accuracy Score: ', accuracy_score_ST)\n",
        "Evl_ADA=Evaluation(y_test, clf_ST.predict(X_test))\n",
        "collect_results_of_all_model[\"ADA_ALGO\"] = Evl_ADA#get results of CART algo"
      ]
    },
    {
      "cell_type": "code",
      "execution_count": null,
      "metadata": {
        "colab": {
          "base_uri": "https://localhost:8080/"
        },
        "id": "IM1_R3nPeer-",
        "outputId": "4fb1124e-8ae5-4845-ddf5-2a1228f5f5f5"
      },
      "outputs": [
        {
          "data": {
            "text/plain": [
              "{'Metrics': ['accuracy', 'precision', 'recall', 'f1-score'],\n",
              " 'SGD_ALGO': [0.9295932437090658,\n",
              "  0.9139636926783102,\n",
              "  0.9436794883183797,\n",
              "  0.928583916083916]}"
            ]
          },
          "execution_count": 36,
          "metadata": {},
          "output_type": "execute_result"
        }
      ],
      "source": [
        "collect_results_of_all_model"
      ]
    },
    {
      "cell_type": "markdown",
      "metadata": {
        "id": "TFK_RSCZT2iF"
      },
      "source": [
        "# Summary of Semi supervised Self Training Classifier with AdaBoostClassifier and model Evaluation"
      ]
    },
    {
      "cell_type": "code",
      "execution_count": null,
      "metadata": {
        "colab": {
          "base_uri": "https://localhost:8080/",
          "height": 1000
        },
        "id": "4H9x-PD3Nv7t",
        "outputId": "3e72acae-3805-4e1d-ab1e-a49af836b6b3"
      },
      "outputs": [
        {
          "name": "stdout",
          "output_type": "stream",
          "text": [
            "---------- Self Training Model - Summary ----------\n",
            "Base Estimator:  AdaBoostClassifier()\n",
            "Classes:  [0 1]\n",
            "Transduction Labels:  [ 0 -1 -1 ... -1 -1 -1]\n",
            "Iteration When Sample Was Labeled:  [ 0 -1 -1 ... -1 -1 -1]\n",
            "Number of Features:  10000\n",
            "Number of Iterations:  1\n",
            "Termination Condition:  no_change\n",
            "\n",
            "---------- Self Training Model - Evaluation on Test Data ----------\n",
            "Accuracy Score:  0.8792226818338504\n",
            "\n",
            "\n",
            "Accuracy_test_set:  0.8792226818338504\n",
            "\n",
            "\n",
            "Classification_report_of_model : \n",
            "               precision    recall  f1-score   support\n",
            "\n",
            "           0       0.92      0.85      0.88     12550\n",
            "           1       0.84      0.91      0.87     10658\n",
            "\n",
            "    accuracy                           0.88     23208\n",
            "   macro avg       0.88      0.88      0.88     23208\n",
            "weighted avg       0.88      0.88      0.88     23208\n",
            "\n",
            "\n",
            "\n",
            "Confusion_Matrix_of model : \n",
            " [[10666  1884]\n",
            " [  919  9739]]\n",
            "0.8818270846058439\n",
            "0.8818270846058439\n"
          ]
        },
        {
          "data": {
            "image/png": "[encoded data removed]",
            "text/plain": [
              "<Figure size 432x288 with 2 Axes>"
            ]
          },
          "metadata": {},
          "output_type": "display_data"
        },
        {
          "data": {
            "image/png": "[encoded data removed]",
            "text/plain": [
              "<Figure size 360x360 with 1 Axes>"
            ]
          },
          "metadata": {},
          "output_type": "display_data"
        }
      ],
      "source": [
        "print('---------- Self Training Model - Summary ----------')\n",
        "print('Base Estimator: ', clf_ST.base_estimator_)\n",
        "print('Classes: ', clf_ST.classes_)\n",
        "print('Transduction Labels: ', clf_ST.transduction_)\n",
        "print('Iteration When Sample Was Labeled: ', clf_ST.labeled_iter_)\n",
        "print('Number of Features: ', clf_ST.n_features_in_)\n",
        "# print('Feature Names: ', clf_ST.feature_names_in_)\n",
        "#\n",
        "print('Number of Iterations: ', clf_ST.n_iter_)\n",
        "print('Termination Condition: ', clf_ST.termination_condition_)\n",
        "print('')\n",
        "\n",
        "print('---------- Self Training Model - Evaluation on Test Data ----------')\n",
        "accuracy_score_ST = clf_ST.score(X_test, y_test)\n",
        "print('Accuracy Score: ', accuracy_score_ST)\n",
        "Evl_ADA=Evaluation(y_test, clf_ST.predict(X_test))\n",
        "collect_results_of_all_model[\"ADA_ALGO\"] = Evl_ADA#get results of CART algo"
      ]
    },
    {
      "cell_type": "markdown",
      "metadata": {
        "id": "r0h1Ea_d8B6v"
      },
      "source": [
        "# Semi supervised Self Training Classifier with SVM"
      ]
    },
    {
      "cell_type": "code",
      "execution_count": null,
      "metadata": {
        "id": "6AunLWqTtyhg"
      },
      "outputs": [],
      "source": []
    },
    {
      "cell_type": "code",
      "execution_count": null,
      "metadata": {
        "id": "0HFcDOQJJbBg"
      },
      "outputs": [],
      "source": [
        "from sklearn.svm import LinearSVC\n",
        "model_svc = LinearSVC(penalty='l1',\n",
        "                C=100, # default = 1.0\n",
        "               # max_iter=500,\n",
        "                dual=False\n",
        "               )"
      ]
    },
    {
      "cell_type": "code",
      "execution_count": null,
      "metadata": {
        "id": "RWguPJcZJdJQ"
      },
      "outputs": [],
      "source": [
        "param_grid = {  'C': [100, 1000]\n",
        "              }\n",
        ""
      ]
    },
    {
      "cell_type": "code",
      "execution_count": null,
      "metadata": {
        "id": "1c6wnpAiG-b3"
      },
      "outputs": [],
      "source": [
        "clf_grid = GridSearchCV(model_svc, param_grid, cv=10, scoring='accuracy')"
      ]
    },
    {
      "cell_type": "code",
      "execution_count": null,
      "metadata": {
        "colab": {
          "background_save": true
        },
        "id": "1_BBElcexFO_",
        "outputId": "72c68b26-d66e-4c40-cee1-ed01db872383"
      },
      "outputs": [
        {
          "data": {
            "text/plain": [
              "GridSearchCV(cv=10, estimator=LinearSVC(C=100, dual=False, penalty='l1'),\n",
              "             param_grid={'C': [100, 1000]}, scoring='accuracy')"
            ]
          },
          "execution_count": 31,
          "metadata": {},
          "output_type": "execute_result"
        }
      ],
      "source": [
        "clf_grid.fit(X_train, y_train)"
      ]
    },
    {
      "cell_type": "code",
      "execution_count": null,
      "metadata": {
        "colab": {
          "base_uri": "https://localhost:8080/"
        },
        "id": "MQMxKGkBJ5GA",
        "outputId": "444842e0-4f5c-4db6-e08d-a662e6dbee5d"
      },
      "outputs": [
        {
          "name": "stdout",
          "output_type": "stream",
          "text": [
            "tuned hpyerparameters :(best parameters)  {'C': 100}\n",
            "accuracy : 0.9308025202172567\n"
          ]
        }
      ],
      "source": [
        "print(\"tuned hpyerparameters :(best parameters) \",clf_grid.best_params_)\n",
        "print(\"accuracy :\",clf_grid.best_score_)"
      ]
    },
    {
      "cell_type": "code",
      "execution_count": null,
      "metadata": {
        "id": "7sCLUwpvKGDA"
      },
      "outputs": [],
      "source": [
        "# Specify Self-Training model parameters\n",
        "self_training_model = SelfTrainingClassifier(base_estimator=clf_grid, # An estimator object implementing fit and predict_proba.\n",
        "                                             threshold=0.7, # default=0.75, The decision threshold for use with criterion='threshold'. Should be in [0, 1).\n",
        "                                             criterion='threshold', # {‘threshold’, ‘k_best’}, default=’threshold’, The selection criterion used to select which labels to add to the training set. If 'threshold', pseudo-labels with prediction probabilities above threshold are added to the dataset. If 'k_best', the k_best pseudo-labels with highest prediction probabilities are added to the dataset.\n",
        "                                             #k_best=50, # default=10, The amount of samples to add in each iteration. Only used when criterion='k_best'.\n",
        "                                             max_iter=100, # default=10, Maximum number of iterations allowed. Should be greater than or equal to 0. If it is None, the classifier will continue to predict labels until no new pseudo-labels are added, or all unlabeled samples have been labeled.\n",
        "                                             #verbose=True # default=False, Verbosity prints some information after each iteration\n",
        "                                            )\n",
        "clf_ST = self_training_model.fit(X_train, y_train)"
      ]
    },
    {
      "cell_type": "code",
      "execution_count": null,
      "metadata": {
        "colab": {
          "base_uri": "https://localhost:8080/",
          "height": 1000
        },
        "id": "FnJulJhKKPlY",
        "outputId": "e3c1958a-4e60-4798-a657-cbc4067edc15"
      },
      "outputs": [
        {
          "name": "stdout",
          "output_type": "stream",
          "text": [
            "---------- Self Training Model - Summary ----------\n",
            "Base Estimator:  GridSearchCV(cv=10, estimator=LinearSVC(C=100, dual=False, penalty='l1'),\n",
            "             param_grid={'C': [100, 1000]}, scoring='accuracy')\n",
            "Classes:  [0 1]\n",
            "Transduction Labels:  [0 0 1 ... 0 1 0]\n",
            "Iteration When Sample Was Labeled:  [0 0 0 ... 0 0 0]\n",
            "Number of Features:  10000\n",
            "Number of Iterations:  0\n",
            "Termination Condition:  all_labeled\n",
            "\n",
            "---------- Self Training Model - Evaluation on Test Data ----------\n",
            "Accuracy Score:  0.9308859014133057\n",
            "\n",
            "\n",
            "Accuracy_test_set:  0.9308859014133057\n",
            "\n",
            "\n",
            "Classification_report_of_model : \n",
            "               precision    recall  f1-score   support\n",
            "\n",
            "           0       0.94      0.92      0.93     11769\n",
            "           1       0.92      0.94      0.93     11439\n",
            "\n",
            "    accuracy                           0.93     23208\n",
            "   macro avg       0.93      0.93      0.93     23208\n",
            "weighted avg       0.93      0.93      0.93     23208\n",
            "\n",
            "\n",
            "\n",
            "Confusion_Matrix_of model : \n",
            " [[10875   894]\n",
            " [  710 10729]]\n",
            "0.930984681805408\n",
            "0.930984681805408\n"
          ]
        },
        {
          "data": {
            "image/png": "[encoded data removed]",
            "text/plain": [
              "<Figure size 432x288 with 2 Axes>"
            ]
          },
          "metadata": {},
          "output_type": "display_data"
        },
        {
          "data": {
            "image/png": "[encoded data removed]",
            "text/plain": [
              "<Figure size 360x360 with 1 Axes>"
            ]
          },
          "metadata": {},
          "output_type": "display_data"
        }
      ],
      "source": [
        "print('---------- Self Training Model - Summary ----------')\n",
        "print('Base Estimator: ', clf_ST.base_estimator_)\n",
        "print('Classes: ', clf_ST.classes_)\n",
        "print('Transduction Labels: ', clf_ST.transduction_)\n",
        "print('Iteration When Sample Was Labeled: ', clf_ST.labeled_iter_)\n",
        "print('Number of Features: ', clf_ST.n_features_in_)\n",
        "# print('Feature Names: ', clf_ST.feature_names_in_)\n",
        "\n",
        "print('Number of Iterations: ', clf_ST.n_iter_)\n",
        "print('Termination Condition: ', clf_ST.termination_condition_)\n",
        "print('')\n",
        "\n",
        "print('---------- Self Training Model - Evaluation on Test Data ----------')\n",
        "accuracy_score_ST = clf_ST.score(X_test, y_test)\n",
        "print('Accuracy Score: ', accuracy_score_ST)\n",
        "Evl_RF=Evaluation(y_test, clf_ST.predict(X_test))\n",
        "collect_results_of_all_model[\"SVM_ALGO\"] = Evl_RF#get results of CART algo"
      ]
    },
    {
      "cell_type": "code",
      "execution_count": null,
      "metadata": {
        "colab": {
          "base_uri": "https://localhost:8080/"
        },
        "id": "Jk_f6clEKUOn",
        "outputId": "5baab2df-63e3-4428-f037-8cfffafff05e"
      },
      "outputs": [
        {
          "data": {
            "text/plain": [
              "{'Metrics': ['accuracy', 'precision', 'recall', 'f1-score'],\n",
              " 'SVM_ALGO': [0.9308859014133057,\n",
              "  0.9230835412544094,\n",
              "  0.9379316373808899,\n",
              "  0.9304483566039372]}"
            ]
          },
          "execution_count": 41,
          "metadata": {},
          "output_type": "execute_result"
        }
      ],
      "source": [
        "collect_results_of_all_model"
      ]
    },
    {
      "cell_type": "code",
      "execution_count": null,
      "metadata": {
        "id": "Rpd9RwJwU41B",
        "outputId": "21db4182-9318-4b32-ded1-37dba38e828c"
      },
      "outputs": [
        {
          "data": {
            "text/plain": [
              "{'Metrics': ['accuracy', 'precision', 'recall', 'f1-score'],\n",
              " 'RF_ALGO': [0.8203636677007928,\n",
              "  0.8102899423556741,\n",
              "  0.8274468458970304,\n",
              "  0.8187785264073028],\n",
              " 'KNN_ALGO': [0.7838245432609445,\n",
              "  0.7140153144627033,\n",
              "  0.830564451561249,\n",
              "  0.7678926671293083],\n",
              " 'ADA_ALGO': [0.822992071699414,\n",
              "  0.7808655252516562,\n",
              "  0.8532480962677447,\n",
              "  0.8154537286612759],\n",
              " 'CART_ALGO': [0.7661151327128576,\n",
              "  0.7294158134732858,\n",
              "  0.7878449958182325,\n",
              "  0.757505360972123],\n",
              " 'LR_ALGO': [0.8205360220613581,\n",
              "  0.8114084143508561,\n",
              "  0.8269905296387232,\n",
              "  0.8191253745602988],\n",
              " 'NAV_ALGO': [0.5904860392967942,\n",
              "  0.978921104706186,\n",
              "  0.5513398265251732,\n",
              "  0.7053936763794172],\n",
              " 'SGD_ALGO': [0.8200620475698035,\n",
              "  0.8089993977458487,\n",
              "  0.8278017431111894,\n",
              "  0.8182925767992342]}"
            ]
          },
          "execution_count": 55,
          "metadata": {},
          "output_type": "execute_result"
        }
      ],
      "source": [
        "collect_results_of_all_model"
      ]
    },
    {
      "cell_type": "code",
      "execution_count": null,
      "metadata": {
        "id": "hzuyLdFTtwNF"
      },
      "outputs": [],
      "source": []
    },
    {
      "cell_type": "code",
      "execution_count": null,
      "metadata": {
        "id": "PoQk-c_EWEZu",
        "outputId": "6c7c325e-325b-4e65-e81e-2f94a0e3746d"
      },
      "outputs": [
        {
          "name": "stdout",
          "output_type": "stream",
          "text": [
            "+-----------+-----------+------------+------------+-------------+-----------+------------+------------+\n",
            "| Metrics   |   RF_ALGO |   KNN_ALGO |   ADA_ALGO |   CART_ALGO |   LR_ALGO |   NAV_ALGO |   SGD_ALGO |\n",
            "|-----------+-----------+------------+------------+-------------+-----------+------------+------------|\n",
            "| accuracy  |  0.820364 |   0.783825 |   0.822992 |    0.766115 |  0.820536 |   0.590486 |   0.820062 |\n",
            "| precision |  0.81029  |   0.714015 |   0.780866 |    0.729416 |  0.811408 |   0.978921 |   0.808999 |\n",
            "| recall    |  0.827447 |   0.830564 |   0.853248 |    0.787845 |  0.826991 |   0.55134  |   0.827802 |\n",
            "| f1-score  |  0.818779 |   0.767893 |   0.815454 |    0.757505 |  0.819125 |   0.705394 |   0.818293 |\n",
            "+-----------+-----------+------------+------------+-------------+-----------+------------+------------+\n"
          ]
        }
      ],
      "source": [
        "\n",
        "metrics_data_frame = pd.DataFrame(collect_results_of_all_model)#create dataframe\n",
        "metrics_data_frame = metrics_data_frame.set_index('Metrics')#set index\n",
        "# displaying the DataFrame\n",
        "print(tabulate(metrics_data_frame, headers = 'keys', tablefmt = 'psql'))#convert results in to table"
      ]
    },
    {
      "cell_type": "code",
      "execution_count": null,
      "metadata": {
        "id": "5-wYb0FoWL2h",
        "outputId": "7b87c18d-95be-4c86-95a0-bac2726effe4"
      },
      "outputs": [
        {
          "data": {
            "image/png": "[encoded data removed]",
            "text/plain": [
              "<Figure size 1440x720 with 1 Axes>"
            ]
          },
          "metadata": {},
          "output_type": "display_data"
        }
      ],
      "source": [
        "metrics_data_frame.plot(kind='bar', figsize=(20,10))#sho comparison base of mertics\n",
        "plt.show()"
      ]
    },
    {
      "cell_type": "code",
      "execution_count": null,
      "metadata": {
        "id": "C0LMamQnWOd9",
        "outputId": "255e8810-b818-42e5-bf14-4fb9e13d40fe"
      },
      "outputs": [
        {
          "data": {
            "image/png": "[encoded data removed]",
            "text/plain": [
              "<Figure size 1080x360 with 1 Axes>"
            ]
          },
          "metadata": {},
          "output_type": "display_data"
        }
      ],
      "source": [
        "models_accuracy = metrics_data_frame.iloc[0].tolist()#accuracy\n",
        "models_names = metrics_data_frame.columns.tolist()#name of model\n",
        "plt.figure(figsize=(15,5))\n",
        "plt.bar(models_names,models_accuracy)#bar plot\n",
        "plt.title(\"Models Accuracies\", fontsize=18)#title\n",
        "\n",
        "def addLabels(names,acc):\n",
        "    for i in range(len(names)):\n",
        "        plt.text(i,round(acc[i],2),f\"{round(acc[i],2)}%\", ha = 'center', bbox=dict(facecolor='yellow', alpha=0.9))\n",
        "\n",
        "addLabels(models_names,models_accuracy)#adding labels\n",
        "plt.show()"
      ]
    },
    {
      "cell_type": "code",
      "execution_count": null,
      "metadata": {
        "id": "X3-mEUpQFe4F"
      },
      "outputs": [],
      "source": [
        "\n",
        "\n",
        "\n",
        "\n",
        "\n",
        "\n",
        "\n",
        "\n"
      ]
    },
    {
      "cell_type": "code",
      "execution_count": null,
      "metadata": {
        "id": "tphtnutRFe4G"
      },
      "outputs": [],
      "source": []
    }
  ],
  "metadata": {
    "colab": {
      "provenance": []
    },
    "gpuClass": "standard",
    "kernelspec": {
      "display_name": "Python 3 (ipykernel)",
      "language": "python",
      "name": "python3"
    },
    "language_info": {
      "codemirror_mode": {
        "name": "ipython",
        "version": 3
      },
      "file_extension": ".py",
      "mimetype": "text/x-python",
      "name": "python",
      "nbconvert_exporter": "python",
      "pygments_lexer": "ipython3",
      "version": "3.9.12"
    }
  },
  "nbformat": 4,
  "nbformat_minor": 0
}