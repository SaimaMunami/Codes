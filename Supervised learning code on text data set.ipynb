{
  "cells": [
    {
      "cell_type": "code",
      "execution_count": null,
      "metadata": {
        "colab": {
          "base_uri": "https://localhost:8080/"
        },
        "id": "GRaxKAkzXLkm",
        "outputId": "5444a028-0455-4f01-da26-063070c0f4a4"
      },
      "outputs": [
        {
          "output_type": "stream",
          "name": "stdout",
          "text": [
            "Mounted at /content/drive\n"
          ]
        }
      ],
      "source": [
        "from google.colab import drive\n",
        "drive.mount('/content/drive')"
      ]
    },
    {
      "cell_type": "code",
      "execution_count": null,
      "metadata": {
        "colab": {
          "base_uri": "https://localhost:8080/"
        },
        "id": "yuKxClmbhYtK",
        "outputId": "cafc3f71-ae16-437d-95db-cd8a78644a6c"
      },
      "outputs": [
        {
          "output_type": "stream",
          "name": "stderr",
          "text": [
            "[nltk_data] Downloading package wordnet to /root/nltk_data...\n",
            "[nltk_data] Downloading package omw-1.4 to /root/nltk_data...\n"
          ]
        }
      ],
      "source": [
        "import numpy as np # linear algebr\n",
        "import pandas as pd # data processing, CSV file I/O (e.g. pd.read_csv)\n",
        "# use for model saving\n",
        "import pickle\n",
        "\n",
        "#ignore the warnings\n",
        "import warnings\n",
        "warnings.filterwarnings(\"ignore\")\n",
        "\n",
        "# preprocessing on tweets\n",
        "import nltk\n",
        "nltk.download('wordnet')\n",
        "nltk.download('omw-1.4')\n",
        "import string\n",
        "# For Extracting only the alphabetic data\n",
        "import re\n",
        "\n",
        "from nltk.tokenize import RegexpTokenizer\n",
        "# from wordcloud import WordCloud\n",
        "\n",
        "# For the plotting of the metrics\n",
        "import matplotlib.pyplot as plt\n",
        "import seaborn as sns\n",
        "\n",
        "# For the Machine Learning Model Implementation\n",
        "from sklearn.linear_model import LogisticRegression\n",
        "from sklearn import tree\n",
        "from sklearn.naive_bayes import GaussianNB\n",
        "from sklearn.ensemble import RandomForestClassifier\n",
        "from sklearn.neighbors import KNeighborsClassifier\n",
        "from sklearn.linear_model import SGDClassifier\n",
        "from sklearn.ensemble import AdaBoostClassifier\n",
        "from sklearn.svm import LinearSVC\n",
        "from sklearn.naive_bayes import MultinomialNB\n",
        "\n",
        "from sklearn.semi_supervised import SelfTrainingClassifier # for Semi-Supervised learning\n",
        "from sklearn.preprocessing import LabelEncoder\n",
        "\n",
        "#split the data into training and testing\n",
        "from sklearn.model_selection import train_test_split\n",
        "\n",
        "# Vectorizing the Data into  numeric format\n",
        "from sklearn.feature_extraction.text import TfidfVectorizer\n",
        "# For the model Evaluations\n",
        "from sklearn.metrics import classification_report, confusion_matrix,accuracy_score, precision_score, f1_score, recall_score\n",
        "\n",
        "from tabulate import tabulate  # dataframe to table\n",
        "import sklearn.metrics as metrics\n",
        "from sklearn.metrics import roc_curve, auc\n",
        "\n",
        "#for improving accuracy\n",
        "from sklearn.model_selection import GridSearchCV"
      ]
    },
    {
      "cell_type": "code",
      "execution_count": null,
      "metadata": {
        "colab": {
          "base_uri": "https://localhost:8080/",
          "height": 460
        },
        "id": "JVe5VGCDjBPn",
        "outputId": "3e66cec0-7558-4881-950f-07c2259f3716"
      },
      "outputs": [
        {
          "output_type": "stream",
          "name": "stdout",
          "text": [
            "....Training data....\n",
            "\n"
          ]
        },
        {
          "output_type": "display_data",
          "data": {
            "text/plain": [
              "                                                     text        label\n",
              "0       Ex Wife Threatening SuicideRecently I left my ...      suicide\n",
              "1       Am I weird I don't get affected by compliments...  non-suicide\n",
              "2       Finally 2020 is almost over... So I can never ...  non-suicide\n",
              "3               i need helpjust help me im crying so hard      suicide\n",
              "4       I’m so lostHello, my name is Adam (16) and I’v...      suicide\n",
              "...                                                   ...          ...\n",
              "232069  If you don't like rock then your not going to ...  non-suicide\n",
              "232070  You how you can tell i have so many friends an...  non-suicide\n",
              "232071  pee probably tastes like salty tea😏💦‼️ can som...  non-suicide\n",
              "232072  The usual stuff you find hereI'm not posting t...      suicide\n",
              "232073  I still haven't beaten the first boss in Hollo...  non-suicide\n",
              "\n",
              "[232074 rows x 2 columns]"
            ],
            "text/html": [
              "\n",
              "  <div id=\"df-3155e62d-1b73-4162-8786-97a36f1a97e0\">\n",
              "    <div class=\"colab-df-container\">\n",
              "      <div>\n",
              "<style scoped>\n",
              "    .dataframe tbody tr th:only-of-type {\n",
              "        vertical-align: middle;\n",
              "    }\n",
              "\n",
              "    .dataframe tbody tr th {\n",
              "        vertical-align: top;\n",
              "    }\n",
              "\n",
              "    .dataframe thead th {\n",
              "        text-align: right;\n",
              "    }\n",
              "</style>\n",
              "<table border=\"1\" class=\"dataframe\">\n",
              "  <thead>\n",
              "    <tr style=\"text-align: right;\">\n",
              "      <th></th>\n",
              "      <th>text</th>\n",
              "      <th>label</th>\n",
              "    </tr>\n",
              "  </thead>\n",
              "  <tbody>\n",
              "    <tr>\n",
              "      <th>0</th>\n",
              "      <td>Ex Wife Threatening SuicideRecently I left my ...</td>\n",
              "      <td>suicide</td>\n",
              "    </tr>\n",
              "    <tr>\n",
              "      <th>1</th>\n",
              "      <td>Am I weird I don't get affected by compliments...</td>\n",
              "      <td>non-suicide</td>\n",
              "    </tr>\n",
              "    <tr>\n",
              "      <th>2</th>\n",
              "      <td>Finally 2020 is almost over... So I can never ...</td>\n",
              "      <td>non-suicide</td>\n",
              "    </tr>\n",
              "    <tr>\n",
              "      <th>3</th>\n",
              "      <td>i need helpjust help me im crying so hard</td>\n",
              "      <td>suicide</td>\n",
              "    </tr>\n",
              "    <tr>\n",
              "      <th>4</th>\n",
              "      <td>I’m so lostHello, my name is Adam (16) and I’v...</td>\n",
              "      <td>suicide</td>\n",
              "    </tr>\n",
              "    <tr>\n",
              "      <th>...</th>\n",
              "      <td>...</td>\n",
              "      <td>...</td>\n",
              "    </tr>\n",
              "    <tr>\n",
              "      <th>232069</th>\n",
              "      <td>If you don't like rock then your not going to ...</td>\n",
              "      <td>non-suicide</td>\n",
              "    </tr>\n",
              "    <tr>\n",
              "      <th>232070</th>\n",
              "      <td>You how you can tell i have so many friends an...</td>\n",
              "      <td>non-suicide</td>\n",
              "    </tr>\n",
              "    <tr>\n",
              "      <th>232071</th>\n",
              "      <td>pee probably tastes like salty tea😏💦‼️ can som...</td>\n",
              "      <td>non-suicide</td>\n",
              "    </tr>\n",
              "    <tr>\n",
              "      <th>232072</th>\n",
              "      <td>The usual stuff you find hereI'm not posting t...</td>\n",
              "      <td>suicide</td>\n",
              "    </tr>\n",
              "    <tr>\n",
              "      <th>232073</th>\n",
              "      <td>I still haven't beaten the first boss in Hollo...</td>\n",
              "      <td>non-suicide</td>\n",
              "    </tr>\n",
              "  </tbody>\n",
              "</table>\n",
              "<p>232074 rows × 2 columns</p>\n",
              "</div>\n",
              "      <button class=\"colab-df-convert\" onclick=\"convertToInteractive('df-3155e62d-1b73-4162-8786-97a36f1a97e0')\"\n",
              "              title=\"Convert this dataframe to an interactive table.\"\n",
              "              style=\"display:none;\">\n",
              "        \n",
              "  <svg xmlns=\"http://www.w3.org/2000/svg\" height=\"24px\"viewBox=\"0 0 24 24\"\n",
              "       width=\"24px\">\n",
              "    <path d=\"M0 0h24v24H0V0z\" fill=\"none\"/>\n",
              "    <path d=\"M18.56 5.44l.94 2.06.94-2.06 2.06-.94-2.06-.94-.94-2.06-.94 2.06-2.06.94zm-11 1L8.5 8.5l.94-2.06 2.06-.94-2.06-.94L8.5 2.5l-.94 2.06-2.06.94zm10 10l.94 2.06.94-2.06 2.06-.94-2.06-.94-.94-2.06-.94 2.06-2.06.94z\"/><path d=\"M17.41 7.96l-1.37-1.37c-.4-.4-.92-.59-1.43-.59-.52 0-1.04.2-1.43.59L10.3 9.45l-7.72 7.72c-.78.78-.78 2.05 0 2.83L4 21.41c.39.39.9.59 1.41.59.51 0 1.02-.2 1.41-.59l7.78-7.78 2.81-2.81c.8-.78.8-2.07 0-2.86zM5.41 20L4 18.59l7.72-7.72 1.47 1.35L5.41 20z\"/>\n",
              "  </svg>\n",
              "      </button>\n",
              "      \n",
              "  <style>\n",
              "    .colab-df-container {\n",
              "      display:flex;\n",
              "      flex-wrap:wrap;\n",
              "      gap: 12px;\n",
              "    }\n",
              "\n",
              "    .colab-df-convert {\n",
              "      background-color: #E8F0FE;\n",
              "      border: none;\n",
              "      border-radius: 50%;\n",
              "      cursor: pointer;\n",
              "      display: none;\n",
              "      fill: #1967D2;\n",
              "      height: 32px;\n",
              "      padding: 0 0 0 0;\n",
              "      width: 32px;\n",
              "    }\n",
              "\n",
              "    .colab-df-convert:hover {\n",
              "      background-color: #E2EBFA;\n",
              "      box-shadow: 0px 1px 2px rgba(60, 64, 67, 0.3), 0px 1px 3px 1px rgba(60, 64, 67, 0.15);\n",
              "      fill: #174EA6;\n",
              "    }\n",
              "\n",
              "    [theme=dark] .colab-df-convert {\n",
              "      background-color: #3B4455;\n",
              "      fill: #D2E3FC;\n",
              "    }\n",
              "\n",
              "    [theme=dark] .colab-df-convert:hover {\n",
              "      background-color: #434B5C;\n",
              "      box-shadow: 0px 1px 3px 1px rgba(0, 0, 0, 0.15);\n",
              "      filter: drop-shadow(0px 1px 2px rgba(0, 0, 0, 0.3));\n",
              "      fill: #FFFFFF;\n",
              "    }\n",
              "  </style>\n",
              "\n",
              "      <script>\n",
              "        const buttonEl =\n",
              "          document.querySelector('#df-3155e62d-1b73-4162-8786-97a36f1a97e0 button.colab-df-convert');\n",
              "        buttonEl.style.display =\n",
              "          google.colab.kernel.accessAllowed ? 'block' : 'none';\n",
              "\n",
              "        async function convertToInteractive(key) {\n",
              "          const element = document.querySelector('#df-3155e62d-1b73-4162-8786-97a36f1a97e0');\n",
              "          const dataTable =\n",
              "            await google.colab.kernel.invokeFunction('convertToInteractive',\n",
              "                                                     [key], {});\n",
              "          if (!dataTable) return;\n",
              "\n",
              "          const docLinkHtml = 'Like what you see? Visit the ' +\n",
              "            '<a target=\"_blank\" href=https://colab.research.google.com/notebooks/data_table.ipynb>data table notebook</a>'\n",
              "            + ' to learn more about interactive tables.';\n",
              "          element.innerHTML = '';\n",
              "          dataTable['output_type'] = 'display_data';\n",
              "          await google.colab.output.renderOutput(dataTable, element);\n",
              "          const docLink = document.createElement('div');\n",
              "          docLink.innerHTML = docLinkHtml;\n",
              "          element.appendChild(docLink);\n",
              "        }\n",
              "      </script>\n",
              "    </div>\n",
              "  </div>\n",
              "  "
            ]
          },
          "metadata": {}
        }
      ],
      "source": [
        "df_train = pd.read_csv(\"/content/drive/MyDrive/thesis code/Suicide_Detection.csv\")\n",
        "df_train.columns = ['id',\"text\",\"label\"]\n",
        "df_train=df_train[[\"text\",\"label\"]]\n",
        "#data_split = np.array_split(df_train, 8)\n",
        "# Show the first 5 rows of the dataframe.\n",
        "print('....Training data....\\n')\n",
        "display(df_train)"
      ]
    },
    {
      "cell_type": "code",
      "execution_count": null,
      "metadata": {
        "colab": {
          "base_uri": "https://localhost:8080/"
        },
        "id": "OctwGP9VikXT",
        "outputId": "8f8d71a3-2bbc-435b-d7be-4602f9437755"
      },
      "outputs": [
        {
          "output_type": "execute_result",
          "data": {
            "text/plain": [
              "suicide        116037\n",
              "non-suicide    116037\n",
              "Name: label, dtype: int64"
            ]
          },
          "metadata": {},
          "execution_count": 4
        }
      ],
      "source": [
        "df_train[\"label\"].value_counts()"
      ]
    },
    {
      "cell_type": "code",
      "execution_count": null,
      "metadata": {
        "colab": {
          "base_uri": "https://localhost:8080/",
          "height": 423
        },
        "id": "P_yQRFllmlYd",
        "outputId": "5b56b238-9643-4f64-868c-52b532546b1a"
      },
      "outputs": [
        {
          "output_type": "execute_result",
          "data": {
            "text/plain": [
              "                                                     text  label\n",
              "0       Ex Wife Threatening SuicideRecently I left my ...      1\n",
              "1       Am I weird I don't get affected by compliments...      0\n",
              "2       Finally 2020 is almost over... So I can never ...      0\n",
              "3               i need helpjust help me im crying so hard      1\n",
              "4       I’m so lostHello, my name is Adam (16) and I’v...      1\n",
              "...                                                   ...    ...\n",
              "232069  If you don't like rock then your not going to ...      0\n",
              "232070  You how you can tell i have so many friends an...      0\n",
              "232071  pee probably tastes like salty tea😏💦‼️ can som...      0\n",
              "232072  The usual stuff you find hereI'm not posting t...      1\n",
              "232073  I still haven't beaten the first boss in Hollo...      0\n",
              "\n",
              "[232074 rows x 2 columns]"
            ],
            "text/html": [
              "\n",
              "  <div id=\"df-93dfcc26-10de-44c2-98ac-242eefd30385\">\n",
              "    <div class=\"colab-df-container\">\n",
              "      <div>\n",
              "<style scoped>\n",
              "    .dataframe tbody tr th:only-of-type {\n",
              "        vertical-align: middle;\n",
              "    }\n",
              "\n",
              "    .dataframe tbody tr th {\n",
              "        vertical-align: top;\n",
              "    }\n",
              "\n",
              "    .dataframe thead th {\n",
              "        text-align: right;\n",
              "    }\n",
              "</style>\n",
              "<table border=\"1\" class=\"dataframe\">\n",
              "  <thead>\n",
              "    <tr style=\"text-align: right;\">\n",
              "      <th></th>\n",
              "      <th>text</th>\n",
              "      <th>label</th>\n",
              "    </tr>\n",
              "  </thead>\n",
              "  <tbody>\n",
              "    <tr>\n",
              "      <th>0</th>\n",
              "      <td>Ex Wife Threatening SuicideRecently I left my ...</td>\n",
              "      <td>1</td>\n",
              "    </tr>\n",
              "    <tr>\n",
              "      <th>1</th>\n",
              "      <td>Am I weird I don't get affected by compliments...</td>\n",
              "      <td>0</td>\n",
              "    </tr>\n",
              "    <tr>\n",
              "      <th>2</th>\n",
              "      <td>Finally 2020 is almost over... So I can never ...</td>\n",
              "      <td>0</td>\n",
              "    </tr>\n",
              "    <tr>\n",
              "      <th>3</th>\n",
              "      <td>i need helpjust help me im crying so hard</td>\n",
              "      <td>1</td>\n",
              "    </tr>\n",
              "    <tr>\n",
              "      <th>4</th>\n",
              "      <td>I’m so lostHello, my name is Adam (16) and I’v...</td>\n",
              "      <td>1</td>\n",
              "    </tr>\n",
              "    <tr>\n",
              "      <th>...</th>\n",
              "      <td>...</td>\n",
              "      <td>...</td>\n",
              "    </tr>\n",
              "    <tr>\n",
              "      <th>232069</th>\n",
              "      <td>If you don't like rock then your not going to ...</td>\n",
              "      <td>0</td>\n",
              "    </tr>\n",
              "    <tr>\n",
              "      <th>232070</th>\n",
              "      <td>You how you can tell i have so many friends an...</td>\n",
              "      <td>0</td>\n",
              "    </tr>\n",
              "    <tr>\n",
              "      <th>232071</th>\n",
              "      <td>pee probably tastes like salty tea😏💦‼️ can som...</td>\n",
              "      <td>0</td>\n",
              "    </tr>\n",
              "    <tr>\n",
              "      <th>232072</th>\n",
              "      <td>The usual stuff you find hereI'm not posting t...</td>\n",
              "      <td>1</td>\n",
              "    </tr>\n",
              "    <tr>\n",
              "      <th>232073</th>\n",
              "      <td>I still haven't beaten the first boss in Hollo...</td>\n",
              "      <td>0</td>\n",
              "    </tr>\n",
              "  </tbody>\n",
              "</table>\n",
              "<p>232074 rows × 2 columns</p>\n",
              "</div>\n",
              "      <button class=\"colab-df-convert\" onclick=\"convertToInteractive('df-93dfcc26-10de-44c2-98ac-242eefd30385')\"\n",
              "              title=\"Convert this dataframe to an interactive table.\"\n",
              "              style=\"display:none;\">\n",
              "        \n",
              "  <svg xmlns=\"http://www.w3.org/2000/svg\" height=\"24px\"viewBox=\"0 0 24 24\"\n",
              "       width=\"24px\">\n",
              "    <path d=\"M0 0h24v24H0V0z\" fill=\"none\"/>\n",
              "    <path d=\"M18.56 5.44l.94 2.06.94-2.06 2.06-.94-2.06-.94-.94-2.06-.94 2.06-2.06.94zm-11 1L8.5 8.5l.94-2.06 2.06-.94-2.06-.94L8.5 2.5l-.94 2.06-2.06.94zm10 10l.94 2.06.94-2.06 2.06-.94-2.06-.94-.94-2.06-.94 2.06-2.06.94z\"/><path d=\"M17.41 7.96l-1.37-1.37c-.4-.4-.92-.59-1.43-.59-.52 0-1.04.2-1.43.59L10.3 9.45l-7.72 7.72c-.78.78-.78 2.05 0 2.83L4 21.41c.39.39.9.59 1.41.59.51 0 1.02-.2 1.41-.59l7.78-7.78 2.81-2.81c.8-.78.8-2.07 0-2.86zM5.41 20L4 18.59l7.72-7.72 1.47 1.35L5.41 20z\"/>\n",
              "  </svg>\n",
              "      </button>\n",
              "      \n",
              "  <style>\n",
              "    .colab-df-container {\n",
              "      display:flex;\n",
              "      flex-wrap:wrap;\n",
              "      gap: 12px;\n",
              "    }\n",
              "\n",
              "    .colab-df-convert {\n",
              "      background-color: #E8F0FE;\n",
              "      border: none;\n",
              "      border-radius: 50%;\n",
              "      cursor: pointer;\n",
              "      display: none;\n",
              "      fill: #1967D2;\n",
              "      height: 32px;\n",
              "      padding: 0 0 0 0;\n",
              "      width: 32px;\n",
              "    }\n",
              "\n",
              "    .colab-df-convert:hover {\n",
              "      background-color: #E2EBFA;\n",
              "      box-shadow: 0px 1px 2px rgba(60, 64, 67, 0.3), 0px 1px 3px 1px rgba(60, 64, 67, 0.15);\n",
              "      fill: #174EA6;\n",
              "    }\n",
              "\n",
              "    [theme=dark] .colab-df-convert {\n",
              "      background-color: #3B4455;\n",
              "      fill: #D2E3FC;\n",
              "    }\n",
              "\n",
              "    [theme=dark] .colab-df-convert:hover {\n",
              "      background-color: #434B5C;\n",
              "      box-shadow: 0px 1px 3px 1px rgba(0, 0, 0, 0.15);\n",
              "      filter: drop-shadow(0px 1px 2px rgba(0, 0, 0, 0.3));\n",
              "      fill: #FFFFFF;\n",
              "    }\n",
              "  </style>\n",
              "\n",
              "      <script>\n",
              "        const buttonEl =\n",
              "          document.querySelector('#df-93dfcc26-10de-44c2-98ac-242eefd30385 button.colab-df-convert');\n",
              "        buttonEl.style.display =\n",
              "          google.colab.kernel.accessAllowed ? 'block' : 'none';\n",
              "\n",
              "        async function convertToInteractive(key) {\n",
              "          const element = document.querySelector('#df-93dfcc26-10de-44c2-98ac-242eefd30385');\n",
              "          const dataTable =\n",
              "            await google.colab.kernel.invokeFunction('convertToInteractive',\n",
              "                                                     [key], {});\n",
              "          if (!dataTable) return;\n",
              "\n",
              "          const docLinkHtml = 'Like what you see? Visit the ' +\n",
              "            '<a target=\"_blank\" href=https://colab.research.google.com/notebooks/data_table.ipynb>data table notebook</a>'\n",
              "            + ' to learn more about interactive tables.';\n",
              "          element.innerHTML = '';\n",
              "          dataTable['output_type'] = 'display_data';\n",
              "          await google.colab.output.renderOutput(dataTable, element);\n",
              "          const docLink = document.createElement('div');\n",
              "          docLink.innerHTML = docLinkHtml;\n",
              "          element.appendChild(docLink);\n",
              "        }\n",
              "      </script>\n",
              "    </div>\n",
              "  </div>\n",
              "  "
            ]
          },
          "metadata": {},
          "execution_count": 5
        }
      ],
      "source": [
        "le = LabelEncoder()\n",
        "labels=le.fit_transform(df_train.label)\n",
        "df_train.label=labels\n",
        "df_train"
      ]
    },
    {
      "cell_type": "code",
      "execution_count": null,
      "metadata": {
        "colab": {
          "base_uri": "https://localhost:8080/"
        },
        "id": "Q6WjqJIywjA2",
        "outputId": "5e391c01-3338-46d3-b18d-327a075c480b"
      },
      "outputs": [
        {
          "output_type": "stream",
          "name": "stdout",
          "text": [
            "\n",
            "...........information of training data............\n",
            "\n",
            "<class 'pandas.core.frame.DataFrame'>\n",
            "RangeIndex: 232074 entries, 0 to 232073\n",
            "Data columns (total 2 columns):\n",
            " #   Column  Non-Null Count   Dtype \n",
            "---  ------  --------------   ----- \n",
            " 0   text    232074 non-null  object\n",
            " 1   label   232074 non-null  int64 \n",
            "dtypes: int64(1), object(1)\n",
            "memory usage: 3.5+ MB\n",
            "None\n"
          ]
        }
      ],
      "source": [
        "# information about the data set like columns , null values , datatype ,range index, memory\n",
        "print('\\n...........information of training data............\\n')\n",
        "print(df_train.info())"
      ]
    },
    {
      "cell_type": "code",
      "execution_count": null,
      "metadata": {
        "colab": {
          "base_uri": "https://localhost:8080/"
        },
        "id": "y_VWad1pwmeI",
        "outputId": "c29c4244-b1a9-4d47-a2dd-30210b6ad84d"
      },
      "outputs": [
        {
          "output_type": "stream",
          "name": "stdout",
          "text": [
            "\n",
            "...Training.....\n",
            "\n",
            "text     0\n",
            "label    0\n",
            "dtype: int64\n"
          ]
        }
      ],
      "source": [
        "print(\"\\n...Training.....\\n\")\n",
        "print(df_train.isna().sum())"
      ]
    },
    {
      "cell_type": "code",
      "execution_count": null,
      "metadata": {
        "colab": {
          "base_uri": "https://localhost:8080/",
          "height": 409
        },
        "id": "mOsZOPtgwmbJ",
        "outputId": "18334624-df27-4cca-a2fc-9969e48066f4"
      },
      "outputs": [
        {
          "output_type": "stream",
          "name": "stdout",
          "text": [
            "\n",
            "...Training.....\n",
            "\n",
            "1    116037\n",
            "0    116037\n",
            "Name: label, dtype: int64\n"
          ]
        },
        {
          "output_type": "execute_result",
          "data": {
            "text/plain": [
              "<matplotlib.axes._subplots.AxesSubplot at 0x7f3016890d00>"
            ]
          },
          "metadata": {},
          "execution_count": 8
        },
        {
          "output_type": "display_data",
          "data": {
            "text/plain": [
              "<Figure size 432x288 with 1 Axes>"
            ],
            "image/png": "[encoded data removed]"
          },
          "metadata": {
            "needs_background": "light"
          }
        }
      ],
      "source": [
        "# show the number of labels in dataset per class in visualize in bar graph\n",
        "print(\"\\n...Training.....\\n\")\n",
        "print(df_train['label'].value_counts())\n",
        "\n",
        "sns.countplot(data=df_train,x='label')\n"
      ]
    },
    {
      "cell_type": "markdown",
      "metadata": {
        "id": "79Hzd2i-Jvii"
      },
      "source": [
        "## **Preprocessing**"
      ]
    },
    {
      "cell_type": "code",
      "execution_count": null,
      "metadata": {
        "colab": {
          "base_uri": "https://localhost:8080/",
          "height": 423
        },
        "id": "6vHEMZIbJ1e0",
        "outputId": "6bfcd3b2-6069-4e58-a2cf-ce78eeb19a25"
      },
      "outputs": [
        {
          "output_type": "execute_result",
          "data": {
            "text/plain": [
              "                                                     text  label\n",
              "0       Ex Wife Threatening SuicideRecently I left my ...      1\n",
              "1       Am I weird I don't get affected by compliments...      0\n",
              "2       Finally 2020 is almost over... So I can never ...      0\n",
              "3               i need helpjust help me im crying so hard      1\n",
              "4       I’m so lostHello, my name is Adam (16) and I’v...      1\n",
              "...                                                   ...    ...\n",
              "232069  If you don't like rock then your not going to ...      0\n",
              "232070  You how you can tell i have so many friends an...      0\n",
              "232071  pee probably tastes like salty tea😏💦‼️ can som...      0\n",
              "232072  The usual stuff you find hereI'm not posting t...      1\n",
              "232073  I still haven't beaten the first boss in Hollo...      0\n",
              "\n",
              "[232074 rows x 2 columns]"
            ],
            "text/html": [
              "\n",
              "  <div id=\"df-e6a23220-827d-4ed0-bd12-aacfdad90edb\">\n",
              "    <div class=\"colab-df-container\">\n",
              "      <div>\n",
              "<style scoped>\n",
              "    .dataframe tbody tr th:only-of-type {\n",
              "        vertical-align: middle;\n",
              "    }\n",
              "\n",
              "    .dataframe tbody tr th {\n",
              "        vertical-align: top;\n",
              "    }\n",
              "\n",
              "    .dataframe thead th {\n",
              "        text-align: right;\n",
              "    }\n",
              "</style>\n",
              "<table border=\"1\" class=\"dataframe\">\n",
              "  <thead>\n",
              "    <tr style=\"text-align: right;\">\n",
              "      <th></th>\n",
              "      <th>text</th>\n",
              "      <th>label</th>\n",
              "    </tr>\n",
              "  </thead>\n",
              "  <tbody>\n",
              "    <tr>\n",
              "      <th>0</th>\n",
              "      <td>Ex Wife Threatening SuicideRecently I left my ...</td>\n",
              "      <td>1</td>\n",
              "    </tr>\n",
              "    <tr>\n",
              "      <th>1</th>\n",
              "      <td>Am I weird I don't get affected by compliments...</td>\n",
              "      <td>0</td>\n",
              "    </tr>\n",
              "    <tr>\n",
              "      <th>2</th>\n",
              "      <td>Finally 2020 is almost over... So I can never ...</td>\n",
              "      <td>0</td>\n",
              "    </tr>\n",
              "    <tr>\n",
              "      <th>3</th>\n",
              "      <td>i need helpjust help me im crying so hard</td>\n",
              "      <td>1</td>\n",
              "    </tr>\n",
              "    <tr>\n",
              "      <th>4</th>\n",
              "      <td>I’m so lostHello, my name is Adam (16) and I’v...</td>\n",
              "      <td>1</td>\n",
              "    </tr>\n",
              "    <tr>\n",
              "      <th>...</th>\n",
              "      <td>...</td>\n",
              "      <td>...</td>\n",
              "    </tr>\n",
              "    <tr>\n",
              "      <th>232069</th>\n",
              "      <td>If you don't like rock then your not going to ...</td>\n",
              "      <td>0</td>\n",
              "    </tr>\n",
              "    <tr>\n",
              "      <th>232070</th>\n",
              "      <td>You how you can tell i have so many friends an...</td>\n",
              "      <td>0</td>\n",
              "    </tr>\n",
              "    <tr>\n",
              "      <th>232071</th>\n",
              "      <td>pee probably tastes like salty tea😏💦‼️ can som...</td>\n",
              "      <td>0</td>\n",
              "    </tr>\n",
              "    <tr>\n",
              "      <th>232072</th>\n",
              "      <td>The usual stuff you find hereI'm not posting t...</td>\n",
              "      <td>1</td>\n",
              "    </tr>\n",
              "    <tr>\n",
              "      <th>232073</th>\n",
              "      <td>I still haven't beaten the first boss in Hollo...</td>\n",
              "      <td>0</td>\n",
              "    </tr>\n",
              "  </tbody>\n",
              "</table>\n",
              "<p>232074 rows × 2 columns</p>\n",
              "</div>\n",
              "      <button class=\"colab-df-convert\" onclick=\"convertToInteractive('df-e6a23220-827d-4ed0-bd12-aacfdad90edb')\"\n",
              "              title=\"Convert this dataframe to an interactive table.\"\n",
              "              style=\"display:none;\">\n",
              "        \n",
              "  <svg xmlns=\"http://www.w3.org/2000/svg\" height=\"24px\"viewBox=\"0 0 24 24\"\n",
              "       width=\"24px\">\n",
              "    <path d=\"M0 0h24v24H0V0z\" fill=\"none\"/>\n",
              "    <path d=\"M18.56 5.44l.94 2.06.94-2.06 2.06-.94-2.06-.94-.94-2.06-.94 2.06-2.06.94zm-11 1L8.5 8.5l.94-2.06 2.06-.94-2.06-.94L8.5 2.5l-.94 2.06-2.06.94zm10 10l.94 2.06.94-2.06 2.06-.94-2.06-.94-.94-2.06-.94 2.06-2.06.94z\"/><path d=\"M17.41 7.96l-1.37-1.37c-.4-.4-.92-.59-1.43-.59-.52 0-1.04.2-1.43.59L10.3 9.45l-7.72 7.72c-.78.78-.78 2.05 0 2.83L4 21.41c.39.39.9.59 1.41.59.51 0 1.02-.2 1.41-.59l7.78-7.78 2.81-2.81c.8-.78.8-2.07 0-2.86zM5.41 20L4 18.59l7.72-7.72 1.47 1.35L5.41 20z\"/>\n",
              "  </svg>\n",
              "      </button>\n",
              "      \n",
              "  <style>\n",
              "    .colab-df-container {\n",
              "      display:flex;\n",
              "      flex-wrap:wrap;\n",
              "      gap: 12px;\n",
              "    }\n",
              "\n",
              "    .colab-df-convert {\n",
              "      background-color: #E8F0FE;\n",
              "      border: none;\n",
              "      border-radius: 50%;\n",
              "      cursor: pointer;\n",
              "      display: none;\n",
              "      fill: #1967D2;\n",
              "      height: 32px;\n",
              "      padding: 0 0 0 0;\n",
              "      width: 32px;\n",
              "    }\n",
              "\n",
              "    .colab-df-convert:hover {\n",
              "      background-color: #E2EBFA;\n",
              "      box-shadow: 0px 1px 2px rgba(60, 64, 67, 0.3), 0px 1px 3px 1px rgba(60, 64, 67, 0.15);\n",
              "      fill: #174EA6;\n",
              "    }\n",
              "\n",
              "    [theme=dark] .colab-df-convert {\n",
              "      background-color: #3B4455;\n",
              "      fill: #D2E3FC;\n",
              "    }\n",
              "\n",
              "    [theme=dark] .colab-df-convert:hover {\n",
              "      background-color: #434B5C;\n",
              "      box-shadow: 0px 1px 3px 1px rgba(0, 0, 0, 0.15);\n",
              "      filter: drop-shadow(0px 1px 2px rgba(0, 0, 0, 0.3));\n",
              "      fill: #FFFFFF;\n",
              "    }\n",
              "  </style>\n",
              "\n",
              "      <script>\n",
              "        const buttonEl =\n",
              "          document.querySelector('#df-e6a23220-827d-4ed0-bd12-aacfdad90edb button.colab-df-convert');\n",
              "        buttonEl.style.display =\n",
              "          google.colab.kernel.accessAllowed ? 'block' : 'none';\n",
              "\n",
              "        async function convertToInteractive(key) {\n",
              "          const element = document.querySelector('#df-e6a23220-827d-4ed0-bd12-aacfdad90edb');\n",
              "          const dataTable =\n",
              "            await google.colab.kernel.invokeFunction('convertToInteractive',\n",
              "                                                     [key], {});\n",
              "          if (!dataTable) return;\n",
              "\n",
              "          const docLinkHtml = 'Like what you see? Visit the ' +\n",
              "            '<a target=\"_blank\" href=https://colab.research.google.com/notebooks/data_table.ipynb>data table notebook</a>'\n",
              "            + ' to learn more about interactive tables.';\n",
              "          element.innerHTML = '';\n",
              "          dataTable['output_type'] = 'display_data';\n",
              "          await google.colab.output.renderOutput(dataTable, element);\n",
              "          const docLink = document.createElement('div');\n",
              "          docLink.innerHTML = docLinkHtml;\n",
              "          element.appendChild(docLink);\n",
              "        }\n",
              "      </script>\n",
              "    </div>\n",
              "  </div>\n",
              "  "
            ]
          },
          "metadata": {},
          "execution_count": 9
        }
      ],
      "source": [
        "dataset=df_train\n",
        "dataset"
      ]
    },
    {
      "cell_type": "code",
      "execution_count": null,
      "metadata": {
        "colab": {
          "base_uri": "https://localhost:8080/",
          "height": 363
        },
        "id": "5u5UsuWWwmQH",
        "outputId": "339ee82d-1495-412a-9ee6-950cfa51ac60"
      },
      "outputs": [
        {
          "output_type": "execute_result",
          "data": {
            "text/plain": [
              "                                                text  label\n",
              "0  ex wife threatening suiciderecently i left my ...      1\n",
              "1  am i weird i don't get affected by compliments...      0\n",
              "2  finally 2020 is almost over... so i can never ...      0\n",
              "3          i need helpjust help me im crying so hard      1\n",
              "4  i’m so losthello, my name is adam (16) and i’v...      1\n",
              "5  honetly idki dont know what im even doing here...      1\n",
              "6  [trigger warning] excuse for self inflicted bu...      1\n",
              "7   it ends tonight.i can’t do it anymore. \\ni quit.      1\n",
              "8  everyone wants to be \"edgy\" and it's making me...      0\n",
              "9  my life is over at 20 years oldhello all. i am...      1"
            ],
            "text/html": [
              "\n",
              "  <div id=\"df-aa97cddc-9988-4602-acab-9c1d1795d586\">\n",
              "    <div class=\"colab-df-container\">\n",
              "      <div>\n",
              "<style scoped>\n",
              "    .dataframe tbody tr th:only-of-type {\n",
              "        vertical-align: middle;\n",
              "    }\n",
              "\n",
              "    .dataframe tbody tr th {\n",
              "        vertical-align: top;\n",
              "    }\n",
              "\n",
              "    .dataframe thead th {\n",
              "        text-align: right;\n",
              "    }\n",
              "</style>\n",
              "<table border=\"1\" class=\"dataframe\">\n",
              "  <thead>\n",
              "    <tr style=\"text-align: right;\">\n",
              "      <th></th>\n",
              "      <th>text</th>\n",
              "      <th>label</th>\n",
              "    </tr>\n",
              "  </thead>\n",
              "  <tbody>\n",
              "    <tr>\n",
              "      <th>0</th>\n",
              "      <td>ex wife threatening suiciderecently i left my ...</td>\n",
              "      <td>1</td>\n",
              "    </tr>\n",
              "    <tr>\n",
              "      <th>1</th>\n",
              "      <td>am i weird i don't get affected by compliments...</td>\n",
              "      <td>0</td>\n",
              "    </tr>\n",
              "    <tr>\n",
              "      <th>2</th>\n",
              "      <td>finally 2020 is almost over... so i can never ...</td>\n",
              "      <td>0</td>\n",
              "    </tr>\n",
              "    <tr>\n",
              "      <th>3</th>\n",
              "      <td>i need helpjust help me im crying so hard</td>\n",
              "      <td>1</td>\n",
              "    </tr>\n",
              "    <tr>\n",
              "      <th>4</th>\n",
              "      <td>i’m so losthello, my name is adam (16) and i’v...</td>\n",
              "      <td>1</td>\n",
              "    </tr>\n",
              "    <tr>\n",
              "      <th>5</th>\n",
              "      <td>honetly idki dont know what im even doing here...</td>\n",
              "      <td>1</td>\n",
              "    </tr>\n",
              "    <tr>\n",
              "      <th>6</th>\n",
              "      <td>[trigger warning] excuse for self inflicted bu...</td>\n",
              "      <td>1</td>\n",
              "    </tr>\n",
              "    <tr>\n",
              "      <th>7</th>\n",
              "      <td>it ends tonight.i can’t do it anymore. \\ni quit.</td>\n",
              "      <td>1</td>\n",
              "    </tr>\n",
              "    <tr>\n",
              "      <th>8</th>\n",
              "      <td>everyone wants to be \"edgy\" and it's making me...</td>\n",
              "      <td>0</td>\n",
              "    </tr>\n",
              "    <tr>\n",
              "      <th>9</th>\n",
              "      <td>my life is over at 20 years oldhello all. i am...</td>\n",
              "      <td>1</td>\n",
              "    </tr>\n",
              "  </tbody>\n",
              "</table>\n",
              "</div>\n",
              "      <button class=\"colab-df-convert\" onclick=\"convertToInteractive('df-aa97cddc-9988-4602-acab-9c1d1795d586')\"\n",
              "              title=\"Convert this dataframe to an interactive table.\"\n",
              "              style=\"display:none;\">\n",
              "        \n",
              "  <svg xmlns=\"http://www.w3.org/2000/svg\" height=\"24px\"viewBox=\"0 0 24 24\"\n",
              "       width=\"24px\">\n",
              "    <path d=\"M0 0h24v24H0V0z\" fill=\"none\"/>\n",
              "    <path d=\"M18.56 5.44l.94 2.06.94-2.06 2.06-.94-2.06-.94-.94-2.06-.94 2.06-2.06.94zm-11 1L8.5 8.5l.94-2.06 2.06-.94-2.06-.94L8.5 2.5l-.94 2.06-2.06.94zm10 10l.94 2.06.94-2.06 2.06-.94-2.06-.94-.94-2.06-.94 2.06-2.06.94z\"/><path d=\"M17.41 7.96l-1.37-1.37c-.4-.4-.92-.59-1.43-.59-.52 0-1.04.2-1.43.59L10.3 9.45l-7.72 7.72c-.78.78-.78 2.05 0 2.83L4 21.41c.39.39.9.59 1.41.59.51 0 1.02-.2 1.41-.59l7.78-7.78 2.81-2.81c.8-.78.8-2.07 0-2.86zM5.41 20L4 18.59l7.72-7.72 1.47 1.35L5.41 20z\"/>\n",
              "  </svg>\n",
              "      </button>\n",
              "      \n",
              "  <style>\n",
              "    .colab-df-container {\n",
              "      display:flex;\n",
              "      flex-wrap:wrap;\n",
              "      gap: 12px;\n",
              "    }\n",
              "\n",
              "    .colab-df-convert {\n",
              "      background-color: #E8F0FE;\n",
              "      border: none;\n",
              "      border-radius: 50%;\n",
              "      cursor: pointer;\n",
              "      display: none;\n",
              "      fill: #1967D2;\n",
              "      height: 32px;\n",
              "      padding: 0 0 0 0;\n",
              "      width: 32px;\n",
              "    }\n",
              "\n",
              "    .colab-df-convert:hover {\n",
              "      background-color: #E2EBFA;\n",
              "      box-shadow: 0px 1px 2px rgba(60, 64, 67, 0.3), 0px 1px 3px 1px rgba(60, 64, 67, 0.15);\n",
              "      fill: #174EA6;\n",
              "    }\n",
              "\n",
              "    [theme=dark] .colab-df-convert {\n",
              "      background-color: #3B4455;\n",
              "      fill: #D2E3FC;\n",
              "    }\n",
              "\n",
              "    [theme=dark] .colab-df-convert:hover {\n",
              "      background-color: #434B5C;\n",
              "      box-shadow: 0px 1px 3px 1px rgba(0, 0, 0, 0.15);\n",
              "      filter: drop-shadow(0px 1px 2px rgba(0, 0, 0, 0.3));\n",
              "      fill: #FFFFFF;\n",
              "    }\n",
              "  </style>\n",
              "\n",
              "      <script>\n",
              "        const buttonEl =\n",
              "          document.querySelector('#df-aa97cddc-9988-4602-acab-9c1d1795d586 button.colab-df-convert');\n",
              "        buttonEl.style.display =\n",
              "          google.colab.kernel.accessAllowed ? 'block' : 'none';\n",
              "\n",
              "        async function convertToInteractive(key) {\n",
              "          const element = document.querySelector('#df-aa97cddc-9988-4602-acab-9c1d1795d586');\n",
              "          const dataTable =\n",
              "            await google.colab.kernel.invokeFunction('convertToInteractive',\n",
              "                                                     [key], {});\n",
              "          if (!dataTable) return;\n",
              "\n",
              "          const docLinkHtml = 'Like what you see? Visit the ' +\n",
              "            '<a target=\"_blank\" href=https://colab.research.google.com/notebooks/data_table.ipynb>data table notebook</a>'\n",
              "            + ' to learn more about interactive tables.';\n",
              "          element.innerHTML = '';\n",
              "          dataTable['output_type'] = 'display_data';\n",
              "          await google.colab.output.renderOutput(dataTable, element);\n",
              "          const docLink = document.createElement('div');\n",
              "          docLink.innerHTML = docLinkHtml;\n",
              "          element.appendChild(docLink);\n",
              "        }\n",
              "      </script>\n",
              "    </div>\n",
              "  </div>\n",
              "  "
            ]
          },
          "metadata": {},
          "execution_count": 10
        }
      ],
      "source": [
        "# checkeing the each tweet in dataset if there is any capital word in tweet this piece of will replace it with the small letter\n",
        "dataset['text']=dataset['text'].str.lower()\n",
        "dataset.head(10)"
      ]
    },
    {
      "cell_type": "markdown",
      "metadata": {
        "id": "dEdojg-FKPwN"
      },
      "source": [
        "## Remove stopwords"
      ]
    },
    {
      "cell_type": "code",
      "execution_count": null,
      "metadata": {
        "colab": {
          "base_uri": "https://localhost:8080/"
        },
        "id": "CaZt0335wuRm",
        "outputId": "574ca225-bd8a-475c-e0a1-fff7de1e809b"
      },
      "outputs": [
        {
          "output_type": "execute_result",
          "data": {
            "text/plain": [
              "0    ex wife threatening suiciderecently left wife ...\n",
              "1    weird don't get affected compliments it's comi...\n",
              "2    finally 2020 almost over... never hear \"2020 b...\n",
              "3                    need helpjust help im crying hard\n",
              "4    i’m losthello, name adam (16) i’ve struggling ...\n",
              "5    honetly idki dont know im even here. feel like...\n",
              "6    [trigger warning] excuse self inflicted burns*...\n",
              "7                  ends tonight.i can’t anymore. quit.\n",
              "8    everyone wants \"edgy\" it's making self conscio...\n",
              "9    life over 20 years oldhello all. 20 year old b...\n",
              "Name: text, dtype: object"
            ]
          },
          "metadata": {},
          "execution_count": 11
        }
      ],
      "source": [
        "# this piece of code remove every stop words in the tweets in dataset. the stop words are given in the stopword list below\n",
        "# we create a function that spilit the each in to  words and check the stopword init if find then remove this.\n",
        "stopwordlist = ['a', 'about', 'above', 'after', 'again', 'ain', 'all', 'am', 'an',\n",
        "             'and','any','are', 'as', 'at', 'be', 'because', 'been', 'before',\n",
        "             'being', 'below', 'between','both', 'by', 'can', 'd', 'did', 'do',\n",
        "             'does', 'doing', 'down', 'during', 'each','few', 'for', 'from',\n",
        "             'further', 'had', 'has', 'have', 'having', 'he', 'her', 'here',\n",
        "             'hers', 'herself', 'him', 'himself', 'his', 'how', 'i', 'if', 'in',\n",
        "             'into','is', 'it', 'its', 'itself', 'just', 'll', 'm', 'ma',\n",
        "             'me', 'more', 'most','my', 'myself', 'now', 'o', 'of', 'on', 'once',\n",
        "             'only', 'or', 'other', 'our', 'ours','ourselves', 'out', 'own', 're','s', 'same', 'she', \"shes\", 'should', \"shouldve\",'so', 'some', 'such',\n",
        "             't', 'than', 'that', \"thatll\", 'the', 'their', 'theirs', 'them',\n",
        "             'themselves', 'then', 'there', 'these', 'they', 'this', 'those',\n",
        "             'through', 'to', 'too','under', 'until', 'up', 've', 'very', 'was',\n",
        "             'we', 'were', 'what', 'when', 'where','which','while', 'who', 'whom',\n",
        "             'why', 'will', 'with', 'won', 'y', 'you', \"youd\",\"youll\", \"youre\",\n",
        "             \"youve\", 'your', 'yours', 'yourself', 'yourselves']\n",
        "STOPWORDS = set(stopwordlist)\n",
        "def cleaning_stopwords(text):\n",
        "    return \" \".join([word for word in str(text).split() if word not in STOPWORDS])\n",
        "dataset['text'] = dataset['text'].apply(lambda text: cleaning_stopwords(text))\n",
        "dataset['text'].head(10)"
      ]
    },
    {
      "cell_type": "markdown",
      "metadata": {
        "id": "MtGXjit0KUlq"
      },
      "source": [
        "## Remove punctuations"
      ]
    },
    {
      "cell_type": "code",
      "execution_count": null,
      "metadata": {
        "colab": {
          "base_uri": "https://localhost:8080/"
        },
        "id": "yoYbOPg8wuOa",
        "outputId": "890168eb-9339-4911-b577-27cc8230ef8a"
      },
      "outputs": [
        {
          "output_type": "execute_result",
          "data": {
            "text/plain": [
              "0    ex wife threatening suiciderecently left wife ...\n",
              "1    weird dont get affected compliments its coming...\n",
              "2    finally 2020 almost over never hear 2020 bad y...\n",
              "3                    need helpjust help im crying hard\n",
              "4    i’m losthello name adam 16 i’ve struggling yea...\n",
              "5    honetly idki dont know im even here feel like ...\n",
              "6    trigger warning excuse self inflicted burnsi k...\n",
              "7                     ends tonighti can’t anymore quit\n",
              "8    everyone wants edgy its making self conscious ...\n",
              "9    life over 20 years oldhello all 20 year old ba...\n",
              "Name: text, dtype: object"
            ]
          },
          "metadata": {},
          "execution_count": 12
        }
      ],
      "source": [
        "# this piece of code check the each tweets in dataset and remove every punctuation in the whole dataset\n",
        "english_punctuations = string.punctuation\n",
        "punctuations_list = english_punctuations\n",
        "def cleaning_punctuations(text):\n",
        "    translator = str.maketrans('', '', punctuations_list)\n",
        "    return text.translate(translator)\n",
        "dataset['text']= dataset['text'].apply(lambda x: cleaning_punctuations(x))\n",
        "dataset['text'].head(10)"
      ]
    },
    {
      "cell_type": "markdown",
      "metadata": {
        "id": "PbaXWyhlKakl"
      },
      "source": [
        "## Remove repeating character"
      ]
    },
    {
      "cell_type": "code",
      "execution_count": null,
      "metadata": {
        "colab": {
          "base_uri": "https://localhost:8080/"
        },
        "id": "HxZUsOTlwuLG",
        "outputId": "9545bb72-4f9c-4585-b2f2-be0ee2e2f053"
      },
      "outputs": [
        {
          "output_type": "execute_result",
          "data": {
            "text/plain": [
              "0    ex wife threatening suiciderecently left wife ...\n",
              "1    weird dont get affected compliments its coming...\n",
              "2    finally 2020 almost over never hear 2020 bad y...\n",
              "3                    need helpjust help im crying hard\n",
              "4    i’m losthello name adam16 i’ve struggling year...\n",
              "5    honetly idki dont know im even here feel like ...\n",
              "6    trigger warning excuse self inflicted burnsi k...\n",
              "7                     ends tonighti can’t anymore quit\n",
              "8    everyone wants edgy its making self conscious ...\n",
              "9    life over 20 years oldhello all 20 year old ba...\n",
              "Name: text, dtype: object"
            ]
          },
          "metadata": {},
          "execution_count": 13
        }
      ],
      "source": [
        "# this piece of code remove the repeating characters in dataset\n",
        "def cleaning_repeating_char(text):\n",
        "    return re.sub(r'(.)1+', r'1', text)\n",
        "dataset['text'] = dataset['text'].apply(lambda x: cleaning_repeating_char(x))\n",
        "dataset['text'].head(10)"
      ]
    },
    {
      "cell_type": "markdown",
      "metadata": {
        "id": "2dOvpwqUKl3c"
      },
      "source": [
        "## Removing URLs"
      ]
    },
    {
      "cell_type": "code",
      "execution_count": null,
      "metadata": {
        "colab": {
          "base_uri": "https://localhost:8080/"
        },
        "id": "BJ8s95oXwuHo",
        "outputId": "0aeaf008-dcae-4bfc-ad05-61ba9d31a2cd"
      },
      "outputs": [
        {
          "output_type": "execute_result",
          "data": {
            "text/plain": [
              "0    ex wife threatening suiciderecently left wife ...\n",
              "1    weird dont get affected compliments its coming...\n",
              "2    finally 2020 almost over never hear 2020 bad y...\n",
              "3                    need helpjust help im crying hard\n",
              "4    i’m losthello name adam16 i’ve struggling year...\n",
              "5    honetly idki dont know im even here feel like ...\n",
              "6    trigger warning excuse self inflicted burnsi k...\n",
              "7                     ends tonighti can’t anymore quit\n",
              "8    everyone wants edgy its making self conscious ...\n",
              "9    life over 20 years oldhello all 20 year old ba...\n",
              "Name: text, dtype: object"
            ]
          },
          "metadata": {},
          "execution_count": 14
        }
      ],
      "source": [
        "# this piece of code remove the urls from dataset,itterate each tweet if there is any urls remove the url\n",
        "def cleaning_URLs(data):\n",
        "    return re.sub('((www.[^s]+)|(https?://[^s]+))',' ',data)\n",
        "dataset['text'] = dataset['text'].apply(lambda x: cleaning_URLs(x))\n",
        "dataset['text'].head(10)"
      ]
    },
    {
      "cell_type": "markdown",
      "metadata": {
        "id": "fPgAxwPiKpqV"
      },
      "source": [
        "## Remove numbers from text"
      ]
    },
    {
      "cell_type": "code",
      "execution_count": null,
      "metadata": {
        "colab": {
          "base_uri": "https://localhost:8080/"
        },
        "id": "PTcVvQXPw_MC",
        "outputId": "d52eec58-f49d-4be3-a9d8-1520c3ec7780"
      },
      "outputs": [
        {
          "output_type": "execute_result",
          "data": {
            "text/plain": [
              "0    ex wife threatening suiciderecently left wife ...\n",
              "1    weird dont get affected compliments its coming...\n",
              "2    finally  almost over never hear  bad year ever...\n",
              "3                    need helpjust help im crying hard\n",
              "4    i’m losthello name adam i’ve struggling years ...\n",
              "5    honetly idki dont know im even here feel like ...\n",
              "6    trigger warning excuse self inflicted burnsi k...\n",
              "7                     ends tonighti can’t anymore quit\n",
              "8    everyone wants edgy its making self conscious ...\n",
              "9    life over  years oldhello all  year old baldin...\n",
              "Name: text, dtype: object"
            ]
          },
          "metadata": {},
          "execution_count": 15
        }
      ],
      "source": [
        "# this piece of code remove the numaric number from dataset,itterate each tweet if there is any numaric number remove the numaric number\n",
        "def cleaning_numbers(data):\n",
        "    return re.sub('[0-9]+', '', data)\n",
        "dataset['text'] = dataset['text'].apply(lambda x: cleaning_numbers(x))\n",
        "dataset['text'].head(10)"
      ]
    },
    {
      "cell_type": "markdown",
      "metadata": {
        "id": "KEpc33WlKwrd"
      },
      "source": [
        "## Tokenization of text"
      ]
    },
    {
      "cell_type": "code",
      "execution_count": null,
      "metadata": {
        "colab": {
          "base_uri": "https://localhost:8080/",
          "height": 363
        },
        "id": "kFmJDrdvw_Io",
        "outputId": "2734f935-9119-4a87-b130-ca698b97d0fb"
      },
      "outputs": [
        {
          "output_type": "execute_result",
          "data": {
            "text/plain": [
              "                                                text  label\n",
              "0  [ex, wife, threatening, suiciderecently, left,...      1\n",
              "1  [weird, dont, get, affected, compliments, its,...      0\n",
              "2  [finally, almost, over, never, hear, bad, year...      0\n",
              "3           [need, helpjust, help, im, crying, hard]      1\n",
              "4  [i’m, losthello, name, adam, i’ve, struggling,...      1\n",
              "5  [honetly, idki, dont, know, im, even, here, fe...      1\n",
              "6  [trigger, warning, excuse, self, inflicted, bu...      1\n",
              "7             [ends, tonighti, can’t, anymore, quit]      1\n",
              "8  [everyone, wants, edgy, its, making, self, con...      0\n",
              "9  [life, over, years, oldhello, all, year, old, ...      1"
            ],
            "text/html": [
              "\n",
              "  <div id=\"df-e27dcedc-8dcb-4a51-a03e-7185c21ef6d3\">\n",
              "    <div class=\"colab-df-container\">\n",
              "      <div>\n",
              "<style scoped>\n",
              "    .dataframe tbody tr th:only-of-type {\n",
              "        vertical-align: middle;\n",
              "    }\n",
              "\n",
              "    .dataframe tbody tr th {\n",
              "        vertical-align: top;\n",
              "    }\n",
              "\n",
              "    .dataframe thead th {\n",
              "        text-align: right;\n",
              "    }\n",
              "</style>\n",
              "<table border=\"1\" class=\"dataframe\">\n",
              "  <thead>\n",
              "    <tr style=\"text-align: right;\">\n",
              "      <th></th>\n",
              "      <th>text</th>\n",
              "      <th>label</th>\n",
              "    </tr>\n",
              "  </thead>\n",
              "  <tbody>\n",
              "    <tr>\n",
              "      <th>0</th>\n",
              "      <td>[ex, wife, threatening, suiciderecently, left,...</td>\n",
              "      <td>1</td>\n",
              "    </tr>\n",
              "    <tr>\n",
              "      <th>1</th>\n",
              "      <td>[weird, dont, get, affected, compliments, its,...</td>\n",
              "      <td>0</td>\n",
              "    </tr>\n",
              "    <tr>\n",
              "      <th>2</th>\n",
              "      <td>[finally, almost, over, never, hear, bad, year...</td>\n",
              "      <td>0</td>\n",
              "    </tr>\n",
              "    <tr>\n",
              "      <th>3</th>\n",
              "      <td>[need, helpjust, help, im, crying, hard]</td>\n",
              "      <td>1</td>\n",
              "    </tr>\n",
              "    <tr>\n",
              "      <th>4</th>\n",
              "      <td>[i’m, losthello, name, adam, i’ve, struggling,...</td>\n",
              "      <td>1</td>\n",
              "    </tr>\n",
              "    <tr>\n",
              "      <th>5</th>\n",
              "      <td>[honetly, idki, dont, know, im, even, here, fe...</td>\n",
              "      <td>1</td>\n",
              "    </tr>\n",
              "    <tr>\n",
              "      <th>6</th>\n",
              "      <td>[trigger, warning, excuse, self, inflicted, bu...</td>\n",
              "      <td>1</td>\n",
              "    </tr>\n",
              "    <tr>\n",
              "      <th>7</th>\n",
              "      <td>[ends, tonighti, can’t, anymore, quit]</td>\n",
              "      <td>1</td>\n",
              "    </tr>\n",
              "    <tr>\n",
              "      <th>8</th>\n",
              "      <td>[everyone, wants, edgy, its, making, self, con...</td>\n",
              "      <td>0</td>\n",
              "    </tr>\n",
              "    <tr>\n",
              "      <th>9</th>\n",
              "      <td>[life, over, years, oldhello, all, year, old, ...</td>\n",
              "      <td>1</td>\n",
              "    </tr>\n",
              "  </tbody>\n",
              "</table>\n",
              "</div>\n",
              "      <button class=\"colab-df-convert\" onclick=\"convertToInteractive('df-e27dcedc-8dcb-4a51-a03e-7185c21ef6d3')\"\n",
              "              title=\"Convert this dataframe to an interactive table.\"\n",
              "              style=\"display:none;\">\n",
              "        \n",
              "  <svg xmlns=\"http://www.w3.org/2000/svg\" height=\"24px\"viewBox=\"0 0 24 24\"\n",
              "       width=\"24px\">\n",
              "    <path d=\"M0 0h24v24H0V0z\" fill=\"none\"/>\n",
              "    <path d=\"M18.56 5.44l.94 2.06.94-2.06 2.06-.94-2.06-.94-.94-2.06-.94 2.06-2.06.94zm-11 1L8.5 8.5l.94-2.06 2.06-.94-2.06-.94L8.5 2.5l-.94 2.06-2.06.94zm10 10l.94 2.06.94-2.06 2.06-.94-2.06-.94-.94-2.06-.94 2.06-2.06.94z\"/><path d=\"M17.41 7.96l-1.37-1.37c-.4-.4-.92-.59-1.43-.59-.52 0-1.04.2-1.43.59L10.3 9.45l-7.72 7.72c-.78.78-.78 2.05 0 2.83L4 21.41c.39.39.9.59 1.41.59.51 0 1.02-.2 1.41-.59l7.78-7.78 2.81-2.81c.8-.78.8-2.07 0-2.86zM5.41 20L4 18.59l7.72-7.72 1.47 1.35L5.41 20z\"/>\n",
              "  </svg>\n",
              "      </button>\n",
              "      \n",
              "  <style>\n",
              "    .colab-df-container {\n",
              "      display:flex;\n",
              "      flex-wrap:wrap;\n",
              "      gap: 12px;\n",
              "    }\n",
              "\n",
              "    .colab-df-convert {\n",
              "      background-color: #E8F0FE;\n",
              "      border: none;\n",
              "      border-radius: 50%;\n",
              "      cursor: pointer;\n",
              "      display: none;\n",
              "      fill: #1967D2;\n",
              "      height: 32px;\n",
              "      padding: 0 0 0 0;\n",
              "      width: 32px;\n",
              "    }\n",
              "\n",
              "    .colab-df-convert:hover {\n",
              "      background-color: #E2EBFA;\n",
              "      box-shadow: 0px 1px 2px rgba(60, 64, 67, 0.3), 0px 1px 3px 1px rgba(60, 64, 67, 0.15);\n",
              "      fill: #174EA6;\n",
              "    }\n",
              "\n",
              "    [theme=dark] .colab-df-convert {\n",
              "      background-color: #3B4455;\n",
              "      fill: #D2E3FC;\n",
              "    }\n",
              "\n",
              "    [theme=dark] .colab-df-convert:hover {\n",
              "      background-color: #434B5C;\n",
              "      box-shadow: 0px 1px 3px 1px rgba(0, 0, 0, 0.15);\n",
              "      filter: drop-shadow(0px 1px 2px rgba(0, 0, 0, 0.3));\n",
              "      fill: #FFFFFF;\n",
              "    }\n",
              "  </style>\n",
              "\n",
              "      <script>\n",
              "        const buttonEl =\n",
              "          document.querySelector('#df-e27dcedc-8dcb-4a51-a03e-7185c21ef6d3 button.colab-df-convert');\n",
              "        buttonEl.style.display =\n",
              "          google.colab.kernel.accessAllowed ? 'block' : 'none';\n",
              "\n",
              "        async function convertToInteractive(key) {\n",
              "          const element = document.querySelector('#df-e27dcedc-8dcb-4a51-a03e-7185c21ef6d3');\n",
              "          const dataTable =\n",
              "            await google.colab.kernel.invokeFunction('convertToInteractive',\n",
              "                                                     [key], {});\n",
              "          if (!dataTable) return;\n",
              "\n",
              "          const docLinkHtml = 'Like what you see? Visit the ' +\n",
              "            '<a target=\"_blank\" href=https://colab.research.google.com/notebooks/data_table.ipynb>data table notebook</a>'\n",
              "            + ' to learn more about interactive tables.';\n",
              "          element.innerHTML = '';\n",
              "          dataTable['output_type'] = 'display_data';\n",
              "          await google.colab.output.renderOutput(dataTable, element);\n",
              "          const docLink = document.createElement('div');\n",
              "          docLink.innerHTML = docLinkHtml;\n",
              "          element.appendChild(docLink);\n",
              "        }\n",
              "      </script>\n",
              "    </div>\n",
              "  </div>\n",
              "  "
            ]
          },
          "metadata": {},
          "execution_count": 16
        }
      ],
      "source": [
        "# in this piece of code we create the tokens of each tweet in genral token means a word in tweet\n",
        "tokenizer = RegexpTokenizer('\\s+', gaps = True)\n",
        "dataset['text'] = dataset['text'].apply(str)\n",
        "dataset['text'] = dataset['text'].apply(tokenizer.tokenize)\n",
        "dataset.head(10)"
      ]
    },
    {
      "cell_type": "markdown",
      "metadata": {
        "id": "CNHAaEpZK4kw"
      },
      "source": [
        "# Apply stemming"
      ]
    },
    {
      "cell_type": "code",
      "execution_count": null,
      "metadata": {
        "colab": {
          "base_uri": "https://localhost:8080/",
          "height": 363
        },
        "id": "k63Sxjl1w_Fs",
        "outputId": "e531d1dd-401f-4530-9a48-4b8b46fb1664"
      },
      "outputs": [
        {
          "output_type": "execute_result",
          "data": {
            "text/plain": [
              "                                                text  label\n",
              "0  [ex, wife, threatening, suiciderecently, left,...      1\n",
              "1  [weird, dont, get, affected, compliments, its,...      0\n",
              "2  [finally, almost, over, never, hear, bad, year...      0\n",
              "3           [need, helpjust, help, im, crying, hard]      1\n",
              "4  [i’m, losthello, name, adam, i’ve, struggling,...      1\n",
              "5  [honetly, idki, dont, know, im, even, here, fe...      1\n",
              "6  [trigger, warning, excuse, self, inflicted, bu...      1\n",
              "7             [ends, tonighti, can’t, anymore, quit]      1\n",
              "8  [everyone, wants, edgy, its, making, self, con...      0\n",
              "9  [life, over, years, oldhello, all, year, old, ...      1"
            ],
            "text/html": [
              "\n",
              "  <div id=\"df-a56dc7a6-b7ad-455a-8568-0d12b6f501ec\">\n",
              "    <div class=\"colab-df-container\">\n",
              "      <div>\n",
              "<style scoped>\n",
              "    .dataframe tbody tr th:only-of-type {\n",
              "        vertical-align: middle;\n",
              "    }\n",
              "\n",
              "    .dataframe tbody tr th {\n",
              "        vertical-align: top;\n",
              "    }\n",
              "\n",
              "    .dataframe thead th {\n",
              "        text-align: right;\n",
              "    }\n",
              "</style>\n",
              "<table border=\"1\" class=\"dataframe\">\n",
              "  <thead>\n",
              "    <tr style=\"text-align: right;\">\n",
              "      <th></th>\n",
              "      <th>text</th>\n",
              "      <th>label</th>\n",
              "    </tr>\n",
              "  </thead>\n",
              "  <tbody>\n",
              "    <tr>\n",
              "      <th>0</th>\n",
              "      <td>[ex, wife, threatening, suiciderecently, left,...</td>\n",
              "      <td>1</td>\n",
              "    </tr>\n",
              "    <tr>\n",
              "      <th>1</th>\n",
              "      <td>[weird, dont, get, affected, compliments, its,...</td>\n",
              "      <td>0</td>\n",
              "    </tr>\n",
              "    <tr>\n",
              "      <th>2</th>\n",
              "      <td>[finally, almost, over, never, hear, bad, year...</td>\n",
              "      <td>0</td>\n",
              "    </tr>\n",
              "    <tr>\n",
              "      <th>3</th>\n",
              "      <td>[need, helpjust, help, im, crying, hard]</td>\n",
              "      <td>1</td>\n",
              "    </tr>\n",
              "    <tr>\n",
              "      <th>4</th>\n",
              "      <td>[i’m, losthello, name, adam, i’ve, struggling,...</td>\n",
              "      <td>1</td>\n",
              "    </tr>\n",
              "    <tr>\n",
              "      <th>5</th>\n",
              "      <td>[honetly, idki, dont, know, im, even, here, fe...</td>\n",
              "      <td>1</td>\n",
              "    </tr>\n",
              "    <tr>\n",
              "      <th>6</th>\n",
              "      <td>[trigger, warning, excuse, self, inflicted, bu...</td>\n",
              "      <td>1</td>\n",
              "    </tr>\n",
              "    <tr>\n",
              "      <th>7</th>\n",
              "      <td>[ends, tonighti, can’t, anymore, quit]</td>\n",
              "      <td>1</td>\n",
              "    </tr>\n",
              "    <tr>\n",
              "      <th>8</th>\n",
              "      <td>[everyone, wants, edgy, its, making, self, con...</td>\n",
              "      <td>0</td>\n",
              "    </tr>\n",
              "    <tr>\n",
              "      <th>9</th>\n",
              "      <td>[life, over, years, oldhello, all, year, old, ...</td>\n",
              "      <td>1</td>\n",
              "    </tr>\n",
              "  </tbody>\n",
              "</table>\n",
              "</div>\n",
              "      <button class=\"colab-df-convert\" onclick=\"convertToInteractive('df-a56dc7a6-b7ad-455a-8568-0d12b6f501ec')\"\n",
              "              title=\"Convert this dataframe to an interactive table.\"\n",
              "              style=\"display:none;\">\n",
              "        \n",
              "  <svg xmlns=\"http://www.w3.org/2000/svg\" height=\"24px\"viewBox=\"0 0 24 24\"\n",
              "       width=\"24px\">\n",
              "    <path d=\"M0 0h24v24H0V0z\" fill=\"none\"/>\n",
              "    <path d=\"M18.56 5.44l.94 2.06.94-2.06 2.06-.94-2.06-.94-.94-2.06-.94 2.06-2.06.94zm-11 1L8.5 8.5l.94-2.06 2.06-.94-2.06-.94L8.5 2.5l-.94 2.06-2.06.94zm10 10l.94 2.06.94-2.06 2.06-.94-2.06-.94-.94-2.06-.94 2.06-2.06.94z\"/><path d=\"M17.41 7.96l-1.37-1.37c-.4-.4-.92-.59-1.43-.59-.52 0-1.04.2-1.43.59L10.3 9.45l-7.72 7.72c-.78.78-.78 2.05 0 2.83L4 21.41c.39.39.9.59 1.41.59.51 0 1.02-.2 1.41-.59l7.78-7.78 2.81-2.81c.8-.78.8-2.07 0-2.86zM5.41 20L4 18.59l7.72-7.72 1.47 1.35L5.41 20z\"/>\n",
              "  </svg>\n",
              "      </button>\n",
              "      \n",
              "  <style>\n",
              "    .colab-df-container {\n",
              "      display:flex;\n",
              "      flex-wrap:wrap;\n",
              "      gap: 12px;\n",
              "    }\n",
              "\n",
              "    .colab-df-convert {\n",
              "      background-color: #E8F0FE;\n",
              "      border: none;\n",
              "      border-radius: 50%;\n",
              "      cursor: pointer;\n",
              "      display: none;\n",
              "      fill: #1967D2;\n",
              "      height: 32px;\n",
              "      padding: 0 0 0 0;\n",
              "      width: 32px;\n",
              "    }\n",
              "\n",
              "    .colab-df-convert:hover {\n",
              "      background-color: #E2EBFA;\n",
              "      box-shadow: 0px 1px 2px rgba(60, 64, 67, 0.3), 0px 1px 3px 1px rgba(60, 64, 67, 0.15);\n",
              "      fill: #174EA6;\n",
              "    }\n",
              "\n",
              "    [theme=dark] .colab-df-convert {\n",
              "      background-color: #3B4455;\n",
              "      fill: #D2E3FC;\n",
              "    }\n",
              "\n",
              "    [theme=dark] .colab-df-convert:hover {\n",
              "      background-color: #434B5C;\n",
              "      box-shadow: 0px 1px 3px 1px rgba(0, 0, 0, 0.15);\n",
              "      filter: drop-shadow(0px 1px 2px rgba(0, 0, 0, 0.3));\n",
              "      fill: #FFFFFF;\n",
              "    }\n",
              "  </style>\n",
              "\n",
              "      <script>\n",
              "        const buttonEl =\n",
              "          document.querySelector('#df-a56dc7a6-b7ad-455a-8568-0d12b6f501ec button.colab-df-convert');\n",
              "        buttonEl.style.display =\n",
              "          google.colab.kernel.accessAllowed ? 'block' : 'none';\n",
              "\n",
              "        async function convertToInteractive(key) {\n",
              "          const element = document.querySelector('#df-a56dc7a6-b7ad-455a-8568-0d12b6f501ec');\n",
              "          const dataTable =\n",
              "            await google.colab.kernel.invokeFunction('convertToInteractive',\n",
              "                                                     [key], {});\n",
              "          if (!dataTable) return;\n",
              "\n",
              "          const docLinkHtml = 'Like what you see? Visit the ' +\n",
              "            '<a target=\"_blank\" href=https://colab.research.google.com/notebooks/data_table.ipynb>data table notebook</a>'\n",
              "            + ' to learn more about interactive tables.';\n",
              "          element.innerHTML = '';\n",
              "          dataTable['output_type'] = 'display_data';\n",
              "          await google.colab.output.renderOutput(dataTable, element);\n",
              "          const docLink = document.createElement('div');\n",
              "          docLink.innerHTML = docLinkHtml;\n",
              "          element.appendChild(docLink);\n",
              "        }\n",
              "      </script>\n",
              "    </div>\n",
              "  </div>\n",
              "  "
            ]
          },
          "metadata": {},
          "execution_count": 17
        }
      ],
      "source": [
        "\"\"\"stemming is process to get the root word  called ad  token in above cell like if word is studies its will convert it in to study,\n",
        "without repect to grammar\"\"\"\n",
        "st = nltk.PorterStemmer()\n",
        "def stemming_on_text(data):\n",
        "    text = [st.stem(word) for word in data]\n",
        "    return data\n",
        "dataset['text']= dataset['text'].apply(lambda x: stemming_on_text(x))\n",
        "dataset.head(10)"
      ]
    },
    {
      "cell_type": "markdown",
      "metadata": {
        "id": "PMoW9USpK-y_"
      },
      "source": [
        "## Apply lemmatization"
      ]
    },
    {
      "cell_type": "code",
      "execution_count": null,
      "metadata": {
        "colab": {
          "base_uri": "https://localhost:8080/",
          "height": 363
        },
        "id": "czVSLwqjw_Cs",
        "outputId": "8ba0ebe2-dd1e-4abc-a07a-ede5a55e129a"
      },
      "outputs": [
        {
          "output_type": "execute_result",
          "data": {
            "text/plain": [
              "                                                text  label\n",
              "0  [ex, wife, threatening, suiciderecently, left,...      1\n",
              "1  [weird, dont, get, affected, compliments, its,...      0\n",
              "2  [finally, almost, over, never, hear, bad, year...      0\n",
              "3           [need, helpjust, help, im, crying, hard]      1\n",
              "4  [i’m, losthello, name, adam, i’ve, struggling,...      1\n",
              "5  [honetly, idki, dont, know, im, even, here, fe...      1\n",
              "6  [trigger, warning, excuse, self, inflicted, bu...      1\n",
              "7             [ends, tonighti, can’t, anymore, quit]      1\n",
              "8  [everyone, wants, edgy, its, making, self, con...      0\n",
              "9  [life, over, years, oldhello, all, year, old, ...      1"
            ],
            "text/html": [
              "\n",
              "  <div id=\"df-03b8c75b-241e-4fcf-8cb8-1b91b7ad8b80\">\n",
              "    <div class=\"colab-df-container\">\n",
              "      <div>\n",
              "<style scoped>\n",
              "    .dataframe tbody tr th:only-of-type {\n",
              "        vertical-align: middle;\n",
              "    }\n",
              "\n",
              "    .dataframe tbody tr th {\n",
              "        vertical-align: top;\n",
              "    }\n",
              "\n",
              "    .dataframe thead th {\n",
              "        text-align: right;\n",
              "    }\n",
              "</style>\n",
              "<table border=\"1\" class=\"dataframe\">\n",
              "  <thead>\n",
              "    <tr style=\"text-align: right;\">\n",
              "      <th></th>\n",
              "      <th>text</th>\n",
              "      <th>label</th>\n",
              "    </tr>\n",
              "  </thead>\n",
              "  <tbody>\n",
              "    <tr>\n",
              "      <th>0</th>\n",
              "      <td>[ex, wife, threatening, suiciderecently, left,...</td>\n",
              "      <td>1</td>\n",
              "    </tr>\n",
              "    <tr>\n",
              "      <th>1</th>\n",
              "      <td>[weird, dont, get, affected, compliments, its,...</td>\n",
              "      <td>0</td>\n",
              "    </tr>\n",
              "    <tr>\n",
              "      <th>2</th>\n",
              "      <td>[finally, almost, over, never, hear, bad, year...</td>\n",
              "      <td>0</td>\n",
              "    </tr>\n",
              "    <tr>\n",
              "      <th>3</th>\n",
              "      <td>[need, helpjust, help, im, crying, hard]</td>\n",
              "      <td>1</td>\n",
              "    </tr>\n",
              "    <tr>\n",
              "      <th>4</th>\n",
              "      <td>[i’m, losthello, name, adam, i’ve, struggling,...</td>\n",
              "      <td>1</td>\n",
              "    </tr>\n",
              "    <tr>\n",
              "      <th>5</th>\n",
              "      <td>[honetly, idki, dont, know, im, even, here, fe...</td>\n",
              "      <td>1</td>\n",
              "    </tr>\n",
              "    <tr>\n",
              "      <th>6</th>\n",
              "      <td>[trigger, warning, excuse, self, inflicted, bu...</td>\n",
              "      <td>1</td>\n",
              "    </tr>\n",
              "    <tr>\n",
              "      <th>7</th>\n",
              "      <td>[ends, tonighti, can’t, anymore, quit]</td>\n",
              "      <td>1</td>\n",
              "    </tr>\n",
              "    <tr>\n",
              "      <th>8</th>\n",
              "      <td>[everyone, wants, edgy, its, making, self, con...</td>\n",
              "      <td>0</td>\n",
              "    </tr>\n",
              "    <tr>\n",
              "      <th>9</th>\n",
              "      <td>[life, over, years, oldhello, all, year, old, ...</td>\n",
              "      <td>1</td>\n",
              "    </tr>\n",
              "  </tbody>\n",
              "</table>\n",
              "</div>\n",
              "      <button class=\"colab-df-convert\" onclick=\"convertToInteractive('df-03b8c75b-241e-4fcf-8cb8-1b91b7ad8b80')\"\n",
              "              title=\"Convert this dataframe to an interactive table.\"\n",
              "              style=\"display:none;\">\n",
              "        \n",
              "  <svg xmlns=\"http://www.w3.org/2000/svg\" height=\"24px\"viewBox=\"0 0 24 24\"\n",
              "       width=\"24px\">\n",
              "    <path d=\"M0 0h24v24H0V0z\" fill=\"none\"/>\n",
              "    <path d=\"M18.56 5.44l.94 2.06.94-2.06 2.06-.94-2.06-.94-.94-2.06-.94 2.06-2.06.94zm-11 1L8.5 8.5l.94-2.06 2.06-.94-2.06-.94L8.5 2.5l-.94 2.06-2.06.94zm10 10l.94 2.06.94-2.06 2.06-.94-2.06-.94-.94-2.06-.94 2.06-2.06.94z\"/><path d=\"M17.41 7.96l-1.37-1.37c-.4-.4-.92-.59-1.43-.59-.52 0-1.04.2-1.43.59L10.3 9.45l-7.72 7.72c-.78.78-.78 2.05 0 2.83L4 21.41c.39.39.9.59 1.41.59.51 0 1.02-.2 1.41-.59l7.78-7.78 2.81-2.81c.8-.78.8-2.07 0-2.86zM5.41 20L4 18.59l7.72-7.72 1.47 1.35L5.41 20z\"/>\n",
              "  </svg>\n",
              "      </button>\n",
              "      \n",
              "  <style>\n",
              "    .colab-df-container {\n",
              "      display:flex;\n",
              "      flex-wrap:wrap;\n",
              "      gap: 12px;\n",
              "    }\n",
              "\n",
              "    .colab-df-convert {\n",
              "      background-color: #E8F0FE;\n",
              "      border: none;\n",
              "      border-radius: 50%;\n",
              "      cursor: pointer;\n",
              "      display: none;\n",
              "      fill: #1967D2;\n",
              "      height: 32px;\n",
              "      padding: 0 0 0 0;\n",
              "      width: 32px;\n",
              "    }\n",
              "\n",
              "    .colab-df-convert:hover {\n",
              "      background-color: #E2EBFA;\n",
              "      box-shadow: 0px 1px 2px rgba(60, 64, 67, 0.3), 0px 1px 3px 1px rgba(60, 64, 67, 0.15);\n",
              "      fill: #174EA6;\n",
              "    }\n",
              "\n",
              "    [theme=dark] .colab-df-convert {\n",
              "      background-color: #3B4455;\n",
              "      fill: #D2E3FC;\n",
              "    }\n",
              "\n",
              "    [theme=dark] .colab-df-convert:hover {\n",
              "      background-color: #434B5C;\n",
              "      box-shadow: 0px 1px 3px 1px rgba(0, 0, 0, 0.15);\n",
              "      filter: drop-shadow(0px 1px 2px rgba(0, 0, 0, 0.3));\n",
              "      fill: #FFFFFF;\n",
              "    }\n",
              "  </style>\n",
              "\n",
              "      <script>\n",
              "        const buttonEl =\n",
              "          document.querySelector('#df-03b8c75b-241e-4fcf-8cb8-1b91b7ad8b80 button.colab-df-convert');\n",
              "        buttonEl.style.display =\n",
              "          google.colab.kernel.accessAllowed ? 'block' : 'none';\n",
              "\n",
              "        async function convertToInteractive(key) {\n",
              "          const element = document.querySelector('#df-03b8c75b-241e-4fcf-8cb8-1b91b7ad8b80');\n",
              "          const dataTable =\n",
              "            await google.colab.kernel.invokeFunction('convertToInteractive',\n",
              "                                                     [key], {});\n",
              "          if (!dataTable) return;\n",
              "\n",
              "          const docLinkHtml = 'Like what you see? Visit the ' +\n",
              "            '<a target=\"_blank\" href=https://colab.research.google.com/notebooks/data_table.ipynb>data table notebook</a>'\n",
              "            + ' to learn more about interactive tables.';\n",
              "          element.innerHTML = '';\n",
              "          dataTable['output_type'] = 'display_data';\n",
              "          await google.colab.output.renderOutput(dataTable, element);\n",
              "          const docLink = document.createElement('div');\n",
              "          docLink.innerHTML = docLinkHtml;\n",
              "          element.appendChild(docLink);\n",
              "        }\n",
              "      </script>\n",
              "    </div>\n",
              "  </div>\n",
              "  "
            ]
          },
          "metadata": {},
          "execution_count": 18
        }
      ],
      "source": [
        "\"\"\"lemmatizing is process to get the root word  called ad  token in above cell like if word is studies its will convert it in to study,\n",
        "with repect to grammar\"\"\"\n",
        "lm = nltk.WordNetLemmatizer()\n",
        "def lemmatizer_on_text(data):\n",
        "    text = [lm.lemmatize(word) for word in data]\n",
        "    return data\n",
        "dataset['text'] = dataset['text'].apply(lambda x: lemmatizer_on_text(x))\n",
        "dataset.head(10)"
      ]
    },
    {
      "cell_type": "markdown",
      "metadata": {
        "id": "tpPVXFgXLFIS"
      },
      "source": [
        "## Join all tokens in to a string"
      ]
    },
    {
      "cell_type": "code",
      "execution_count": null,
      "metadata": {
        "colab": {
          "base_uri": "https://localhost:8080/",
          "height": 423
        },
        "id": "QgLD8qN8xKl6",
        "outputId": "119cc37f-e5b3-48cf-a0ee-70f676ade6d9"
      },
      "outputs": [
        {
          "output_type": "execute_result",
          "data": {
            "text/plain": [
              "                                                     text  label\n",
              "0       ex wife threatening suiciderecently left wife ...      1\n",
              "1       weird dont get affected compliments its coming...      0\n",
              "2       finally almost over never hear bad year ever a...      0\n",
              "3                       need helpjust help im crying hard      1\n",
              "4       i’m losthello name adam i’ve struggling years ...      1\n",
              "...                                                   ...    ...\n",
              "232069  dont like rock not going get anything but go h...      0\n",
              "232070  tell many friends not lonely everything depriv...      0\n",
              "232071  pee probably tastes like salty tea😏💦‼️ someone...      0\n",
              "232072  usual stuff find hereim not posting sympathy p...      1\n",
              "232073  still havent beaten first boss hollow knight i...      0\n",
              "\n",
              "[232074 rows x 2 columns]"
            ],
            "text/html": [
              "\n",
              "  <div id=\"df-56d35246-8c9b-4663-80f7-258393ed374c\">\n",
              "    <div class=\"colab-df-container\">\n",
              "      <div>\n",
              "<style scoped>\n",
              "    .dataframe tbody tr th:only-of-type {\n",
              "        vertical-align: middle;\n",
              "    }\n",
              "\n",
              "    .dataframe tbody tr th {\n",
              "        vertical-align: top;\n",
              "    }\n",
              "\n",
              "    .dataframe thead th {\n",
              "        text-align: right;\n",
              "    }\n",
              "</style>\n",
              "<table border=\"1\" class=\"dataframe\">\n",
              "  <thead>\n",
              "    <tr style=\"text-align: right;\">\n",
              "      <th></th>\n",
              "      <th>text</th>\n",
              "      <th>label</th>\n",
              "    </tr>\n",
              "  </thead>\n",
              "  <tbody>\n",
              "    <tr>\n",
              "      <th>0</th>\n",
              "      <td>ex wife threatening suiciderecently left wife ...</td>\n",
              "      <td>1</td>\n",
              "    </tr>\n",
              "    <tr>\n",
              "      <th>1</th>\n",
              "      <td>weird dont get affected compliments its coming...</td>\n",
              "      <td>0</td>\n",
              "    </tr>\n",
              "    <tr>\n",
              "      <th>2</th>\n",
              "      <td>finally almost over never hear bad year ever a...</td>\n",
              "      <td>0</td>\n",
              "    </tr>\n",
              "    <tr>\n",
              "      <th>3</th>\n",
              "      <td>need helpjust help im crying hard</td>\n",
              "      <td>1</td>\n",
              "    </tr>\n",
              "    <tr>\n",
              "      <th>4</th>\n",
              "      <td>i’m losthello name adam i’ve struggling years ...</td>\n",
              "      <td>1</td>\n",
              "    </tr>\n",
              "    <tr>\n",
              "      <th>...</th>\n",
              "      <td>...</td>\n",
              "      <td>...</td>\n",
              "    </tr>\n",
              "    <tr>\n",
              "      <th>232069</th>\n",
              "      <td>dont like rock not going get anything but go h...</td>\n",
              "      <td>0</td>\n",
              "    </tr>\n",
              "    <tr>\n",
              "      <th>232070</th>\n",
              "      <td>tell many friends not lonely everything depriv...</td>\n",
              "      <td>0</td>\n",
              "    </tr>\n",
              "    <tr>\n",
              "      <th>232071</th>\n",
              "      <td>pee probably tastes like salty tea😏💦‼️ someone...</td>\n",
              "      <td>0</td>\n",
              "    </tr>\n",
              "    <tr>\n",
              "      <th>232072</th>\n",
              "      <td>usual stuff find hereim not posting sympathy p...</td>\n",
              "      <td>1</td>\n",
              "    </tr>\n",
              "    <tr>\n",
              "      <th>232073</th>\n",
              "      <td>still havent beaten first boss hollow knight i...</td>\n",
              "      <td>0</td>\n",
              "    </tr>\n",
              "  </tbody>\n",
              "</table>\n",
              "<p>232074 rows × 2 columns</p>\n",
              "</div>\n",
              "      <button class=\"colab-df-convert\" onclick=\"convertToInteractive('df-56d35246-8c9b-4663-80f7-258393ed374c')\"\n",
              "              title=\"Convert this dataframe to an interactive table.\"\n",
              "              style=\"display:none;\">\n",
              "        \n",
              "  <svg xmlns=\"http://www.w3.org/2000/svg\" height=\"24px\"viewBox=\"0 0 24 24\"\n",
              "       width=\"24px\">\n",
              "    <path d=\"M0 0h24v24H0V0z\" fill=\"none\"/>\n",
              "    <path d=\"M18.56 5.44l.94 2.06.94-2.06 2.06-.94-2.06-.94-.94-2.06-.94 2.06-2.06.94zm-11 1L8.5 8.5l.94-2.06 2.06-.94-2.06-.94L8.5 2.5l-.94 2.06-2.06.94zm10 10l.94 2.06.94-2.06 2.06-.94-2.06-.94-.94-2.06-.94 2.06-2.06.94z\"/><path d=\"M17.41 7.96l-1.37-1.37c-.4-.4-.92-.59-1.43-.59-.52 0-1.04.2-1.43.59L10.3 9.45l-7.72 7.72c-.78.78-.78 2.05 0 2.83L4 21.41c.39.39.9.59 1.41.59.51 0 1.02-.2 1.41-.59l7.78-7.78 2.81-2.81c.8-.78.8-2.07 0-2.86zM5.41 20L4 18.59l7.72-7.72 1.47 1.35L5.41 20z\"/>\n",
              "  </svg>\n",
              "      </button>\n",
              "      \n",
              "  <style>\n",
              "    .colab-df-container {\n",
              "      display:flex;\n",
              "      flex-wrap:wrap;\n",
              "      gap: 12px;\n",
              "    }\n",
              "\n",
              "    .colab-df-convert {\n",
              "      background-color: #E8F0FE;\n",
              "      border: none;\n",
              "      border-radius: 50%;\n",
              "      cursor: pointer;\n",
              "      display: none;\n",
              "      fill: #1967D2;\n",
              "      height: 32px;\n",
              "      padding: 0 0 0 0;\n",
              "      width: 32px;\n",
              "    }\n",
              "\n",
              "    .colab-df-convert:hover {\n",
              "      background-color: #E2EBFA;\n",
              "      box-shadow: 0px 1px 2px rgba(60, 64, 67, 0.3), 0px 1px 3px 1px rgba(60, 64, 67, 0.15);\n",
              "      fill: #174EA6;\n",
              "    }\n",
              "\n",
              "    [theme=dark] .colab-df-convert {\n",
              "      background-color: #3B4455;\n",
              "      fill: #D2E3FC;\n",
              "    }\n",
              "\n",
              "    [theme=dark] .colab-df-convert:hover {\n",
              "      background-color: #434B5C;\n",
              "      box-shadow: 0px 1px 3px 1px rgba(0, 0, 0, 0.15);\n",
              "      filter: drop-shadow(0px 1px 2px rgba(0, 0, 0, 0.3));\n",
              "      fill: #FFFFFF;\n",
              "    }\n",
              "  </style>\n",
              "\n",
              "      <script>\n",
              "        const buttonEl =\n",
              "          document.querySelector('#df-56d35246-8c9b-4663-80f7-258393ed374c button.colab-df-convert');\n",
              "        buttonEl.style.display =\n",
              "          google.colab.kernel.accessAllowed ? 'block' : 'none';\n",
              "\n",
              "        async function convertToInteractive(key) {\n",
              "          const element = document.querySelector('#df-56d35246-8c9b-4663-80f7-258393ed374c');\n",
              "          const dataTable =\n",
              "            await google.colab.kernel.invokeFunction('convertToInteractive',\n",
              "                                                     [key], {});\n",
              "          if (!dataTable) return;\n",
              "\n",
              "          const docLinkHtml = 'Like what you see? Visit the ' +\n",
              "            '<a target=\"_blank\" href=https://colab.research.google.com/notebooks/data_table.ipynb>data table notebook</a>'\n",
              "            + ' to learn more about interactive tables.';\n",
              "          element.innerHTML = '';\n",
              "          dataTable['output_type'] = 'display_data';\n",
              "          await google.colab.output.renderOutput(dataTable, element);\n",
              "          const docLink = document.createElement('div');\n",
              "          docLink.innerHTML = docLinkHtml;\n",
              "          element.appendChild(docLink);\n",
              "        }\n",
              "      </script>\n",
              "    </div>\n",
              "  </div>\n",
              "  "
            ]
          },
          "metadata": {},
          "execution_count": 19
        }
      ],
      "source": [
        "new_data=dataset\n",
        "new_data['text'] = dataset['text'].apply(lambda x: ' '.join(x) )\n",
        "new_data"
      ]
    },
    {
      "cell_type": "markdown",
      "metadata": {
        "id": "cb7Pfs-HLPMm"
      },
      "source": [
        "## spilt the data into training and testing dataframes"
      ]
    },
    {
      "cell_type": "code",
      "execution_count": null,
      "metadata": {
        "colab": {
          "base_uri": "https://localhost:8080/"
        },
        "id": "8XcghCjXjbn_",
        "outputId": "fb5c670d-fe91-40da-f7d7-5cc13217b12a"
      },
      "outputs": [
        {
          "output_type": "stream",
          "name": "stdout",
          "text": [
            "Size of train dataframe:  208866\n",
            "Size of test dataframe:  23208\n"
          ]
        }
      ],
      "source": [
        "\n",
        "df_train, df_test = train_test_split(new_data, test_size=0.10, random_state=0)\n",
        "print('Size of train dataframe: ', df_train.shape[0])\n",
        "print('Size of test dataframe: ', df_test.shape[0])\n"
      ]
    },
    {
      "cell_type": "markdown",
      "metadata": {
        "id": "qcIB2WcHL2Vg"
      },
      "source": [
        "## Genrate TFid verctors of text with 10000 features"
      ]
    },
    {
      "cell_type": "code",
      "execution_count": null,
      "metadata": {
        "colab": {
          "base_uri": "https://localhost:8080/"
        },
        "id": "ld5ZpyztoSmb",
        "outputId": "3330acae-c8c2-447e-c363-d4761dbf8c4e"
      },
      "outputs": [
        {
          "output_type": "stream",
          "name": "stdout",
          "text": [
            "No. of feature_words:  10000\n",
            "(208866, 10000)\n",
            "(23208, 10000)\n"
          ]
        }
      ],
      "source": [
        "X_train=df_train['text']\n",
        "y_train=df_train['label'].values\n",
        "\n",
        "# Put test data into an array\n",
        "X_test=df_test['text']\n",
        "y_test=df_test['label'].values\n",
        "\n",
        "\n",
        "# now get the features of all your training and test vocabulary we get the 500 features from each vocabulary\n",
        "vectoriser = TfidfVectorizer(ngram_range=(1,2), max_features=10000)\n",
        "vectoriser.fit(X_train)\n",
        "print('No. of feature_words: ', len(vectoriser.get_feature_names_out()))\n",
        "\n",
        "X_train = vectoriser.transform(X_train)\n",
        "X_test  = vectoriser.transform(X_test)\n",
        "print(X_train.shape)\n",
        "print(X_test.shape)"
      ]
    },
    {
      "cell_type": "code",
      "execution_count": null,
      "metadata": {
        "id": "ifw9cePuRQpI"
      },
      "outputs": [],
      "source": [
        "collect_results_of_all_model= {\n",
        "    'Metrics':['accuracy','precision','recall','f1-score']\n",
        "}#dic form store results of all models\n",
        "\n"
      ]
    },
    {
      "cell_type": "code",
      "execution_count": null,
      "metadata": {
        "id": "p1ipaSovQUkY"
      },
      "outputs": [],
      "source": [
        "# function for evaluation metrics precision, recall, f1 etc\n",
        "def Evaluation(predic, test_labels):\n",
        "    print(\"\\n\")#new line\n",
        "    print (\"Accuracy_test_set: \",accuracy_score(test_labels, predic))#accuracyof model\n",
        "    print(\"\\n\")#new line\n",
        "    print (\"Classification_report_of_model : \"+\"\\n\", classification_report(test_labels, predic))#xlassificaion report\n",
        "    print(\"\\n\")#new line\n",
        "    print (\"Confusion_Matrix_of model : \"+\"\\n\", confusion_matrix(test_labels, predic))#confusion metrix\n",
        "    sns.heatmap(confusion_matrix(test_labels, predic),annot=True,cmap='Blues')#heatmap_confusion metrix\n",
        "    auc_roc=metrics.roc_auc_score(test_labels, predic)\n",
        "    print(auc_roc)\n",
        "    false_positive_rate, true_positive_rate, thresholds = roc_curve(test_labels, predic)\n",
        "    roc_auc = auc(false_positive_rate, true_positive_rate)\n",
        "    print(roc_auc)\n",
        "    import matplotlib.pyplot as plt\n",
        "    plt.figure(figsize=(5,5))\n",
        "    plt.title('Receiver Operating Characteristic')\n",
        "    plt.plot(false_positive_rate,true_positive_rate, color='orange',label = 'AUC = %0.2f' % roc_auc)\n",
        "    plt.legend(loc = 'lower right')\n",
        "    plt.plot([0, 1], [0, 1],linestyle='--')\n",
        "    plt.axis('tight')\n",
        "    plt.ylabel('True Positive Rate')\n",
        "    plt.xlabel('False Positive Rate')\n",
        "\n",
        "    results = [accuracy_score(test_labels, predic), precision_score(test_labels, predic),\n",
        "              recall_score(test_labels, predic),f1_score(test_labels, predic)]#store results of model\n",
        "    plt.tight_layout()\n",
        "    plt.show()\n",
        "    return results"
      ]
    },
    {
      "cell_type": "markdown",
      "metadata": {
        "id": "18cc0l5fMkzd"
      },
      "source": [
        "# Summary of  Supervised  Classifier with DecisionTreeClassifier and model accuracy"
      ]
    },
    {
      "cell_type": "code",
      "execution_count": null,
      "metadata": {
        "id": "I1Z6p2fbwMvd"
      },
      "outputs": [],
      "source": [
        "clf_ST=tree.DecisionTreeClassifier()\n",
        "# Fit the model\n",
        "clf_ST.fit(X_train, y_train)"
      ]
    },
    {
      "cell_type": "code",
      "execution_count": null,
      "metadata": {
        "colab": {
          "base_uri": "https://localhost:8080/"
        },
        "id": "o4UO7xjMiREE",
        "outputId": "1a7200f9-fc6c-4e15-8a9f-7ef627b2fe80"
      },
      "outputs": [
        {
          "data": {
            "text/plain": [
              "{'ccp_alpha': 0.0,\n",
              " 'class_weight': None,\n",
              " 'criterion': 'gini',\n",
              " 'max_depth': None,\n",
              " 'max_features': None,\n",
              " 'max_leaf_nodes': None,\n",
              " 'min_impurity_decrease': 0.0,\n",
              " 'min_samples_leaf': 1,\n",
              " 'min_samples_split': 2,\n",
              " 'min_weight_fraction_leaf': 0.0,\n",
              " 'random_state': None,\n",
              " 'splitter': 'best'}"
            ]
          },
          "execution_count": 27,
          "metadata": {},
          "output_type": "execute_result"
        }
      ],
      "source": [
        "clf_ST.get_params()"
      ]
    },
    {
      "cell_type": "code",
      "execution_count": null,
      "metadata": {
        "colab": {
          "base_uri": "https://localhost:8080/",
          "height": 1000
        },
        "id": "f9YSiGInxMts",
        "outputId": "7a6cb393-2205-430c-8754-e095cdfb7342"
      },
      "outputs": [
        {
          "name": "stdout",
          "output_type": "stream",
          "text": [
            "---------- Supervised Model - Evaluation on Test Data ----------\n",
            "Accuracy Score:  0.8545760082730093\n",
            "\n",
            "\n",
            "Accuracy_test_set:  0.8545760082730093\n",
            "\n",
            "\n",
            "Classification_report_of_model : \n",
            "               precision    recall  f1-score   support\n",
            "\n",
            "           0       0.86      0.85      0.85     11654\n",
            "           1       0.85      0.86      0.85     11554\n",
            "\n",
            "    accuracy                           0.85     23208\n",
            "   macro avg       0.85      0.85      0.85     23208\n",
            "weighted avg       0.85      0.85      0.85     23208\n",
            "\n",
            "\n",
            "\n",
            "Confusion_Matrix_of model : \n",
            " [[9932 1722]\n",
            " [1653 9901]]\n",
            "0.8545861192037604\n",
            "0.8545861192037604\n"
          ]
        },
        {
          "data": {
            "image/png": "[encoded data removed]",
            "text/plain": [
              "<Figure size 432x288 with 2 Axes>"
            ]
          },
          "metadata": {},
          "output_type": "display_data"
        },
        {
          "data": {
            "image/png": "[encoded data removed]",
            "text/plain": [
              "<Figure size 360x360 with 1 Axes>"
            ]
          },
          "metadata": {},
          "output_type": "display_data"
        }
      ],
      "source": [
        "print('---------- Supervised Model - Evaluation on Test Data ----------')\n",
        "accuracy_score_ST = clf_ST.score(X_test, y_test)\n",
        "print('Accuracy Score: ', accuracy_score_ST)\n",
        "Evl_DT=Evaluation(y_test, clf_ST.predict(X_test))\n",
        "collect_results_of_all_model[\"CART_ALGO\"] = Evl_DT#get results of CART algo"
      ]
    },
    {
      "cell_type": "code",
      "execution_count": null,
      "metadata": {
        "colab": {
          "base_uri": "https://localhost:8080/"
        },
        "id": "N-YNFJ8ii2V8",
        "outputId": "c6b52ec6-9c0a-46d3-93cd-31e41d12fd7b"
      },
      "outputs": [
        {
          "data": {
            "text/plain": [
              "{'Metrics': ['accuracy', 'precision', 'recall', 'f1-score'],\n",
              " 'CART_ALGO': [0.8545760082730093,\n",
              "  0.8518454787920502,\n",
              "  0.8569326640124633,\n",
              "  0.8543814988997713]}"
            ]
          },
          "execution_count": 29,
          "metadata": {},
          "output_type": "execute_result"
        }
      ],
      "source": [
        "collect_results_of_all_model"
      ]
    },
    {
      "cell_type": "code",
      "execution_count": null,
      "metadata": {
        "id": "ou5fQgt-ipx3"
      },
      "outputs": [],
      "source": [
        "clf=tree.DecisionTreeClassifier()"
      ]
    },
    {
      "cell_type": "code",
      "execution_count": null,
      "metadata": {
        "id": "0mhvTB8O9I7s"
      },
      "outputs": [],
      "source": [
        "param_grid = {#'max_features': ['auto', 'sqrt', 'log2','none'],\n",
        "              #'max_depth' : ['none'],\n",
        "              'criterion' :['entropy']\n",
        "             }"
      ]
    },
    {
      "cell_type": "code",
      "execution_count": null,
      "metadata": {
        "colab": {
          "base_uri": "https://localhost:8080/"
        },
        "id": "XEz6CrIW9Lsk",
        "outputId": "2bee83e2-e658-4d95-c19f-dafa31621cd6"
      },
      "outputs": [
        {
          "name": "stdout",
          "output_type": "stream",
          "text": [
            "Fitting 10 folds for each of 1 candidates, totalling 10 fits\n"
          ]
        },
        {
          "data": {
            "text/plain": [
              "GridSearchCV(cv=10, estimator=DecisionTreeClassifier(),\n",
              "             param_grid={'criterion': ['entropy']}, scoring='accuracy',\n",
              "             verbose=True)"
            ]
          },
          "execution_count": 45,
          "metadata": {},
          "output_type": "execute_result"
        }
      ],
      "source": [
        "#tree_class=tree.DecisionTreeClassifier(random_state=1024)\n",
        "clf_grid = GridSearchCV(estimator=clf, param_grid=param_grid, cv=10, verbose=True,scoring='accuracy')\n",
        "# Performing training\n",
        "clf_grid.fit(X_train,y_train)"
      ]
    },
    {
      "cell_type": "code",
      "execution_count": null,
      "metadata": {
        "id": "g-s_gohfe1L4"
      },
      "outputs": [],
      "source": []
    },
    {
      "cell_type": "code",
      "execution_count": null,
      "metadata": {
        "colab": {
          "base_uri": "https://localhost:8080/"
        },
        "id": "eu-rs07YjV3o",
        "outputId": "1d6ac13c-f230-4e0e-c830-9918cc4467e3"
      },
      "outputs": [
        {
          "name": "stdout",
          "output_type": "stream",
          "text": [
            "tuned hpyerparameters :(best parameters)  {'criterion': 'entropy'}\n",
            "accuracy : 0.8500426440701622\n"
          ]
        }
      ],
      "source": [
        "print(\"tuned hpyerparameters :(best parameters) \",clf_grid.best_params_)\n",
        "print(\"accuracy :\",clf_grid.best_score_)"
      ]
    },
    {
      "cell_type": "code",
      "execution_count": null,
      "metadata": {
        "colab": {
          "base_uri": "https://localhost:8080/",
          "height": 1000
        },
        "id": "PbdNxBidAQwb",
        "outputId": "1f2b9249-73eb-4c4e-a4c6-eac915db95bd"
      },
      "outputs": [
        {
          "name": "stdout",
          "output_type": "stream",
          "text": [
            "---------- Supervised Model - Evaluation on Test Data ----------\n",
            "Accuracy Score:  0.849189934505343\n",
            "\n",
            "\n",
            "Accuracy_test_set:  0.849189934505343\n",
            "\n",
            "\n",
            "Classification_report_of_model : \n",
            "               precision    recall  f1-score   support\n",
            "\n",
            "           0       0.85      0.85      0.85     11689\n",
            "           1       0.84      0.85      0.85     11519\n",
            "\n",
            "    accuracy                           0.85     23208\n",
            "   macro avg       0.85      0.85      0.85     23208\n",
            "weighted avg       0.85      0.85      0.85     23208\n",
            "\n",
            "\n",
            "\n",
            "Confusion_Matrix_of model : \n",
            " [[9887 1802]\n",
            " [1698 9821]]\n",
            "0.8492146690492078\n",
            "0.8492146690492078\n"
          ]
        },
        {
          "data": {
            "image/png": "[encoded data removed]",
            "text/plain": [
              "<Figure size 432x288 with 2 Axes>"
            ]
          },
          "metadata": {},
          "output_type": "display_data"
        },
        {
          "data": {
            "image/png": "[encoded data removed]",
            "text/plain": [
              "<Figure size 360x360 with 1 Axes>"
            ]
          },
          "metadata": {},
          "output_type": "display_data"
        }
      ],
      "source": [
        "print('---------- Supervised Model - Evaluation on Test Data ----------')\n",
        "accuracy_score_ST = clf_grid.score(X_test, y_test)\n",
        "print('Accuracy Score: ', accuracy_score_ST)\n",
        "Evl_DT=Evaluation(y_test, clf_grid.predict(X_test))\n",
        "collect_results_of_all_model[\"CART_ALGO\"] = Evl_DT#get results of CART algo"
      ]
    },
    {
      "cell_type": "code",
      "execution_count": null,
      "metadata": {
        "colab": {
          "base_uri": "https://localhost:8080/"
        },
        "id": "KpYbop1vAJ1y",
        "outputId": "fb35603c-e2ff-4ea1-d3b2-4256cacc8ec9"
      },
      "outputs": [
        {
          "data": {
            "text/plain": [
              "{'Metrics': ['accuracy', 'precision', 'recall', 'f1-score'],\n",
              " 'CART_ALGO': [0.849189934505343,\n",
              "  0.844962574206315,\n",
              "  0.8525913707787134,\n",
              "  0.8487598306110102]}"
            ]
          },
          "execution_count": 48,
          "metadata": {},
          "output_type": "execute_result"
        }
      ],
      "source": [
        "collect_results_of_all_model"
      ]
    },
    {
      "cell_type": "markdown",
      "metadata": {
        "id": "nxBPrU2wMyTB"
      },
      "source": [
        "#  Supervised ML Classifier with LogisticRegression"
      ]
    },
    {
      "cell_type": "code",
      "execution_count": null,
      "metadata": {
        "colab": {
          "base_uri": "https://localhost:8080/"
        },
        "id": "3NjZRkab3enS",
        "outputId": "52d54101-d7f1-4977-8873-00e01f813759"
      },
      "outputs": [
        {
          "data": {
            "text/plain": [
              "LogisticRegression()"
            ]
          },
          "execution_count": 25,
          "metadata": {},
          "output_type": "execute_result"
        }
      ],
      "source": [
        "clf_ST=LogisticRegression()\n",
        "clf_ST.fit(X_train, y_train)"
      ]
    },
    {
      "cell_type": "code",
      "execution_count": null,
      "metadata": {
        "colab": {
          "base_uri": "https://localhost:8080/"
        },
        "id": "gYDxL9D72O6W",
        "outputId": "3887ff2c-ad0e-4729-cb99-6ee91b3ecf9d"
      },
      "outputs": [
        {
          "data": {
            "text/plain": [
              "{'C': 1.0,\n",
              " 'class_weight': None,\n",
              " 'dual': False,\n",
              " 'fit_intercept': True,\n",
              " 'intercept_scaling': 1,\n",
              " 'l1_ratio': None,\n",
              " 'max_iter': 100,\n",
              " 'multi_class': 'auto',\n",
              " 'n_jobs': None,\n",
              " 'penalty': 'l2',\n",
              " 'random_state': None,\n",
              " 'solver': 'lbfgs',\n",
              " 'tol': 0.0001,\n",
              " 'verbose': 0,\n",
              " 'warm_start': False}"
            ]
          },
          "execution_count": 26,
          "metadata": {},
          "output_type": "execute_result"
        }
      ],
      "source": [
        "clf_ST.get_params()"
      ]
    },
    {
      "cell_type": "code",
      "execution_count": null,
      "metadata": {
        "colab": {
          "base_uri": "https://localhost:8080/",
          "height": 1000
        },
        "id": "YL5obltlyGXb",
        "outputId": "582d2c17-1630-457d-9204-d594e25ee705"
      },
      "outputs": [
        {
          "name": "stdout",
          "output_type": "stream",
          "text": [
            "---------- Supervised Model - Evaluation on Test Data ----------\n",
            "Accuracy Score:  0.9366166839021027\n",
            "\n",
            "\n",
            "Accuracy_test_set:  0.9366166839021027\n",
            "\n",
            "\n",
            "Classification_report_of_model : \n",
            "               precision    recall  f1-score   support\n",
            "\n",
            "           0       0.95      0.93      0.94     11816\n",
            "           1       0.93      0.95      0.94     11392\n",
            "\n",
            "    accuracy                           0.94     23208\n",
            "   macro avg       0.94      0.94      0.94     23208\n",
            "weighted avg       0.94      0.94      0.94     23208\n",
            "\n",
            "\n",
            "\n",
            "Confusion_Matrix_of model : \n",
            " [[10965   851]\n",
            " [  620 10772]]\n",
            "0.9367774271032232\n",
            "0.9367774271032232\n"
          ]
        },
        {
          "data": {
            "image/png": "[encoded data removed]",
            "text/plain": [
              "<Figure size 432x288 with 2 Axes>"
            ]
          },
          "metadata": {},
          "output_type": "display_data"
        },
        {
          "data": {
            "image/png": "[encoded data removed]",
            "text/plain": [
              "<Figure size 360x360 with 1 Axes>"
            ]
          },
          "metadata": {},
          "output_type": "display_data"
        }
      ],
      "source": [
        "\n",
        "print('---------- Supervised Model - Evaluation on Test Data ----------')\n",
        "accuracy_score_ST = clf_ST.score(X_test, y_test)\n",
        "print('Accuracy Score: ', accuracy_score_ST)\n",
        "Evl_LR=Evaluation(y_test, clf_ST.predict(X_test))\n",
        "collect_results_of_all_model[\"LR_ALGO\"] = Evl_LR#get results of CART algo"
      ]
    },
    {
      "cell_type": "code",
      "execution_count": null,
      "metadata": {
        "colab": {
          "base_uri": "https://localhost:8080/"
        },
        "id": "kMIKRv-3IuUg",
        "outputId": "c9a859c7-7cb8-46ca-9bc8-25858d4e0946"
      },
      "outputs": [
        {
          "data": {
            "text/plain": [
              "{'Metrics': ['accuracy', 'precision', 'recall', 'f1-score'],\n",
              " 'LR_ALGO': [0.9366166839021027,\n",
              "  0.926783102469242,\n",
              "  0.9455758426966292,\n",
              "  0.9360851618509668]}"
            ]
          },
          "execution_count": 28,
          "metadata": {},
          "output_type": "execute_result"
        }
      ],
      "source": [
        "collect_results_of_all_model"
      ]
    },
    {
      "cell_type": "code",
      "execution_count": null,
      "metadata": {
        "id": "n2qncl-FNplt"
      },
      "outputs": [],
      "source": [
        "clf = LogisticRegression()"
      ]
    },
    {
      "cell_type": "code",
      "execution_count": null,
      "metadata": {
        "id": "TCb8ZSs1NGLS"
      },
      "outputs": [],
      "source": [
        "from sklearn.model_selection import cross_val_score\n",
        "scores = cross_val_score(clf, X_train, y_train, cv=10, scoring='f1_macro')"
      ]
    },
    {
      "cell_type": "code",
      "execution_count": null,
      "metadata": {
        "colab": {
          "base_uri": "https://localhost:8080/"
        },
        "id": "vVrFS4Z6RRos",
        "outputId": "45c59dfe-558c-46aa-f5a4-256275ac756e"
      },
      "outputs": [
        {
          "data": {
            "text/plain": [
              "0.9370454063759208"
            ]
          },
          "execution_count": 31,
          "metadata": {},
          "output_type": "execute_result"
        }
      ],
      "source": [
        "scores.mean()"
      ]
    },
    {
      "cell_type": "code",
      "execution_count": null,
      "metadata": {
        "id": "D7PF_pTkRVyt"
      },
      "outputs": [],
      "source": [
        "clf=LogisticRegression()\n",
        "clf.fit(X_train, y_train)\n",
        "train_predictioons = clf.predict(X_train)\n",
        "test_predictions = clf.predict(X_test)"
      ]
    },
    {
      "cell_type": "code",
      "execution_count": null,
      "metadata": {
        "colab": {
          "base_uri": "https://localhost:8080/"
        },
        "id": "b3qBmUzESyOX",
        "outputId": "2fa1d4ce-2768-4627-8adc-326c42dd95e9"
      },
      "outputs": [
        {
          "name": "stdout",
          "output_type": "stream",
          "text": [
            "0.9442190131093281\n",
            "0.9360851618509668\n"
          ]
        }
      ],
      "source": [
        "print(f1_score(train_predictioons, y_train))\n",
        "print(f1_score(test_predictions, y_test))"
      ]
    },
    {
      "cell_type": "code",
      "execution_count": null,
      "metadata": {
        "id": "5fZ59Kk5h_Yx"
      },
      "outputs": [],
      "source": [
        "param_grid = [\n",
        "    {'penalty' : ['l1', 'l2'],\n",
        "   'solver' : ['lbfgs','sag'],\n",
        "    'max_iter' : [100, 500]\n",
        "    }\n",
        "]\n",
        "\n",
        "# Creating GridSearchCV model:\n",
        "clf_grid = GridSearchCV(clf, param_grid, cv=10, scoring='accuracy')"
      ]
    },
    {
      "cell_type": "code",
      "execution_count": null,
      "metadata": {
        "colab": {
          "base_uri": "https://localhost:8080/"
        },
        "id": "DehMb52nM8j9",
        "outputId": "55d785ba-091e-479e-fdb6-ff8e8b493ef1"
      },
      "outputs": [
        {
          "name": "stdout",
          "output_type": "stream",
          "text": [
            "tuned hpyerparameters :(best parameters)  {'max_iter': 100, 'penalty': 'l2', 'solver': 'lbfgs'}\n",
            "accuracy : 0.9370505388518486\n"
          ]
        }
      ],
      "source": [
        "clf_grid.fit(X_train, y_train)\n",
        "print(\"tuned hpyerparameters :(best parameters) \",clf_grid.best_params_)\n",
        "print(\"accuracy :\",clf_grid.best_score_)"
      ]
    },
    {
      "cell_type": "code",
      "execution_count": null,
      "metadata": {
        "colab": {
          "base_uri": "https://localhost:8080/"
        },
        "id": "PJQi73Ortcpu",
        "outputId": "b4ea23d6-67d2-47e2-b5e6-480910058efd"
      },
      "outputs": [
        {
          "data": {
            "text/plain": [
              "{'cv': 10,\n",
              " 'error_score': nan,\n",
              " 'estimator__C': 1.0,\n",
              " 'estimator__class_weight': None,\n",
              " 'estimator__dual': False,\n",
              " 'estimator__fit_intercept': True,\n",
              " 'estimator__intercept_scaling': 1,\n",
              " 'estimator__l1_ratio': None,\n",
              " 'estimator__max_iter': 100,\n",
              " 'estimator__multi_class': 'auto',\n",
              " 'estimator__n_jobs': None,\n",
              " 'estimator__penalty': 'l2',\n",
              " 'estimator__random_state': None,\n",
              " 'estimator__solver': 'lbfgs',\n",
              " 'estimator__tol': 0.0001,\n",
              " 'estimator__verbose': 0,\n",
              " 'estimator__warm_start': False,\n",
              " 'estimator': LogisticRegression(),\n",
              " 'n_jobs': None,\n",
              " 'param_grid': [{'penalty': ['l1', 'l2'],\n",
              "   'solver': ['lbfgs', 'sag'],\n",
              "   'max_iter': [100, 500]}],\n",
              " 'pre_dispatch': '2*n_jobs',\n",
              " 'refit': True,\n",
              " 'return_train_score': False,\n",
              " 'scoring': 'accuracy',\n",
              " 'verbose': 0}"
            ]
          },
          "execution_count": 38,
          "metadata": {},
          "output_type": "execute_result"
        }
      ],
      "source": [
        "clf_grid.get_params()"
      ]
    },
    {
      "cell_type": "code",
      "execution_count": null,
      "metadata": {
        "colab": {
          "base_uri": "https://localhost:8080/",
          "height": 1000
        },
        "id": "YhHUa80jkpfQ",
        "outputId": "09f44f9c-34c0-40b2-dc11-6dc7cddac1fe"
      },
      "outputs": [
        {
          "name": "stdout",
          "output_type": "stream",
          "text": [
            "---------- Supervised Model - Evaluation on Test Data ----------\n",
            "Accuracy Score:  0.9366166839021027\n",
            "\n",
            "\n",
            "Accuracy_test_set:  0.9366166839021027\n",
            "\n",
            "\n",
            "Classification_report_of_model : \n",
            "               precision    recall  f1-score   support\n",
            "\n",
            "           0       0.95      0.93      0.94     11816\n",
            "           1       0.93      0.95      0.94     11392\n",
            "\n",
            "    accuracy                           0.94     23208\n",
            "   macro avg       0.94      0.94      0.94     23208\n",
            "weighted avg       0.94      0.94      0.94     23208\n",
            "\n",
            "\n",
            "\n",
            "Confusion_Matrix_of model : \n",
            " [[10965   851]\n",
            " [  620 10772]]\n",
            "0.9367774271032232\n",
            "0.9367774271032232\n"
          ]
        },
        {
          "data": {
            "image/png": "[encoded data removed]",
            "text/plain": [
              "<Figure size 432x288 with 2 Axes>"
            ]
          },
          "metadata": {},
          "output_type": "display_data"
        },
        {
          "data": {
            "image/png": "[encoded data removed]",
            "text/plain": [
              "<Figure size 360x360 with 1 Axes>"
            ]
          },
          "metadata": {},
          "output_type": "display_data"
        }
      ],
      "source": [
        "\n",
        "print('---------- Supervised Model - Evaluation on Test Data ----------')\n",
        "accuracy_score_ST = clf_grid.score(X_test, y_test)\n",
        "print('Accuracy Score: ', accuracy_score_ST)\n",
        "Evl_LR=Evaluation(y_test, clf_grid.predict(X_test))\n",
        "collect_results_of_all_model[\"LR_ALGO\"] = Evl_LR#get results of CART algo"
      ]
    },
    {
      "cell_type": "code",
      "execution_count": null,
      "metadata": {
        "colab": {
          "base_uri": "https://localhost:8080/"
        },
        "id": "3cNFVhVPlRbg",
        "outputId": "d8d68b89-88af-43f6-9d66-47a99f59fd73"
      },
      "outputs": [
        {
          "data": {
            "text/plain": [
              "{'Metrics': ['accuracy', 'precision', 'recall', 'f1-score'],\n",
              " 'LR_ALGO': [0.9366166839021027,\n",
              "  0.926783102469242,\n",
              "  0.9455758426966292,\n",
              "  0.9360851618509668]}"
            ]
          },
          "execution_count": 40,
          "metadata": {},
          "output_type": "execute_result"
        }
      ],
      "source": [
        "collect_results_of_all_model"
      ]
    },
    {
      "cell_type": "code",
      "execution_count": null,
      "metadata": {
        "colab": {
          "base_uri": "https://localhost:8080/"
        },
        "id": "8_vdmZzWS7pi",
        "outputId": "e7619d3d-15ad-4b9d-e856-a006473c0e02"
      },
      "outputs": [
        {
          "data": {
            "text/plain": [
              "MultinomialNB()"
            ]
          },
          "execution_count": 25,
          "metadata": {},
          "output_type": "execute_result"
        }
      ],
      "source": [
        "clf_ST=MultinomialNB()\n",
        "clf_ST.fit(X_train.toarray(), y_train)"
      ]
    },
    {
      "cell_type": "code",
      "execution_count": null,
      "metadata": {
        "colab": {
          "base_uri": "https://localhost:8080/",
          "height": 1000
        },
        "id": "D05IQgsZNWu7",
        "outputId": "4d90922d-88ee-48ec-f5aa-d56b8d0ef2f8"
      },
      "outputs": [
        {
          "name": "stdout",
          "output_type": "stream",
          "text": [
            "---------- Supervised Model - Evaluation on Test Data ----------\n",
            "Accuracy Score:  0.9050327473285074\n",
            "\n",
            "\n",
            "Accuracy_test_set:  0.9050327473285074\n",
            "\n",
            "\n",
            "Classification_report_of_model : \n",
            "               precision    recall  f1-score   support\n",
            "\n",
            "           0       0.87      0.93      0.90     10827\n",
            "           1       0.94      0.88      0.91     12381\n",
            "\n",
            "    accuracy                           0.91     23208\n",
            "   macro avg       0.90      0.91      0.90     23208\n",
            "weighted avg       0.91      0.91      0.91     23208\n",
            "\n",
            "\n",
            "\n",
            "Confusion_Matrix_of model : \n",
            " [[10104   723]\n",
            " [ 1481 10900]]\n",
            "0.9068018643051258\n",
            "0.9068018643051258\n"
          ]
        },
        {
          "data": {
            "image/png": "[encoded data removed]",
            "text/plain": [
              "<Figure size 432x288 with 2 Axes>"
            ]
          },
          "metadata": {},
          "output_type": "display_data"
        },
        {
          "data": {
            "image/png": "[encoded data removed]",
            "text/plain": [
              "<Figure size 360x360 with 1 Axes>"
            ]
          },
          "metadata": {},
          "output_type": "display_data"
        }
      ],
      "source": [
        "print('---------- Supervised Model - Evaluation on Test Data ----------')\n",
        "accuracy_score_ST = clf_ST.score(X_test.toarray(), y_test)\n",
        "print('Accuracy Score: ', accuracy_score_ST)\n",
        "Evl_NAV=Evaluation(y_test, clf_ST.predict(X_test.todense()))\n",
        "collect_results_of_all_model[\"NAV_ALGO\"] = Evl_NAV#get results of CART algo"
      ]
    },
    {
      "cell_type": "code",
      "execution_count": null,
      "metadata": {
        "colab": {
          "base_uri": "https://localhost:8080/"
        },
        "id": "sQc2dBYqroM7",
        "outputId": "6c10bc3b-c34d-4023-a6fc-d6cfe7facade"
      },
      "outputs": [
        {
          "data": {
            "text/plain": [
              "{'Metrics': ['accuracy', 'precision', 'recall', 'f1-score'],\n",
              " 'NAV_ALGO': [0.9050327473285074,\n",
              "  0.9377957498064183,\n",
              "  0.8803812293029643,\n",
              "  0.9081819696717214]}"
            ]
          },
          "execution_count": 27,
          "metadata": {},
          "output_type": "execute_result"
        }
      ],
      "source": [
        "collect_results_of_all_model"
      ]
    },
    {
      "cell_type": "code",
      "execution_count": null,
      "metadata": {
        "id": "XjsPV9MOlpic"
      },
      "outputs": [],
      "source": []
    },
    {
      "cell_type": "code",
      "execution_count": null,
      "metadata": {
        "id": "JDCyFDiCiAzS"
      },
      "outputs": [],
      "source": [
        "clf_NB=MultinomialNB()"
      ]
    },
    {
      "cell_type": "code",
      "execution_count": null,
      "metadata": {
        "id": "RAPlafHciBGf"
      },
      "outputs": [],
      "source": [
        "param_grid = { 'alpha': [1.0],\n",
        "      'class_prior':[ None,'n_classes'],\n",
        "      'fit_prior': [True]\n",
        "      }"
      ]
    },
    {
      "cell_type": "code",
      "execution_count": null,
      "metadata": {
        "id": "x1CitWRtiJA4"
      },
      "outputs": [],
      "source": [
        "clf_grid = GridSearchCV(clf_NB, param_grid, cv= 10)\n",
        "clf_grid.fit(X_train.toarray(),y_train)"
      ]
    },
    {
      "cell_type": "code",
      "execution_count": null,
      "metadata": {
        "colab": {
          "base_uri": "https://localhost:8080/"
        },
        "id": "AgFSFstjj6LE",
        "outputId": "bb15acad-a8c6-4bab-87f1-d08f0b9b67a9"
      },
      "outputs": [
        {
          "name": "stdout",
          "output_type": "stream",
          "text": [
            "tuned hpyerparameters :(best parameters)  {'alpha': 1.0, 'class_prior': None, 'fit_prior': True}\n",
            "accuracy : 0.8999577825028504\n"
          ]
        }
      ],
      "source": [
        "print(\"tuned hpyerparameters :(best parameters) \",clf_grid.best_params_)\n",
        "print(\"accuracy :\",clf_grid.best_score_)\n"
      ]
    },
    {
      "cell_type": "code",
      "execution_count": null,
      "metadata": {
        "colab": {
          "base_uri": "https://localhost:8080/",
          "height": 1000
        },
        "id": "GWsIpip3kL4c",
        "outputId": "dbe06627-2a39-4bf1-82c5-cf06e9da2b30"
      },
      "outputs": [
        {
          "name": "stdout",
          "output_type": "stream",
          "text": [
            "---------- Supervised Model - Evaluation on Test Data ----------\n",
            "Accuracy Score:  0.9055498104102033\n",
            "\n",
            "\n",
            "Accuracy_test_set:  0.9055498104102033\n",
            "\n",
            "\n",
            "Classification_report_of_model : \n",
            "               precision    recall  f1-score   support\n",
            "\n",
            "           0       0.88      0.93      0.90      1361\n",
            "           1       0.94      0.88      0.91      1540\n",
            "\n",
            "    accuracy                           0.91      2901\n",
            "   macro avg       0.91      0.91      0.91      2901\n",
            "weighted avg       0.91      0.91      0.91      2901\n",
            "\n",
            "\n",
            "\n",
            "Confusion_Matrix_of model : \n",
            " [[1267   94]\n",
            " [ 180 1360]]\n",
            "0.9070250102579271\n",
            "0.9070250102579271\n"
          ]
        },
        {
          "data": {
            "image/png": "[encoded data removed]",
            "text/plain": [
              "<Figure size 432x288 with 2 Axes>"
            ]
          },
          "metadata": {},
          "output_type": "display_data"
        },
        {
          "data": {
            "image/png": "[encoded data removed]",
            "text/plain": [
              "<Figure size 360x360 with 1 Axes>"
            ]
          },
          "metadata": {},
          "output_type": "display_data"
        }
      ],
      "source": [
        "print('---------- Supervised Model - Evaluation on Test Data ----------')\n",
        "accuracy_score_ST = clf_grid.score(X_test.toarray(), y_test)\n",
        "print('Accuracy Score: ', accuracy_score_ST)\n",
        "Evl_NAV=Evaluation(y_test, clf_grid.predict(X_test.todense()))\n",
        "collect_results_of_all_model[\"NAV_ALGO\"] = Evl_NAV#get results of CART algo"
      ]
    },
    {
      "cell_type": "code",
      "execution_count": null,
      "metadata": {
        "id": "_s5UzZhih1xk"
      },
      "outputs": [],
      "source": [
        "clf_Rand=RandomForestClassifier(random_state=42)"
      ]
    },
    {
      "cell_type": "code",
      "execution_count": null,
      "metadata": {
        "id": "LtisTaoYh1-c"
      },
      "outputs": [],
      "source": [
        "param_grid = {\n",
        "    #'n_estimators': [200, 500],\n",
        "    'max_features': ['auto'],\n",
        "    #'max_depth' : [5,10],\n",
        "    'criterion' :['gini']\n",
        "}\n"
      ]
    },
    {
      "cell_type": "code",
      "execution_count": null,
      "metadata": {
        "colab": {
          "base_uri": "https://localhost:8080/"
        },
        "id": "Vnczv3Ilh2ON",
        "outputId": "0722e1dd-f0a1-4701-b77c-611fffd0ac4a"
      },
      "outputs": [
        {
          "data": {
            "text/plain": [
              "GridSearchCV(cv=10, estimator=RandomForestClassifier(random_state=42),\n",
              "             param_grid={'criterion': ['gini'], 'max_features': ['auto']})"
            ]
          },
          "execution_count": 26,
          "metadata": {},
          "output_type": "execute_result"
        }
      ],
      "source": [
        "clf_grid = GridSearchCV(clf_Rand, param_grid, cv= 10)\n",
        "clf_grid.fit(X_train,y_train)"
      ]
    },
    {
      "cell_type": "code",
      "execution_count": null,
      "metadata": {
        "colab": {
          "base_uri": "https://localhost:8080/"
        },
        "id": "sdS-Qu_EiQAy",
        "outputId": "462e18f8-7fb9-4a4c-b8a7-150e0917d2a5"
      },
      "outputs": [
        {
          "name": "stdout",
          "output_type": "stream",
          "text": [
            "tuned hpyerparameters :(best parameters)  {'criterion': 'gini', 'max_features': 'auto'}\n",
            "accuracy : 0.9015158251969471\n"
          ]
        }
      ],
      "source": [
        "print(\"tuned hpyerparameters :(best parameters) \",clf_grid.best_params_)\n",
        "print(\"accuracy :\",clf_grid.best_score_)"
      ]
    },
    {
      "cell_type": "code",
      "execution_count": null,
      "metadata": {
        "colab": {
          "base_uri": "https://localhost:8080/",
          "height": 1000
        },
        "id": "WOfj8Ib_ixmC",
        "outputId": "1dbca082-7e76-4645-8a80-c33f9e5fc733"
      },
      "outputs": [
        {
          "name": "stdout",
          "output_type": "stream",
          "text": [
            "---------- Supervised Model - Evaluation on Test Data ----------\n",
            "Accuracy Score:  0.9045156842468114\n",
            "\n",
            "\n",
            "Accuracy_test_set:  0.9045156842468114\n",
            "\n",
            "\n",
            "Classification_report_of_model : \n",
            "               precision    recall  f1-score   support\n",
            "\n",
            "           0       0.89      0.91      0.90     11333\n",
            "           1       0.92      0.90      0.91     11875\n",
            "\n",
            "    accuracy                           0.90     23208\n",
            "   macro avg       0.90      0.90      0.90     23208\n",
            "weighted avg       0.90      0.90      0.90     23208\n",
            "\n",
            "\n",
            "\n",
            "Confusion_Matrix_of model : \n",
            " [[10351   982]\n",
            " [ 1234 10641]]\n",
            "0.9047173015924617\n",
            "0.9047173015924617\n"
          ]
        },
        {
          "data": {
            "image/png": "[encoded data removed]",
            "text/plain": [
              "<Figure size 432x288 with 2 Axes>"
            ]
          },
          "metadata": {},
          "output_type": "display_data"
        },
        {
          "data": {
            "image/png": "[encoded data removed]",
            "text/plain": [
              "<Figure size 360x360 with 1 Axes>"
            ]
          },
          "metadata": {},
          "output_type": "display_data"
        }
      ],
      "source": [
        "print('---------- Supervised Model - Evaluation on Test Data ----------')\n",
        "accuracy_score_ST = clf_grid.score(X_test, y_test)\n",
        "print('Accuracy Score: ', accuracy_score_ST)\n",
        "Evl_RF=Evaluation(y_test, clf_grid.predict(X_test))\n",
        "collect_results_of_all_model[\"RF_ALGO\"] = Evl_RF#get results of CART algo\n"
      ]
    },
    {
      "cell_type": "code",
      "execution_count": null,
      "metadata": {
        "colab": {
          "base_uri": "https://localhost:8080/"
        },
        "id": "VwtrF5_4Ylzq",
        "outputId": "7515fa1c-bad3-4324-a484-4460f6556ae8"
      },
      "outputs": [
        {
          "data": {
            "text/plain": [
              "{'Metrics': ['accuracy', 'precision', 'recall', 'f1-score'],\n",
              " 'RF_ALGO': [0.9045156842468114,\n",
              "  0.9155123462101007,\n",
              "  0.8960842105263158,\n",
              "  0.9056941016256703]}"
            ]
          },
          "execution_count": 29,
          "metadata": {},
          "output_type": "execute_result"
        }
      ],
      "source": [
        "collect_results_of_all_model"
      ]
    },
    {
      "cell_type": "code",
      "execution_count": null,
      "metadata": {
        "id": "fHdjjAQkiufp"
      },
      "outputs": [],
      "source": []
    },
    {
      "cell_type": "code",
      "execution_count": null,
      "metadata": {
        "id": "gPtwNF18T3EX"
      },
      "outputs": [],
      "source": [
        "#without grid\n",
        "clf_ST=RandomForestClassifier()\n",
        "#clf_ST.fit(X_train, y_train)"
      ]
    },
    {
      "cell_type": "code",
      "execution_count": null,
      "metadata": {
        "id": "Iox3Pex9CcQO"
      },
      "outputs": [],
      "source": [
        "from sklearn.model_selection import cross_val_score\n",
        "scores = cross_val_score(clf_ST, X_train, y_train, cv=10, scoring='f1_macro')"
      ]
    },
    {
      "cell_type": "code",
      "execution_count": null,
      "metadata": {
        "colab": {
          "base_uri": "https://localhost:8080/"
        },
        "id": "6WgwCsQ0CnOj",
        "outputId": "855c15d1-0e52-4241-aff9-b78f459dbd5a"
      },
      "outputs": [
        {
          "data": {
            "text/plain": [
              "0.8849011614137157"
            ]
          },
          "execution_count": 27,
          "metadata": {},
          "output_type": "execute_result"
        }
      ],
      "source": [
        "scores.mean()"
      ]
    },
    {
      "cell_type": "code",
      "execution_count": null,
      "metadata": {
        "id": "fQztFmqICrfq"
      },
      "outputs": [],
      "source": [
        "clf_ST=RandomForestClassifier()\n",
        "clf_ST.fit(X_train, y_train)\n",
        "train_predictioons = clf_ST.predict(X_train)\n",
        "test_predictions = clf_ST.predict(X_test)"
      ]
    },
    {
      "cell_type": "code",
      "execution_count": null,
      "metadata": {
        "colab": {
          "base_uri": "https://localhost:8080/"
        },
        "id": "As4UM4ftCub9",
        "outputId": "ff524901-6762-4da3-b804-967daca08c31"
      },
      "outputs": [
        {
          "name": "stdout",
          "output_type": "stream",
          "text": [
            "0.9992676251782754\n",
            "0.9034032313509798\n"
          ]
        }
      ],
      "source": [
        "print(f1_score(train_predictioons, y_train))\n",
        "print(f1_score(test_predictions, y_test))"
      ]
    },
    {
      "cell_type": "code",
      "execution_count": null,
      "metadata": {
        "id": "ZixIjovwpLrH"
      },
      "outputs": [],
      "source": [
        "clf_ST=RandomForestClassifier()"
      ]
    },
    {
      "cell_type": "code",
      "execution_count": null,
      "metadata": {
        "colab": {
          "base_uri": "https://localhost:8080/"
        },
        "id": "g6XeTMc8pP9F",
        "outputId": "6c08b4bf-08f8-4da7-c63e-b2347d427aa7"
      },
      "outputs": [
        {
          "data": {
            "text/plain": [
              "RandomForestClassifier()"
            ]
          },
          "execution_count": 25,
          "metadata": {},
          "output_type": "execute_result"
        }
      ],
      "source": [
        "clf_ST.fit(X_train, y_train)"
      ]
    },
    {
      "cell_type": "code",
      "execution_count": null,
      "metadata": {
        "colab": {
          "base_uri": "https://localhost:8080/"
        },
        "id": "9PpKzZAQFrBE",
        "outputId": "eeb479c6-2df5-4c7a-b282-2e06cd52543e"
      },
      "outputs": [
        {
          "data": {
            "text/plain": [
              "{'bootstrap': True,\n",
              " 'ccp_alpha': 0.0,\n",
              " 'class_weight': None,\n",
              " 'criterion': 'gini',\n",
              " 'max_depth': None,\n",
              " 'max_features': 'auto',\n",
              " 'max_leaf_nodes': None,\n",
              " 'max_samples': None,\n",
              " 'min_impurity_decrease': 0.0,\n",
              " 'min_samples_leaf': 1,\n",
              " 'min_samples_split': 2,\n",
              " 'min_weight_fraction_leaf': 0.0,\n",
              " 'n_estimators': 100,\n",
              " 'n_jobs': None,\n",
              " 'oob_score': False,\n",
              " 'random_state': None,\n",
              " 'verbose': 0,\n",
              " 'warm_start': False}"
            ]
          },
          "execution_count": 26,
          "metadata": {},
          "output_type": "execute_result"
        }
      ],
      "source": [
        "clf_ST.get_params()"
      ]
    },
    {
      "cell_type": "code",
      "execution_count": null,
      "metadata": {
        "colab": {
          "base_uri": "https://localhost:8080/",
          "height": 1000
        },
        "id": "tQBnw03HNhQe",
        "outputId": "d3f7202b-6bb5-4057-ea1f-51ed06362893"
      },
      "outputs": [
        {
          "name": "stdout",
          "output_type": "stream",
          "text": [
            "---------- Supervised Model - Evaluation on Test Data ----------\n",
            "Accuracy Score:  0.9036108238538435\n",
            "\n",
            "\n",
            "Accuracy_test_set:  0.9036108238538435\n",
            "\n",
            "\n",
            "Classification_report_of_model : \n",
            "               precision    recall  f1-score   support\n",
            "\n",
            "           0       0.89      0.91      0.90     11348\n",
            "           1       0.91      0.90      0.90     11860\n",
            "\n",
            "    accuracy                           0.90     23208\n",
            "   macro avg       0.90      0.90      0.90     23208\n",
            "weighted avg       0.90      0.90      0.90     23208\n",
            "\n",
            "\n",
            "\n",
            "Confusion_Matrix_of model : \n",
            " [[10348  1000]\n",
            " [ 1237 10623]]\n",
            "0.9037892882596334\n",
            "0.9037892882596334\n"
          ]
        },
        {
          "data": {
            "image/png": "[encoded data removed]",
            "text/plain": [
              "<Figure size 432x288 with 2 Axes>"
            ]
          },
          "metadata": {},
          "output_type": "display_data"
        },
        {
          "data": {
            "image/png": "[encoded data removed]",
            "text/plain": [
              "<Figure size 360x360 with 1 Axes>"
            ]
          },
          "metadata": {},
          "output_type": "display_data"
        }
      ],
      "source": [
        "print('---------- Supervised Model - Evaluation on Test Data ----------')\n",
        "accuracy_score_ST = clf_ST.score(X_test, y_test)\n",
        "print('Accuracy Score: ', accuracy_score_ST)\n",
        "Evl_RF=Evaluation(y_test, clf_ST.predict(X_test))\n",
        "collect_results_of_all_model[\"RF_ALGO\"] = Evl_RF#get results of CART algo\n"
      ]
    },
    {
      "cell_type": "code",
      "execution_count": null,
      "metadata": {
        "colab": {
          "base_uri": "https://localhost:8080/"
        },
        "id": "DTucWrGrNsvy",
        "outputId": "8525a1ee-6eb3-4bb2-b772-d8a1b6dbb544"
      },
      "outputs": [
        {
          "data": {
            "text/plain": [
              "{'Metrics': ['accuracy', 'precision', 'recall', 'f1-score'],\n",
              " 'RF_ALGO': [0.9036108238538435,\n",
              "  0.9139636926783102,\n",
              "  0.8956998313659359,\n",
              "  0.9047395988587488]}"
            ]
          },
          "execution_count": 28,
          "metadata": {},
          "output_type": "execute_result"
        }
      ],
      "source": [
        "collect_results_of_all_model"
      ]
    },
    {
      "cell_type": "code",
      "execution_count": null,
      "metadata": {
        "id": "GOQfWu0XvRS7"
      },
      "outputs": [],
      "source": [
        "KNN=KNeighborsClassifier(leaf_size=30,metric= 'minkowski',algorithm='auto')"
      ]
    },
    {
      "cell_type": "code",
      "execution_count": null,
      "metadata": {
        "id": "7mKidlVSJKsc"
      },
      "outputs": [],
      "source": [
        "params = {'n_neighbors':[10]\n",
        "         #'leaf_size':list(range(30,50))\n",
        "         }"
      ]
    },
    {
      "cell_type": "code",
      "execution_count": null,
      "metadata": {
        "colab": {
          "base_uri": "https://localhost:8080/"
        },
        "id": "MSVkPBxZvqZX",
        "outputId": "f6969789-01f3-4138-9c66-a96d395c6c97"
      },
      "outputs": [
        {
          "output_type": "execute_result",
          "data": {
            "text/plain": [
              "GridSearchCV(cv=10, estimator=KNeighborsClassifier(),\n",
              "             param_grid={'n_neighbors': [10]}, scoring='accuracy')"
            ]
          },
          "metadata": {},
          "execution_count": 26
        }
      ],
      "source": [
        "clf_grid = GridSearchCV(KNN, params, cv = 10,scoring = \"accuracy\")\n",
        "clf_grid.fit(X_train, y_train)"
      ]
    },
    {
      "cell_type": "code",
      "execution_count": null,
      "metadata": {
        "id": "Uw5j5D0I_zUh",
        "colab": {
          "base_uri": "https://localhost:8080/"
        },
        "outputId": "00499b73-3116-49d6-d2bb-9e11acb0ef62"
      },
      "outputs": [
        {
          "output_type": "stream",
          "name": "stdout",
          "text": [
            "tuned hpyerparameters :(best parameters)  {'n_neighbors': 10}\n",
            "accuracy : 0.5362481299021179\n"
          ]
        }
      ],
      "source": [
        "print(\"tuned hpyerparameters :(best parameters) \",clf_grid.best_params_)\n",
        "print(\"accuracy :\",clf_grid.best_score_)"
      ]
    },
    {
      "cell_type": "code",
      "execution_count": null,
      "metadata": {
        "id": "pXwwbpGTwXwp",
        "colab": {
          "base_uri": "https://localhost:8080/",
          "height": 1000
        },
        "outputId": "2c78b668-d3dc-489a-e5db-6d46214864ba"
      },
      "outputs": [
        {
          "output_type": "stream",
          "name": "stdout",
          "text": [
            "---------- Supervised Model - Evaluation on Test Data ----------\n",
            "Accuracy Score:  0.5392967942088935\n",
            "\n",
            "\n",
            "Accuracy_test_set:  0.5392967942088935\n",
            "\n",
            "\n",
            "Classification_report_of_model : \n",
            "               precision    recall  f1-score   support\n",
            "\n",
            "           0       0.99      0.52      0.68     21953\n",
            "           1       0.09      0.87      0.17      1255\n",
            "\n",
            "    accuracy                           0.54     23208\n",
            "   macro avg       0.54      0.70      0.43     23208\n",
            "weighted avg       0.94      0.54      0.65     23208\n",
            "\n",
            "\n",
            "\n",
            "Confusion_Matrix_of model : \n",
            " [[11423 10530]\n",
            " [  162  1093]]\n",
            "0.6956276202528291\n",
            "0.6956276202528291\n"
          ]
        },
        {
          "output_type": "display_data",
          "data": {
            "text/plain": [
              "<Figure size 432x288 with 2 Axes>"
            ],
            "image/png": "[encoded data removed]"
          },
          "metadata": {
            "needs_background": "light"
          }
        },
        {
          "output_type": "display_data",
          "data": {
            "text/plain": [
              "<Figure size 360x360 with 1 Axes>"
            ],
            "image/png": "[encoded data removed]"
          },
          "metadata": {
            "needs_background": "light"
          }
        }
      ],
      "source": [
        "print('---------- Supervised Model - Evaluation on Test Data ----------')\n",
        "accuracy_score_ST = clf_grid.score(X_test, y_test)\n",
        "print('Accuracy Score: ', accuracy_score_ST)\n",
        "Evl_KNN=Evaluation(y_test, clf_grid.predict(X_test))\n",
        "collect_results_of_all_model[\"KNN_ALGO\"] = Evl_KNN#get results of CART algo"
      ]
    },
    {
      "cell_type": "code",
      "execution_count": null,
      "metadata": {
        "id": "0a5XMWvQwdqf",
        "colab": {
          "base_uri": "https://localhost:8080/"
        },
        "outputId": "7365e738-18ba-4932-c947-ad203e501d19"
      },
      "outputs": [
        {
          "output_type": "execute_result",
          "data": {
            "text/plain": [
              "{'Metrics': ['accuracy', 'precision', 'recall', 'f1-score'],\n",
              " 'KNN_ALGO': [0.5392967942088935,\n",
              "  0.0940376839026069,\n",
              "  0.8709163346613545,\n",
              "  0.16974685510172385]}"
            ]
          },
          "metadata": {},
          "execution_count": 30
        }
      ],
      "source": [
        "collect_results_of_all_model"
      ]
    },
    {
      "cell_type": "code",
      "execution_count": null,
      "metadata": {
        "id": "zpW4Nlc09Tyu"
      },
      "outputs": [],
      "source": [
        "KNN=KNeighborsClassifier(leaf_size=30,metric= 'minkowski',algorithm='auto')"
      ]
    },
    {
      "cell_type": "code",
      "execution_count": null,
      "metadata": {
        "id": "AMzzMw4h9X7j"
      },
      "outputs": [],
      "source": [
        "params = {'n_neighbors':[10]\n",
        "         #'leaf_size':list(range(30,50))\n",
        "         }"
      ]
    },
    {
      "cell_type": "code",
      "execution_count": null,
      "metadata": {
        "colab": {
          "base_uri": "https://localhost:8080/"
        },
        "outputId": "37c68ea1-39f6-439c-fae0-03656e4be1df",
        "id": "Bv-eNKLy9dRL"
      },
      "outputs": [
        {
          "output_type": "execute_result",
          "data": {
            "text/plain": [
              "GridSearchCV(cv=10, estimator=KNeighborsClassifier(),\n",
              "             param_grid={'n_neighbors': [10]}, scoring='accuracy')"
            ]
          },
          "metadata": {},
          "execution_count": 28
        }
      ],
      "source": [
        "clf_grid = GridSearchCV(KNN, params, cv = 10,scoring = \"accuracy\")\n",
        "clf_grid.fit(X_train, y_train)"
      ]
    },
    {
      "cell_type": "code",
      "execution_count": null,
      "metadata": {
        "colab": {
          "base_uri": "https://localhost:8080/"
        },
        "outputId": "e3c16d23-8aec-4fe5-ccaf-2b1ae4e33d57",
        "id": "mHoqrl6h9guC"
      },
      "outputs": [
        {
          "output_type": "stream",
          "name": "stdout",
          "text": [
            "tuned hpyerparameters :(best parameters)  {'n_neighbors': 10}\n",
            "accuracy : 0.5076891460490622\n"
          ]
        }
      ],
      "source": [
        "print(\"tuned hpyerparameters :(best parameters) \",clf_grid.best_params_)\n",
        "print(\"accuracy :\",clf_grid.best_score_)"
      ]
    },
    {
      "cell_type": "code",
      "execution_count": null,
      "metadata": {
        "colab": {
          "base_uri": "https://localhost:8080/",
          "height": 1000
        },
        "outputId": "98ce23f9-f802-48c4-97a0-3e7953c2beb7",
        "id": "ZInQXeyJ9n__"
      },
      "outputs": [
        {
          "output_type": "stream",
          "name": "stdout",
          "text": [
            "---------- Supervised Model - Evaluation on Test Data ----------\n",
            "Accuracy Score:  0.5069372630127542\n",
            "\n",
            "\n",
            "Accuracy_test_set:  0.5069372630127542\n",
            "\n",
            "\n",
            "Classification_report_of_model : \n",
            "               precision    recall  f1-score   support\n",
            "\n",
            "           0       0.99      0.50      0.67     22790\n",
            "           1       0.03      0.72      0.05       418\n",
            "\n",
            "    accuracy                           0.51     23208\n",
            "   macro avg       0.51      0.61      0.36     23208\n",
            "weighted avg       0.97      0.51      0.66     23208\n",
            "\n",
            "\n",
            "\n",
            "Confusion_Matrix_of model : \n",
            " [[11466 11324]\n",
            " [  119   299]]\n",
            "0.6092132031382856\n",
            "0.6092132031382856\n"
          ]
        },
        {
          "output_type": "display_data",
          "data": {
            "text/plain": [
              "<Figure size 432x288 with 2 Axes>"
            ],
            "image/png": "[encoded data removed]"
          },
          "metadata": {
            "needs_background": "light"
          }
        },
        {
          "output_type": "display_data",
          "data": {
            "text/plain": [
              "<Figure size 360x360 with 1 Axes>"
            ],
            "image/png": "[encoded data removed]"
          },
          "metadata": {
            "needs_background": "light"
          }
        }
      ],
      "source": [
        "print('---------- Supervised Model - Evaluation on Test Data ----------')\n",
        "accuracy_score_ST = clf_grid.score(X_test, y_test)\n",
        "print('Accuracy Score: ', accuracy_score_ST)\n",
        "Evl_KNN=Evaluation(y_test, clf_grid.predict(X_test))\n",
        "collect_results_of_all_model[\"KNN_ALGO\"] = Evl_KNN#get results of CART algo"
      ]
    },
    {
      "cell_type": "code",
      "execution_count": null,
      "metadata": {
        "colab": {
          "base_uri": "https://localhost:8080/"
        },
        "outputId": "7392f3cd-219c-4fa8-f123-a03622d65ab2",
        "id": "C8Uoy7OC9vqZ"
      },
      "outputs": [
        {
          "output_type": "execute_result",
          "data": {
            "text/plain": [
              "{'Metrics': ['accuracy', 'precision', 'recall', 'f1-score'],\n",
              " 'KNN_ALGO': [0.5069372630127542,\n",
              "  0.025724855889185237,\n",
              "  0.715311004784689,\n",
              "  0.049663649198571545]}"
            ]
          },
          "metadata": {},
          "execution_count": 31
        }
      ],
      "source": [
        "collect_results_of_all_model"
      ]
    },
    {
      "cell_type": "code",
      "execution_count": null,
      "metadata": {
        "colab": {
          "base_uri": "https://localhost:8080/"
        },
        "id": "Js-WKFCmWIKp",
        "outputId": "860e3109-369a-483f-c770-81a3f427af31"
      },
      "outputs": [
        {
          "output_type": "execute_result",
          "data": {
            "text/plain": [
              "KNeighborsClassifier(n_neighbors=20)"
            ]
          },
          "metadata": {},
          "execution_count": 32
        }
      ],
      "source": [
        "clf_ST=KNeighborsClassifier(n_neighbors=20)\n",
        "clf_ST.fit(X_train, y_train)"
      ]
    },
    {
      "cell_type": "code",
      "execution_count": null,
      "metadata": {
        "colab": {
          "base_uri": "https://localhost:8080/"
        },
        "id": "aRBy3y_dotyb",
        "outputId": "de7d9ddf-5e5c-451b-888d-8f848706edae"
      },
      "outputs": [
        {
          "output_type": "execute_result",
          "data": {
            "text/plain": [
              "{'algorithm': 'auto',\n",
              " 'leaf_size': 30,\n",
              " 'metric': 'minkowski',\n",
              " 'metric_params': None,\n",
              " 'n_jobs': None,\n",
              " 'n_neighbors': 20,\n",
              " 'p': 2,\n",
              " 'weights': 'uniform'}"
            ]
          },
          "metadata": {},
          "execution_count": 33
        }
      ],
      "source": [
        "clf_ST.get_params()"
      ]
    },
    {
      "cell_type": "code",
      "execution_count": null,
      "metadata": {
        "id": "DDFXINL1os5C"
      },
      "outputs": [],
      "source": []
    },
    {
      "cell_type": "code",
      "execution_count": null,
      "metadata": {
        "colab": {
          "base_uri": "https://localhost:8080/",
          "height": 1000
        },
        "id": "uTqOPsJX5jDf",
        "outputId": "f4adca9b-ecf7-45b2-f57c-0a473cbb3868"
      },
      "outputs": [
        {
          "output_type": "stream",
          "name": "stdout",
          "text": [
            "---------- Supervised Model - Evaluation on Test Data ----------\n",
            "Accuracy Score:  0.5033178214408824\n",
            "\n",
            "\n",
            "Accuracy_test_set:  0.5033178214408824\n",
            "\n",
            "\n",
            "Classification_report_of_model : \n",
            "               precision    recall  f1-score   support\n",
            "\n",
            "           0       1.00      0.50      0.67     23038\n",
            "           1       0.01      0.78      0.02       170\n",
            "\n",
            "    accuracy                           0.50     23208\n",
            "   macro avg       0.50      0.64      0.34     23208\n",
            "weighted avg       0.99      0.50      0.66     23208\n",
            "\n",
            "\n",
            "\n",
            "Confusion_Matrix_of model : \n",
            " [[11548 11490]\n",
            " [   37   133]]\n",
            "0.6418058655009881\n",
            "0.6418058655009881\n"
          ]
        },
        {
          "output_type": "display_data",
          "data": {
            "text/plain": [
              "<Figure size 432x288 with 2 Axes>"
            ],
            "image/png": "[encoded data removed]"
          },
          "metadata": {
            "needs_background": "light"
          }
        },
        {
          "output_type": "display_data",
          "data": {
            "text/plain": [
              "<Figure size 360x360 with 1 Axes>"
            ],
            "image/png": "[encoded data removed]"
          },
          "metadata": {
            "needs_background": "light"
          }
        }
      ],
      "source": [
        "print('---------- Supervised Model - Evaluation on Test Data ----------')\n",
        "accuracy_score_ST = clf_ST.score(X_test, y_test)\n",
        "print('Accuracy Score: ', accuracy_score_ST)\n",
        "Evl_KNN=Evaluation(y_test, clf_ST.predict(X_test))\n",
        "collect_results_of_all_model[\"KNN_ALGO\"] = Evl_KNN#get results of CART algo"
      ]
    },
    {
      "cell_type": "code",
      "execution_count": null,
      "metadata": {
        "colab": {
          "base_uri": "https://localhost:8080/"
        },
        "id": "vjxKAuK0_ef8",
        "outputId": "5a919f2e-5de5-4def-ca44-6173cb412c87"
      },
      "outputs": [
        {
          "output_type": "execute_result",
          "data": {
            "text/plain": [
              "{'Metrics': ['accuracy', 'precision', 'recall', 'f1-score'],\n",
              " 'KNN_ALGO': [0.5033178214408824,\n",
              "  0.011442828873784738,\n",
              "  0.7823529411764706,\n",
              "  0.022555753413041637]}"
            ]
          },
          "metadata": {},
          "execution_count": 35
        }
      ],
      "source": [
        "collect_results_of_all_model"
      ]
    },
    {
      "cell_type": "code",
      "execution_count": null,
      "metadata": {
        "colab": {
          "background_save": true,
          "base_uri": "https://localhost:8080/"
        },
        "id": "7RQP1iob2UAT",
        "outputId": "93de9f70-c9eb-4297-fe38-81d64023d08c"
      },
      "outputs": [
        {
          "name": "stdout",
          "output_type": "stream",
          "text": [
            "---------- Supervised Model - Evaluation on Test Data ----------\n",
            "Accuracy Score:  0.5284815580834195\n",
            "\n",
            "\n",
            "Accuracy_test_set:  0.5284815580834195\n",
            "\n",
            "\n",
            "Classification_report_of_model : \n",
            "               precision    recall  f1-score   support\n",
            "\n",
            "           0       0.99      0.51      0.68     22244\n",
            "           1       0.07      0.85      0.13       964\n",
            "\n",
            "    accuracy                           0.53     23208\n",
            "   macro avg       0.53      0.68      0.40     23208\n",
            "weighted avg       0.95      0.53      0.65     23208\n",
            "\n",
            "\n",
            "\n",
            "Confusion_Matrix_of model : \n",
            " [[11443 10801]\n",
            " [  142   822]]\n",
            "0.6835639765975402\n",
            "0.6835639765975402\n"
          ]
        },
        {
          "data": {
            "image/png": "[encoded data removed]",
            "text/plain": [
              "<Figure size 432x288 with 2 Axes>"
            ]
          },
          "metadata": {},
          "output_type": "display_data"
        },
        {
          "data": {
            "image/png": "[encoded data removed]",
            "text/plain": [
              "<Figure size 360x360 with 1 Axes>"
            ]
          },
          "metadata": {},
          "output_type": "display_data"
        }
      ],
      "source": [
        "#default\n",
        "print('---------- Supervised Model - Evaluation on Test Data ----------')\n",
        "accuracy_score_ST = clf_ST.score(X_test, y_test)\n",
        "print('Accuracy Score: ', accuracy_score_ST)\n",
        "Evl_KNN=Evaluation(y_test, clf_ST.predict(X_test))\n",
        "collect_results_of_all_model[\"KNN_ALGO\"] = Evl_KNN#get results of CART algo"
      ]
    },
    {
      "cell_type": "code",
      "execution_count": null,
      "metadata": {
        "colab": {
          "base_uri": "https://localhost:8080/"
        },
        "id": "yxVA-n_REjPi",
        "outputId": "12e5bbd4-a0d2-4fbe-e1e5-39a8fe3f5698"
      },
      "outputs": [
        {
          "data": {
            "text/plain": [
              "KNeighborsClassifier(n_neighbors=15)"
            ]
          },
          "execution_count": 30,
          "metadata": {},
          "output_type": "execute_result"
        }
      ],
      "source": [
        "clf_ST=KNeighborsClassifier(n_neighbors=15)\n",
        "clf_ST.fit(X_train, y_train)"
      ]
    },
    {
      "cell_type": "code",
      "execution_count": null,
      "metadata": {
        "colab": {
          "base_uri": "https://localhost:8080/",
          "height": 1000
        },
        "id": "cQ2fY_42Etxj",
        "outputId": "82274bca-ad5e-4924-f39f-79bbde6b6579"
      },
      "outputs": [
        {
          "name": "stdout",
          "output_type": "stream",
          "text": [
            "---------- Supervised Model - Evaluation on Test Data ----------\n",
            "Accuracy Score:  0.5346863150637711\n",
            "\n",
            "\n",
            "Accuracy_test_set:  0.5346863150637711\n",
            "\n",
            "\n",
            "Classification_report_of_model : \n",
            "               precision    recall  f1-score   support\n",
            "\n",
            "           0       0.98      0.52      0.68     22028\n",
            "           1       0.09      0.85      0.16      1180\n",
            "\n",
            "    accuracy                           0.53     23208\n",
            "   macro avg       0.54      0.68      0.42     23208\n",
            "weighted avg       0.94      0.53      0.65     23208\n",
            "\n",
            "\n",
            "\n",
            "Confusion_Matrix_of model : \n",
            " [[11407 10621]\n",
            " [  178  1002]]\n",
            "0.6834967360493425\n",
            "0.6834967360493425\n"
          ]
        },
        {
          "data": {
            "image/png": "[encoded data removed]",
            "text/plain": [
              "<Figure size 432x288 with 2 Axes>"
            ]
          },
          "metadata": {},
          "output_type": "display_data"
        },
        {
          "data": {
            "image/png": "[encoded data removed]",
            "text/plain": [
              "<Figure size 360x360 with 1 Axes>"
            ]
          },
          "metadata": {},
          "output_type": "display_data"
        }
      ],
      "source": [
        "print('---------- Supervised Model - Evaluation on Test Data ----------')\n",
        "accuracy_score_ST = clf_ST.score(X_test, y_test)\n",
        "print('Accuracy Score: ', accuracy_score_ST)\n",
        "Evl_KNN=Evaluation(y_test, clf_ST.predict(X_test))\n",
        "collect_results_of_all_model[\"KNN_ALGO\"] = Evl_KNN#get results of CART algo"
      ]
    },
    {
      "cell_type": "code",
      "execution_count": null,
      "metadata": {
        "colab": {
          "base_uri": "https://localhost:8080/"
        },
        "id": "afiqz6zJPRi1",
        "outputId": "2f1c9d07-185b-4d9e-d3db-8f9a19ca0eaa"
      },
      "outputs": [
        {
          "data": {
            "text/plain": [
              "{'Metrics': ['accuracy', 'precision', 'recall', 'f1-score'],\n",
              " 'KNN_ALGO': [0.5346863150637711,\n",
              "  0.08620837993633314,\n",
              "  0.8491525423728814,\n",
              "  0.1565258142622823]}"
            ]
          },
          "execution_count": 32,
          "metadata": {},
          "output_type": "execute_result"
        }
      ],
      "source": [
        "collect_results_of_all_model"
      ]
    },
    {
      "cell_type": "code",
      "execution_count": null,
      "metadata": {
        "colab": {
          "base_uri": "https://localhost:8080/"
        },
        "id": "qp9ryL-qEzkb",
        "outputId": "db34d2b0-c727-4a76-c0d7-63205e263f56"
      },
      "outputs": [
        {
          "data": {
            "text/plain": [
              "{'Metrics': ['accuracy', 'precision', 'recall', 'f1-score'],\n",
              " 'KNN_ALGO': [0.5171492588762495,\n",
              "  0.09188677621956466,\n",
              "  0.6212914485165794,\n",
              "  0.16009593764053365]}"
            ]
          },
          "execution_count": 31,
          "metadata": {},
          "output_type": "execute_result"
        }
      ],
      "source": [
        "collect_results_of_all_model"
      ]
    },
    {
      "cell_type": "code",
      "execution_count": null,
      "metadata": {
        "colab": {
          "base_uri": "https://localhost:8080/"
        },
        "id": "qx7hpSFVVif0",
        "outputId": "0675c7d8-6e77-4828-c643-707f7a6f1788"
      },
      "outputs": [
        {
          "data": {
            "text/plain": [
              "KNeighborsClassifier(n_neighbors=10)"
            ]
          },
          "execution_count": 33,
          "metadata": {},
          "output_type": "execute_result"
        }
      ],
      "source": [
        "clf_ST=KNeighborsClassifier(n_neighbors=10)\n",
        "clf_ST.fit(X_train, y_train)\n"
      ]
    },
    {
      "cell_type": "code",
      "execution_count": null,
      "metadata": {
        "colab": {
          "base_uri": "https://localhost:8080/"
        },
        "id": "unavck5Ro6LJ",
        "outputId": "4b243d43-686e-4f94-e16f-e72fe740b012"
      },
      "outputs": [
        {
          "data": {
            "text/plain": [
              "{'algorithm': 'auto',\n",
              " 'leaf_size': 30,\n",
              " 'metric': 'minkowski',\n",
              " 'metric_params': None,\n",
              " 'n_jobs': None,\n",
              " 'n_neighbors': 10,\n",
              " 'p': 2,\n",
              " 'weights': 'uniform'}"
            ]
          },
          "execution_count": 34,
          "metadata": {},
          "output_type": "execute_result"
        }
      ],
      "source": [
        "clf_ST.get_params()"
      ]
    },
    {
      "cell_type": "code",
      "execution_count": null,
      "metadata": {
        "colab": {
          "base_uri": "https://localhost:8080/",
          "height": 1000
        },
        "id": "yCFFaE1eNjla",
        "outputId": "d504f585-b531-49b1-94b2-f2f48bf9ea53"
      },
      "outputs": [
        {
          "name": "stdout",
          "output_type": "stream",
          "text": [
            "---------- Supervised Model - Evaluation on Test Data ----------\n",
            "Accuracy Score:  0.5392967942088935\n",
            "\n",
            "\n",
            "Accuracy_test_set:  0.5392967942088935\n",
            "\n",
            "\n",
            "Classification_report_of_model : \n",
            "               precision    recall  f1-score   support\n",
            "\n",
            "           0       0.99      0.52      0.68     21953\n",
            "           1       0.09      0.87      0.17      1255\n",
            "\n",
            "    accuracy                           0.54     23208\n",
            "   macro avg       0.54      0.70      0.43     23208\n",
            "weighted avg       0.94      0.54      0.65     23208\n",
            "\n",
            "\n",
            "\n",
            "Confusion_Matrix_of model : \n",
            " [[11423 10530]\n",
            " [  162  1093]]\n",
            "0.6956276202528291\n",
            "0.6956276202528291\n"
          ]
        },
        {
          "data": {
            "image/png": "[encoded data removed]",
            "text/plain": [
              "<Figure size 432x288 with 2 Axes>"
            ]
          },
          "metadata": {},
          "output_type": "display_data"
        },
        {
          "data": {
            "image/png": "[encoded data removed]",
            "text/plain": [
              "<Figure size 360x360 with 1 Axes>"
            ]
          },
          "metadata": {},
          "output_type": "display_data"
        }
      ],
      "source": [
        "print('---------- Supervised Model - Evaluation on Test Data ----------')\n",
        "accuracy_score_ST = clf_ST.score(X_test, y_test)\n",
        "print('Accuracy Score: ', accuracy_score_ST)\n",
        "Evl_KNN=Evaluation(y_test, clf_ST.predict(X_test))\n",
        "collect_results_of_all_model[\"KNN_ALGO\"] = Evl_KNN#get results of CART algo"
      ]
    },
    {
      "cell_type": "code",
      "execution_count": null,
      "metadata": {
        "colab": {
          "base_uri": "https://localhost:8080/"
        },
        "id": "46N-3BP8u64u",
        "outputId": "1e553aac-3660-4f27-c889-5d708517a747"
      },
      "outputs": [
        {
          "data": {
            "text/plain": [
              "{'Metrics': ['accuracy', 'precision', 'recall', 'f1-score'],\n",
              " 'KNN_ALGO': [0.5392967942088935,\n",
              "  0.0940376839026069,\n",
              "  0.8709163346613545,\n",
              "  0.16974685510172385]}"
            ]
          },
          "execution_count": 36,
          "metadata": {},
          "output_type": "execute_result"
        }
      ],
      "source": [
        "collect_results_of_all_model"
      ]
    },
    {
      "cell_type": "code",
      "execution_count": null,
      "metadata": {
        "id": "-lr3pvCuj25Z"
      },
      "outputs": [],
      "source": [
        "#sgd with grid\n",
        "clf_sgd=SGDClassifier()\n",
        "param_grid = [{'alpha': [0.0001, 0.1, 1.0],\n",
        "               'loss': ['modified_huber'],\n",
        "               'penalty': ['l2']}]"
      ]
    },
    {
      "cell_type": "code",
      "execution_count": null,
      "metadata": {
        "colab": {
          "base_uri": "https://localhost:8080/"
        },
        "id": "yMxgdbMPkhj0",
        "outputId": "ab89099d-e193-4088-9cc3-27460bd3fb25"
      },
      "outputs": [
        {
          "data": {
            "text/plain": [
              "GridSearchCV(cv=10, estimator=SGDClassifier(),\n",
              "             param_grid=[{'alpha': [0.0001, 0.1, 1.0],\n",
              "                          'loss': ['modified_huber'], 'penalty': ['l2']}],\n",
              "             scoring='accuracy')"
            ]
          },
          "execution_count": 53,
          "metadata": {},
          "output_type": "execute_result"
        }
      ],
      "source": [
        "clf_grid = GridSearchCV(clf_sgd, param_grid, cv= 10,\n",
        "                   scoring='accuracy')\n",
        "# Fit the data to the pipeline with gridsearch\n",
        "clf_grid.fit(X_train, y_train)"
      ]
    },
    {
      "cell_type": "code",
      "execution_count": null,
      "metadata": {
        "colab": {
          "base_uri": "https://localhost:8080/"
        },
        "id": "Y3Ya1KMwk6f5",
        "outputId": "d26ff05a-9c43-4c67-d5c2-2f905b263cb9"
      },
      "outputs": [
        {
          "name": "stdout",
          "output_type": "stream",
          "text": [
            "tuned hpyerparameters :(best parameters)  {'alpha': 0.0001, 'loss': 'modified_huber', 'penalty': 'l2'}\n",
            "accuracy : 0.9360977802880441\n"
          ]
        }
      ],
      "source": [
        "print(\"tuned hpyerparameters :(best parameters) \",clf_grid.best_params_)\n",
        "print(\"accuracy :\",clf_grid.best_score_)"
      ]
    },
    {
      "cell_type": "code",
      "execution_count": null,
      "metadata": {
        "colab": {
          "base_uri": "https://localhost:8080/",
          "height": 1000
        },
        "id": "KSN4l9aU8oDX",
        "outputId": "151ce8ab-b1d7-4640-c40c-83a0829a08a8"
      },
      "outputs": [
        {
          "name": "stdout",
          "output_type": "stream",
          "text": [
            "---------- Supervised Model - Evaluation on Test Data ----------\n",
            "Accuracy Score:  0.9360565322302654\n",
            "\n",
            "\n",
            "Accuracy_test_set:  0.9360565322302654\n",
            "\n",
            "\n",
            "Classification_report_of_model : \n",
            "               precision    recall  f1-score   support\n",
            "\n",
            "           0       0.95      0.93      0.94     11827\n",
            "           1       0.93      0.95      0.94     11381\n",
            "\n",
            "    accuracy                           0.94     23208\n",
            "   macro avg       0.94      0.94      0.94     23208\n",
            "weighted avg       0.94      0.94      0.94     23208\n",
            "\n",
            "\n",
            "\n",
            "Confusion_Matrix_of model : \n",
            " [[10964   863]\n",
            " [  621 10760]]\n",
            "0.9362333718245259\n",
            "0.9362333718245259\n"
          ]
        },
        {
          "data": {
            "image/png": "[encoded data removed]",
            "text/plain": [
              "<Figure size 432x288 with 2 Axes>"
            ]
          },
          "metadata": {},
          "output_type": "display_data"
        },
        {
          "data": {
            "image/png": "[encoded data removed]",
            "text/plain": [
              "<Figure size 360x360 with 1 Axes>"
            ]
          },
          "metadata": {},
          "output_type": "display_data"
        }
      ],
      "source": [
        "print('---------- Supervised Model - Evaluation on Test Data ----------')\n",
        "accuracy_score_ST = clf_grid.score(X_test, y_test)\n",
        "print('Accuracy Score: ', accuracy_score_ST)\n",
        "Evl_SGD=Evaluation(y_test, clf_grid.predict(X_test))\n",
        "collect_results_of_all_model[\"SGD_ALGO\"] = Evl_SGD#get results of CART algo"
      ]
    },
    {
      "cell_type": "code",
      "execution_count": null,
      "metadata": {
        "colab": {
          "base_uri": "https://localhost:8080/"
        },
        "id": "wuC71yeE81CK",
        "outputId": "b67d0130-b0e9-4708-969a-c7a6febef114"
      },
      "outputs": [
        {
          "data": {
            "text/plain": [
              "{'Metrics': ['accuracy', 'precision', 'recall', 'f1-score'],\n",
              " 'RF_ALGO': [0.9036108238538435,\n",
              "  0.9139636926783102,\n",
              "  0.8956998313659359,\n",
              "  0.9047395988587488],\n",
              " 'SGD_ALGO': [0.9360565322302654,\n",
              "  0.9257506667813817,\n",
              "  0.945435374747386,\n",
              "  0.935489480090419]}"
            ]
          },
          "execution_count": 56,
          "metadata": {},
          "output_type": "execute_result"
        }
      ],
      "source": [
        "collect_results_of_all_model"
      ]
    },
    {
      "cell_type": "code",
      "execution_count": null,
      "metadata": {
        "id": "MwjFMbZW9X5F"
      },
      "outputs": [],
      "source": []
    },
    {
      "cell_type": "code",
      "execution_count": null,
      "metadata": {
        "colab": {
          "base_uri": "https://localhost:8080/"
        },
        "id": "BWoZ2gPkWok5",
        "outputId": "99bcd2c0-6733-4d0b-c27f-117e1c03b7d7"
      },
      "outputs": [
        {
          "data": {
            "text/plain": [
              "SGDClassifier(loss='modified_huber')"
            ]
          },
          "execution_count": 52,
          "metadata": {},
          "output_type": "execute_result"
        }
      ],
      "source": [
        "#without grid\n",
        "clf_ST=SGDClassifier(loss=\"modified_huber\"\n",
        "                     )\n",
        "clf_ST.fit(X_train, y_train)"
      ]
    },
    {
      "cell_type": "code",
      "execution_count": null,
      "metadata": {
        "colab": {
          "base_uri": "https://localhost:8080/"
        },
        "id": "0x5Zj2YqyxX0",
        "outputId": "64e432ac-b904-4fc7-fca4-a93faddc2449"
      },
      "outputs": [
        {
          "data": {
            "text/plain": [
              "{'alpha': 0.0001,\n",
              " 'average': False,\n",
              " 'class_weight': None,\n",
              " 'early_stopping': False,\n",
              " 'epsilon': 0.1,\n",
              " 'eta0': 0.0,\n",
              " 'fit_intercept': True,\n",
              " 'l1_ratio': 0.15,\n",
              " 'learning_rate': 'optimal',\n",
              " 'loss': 'modified_huber',\n",
              " 'max_iter': 1000,\n",
              " 'n_iter_no_change': 5,\n",
              " 'n_jobs': None,\n",
              " 'penalty': 'l2',\n",
              " 'power_t': 0.5,\n",
              " 'random_state': None,\n",
              " 'shuffle': True,\n",
              " 'tol': 0.001,\n",
              " 'validation_fraction': 0.1,\n",
              " 'verbose': 0,\n",
              " 'warm_start': False}"
            ]
          },
          "execution_count": 35,
          "metadata": {},
          "output_type": "execute_result"
        }
      ],
      "source": [
        "clf_ST.get_params()"
      ]
    },
    {
      "cell_type": "code",
      "execution_count": null,
      "metadata": {
        "colab": {
          "base_uri": "https://localhost:8080/",
          "height": 1000
        },
        "id": "9YO56K9oleGO",
        "outputId": "fdaa08b5-00dc-4979-c1f8-ba6f5a4203eb"
      },
      "outputs": [
        {
          "name": "stdout",
          "output_type": "stream",
          "text": [
            "---------- Supervised Model - Evaluation on Test Data ----------\n",
            "Accuracy Score:  0.936271975180972\n",
            "\n",
            "\n",
            "Accuracy_test_set:  0.936271975180972\n",
            "\n",
            "\n",
            "Classification_report_of_model : \n",
            "               precision    recall  f1-score   support\n",
            "\n",
            "           0       0.95      0.93      0.94     11840\n",
            "           1       0.93      0.95      0.94     11368\n",
            "\n",
            "    accuracy                           0.94     23208\n",
            "   macro avg       0.94      0.94      0.94     23208\n",
            "weighted avg       0.94      0.94      0.94     23208\n",
            "\n",
            "\n",
            "\n",
            "Confusion_Matrix_of model : \n",
            " [[10973   867]\n",
            " [  612 10756]]\n",
            "0.9364691607071532\n",
            "0.9364691607071532\n"
          ]
        },
        {
          "data": {
            "image/png": "[encoded data removed]",
            "text/plain": [
              "<Figure size 432x288 with 2 Axes>"
            ]
          },
          "metadata": {},
          "output_type": "display_data"
        },
        {
          "data": {
            "image/png": "[encoded data removed]",
            "text/plain": [
              "<Figure size 360x360 with 1 Axes>"
            ]
          },
          "metadata": {},
          "output_type": "display_data"
        }
      ],
      "source": [
        "print('---------- Supervised Model - Evaluation on Test Data ----------')\n",
        "accuracy_score_ST = clf_ST.score(X_test, y_test)\n",
        "print('Accuracy Score: ', accuracy_score_ST)\n",
        "Evl_SGD=Evaluation(y_test, clf_ST.predict(X_test))\n",
        "collect_results_of_all_model[\"SGD_ALGO\"] = Evl_SGD#get results of CART algo"
      ]
    },
    {
      "cell_type": "code",
      "execution_count": null,
      "metadata": {
        "colab": {
          "base_uri": "https://localhost:8080/"
        },
        "id": "eonIP4hHx-FQ",
        "outputId": "29908d88-f00a-4a59-d02f-6ce88f2e53cb"
      },
      "outputs": [
        {
          "data": {
            "text/plain": [
              "{'Metrics': ['accuracy', 'precision', 'recall', 'f1-score'],\n",
              " 'RF_ALGO': [0.9036108238538435,\n",
              "  0.9139636926783102,\n",
              "  0.8956998313659359,\n",
              "  0.9047395988587488],\n",
              " 'SGD_ALGO': [0.936271975180972,\n",
              "  0.925406521552095,\n",
              "  0.946164672765658,\n",
              "  0.9356704797529469]}"
            ]
          },
          "execution_count": 38,
          "metadata": {},
          "output_type": "execute_result"
        }
      ],
      "source": [
        "collect_results_of_all_model"
      ]
    },
    {
      "cell_type": "code",
      "execution_count": null,
      "metadata": {
        "colab": {
          "base_uri": "https://localhost:8080/",
          "height": 362
        },
        "id": "iKRM9TbElrH5",
        "outputId": "20198025-16c2-444d-de05-29e145397a26"
      },
      "outputs": [
        {
          "ename": "KeyboardInterrupt",
          "evalue": "ignored",
          "output_type": "error",
          "traceback": [
            "\u001b[0;31m---------------------------------------------------------------------------\u001b[0m",
            "\u001b[0;31mKeyboardInterrupt\u001b[0m                         Traceback (most recent call last)",
            "\u001b[0;32m<ipython-input-39-979061839306>\u001b[0m in \u001b[0;36m<module>\u001b[0;34m\u001b[0m\n\u001b[1;32m     13\u001b[0m \u001b[0;34m\u001b[0m\u001b[0m\n\u001b[1;32m     14\u001b[0m \u001b[0;31m# execute the grid search\u001b[0m\u001b[0;34m\u001b[0m\u001b[0;34m\u001b[0m\u001b[0;34m\u001b[0m\u001b[0m\n\u001b[0;32m---> 15\u001b[0;31m \u001b[0mgrid_clf\u001b[0m \u001b[0;34m=\u001b[0m \u001b[0mgrid_search\u001b[0m\u001b[0;34m.\u001b[0m\u001b[0mfit\u001b[0m\u001b[0;34m(\u001b[0m\u001b[0mX_train\u001b[0m\u001b[0;34m,\u001b[0m \u001b[0my_train\u001b[0m\u001b[0;34m)\u001b[0m\u001b[0;34m\u001b[0m\u001b[0;34m\u001b[0m\u001b[0m\n\u001b[0m",
            "\u001b[0;32m/usr/local/lib/python3.8/dist-packages/sklearn/model_selection/_search.py\u001b[0m in \u001b[0;36mfit\u001b[0;34m(self, X, y, groups, **fit_params)\u001b[0m\n\u001b[1;32m    889\u001b[0m                 \u001b[0;32mreturn\u001b[0m \u001b[0mresults\u001b[0m\u001b[0;34m\u001b[0m\u001b[0;34m\u001b[0m\u001b[0m\n\u001b[1;32m    890\u001b[0m \u001b[0;34m\u001b[0m\u001b[0m\n\u001b[0;32m--> 891\u001b[0;31m             \u001b[0mself\u001b[0m\u001b[0;34m.\u001b[0m\u001b[0m_run_search\u001b[0m\u001b[0;34m(\u001b[0m\u001b[0mevaluate_candidates\u001b[0m\u001b[0;34m)\u001b[0m\u001b[0;34m\u001b[0m\u001b[0;34m\u001b[0m\u001b[0m\n\u001b[0m\u001b[1;32m    892\u001b[0m \u001b[0;34m\u001b[0m\u001b[0m\n\u001b[1;32m    893\u001b[0m             \u001b[0;31m# multimetric is determined here because in the case of a callable\u001b[0m\u001b[0;34m\u001b[0m\u001b[0;34m\u001b[0m\u001b[0;34m\u001b[0m\u001b[0m\n",
            "\u001b[0;32m/usr/local/lib/python3.8/dist-packages/sklearn/model_selection/_search.py\u001b[0m in \u001b[0;36m_run_search\u001b[0;34m(self, evaluate_candidates)\u001b[0m\n\u001b[1;32m   1390\u001b[0m     \u001b[0;32mdef\u001b[0m \u001b[0m_run_search\u001b[0m\u001b[0;34m(\u001b[0m\u001b[0mself\u001b[0m\u001b[0;34m,\u001b[0m \u001b[0mevaluate_candidates\u001b[0m\u001b[0;34m)\u001b[0m\u001b[0;34m:\u001b[0m\u001b[0;34m\u001b[0m\u001b[0;34m\u001b[0m\u001b[0m\n\u001b[1;32m   1391\u001b[0m         \u001b[0;34m\"\"\"Search all candidates in param_grid\"\"\"\u001b[0m\u001b[0;34m\u001b[0m\u001b[0;34m\u001b[0m\u001b[0m\n\u001b[0;32m-> 1392\u001b[0;31m         \u001b[0mevaluate_candidates\u001b[0m\u001b[0;34m(\u001b[0m\u001b[0mParameterGrid\u001b[0m\u001b[0;34m(\u001b[0m\u001b[0mself\u001b[0m\u001b[0;34m.\u001b[0m\u001b[0mparam_grid\u001b[0m\u001b[0;34m)\u001b[0m\u001b[0;34m)\u001b[0m\u001b[0;34m\u001b[0m\u001b[0;34m\u001b[0m\u001b[0m\n\u001b[0m\u001b[1;32m   1393\u001b[0m \u001b[0;34m\u001b[0m\u001b[0m\n\u001b[1;32m   1394\u001b[0m \u001b[0;34m\u001b[0m\u001b[0m\n",
            "\u001b[0;32m/usr/local/lib/python3.8/dist-packages/sklearn/model_selection/_search.py\u001b[0m in \u001b[0;36mevaluate_candidates\u001b[0;34m(candidate_params, cv, more_results)\u001b[0m\n\u001b[1;32m    836\u001b[0m                     )\n\u001b[1;32m    837\u001b[0m \u001b[0;34m\u001b[0m\u001b[0m\n\u001b[0;32m--> 838\u001b[0;31m                 out = parallel(\n\u001b[0m\u001b[1;32m    839\u001b[0m                     delayed(_fit_and_score)(\n\u001b[1;32m    840\u001b[0m                         \u001b[0mclone\u001b[0m\u001b[0;34m(\u001b[0m\u001b[0mbase_estimator\u001b[0m\u001b[0;34m)\u001b[0m\u001b[0;34m,\u001b[0m\u001b[0;34m\u001b[0m\u001b[0;34m\u001b[0m\u001b[0m\n",
            "\u001b[0;32m/usr/local/lib/python3.8/dist-packages/joblib/parallel.py\u001b[0m in \u001b[0;36m__call__\u001b[0;34m(self, iterable)\u001b[0m\n\u001b[1;32m   1096\u001b[0m \u001b[0;34m\u001b[0m\u001b[0m\n\u001b[1;32m   1097\u001b[0m             \u001b[0;32mwith\u001b[0m \u001b[0mself\u001b[0m\u001b[0;34m.\u001b[0m\u001b[0m_backend\u001b[0m\u001b[0;34m.\u001b[0m\u001b[0mretrieval_context\u001b[0m\u001b[0;34m(\u001b[0m\u001b[0;34m)\u001b[0m\u001b[0;34m:\u001b[0m\u001b[0;34m\u001b[0m\u001b[0;34m\u001b[0m\u001b[0m\n\u001b[0;32m-> 1098\u001b[0;31m                 \u001b[0mself\u001b[0m\u001b[0;34m.\u001b[0m\u001b[0mretrieve\u001b[0m\u001b[0;34m(\u001b[0m\u001b[0;34m)\u001b[0m\u001b[0;34m\u001b[0m\u001b[0;34m\u001b[0m\u001b[0m\n\u001b[0m\u001b[1;32m   1099\u001b[0m             \u001b[0;31m# Make sure that we get a last message telling us we are done\u001b[0m\u001b[0;34m\u001b[0m\u001b[0;34m\u001b[0m\u001b[0;34m\u001b[0m\u001b[0m\n\u001b[1;32m   1100\u001b[0m             \u001b[0melapsed_time\u001b[0m \u001b[0;34m=\u001b[0m \u001b[0mtime\u001b[0m\u001b[0;34m.\u001b[0m\u001b[0mtime\u001b[0m\u001b[0;34m(\u001b[0m\u001b[0;34m)\u001b[0m \u001b[0;34m-\u001b[0m \u001b[0mself\u001b[0m\u001b[0;34m.\u001b[0m\u001b[0m_start_time\u001b[0m\u001b[0;34m\u001b[0m\u001b[0;34m\u001b[0m\u001b[0m\n",
            "\u001b[0;32m/usr/local/lib/python3.8/dist-packages/joblib/parallel.py\u001b[0m in \u001b[0;36mretrieve\u001b[0;34m(self)\u001b[0m\n\u001b[1;32m    973\u001b[0m             \u001b[0;32mtry\u001b[0m\u001b[0;34m:\u001b[0m\u001b[0;34m\u001b[0m\u001b[0;34m\u001b[0m\u001b[0m\n\u001b[1;32m    974\u001b[0m                 \u001b[0;32mif\u001b[0m \u001b[0mgetattr\u001b[0m\u001b[0;34m(\u001b[0m\u001b[0mself\u001b[0m\u001b[0;34m.\u001b[0m\u001b[0m_backend\u001b[0m\u001b[0;34m,\u001b[0m \u001b[0;34m'supports_timeout'\u001b[0m\u001b[0;34m,\u001b[0m \u001b[0;32mFalse\u001b[0m\u001b[0;34m)\u001b[0m\u001b[0;34m:\u001b[0m\u001b[0;34m\u001b[0m\u001b[0;34m\u001b[0m\u001b[0m\n\u001b[0;32m--> 975\u001b[0;31m                     \u001b[0mself\u001b[0m\u001b[0;34m.\u001b[0m\u001b[0m_output\u001b[0m\u001b[0;34m.\u001b[0m\u001b[0mextend\u001b[0m\u001b[0;34m(\u001b[0m\u001b[0mjob\u001b[0m\u001b[0;34m.\u001b[0m\u001b[0mget\u001b[0m\u001b[0;34m(\u001b[0m\u001b[0mtimeout\u001b[0m\u001b[0;34m=\u001b[0m\u001b[0mself\u001b[0m\u001b[0;34m.\u001b[0m\u001b[0mtimeout\u001b[0m\u001b[0;34m)\u001b[0m\u001b[0;34m)\u001b[0m\u001b[0;34m\u001b[0m\u001b[0;34m\u001b[0m\u001b[0m\n\u001b[0m\u001b[1;32m    976\u001b[0m                 \u001b[0;32melse\u001b[0m\u001b[0;34m:\u001b[0m\u001b[0;34m\u001b[0m\u001b[0;34m\u001b[0m\u001b[0m\n\u001b[1;32m    977\u001b[0m                     \u001b[0mself\u001b[0m\u001b[0;34m.\u001b[0m\u001b[0m_output\u001b[0m\u001b[0;34m.\u001b[0m\u001b[0mextend\u001b[0m\u001b[0;34m(\u001b[0m\u001b[0mjob\u001b[0m\u001b[0;34m.\u001b[0m\u001b[0mget\u001b[0m\u001b[0;34m(\u001b[0m\u001b[0;34m)\u001b[0m\u001b[0;34m)\u001b[0m\u001b[0;34m\u001b[0m\u001b[0;34m\u001b[0m\u001b[0m\n",
            "\u001b[0;32m/usr/local/lib/python3.8/dist-packages/joblib/_parallel_backends.py\u001b[0m in \u001b[0;36mwrap_future_result\u001b[0;34m(future, timeout)\u001b[0m\n\u001b[1;32m    565\u001b[0m         AsyncResults.get from multiprocessing.\"\"\"\n\u001b[1;32m    566\u001b[0m         \u001b[0;32mtry\u001b[0m\u001b[0;34m:\u001b[0m\u001b[0;34m\u001b[0m\u001b[0;34m\u001b[0m\u001b[0m\n\u001b[0;32m--> 567\u001b[0;31m             \u001b[0;32mreturn\u001b[0m \u001b[0mfuture\u001b[0m\u001b[0;34m.\u001b[0m\u001b[0mresult\u001b[0m\u001b[0;34m(\u001b[0m\u001b[0mtimeout\u001b[0m\u001b[0;34m=\u001b[0m\u001b[0mtimeout\u001b[0m\u001b[0;34m)\u001b[0m\u001b[0;34m\u001b[0m\u001b[0;34m\u001b[0m\u001b[0m\n\u001b[0m\u001b[1;32m    568\u001b[0m         \u001b[0;32mexcept\u001b[0m \u001b[0mCfTimeoutError\u001b[0m \u001b[0;32mas\u001b[0m \u001b[0me\u001b[0m\u001b[0;34m:\u001b[0m\u001b[0;34m\u001b[0m\u001b[0;34m\u001b[0m\u001b[0m\n\u001b[1;32m    569\u001b[0m             \u001b[0;32mraise\u001b[0m \u001b[0mTimeoutError\u001b[0m \u001b[0;32mfrom\u001b[0m \u001b[0me\u001b[0m\u001b[0;34m\u001b[0m\u001b[0;34m\u001b[0m\u001b[0m\n",
            "\u001b[0;32m/usr/lib/python3.8/concurrent/futures/_base.py\u001b[0m in \u001b[0;36mresult\u001b[0;34m(self, timeout)\u001b[0m\n\u001b[1;32m    437\u001b[0m                     \u001b[0;32mreturn\u001b[0m \u001b[0mself\u001b[0m\u001b[0;34m.\u001b[0m\u001b[0m__get_result\u001b[0m\u001b[0;34m(\u001b[0m\u001b[0;34m)\u001b[0m\u001b[0;34m\u001b[0m\u001b[0;34m\u001b[0m\u001b[0m\n\u001b[1;32m    438\u001b[0m \u001b[0;34m\u001b[0m\u001b[0m\n\u001b[0;32m--> 439\u001b[0;31m                 \u001b[0mself\u001b[0m\u001b[0;34m.\u001b[0m\u001b[0m_condition\u001b[0m\u001b[0;34m.\u001b[0m\u001b[0mwait\u001b[0m\u001b[0;34m(\u001b[0m\u001b[0mtimeout\u001b[0m\u001b[0;34m)\u001b[0m\u001b[0;34m\u001b[0m\u001b[0;34m\u001b[0m\u001b[0m\n\u001b[0m\u001b[1;32m    440\u001b[0m \u001b[0;34m\u001b[0m\u001b[0m\n\u001b[1;32m    441\u001b[0m                 \u001b[0;32mif\u001b[0m \u001b[0mself\u001b[0m\u001b[0;34m.\u001b[0m\u001b[0m_state\u001b[0m \u001b[0;32min\u001b[0m \u001b[0;34m[\u001b[0m\u001b[0mCANCELLED\u001b[0m\u001b[0;34m,\u001b[0m \u001b[0mCANCELLED_AND_NOTIFIED\u001b[0m\u001b[0;34m]\u001b[0m\u001b[0;34m:\u001b[0m\u001b[0;34m\u001b[0m\u001b[0;34m\u001b[0m\u001b[0m\n",
            "\u001b[0;32m/usr/lib/python3.8/threading.py\u001b[0m in \u001b[0;36mwait\u001b[0;34m(self, timeout)\u001b[0m\n\u001b[1;32m    300\u001b[0m         \u001b[0;32mtry\u001b[0m\u001b[0;34m:\u001b[0m    \u001b[0;31m# restore state no matter what (e.g., KeyboardInterrupt)\u001b[0m\u001b[0;34m\u001b[0m\u001b[0;34m\u001b[0m\u001b[0m\n\u001b[1;32m    301\u001b[0m             \u001b[0;32mif\u001b[0m \u001b[0mtimeout\u001b[0m \u001b[0;32mis\u001b[0m \u001b[0;32mNone\u001b[0m\u001b[0;34m:\u001b[0m\u001b[0;34m\u001b[0m\u001b[0;34m\u001b[0m\u001b[0m\n\u001b[0;32m--> 302\u001b[0;31m                 \u001b[0mwaiter\u001b[0m\u001b[0;34m.\u001b[0m\u001b[0macquire\u001b[0m\u001b[0;34m(\u001b[0m\u001b[0;34m)\u001b[0m\u001b[0;34m\u001b[0m\u001b[0;34m\u001b[0m\u001b[0m\n\u001b[0m\u001b[1;32m    303\u001b[0m                 \u001b[0mgotit\u001b[0m \u001b[0;34m=\u001b[0m \u001b[0;32mTrue\u001b[0m\u001b[0;34m\u001b[0m\u001b[0;34m\u001b[0m\u001b[0m\n\u001b[1;32m    304\u001b[0m             \u001b[0;32melse\u001b[0m\u001b[0;34m:\u001b[0m\u001b[0;34m\u001b[0m\u001b[0;34m\u001b[0m\u001b[0m\n",
            "\u001b[0;31mKeyboardInterrupt\u001b[0m: "
          ]
        }
      ],
      "source": [
        "clf_ab = AdaBoostClassifier()\n",
        "\n",
        "# define the grid of values to search\n",
        "grid = dict()\n",
        "grid['n_estimators'] = [10, 50, 100, 500]\n",
        "grid['learning_rate'] = [0.0001, 0.001, 0.01, 0.1, 1.0]\n",
        "\n",
        "# define the evaluation procedure\n",
        "#cv = RepeatedStratifiedKFold(n_splits=10, n_repeats=3, random_state=1)\n",
        "\n",
        "# define the grid search procedure\n",
        "grid_search = GridSearchCV(estimator=clf_ab, param_grid=grid, n_jobs=-1, cv=10, scoring='accuracy')\n",
        "\n",
        "# execute the grid search\n",
        "grid_clf = grid_search.fit(X_train, y_train)\n"
      ]
    },
    {
      "cell_type": "code",
      "execution_count": null,
      "metadata": {
        "id": "byn8Sc3LnYel"
      },
      "outputs": [],
      "source": [
        "print(\"tuned hpyerparameters :(best parameters) \",clf_grid.best_params_)\n",
        "print(\"accuracy :\",clf_grid.best_score_)"
      ]
    },
    {
      "cell_type": "code",
      "execution_count": null,
      "metadata": {
        "colab": {
          "base_uri": "https://localhost:8080/"
        },
        "id": "2z2wbkaDnYjr",
        "outputId": "c0e733d9-30c3-40a5-b9f2-bca626e2e8c8"
      },
      "outputs": [
        {
          "data": {
            "text/plain": [
              "AdaBoostClassifier()"
            ]
          },
          "execution_count": 24,
          "metadata": {},
          "output_type": "execute_result"
        }
      ],
      "source": [
        "clf_ST=AdaBoostClassifier()\n",
        "# Fit the model\n",
        "clf_ST.fit(X_train, y_train)"
      ]
    },
    {
      "cell_type": "code",
      "execution_count": null,
      "metadata": {
        "colab": {
          "base_uri": "https://localhost:8080/"
        },
        "id": "JyGHYU9sZHtH",
        "outputId": "c271c50e-a98c-4720-80fe-9829fbfd35ca"
      },
      "outputs": [
        {
          "data": {
            "text/plain": [
              "{'algorithm': 'SAMME.R',\n",
              " 'base_estimator': None,\n",
              " 'learning_rate': 1.0,\n",
              " 'n_estimators': 50,\n",
              " 'random_state': None}"
            ]
          },
          "execution_count": 27,
          "metadata": {},
          "output_type": "execute_result"
        }
      ],
      "source": [
        "clf_ST.get_params()\n"
      ]
    },
    {
      "cell_type": "code",
      "execution_count": null,
      "metadata": {
        "colab": {
          "base_uri": "https://localhost:8080/",
          "height": 1000
        },
        "id": "YdQx4Jbjun0z",
        "outputId": "7d87747f-021f-4a94-d83a-c2e2fb297f8e"
      },
      "outputs": [
        {
          "name": "stdout",
          "output_type": "stream",
          "text": [
            "---------- Supervised Model - Evaluation on Test Data ----------\n",
            "Accuracy Score:  0.8778438469493278\n",
            "\n",
            "\n",
            "Accuracy_test_set:  0.8778438469493278\n",
            "\n",
            "\n",
            "Classification_report_of_model : \n",
            "               precision    recall  f1-score   support\n",
            "\n",
            "           0       0.92      0.85      0.88     12662\n",
            "           1       0.83      0.92      0.87     10546\n",
            "\n",
            "    accuracy                           0.88     23208\n",
            "   macro avg       0.88      0.88      0.88     23208\n",
            "weighted avg       0.88      0.88      0.88     23208\n",
            "\n",
            "\n",
            "\n",
            "Confusion_Matrix_of model : \n",
            " [[10706  1956]\n",
            " [  879  9667]]\n",
            "0.8810864486600706\n",
            "0.8810864486600706\n"
          ]
        },
        {
          "data": {
            "image/png": "[encoded data removed]",
            "text/plain": [
              "<Figure size 432x288 with 2 Axes>"
            ]
          },
          "metadata": {},
          "output_type": "display_data"
        },
        {
          "data": {
            "image/png": "[encoded data removed]",
            "text/plain": [
              "<Figure size 360x360 with 1 Axes>"
            ]
          },
          "metadata": {},
          "output_type": "display_data"
        }
      ],
      "source": [
        "\n",
        "print('---------- Supervised Model - Evaluation on Test Data ----------')\n",
        "accuracy_score_ST = clf_ST.score(X_test, y_test)\n",
        "print('Accuracy Score: ', accuracy_score_ST)\n",
        "Evl_ADA=Evaluation(y_test, clf_ST.predict(X_test))\n",
        "collect_results_of_all_model[\"ADA_ALGO\"] = Evl_ADA#get results of CART algo"
      ]
    },
    {
      "cell_type": "code",
      "execution_count": null,
      "metadata": {
        "colab": {
          "base_uri": "https://localhost:8080/"
        },
        "id": "5aPg5WGuzHRD",
        "outputId": "247cbf13-0bdc-4851-c248-edd94c453007"
      },
      "outputs": [
        {
          "data": {
            "text/plain": [
              "{'Metrics': ['accuracy', 'precision', 'recall', 'f1-score'],\n",
              " 'ADA_ALGO': [0.8778438469493278,\n",
              "  0.8317129828787748,\n",
              "  0.9166508628864024,\n",
              "  0.8721187243448058]}"
            ]
          },
          "execution_count": 29,
          "metadata": {},
          "output_type": "execute_result"
        }
      ],
      "source": [
        "collect_results_of_all_model"
      ]
    },
    {
      "cell_type": "code",
      "execution_count": null,
      "metadata": {
        "id": "wKe7zGh0YgoY"
      },
      "outputs": [],
      "source": [
        "clf_Ada=AdaBoostClassifier()"
      ]
    },
    {
      "cell_type": "code",
      "execution_count": null,
      "metadata": {
        "id": "9rDISPO_ZO6E"
      },
      "outputs": [],
      "source": [
        "param_grid = [{'algorithm': ['SAMME.R'],\n",
        "              'base_estimator':[None],\n",
        "              'learning_rate': [1.0]}\n",
        "              ]"
      ]
    },
    {
      "cell_type": "code",
      "execution_count": null,
      "metadata": {
        "colab": {
          "base_uri": "https://localhost:8080/"
        },
        "id": "baumfDJHd-th",
        "outputId": "bc3b3b7b-ba00-4d52-9515-c450cedb772b"
      },
      "outputs": [
        {
          "data": {
            "text/plain": [
              "GridSearchCV(cv=10, estimator=AdaBoostClassifier(),\n",
              "             param_grid=[{'algorithm': ['SAMME.R'], 'base_estimator': [None],\n",
              "                          'learning_rate': [1.0]}],\n",
              "             scoring='accuracy')"
            ]
          },
          "execution_count": 32,
          "metadata": {},
          "output_type": "execute_result"
        }
      ],
      "source": [
        "clf_grid = GridSearchCV(clf_Ada, param_grid, cv= 10,\n",
        "                   scoring='accuracy')\n",
        "# Fit the data to the pipeline with gridsearch\n",
        "clf_grid.fit(X_train, y_train)"
      ]
    },
    {
      "cell_type": "code",
      "execution_count": null,
      "metadata": {
        "colab": {
          "base_uri": "https://localhost:8080/"
        },
        "id": "NRtJx2Nbe-8O",
        "outputId": "4b357690-7d2f-4bf9-fbb4-1d26c275e9ad"
      },
      "outputs": [
        {
          "name": "stdout",
          "output_type": "stream",
          "text": [
            "tuned hpyerparameters :(best parameters)  {'algorithm': 'SAMME.R', 'base_estimator': None, 'learning_rate': 1.0}\n",
            "accuracy : 0.8779792005005105\n"
          ]
        }
      ],
      "source": [
        "print(\"tuned hpyerparameters :(best parameters) \",clf_grid.best_params_)\n",
        "print(\"accuracy :\",clf_grid.best_score_)"
      ]
    },
    {
      "cell_type": "code",
      "execution_count": null,
      "metadata": {
        "colab": {
          "base_uri": "https://localhost:8080/",
          "height": 1000
        },
        "id": "4H9x-PD3Nv7t",
        "outputId": "3675ce8a-57c7-4f58-a436-25def62ad71c"
      },
      "outputs": [
        {
          "name": "stdout",
          "output_type": "stream",
          "text": [
            "---------- Supervised Model - Evaluation on Test Data ----------\n",
            "Accuracy Score:  0.8778438469493278\n",
            "\n",
            "\n",
            "Accuracy_test_set:  0.8778438469493278\n",
            "\n",
            "\n",
            "Classification_report_of_model : \n",
            "               precision    recall  f1-score   support\n",
            "\n",
            "           0       0.92      0.85      0.88     12662\n",
            "           1       0.83      0.92      0.87     10546\n",
            "\n",
            "    accuracy                           0.88     23208\n",
            "   macro avg       0.88      0.88      0.88     23208\n",
            "weighted avg       0.88      0.88      0.88     23208\n",
            "\n",
            "\n",
            "\n",
            "Confusion_Matrix_of model : \n",
            " [[10706  1956]\n",
            " [  879  9667]]\n",
            "0.8810864486600706\n",
            "0.8810864486600706\n"
          ]
        },
        {
          "data": {
            "image/png": "[encoded data removed]",
            "text/plain": [
              "<Figure size 432x288 with 2 Axes>"
            ]
          },
          "metadata": {},
          "output_type": "display_data"
        },
        {
          "data": {
            "image/png": "[encoded data removed]",
            "text/plain": [
              "<Figure size 360x360 with 1 Axes>"
            ]
          },
          "metadata": {},
          "output_type": "display_data"
        }
      ],
      "source": [
        "\n",
        "print('---------- Supervised Model - Evaluation on Test Data ----------')\n",
        "accuracy_score_ST = clf_ST.score(X_test, y_test)\n",
        "print('Accuracy Score: ', accuracy_score_ST)\n",
        "Evl_ADA=Evaluation(y_test, clf_ST.predict(X_test))\n",
        "collect_results_of_all_model[\"ADA_ALGO\"] = Evl_ADA#get results of CART algo"
      ]
    },
    {
      "cell_type": "code",
      "execution_count": null,
      "metadata": {
        "colab": {
          "base_uri": "https://localhost:8080/"
        },
        "id": "sO9vh_Jvzlzi",
        "outputId": "9307c348-df56-4403-9816-2d9f32ff67bb"
      },
      "outputs": [
        {
          "data": {
            "text/plain": [
              "{'Metrics': ['accuracy', 'precision', 'recall', 'f1-score'],\n",
              " 'ADA_ALGO': [0.8778438469493278,\n",
              "  0.8317129828787748,\n",
              "  0.9166508628864024,\n",
              "  0.8721187243448058]}"
            ]
          },
          "execution_count": 35,
          "metadata": {},
          "output_type": "execute_result"
        }
      ],
      "source": [
        "collect_results_of_all_model"
      ]
    },
    {
      "cell_type": "code",
      "execution_count": null,
      "metadata": {
        "id": "lbBCVKn3xE-0"
      },
      "outputs": [],
      "source": [
        "clf_svm = LinearSVC(penalty='l1', max_iter=500, dual=False)"
      ]
    },
    {
      "cell_type": "code",
      "execution_count": null,
      "metadata": {
        "id": "pWdXk1ZEG-Ts"
      },
      "outputs": [],
      "source": [
        "param_grid = {  'C': [100, 1000]\n",
        "              }\n"
      ]
    },
    {
      "cell_type": "code",
      "execution_count": null,
      "metadata": {
        "id": "1c6wnpAiG-b3"
      },
      "outputs": [],
      "source": [
        "clf_grid = GridSearchCV(clf_svm, param_grid, cv=10, scoring='accuracy')"
      ]
    },
    {
      "cell_type": "code",
      "execution_count": null,
      "metadata": {
        "colab": {
          "base_uri": "https://localhost:8080/"
        },
        "id": "1_BBElcexFO_",
        "outputId": "9251c1a8-5357-434d-fe24-435a91b3674a"
      },
      "outputs": [
        {
          "data": {
            "text/plain": [
              "GridSearchCV(cv=10, estimator=LinearSVC(dual=False, max_iter=500, penalty='l1'),\n",
              "             param_grid={'C': [100, 1000]}, scoring='accuracy')"
            ]
          },
          "execution_count": 35,
          "metadata": {},
          "output_type": "execute_result"
        }
      ],
      "source": [
        "clf_grid.fit(X_train, y_train)"
      ]
    },
    {
      "cell_type": "code",
      "execution_count": null,
      "metadata": {
        "colab": {
          "base_uri": "https://localhost:8080/"
        },
        "id": "MQMxKGkBJ5GA",
        "outputId": "d87f574f-3ba7-4bc6-f146-a3e084209a47"
      },
      "outputs": [
        {
          "name": "stdout",
          "output_type": "stream",
          "text": [
            "tuned hpyerparameters :(best parameters)  {'C': 100}\n",
            "accuracy : 0.930812096238882\n"
          ]
        }
      ],
      "source": [
        "print(\"tuned hpyerparameters :(best parameters) \",clf_grid.best_params_)\n",
        "print(\"accuracy :\",clf_grid.best_score_)"
      ]
    },
    {
      "cell_type": "code",
      "execution_count": null,
      "metadata": {
        "colab": {
          "base_uri": "https://localhost:8080/",
          "height": 1000
        },
        "id": "dDyv4DlcIrnJ",
        "outputId": "2738c335-c3b2-47e5-f809-99693126a99e"
      },
      "outputs": [
        {
          "name": "stdout",
          "output_type": "stream",
          "text": [
            "---------- Supervised Model - Evaluation on Test Data ----------\n",
            "Accuracy Score:  0.9309289900034471\n",
            "\n",
            "\n",
            "Accuracy_test_set:  0.9309289900034471\n",
            "\n",
            "\n",
            "Classification_report_of_model : \n",
            "               precision    recall  f1-score   support\n",
            "\n",
            "           0       0.94      0.92      0.93     11770\n",
            "           1       0.92      0.94      0.93     11438\n",
            "\n",
            "    accuracy                           0.93     23208\n",
            "   macro avg       0.93      0.93      0.93     23208\n",
            "weighted avg       0.93      0.93      0.93     23208\n",
            "\n",
            "\n",
            "\n",
            "Confusion_Matrix_of model : \n",
            " [[10876   894]\n",
            " [  709 10729]]\n",
            "0.9310289094334897\n",
            "0.9310289094334897\n"
          ]
        },
        {
          "data": {
            "image/png": "[encoded data removed]",
            "text/plain": [
              "<Figure size 432x288 with 2 Axes>"
            ]
          },
          "metadata": {},
          "output_type": "display_data"
        },
        {
          "data": {
            "image/png": "[encoded data removed]",
            "text/plain": [
              "<Figure size 360x360 with 1 Axes>"
            ]
          },
          "metadata": {},
          "output_type": "display_data"
        }
      ],
      "source": [
        "print('---------- Supervised Model - Evaluation on Test Data ----------')\n",
        "accuracy_score_ST = clf_grid.score(X_test, y_test)\n",
        "print('Accuracy Score: ', accuracy_score_ST)\n",
        "Evl_RF=Evaluation(y_test, clf_grid.predict(X_test))\n",
        "collect_results_of_all_model[\"SVM_ALGO\"] = Evl_RF#get results of CART algo"
      ]
    },
    {
      "cell_type": "code",
      "execution_count": null,
      "metadata": {
        "colab": {
          "base_uri": "https://localhost:8080/"
        },
        "id": "1_0ToDkmIyI-",
        "outputId": "851a2035-c994-4aeb-d705-0fd9fbb7c8fa"
      },
      "outputs": [
        {
          "data": {
            "text/plain": [
              "{'Metrics': ['accuracy', 'precision', 'recall', 'f1-score'],\n",
              " 'SVM_ALGO': [0.9309289900034471,\n",
              "  0.9230835412544094,\n",
              "  0.9380136387480329,\n",
              "  0.9304887038723386]}"
            ]
          },
          "execution_count": 38,
          "metadata": {},
          "output_type": "execute_result"
        }
      ],
      "source": [
        "collect_results_of_all_model"
      ]
    },
    {
      "cell_type": "code",
      "execution_count": null,
      "metadata": {
        "id": "Rpd9RwJwU41B",
        "outputId": "21db4182-9318-4b32-ded1-37dba38e828c"
      },
      "outputs": [
        {
          "data": {
            "text/plain": [
              "{'Metrics': ['accuracy', 'precision', 'recall', 'f1-score'],\n",
              " 'RF_ALGO': [0.8203636677007928,\n",
              "  0.8102899423556741,\n",
              "  0.8274468458970304,\n",
              "  0.8187785264073028],\n",
              " 'KNN_ALGO': [0.7838245432609445,\n",
              "  0.7140153144627033,\n",
              "  0.830564451561249,\n",
              "  0.7678926671293083],\n",
              " 'ADA_ALGO': [0.822992071699414,\n",
              "  0.7808655252516562,\n",
              "  0.8532480962677447,\n",
              "  0.8154537286612759],\n",
              " 'CART_ALGO': [0.7661151327128576,\n",
              "  0.7294158134732858,\n",
              "  0.7878449958182325,\n",
              "  0.757505360972123],\n",
              " 'LR_ALGO': [0.8205360220613581,\n",
              "  0.8114084143508561,\n",
              "  0.8269905296387232,\n",
              "  0.8191253745602988],\n",
              " 'NAV_ALGO': [0.5904860392967942,\n",
              "  0.978921104706186,\n",
              "  0.5513398265251732,\n",
              "  0.7053936763794172],\n",
              " 'SGD_ALGO': [0.8200620475698035,\n",
              "  0.8089993977458487,\n",
              "  0.8278017431111894,\n",
              "  0.8182925767992342]}"
            ]
          },
          "execution_count": 55,
          "metadata": {},
          "output_type": "execute_result"
        }
      ],
      "source": [
        "collect_results_of_all_model"
      ]
    },
    {
      "cell_type": "code",
      "execution_count": null,
      "metadata": {
        "id": "PoQk-c_EWEZu",
        "outputId": "6c7c325e-325b-4e65-e81e-2f94a0e3746d"
      },
      "outputs": [
        {
          "name": "stdout",
          "output_type": "stream",
          "text": [
            "+-----------+-----------+------------+------------+-------------+-----------+------------+------------+\n",
            "| Metrics   |   RF_ALGO |   KNN_ALGO |   ADA_ALGO |   CART_ALGO |   LR_ALGO |   NAV_ALGO |   SGD_ALGO |\n",
            "|-----------+-----------+------------+------------+-------------+-----------+------------+------------|\n",
            "| accuracy  |  0.820364 |   0.783825 |   0.822992 |    0.766115 |  0.820536 |   0.590486 |   0.820062 |\n",
            "| precision |  0.81029  |   0.714015 |   0.780866 |    0.729416 |  0.811408 |   0.978921 |   0.808999 |\n",
            "| recall    |  0.827447 |   0.830564 |   0.853248 |    0.787845 |  0.826991 |   0.55134  |   0.827802 |\n",
            "| f1-score  |  0.818779 |   0.767893 |   0.815454 |    0.757505 |  0.819125 |   0.705394 |   0.818293 |\n",
            "+-----------+-----------+------------+------------+-------------+-----------+------------+------------+\n"
          ]
        }
      ],
      "source": [
        "metrics_data_frame = pd.DataFrame(collect_results_of_all_model)#create dataframe\n",
        "metrics_data_frame = metrics_data_frame.set_index('Metrics')#set index\n",
        "# displaying the DataFrame\n",
        "print(tabulate(metrics_data_frame, headers = 'keys', tablefmt = 'psql'))#convert results in to table"
      ]
    },
    {
      "cell_type": "code",
      "execution_count": null,
      "metadata": {
        "id": "5-wYb0FoWL2h",
        "outputId": "7b87c18d-95be-4c86-95a0-bac2726effe4"
      },
      "outputs": [
        {
          "data": {
            "image/png": "[encoded data removed]",
            "text/plain": [
              "<Figure size 1440x720 with 1 Axes>"
            ]
          },
          "metadata": {},
          "output_type": "display_data"
        }
      ],
      "source": [
        "metrics_data_frame.plot(kind='bar', figsize=(20,10))#sho comparison base of mertics\n",
        "plt.show()"
      ]
    },
    {
      "cell_type": "code",
      "execution_count": null,
      "metadata": {
        "colab": {
          "base_uri": "https://localhost:8080/",
          "height": 612
        },
        "id": "CoAi_tNnVHv3",
        "outputId": "dd0baeb3-c3f9-439b-aa43-e658ecaad106"
      },
      "outputs": [
        {
          "output_type": "display_data",
          "data": {
            "text/plain": [
              "<Figure size 1080x720 with 1 Axes>"
            ],
            "image/png": "[encoded data removed]"
          },
          "metadata": {
            "needs_background": "light"
          }
        }
      ],
      "source": [
        "# importing library\n",
        "import matplotlib.pyplot as plt\n",
        "\n",
        "# function to add value labels\n",
        "def addlabels(names,acc):\n",
        "    for i in range(len(names)):\n",
        "         plt.text(i,round(acc[i],2),f\"{round(acc[i],2)}%\", ha = 'center', bbox=dict(facecolor='yellow', alpha=0.9))\n",
        "\n",
        "\n",
        "if __name__ == '__main__':\n",
        "\n",
        "    # creating data on which bar chart will be plot\n",
        "    models_names = [\"LR_AlGO\",\"SVM_ALGO\",\"KNN_ALGO\",\"NAV_ALGO\",\"DT_ALGO\",\"RF_ALGO\",\"SGD_ALGO\",\"ADA_ALGO\"]\n",
        "    models_accuracy = [93, 93, 53, 89, 85, 90, 93, 88]\n",
        "\n",
        "    # setting figure size by using figure() function\n",
        "    plt.figure(figsize = (15,10))\n",
        "\n",
        "    # making the bar chart on the data\n",
        "    plt.bar(models_names,models_accuracy)\n",
        "\n",
        "    # calling the function to add value labels\n",
        "    addlabels(models_names,models_accuracy)\n",
        "\n",
        "    # giving title to the plot\n",
        "    plt.title(\"Models(Semi-Supervised Technique) Accuracies\", fontsize=18)#title\n",
        "\n",
        "    # giving X and Y labels\n",
        "    #plt.xlabel(\"Courses\")\n",
        "    #plt.ylabel(\"Number of Admissions\")\n",
        "\n",
        "    # visualizing the plot\n",
        "    plt.show()"
      ]
    }
  ],
  "metadata": {
    "colab": {
      "provenance": []
    },
    "kernelspec": {
      "display_name": "Python 3",
      "name": "python3"
    },
    "language_info": {
      "name": "python"
    }
  },
  "nbformat": 4,
  "nbformat_minor": 0
}